{
  "nbformat": 4,
  "nbformat_minor": 0,
  "metadata": {
    "colab": {
      "provenance": [],
      "include_colab_link": true
    },
    "kernelspec": {
      "name": "python3",
      "display_name": "Python 3"
    },
    "language_info": {
      "name": "python"
    }
  },
  "cells": [
    {
      "cell_type": "markdown",
      "metadata": {
        "id": "view-in-github",
        "colab_type": "text"
      },
      "source": [
        "<a href=\"https://colab.research.google.com/github/Liam-Nova/BIT_IA_Bootcamp/blob/main/S1_C5_EDA_marketing.ipynb\" target=\"_parent\"><img src=\"https://colab.research.google.com/assets/colab-badge.svg\" alt=\"Open In Colab\"/></a>"
      ]
    },
    {
      "cell_type": "markdown",
      "source": [
        "# EDA: Exploratory Data Analysis ( Análisis Exploratorio de Datos) Campañas de marketing\n"
      ],
      "metadata": {
        "id": "XSrlF87VtrpB"
      }
    },
    {
      "cell_type": "markdown",
      "source": [
        "* AcceptedCmp1: 1 if customer accepted the offer in the 1st campaign, 0 otherwise.\n",
        "* AcceptedCmp2: 1 if customer accepted the offer in the 2nd campaign, 0 otherwise.\n",
        "* AcceptedCmp3: 1 if customer accepted the offer in the 3rd campaign, 0 otherwise.\n",
        "* AcceptedCmp4: 1 if customer accepted the offer in the 4th campaign, 0 otherwise.\n",
        "* AcceptedCmp5: 1 if customer accepted the offer in the 5th campaign, 0 otherwise.\n",
        "* Response (target): 1 if customer accepted the offer in the last campaign, 0 otherwise.\n",
        "* Complain: 1 if customer complained in the last 2 years.\n",
        "* DtCustomer: Date of customer’s enrollment with the company.\n",
        "* Education: Customer’s level of education.\n",
        "* Marital: Customer’s marital status.\n",
        "* Kidhome: Number of small children in customer’s household.\n",
        "* Teenhome: Number of teenagers in customer’s household.\n",
        "* Income: Customer’s yearly household income.\n",
        "* MntFishProducts: Amount spent on fish products in the last 2 years.\n",
        "* MntMeatProducts: Amount spent on meat products in the last 2 years.\n",
        "* MntFruits: Amount spent on fruit products in the last 2 years.\n",
        "* MntSweetProducts: Amount spent on sweet products in the last 2 years.\n",
        "* MntWines: Amount spent on wine products in the last 2 years.\n",
        "* MntGoldProds: Amount spent on gold products in the last 2 years.\n",
        "* NumDealsPurchases: Number of purchases made with a discount.\n",
        "* NumCatalogPurchases: Number of purchases made using a catalog.\n",
        "* NumStorePurchases: Number of purchases made directly in stores.\n",
        "* NumWebPurchases: Number of purchases made through the company’s website.\n",
        "* NumWebVisitsMonth: Number of visits to the company’s website in the last month.\n",
        "* Recency: Number of days since the last purchase.\n"
      ],
      "metadata": {
        "id": "vHg0Bq0x6iai"
      }
    },
    {
      "cell_type": "code",
      "execution_count": 110,
      "metadata": {
        "id": "9uGwrl_HtYJ6"
      },
      "outputs": [],
      "source": [
        "import pandas as pd  # Para el manejo de los datos\n",
        "import numpy as np # Para el manejo de operaciones entre datos, y las columnas\n",
        "import matplotlib.pyplot as plt # Para el manejo de las graficas\n",
        "import seaborn as sns # Para el manejo de graficas"
      ]
    },
    {
      "cell_type": "code",
      "source": [
        "from google.colab import drive # conectandonos con google drive\n",
        "drive.mount('/content/drive')\n",
        "import os # la libreria necesaria de la carpeta\n",
        "os.chdir('/content/drive/MyDrive/Colab Notebooks/BIT_Bootcam_IA/DataSET') # es el codigo que nos permite ingresar la ruta de la carpeta para conectarme a drive\n",
        "\n",
        "# muestra los archivos que hay en la ruta\n",
        "os.listdir()\n"
      ],
      "metadata": {
        "colab": {
          "base_uri": "https://localhost:8080/"
        },
        "id": "StgRcKdV5N4j",
        "outputId": "63d16777-f69f-48ed-f6f7-9a1f778dc294"
      },
      "execution_count": 111,
      "outputs": [
        {
          "output_type": "stream",
          "name": "stdout",
          "text": [
            "Drive already mounted at /content/drive; to attempt to forcibly remount, call drive.mount(\"/content/drive\", force_remount=True).\n"
          ]
        },
        {
          "output_type": "execute_result",
          "data": {
            "text/plain": [
              "['marketing_campaign.csv',\n",
              " 'marketing_campaign.xlsx',\n",
              " 'marketing_extract_2X_Income.xlsx',\n",
              " 'linear_regression_model (1).pkl',\n",
              " 'poly_regression_model (1).pkl',\n",
              " 'auto-mpg.names',\n",
              " 'auto-mpg.data-original',\n",
              " 'auto-mpg.data',\n",
              " 'Index',\n",
              " 'mpg-limpios-procesados.xlsx',\n",
              " 'Classification_Tests.csv',\n",
              " 'heart_attack_risk_dataset.csv',\n",
              " 'generated_classification_data.csv']"
            ]
          },
          "metadata": {},
          "execution_count": 111
        }
      ]
    },
    {
      "cell_type": "code",
      "source": [
        "df = pd.read_excel('marketing_campaign.xlsx')"
      ],
      "metadata": {
        "id": "NQxV34UmvU8X"
      },
      "execution_count": 112,
      "outputs": []
    },
    {
      "cell_type": "code",
      "source": [
        "df.info()"
      ],
      "metadata": {
        "colab": {
          "base_uri": "https://localhost:8080/"
        },
        "id": "0qHML6aJ9wtA",
        "outputId": "422832da-48f8-47ef-cccb-534f9d751165"
      },
      "execution_count": 113,
      "outputs": [
        {
          "output_type": "stream",
          "name": "stdout",
          "text": [
            "<class 'pandas.core.frame.DataFrame'>\n",
            "RangeIndex: 2240 entries, 0 to 2239\n",
            "Data columns (total 29 columns):\n",
            " #   Column               Non-Null Count  Dtype  \n",
            "---  ------               --------------  -----  \n",
            " 0   ID                   2240 non-null   int64  \n",
            " 1   Year_Birth           2240 non-null   int64  \n",
            " 2   Education            2240 non-null   object \n",
            " 3   Marital_Status       2240 non-null   object \n",
            " 4   Income               2216 non-null   float64\n",
            " 5   Kidhome              2240 non-null   int64  \n",
            " 6   Teenhome             2240 non-null   int64  \n",
            " 7   Dt_Customer          2240 non-null   object \n",
            " 8   Recency              2240 non-null   int64  \n",
            " 9   MntWines             2240 non-null   int64  \n",
            " 10  MntFruits            2240 non-null   int64  \n",
            " 11  MntMeatProducts      2240 non-null   int64  \n",
            " 12  MntFishProducts      2240 non-null   int64  \n",
            " 13  MntSweetProducts     2240 non-null   int64  \n",
            " 14  MntGoldProds         2240 non-null   int64  \n",
            " 15  NumDealsPurchases    2240 non-null   int64  \n",
            " 16  NumWebPurchases      2240 non-null   int64  \n",
            " 17  NumCatalogPurchases  2240 non-null   int64  \n",
            " 18  NumStorePurchases    2240 non-null   int64  \n",
            " 19  NumWebVisitsMonth    2240 non-null   int64  \n",
            " 20  AcceptedCmp3         2240 non-null   int64  \n",
            " 21  AcceptedCmp4         2240 non-null   int64  \n",
            " 22  AcceptedCmp5         2240 non-null   int64  \n",
            " 23  AcceptedCmp1         2240 non-null   int64  \n",
            " 24  AcceptedCmp2         2240 non-null   int64  \n",
            " 25  Complain             2240 non-null   int64  \n",
            " 26  Z_CostContact        2240 non-null   int64  \n",
            " 27  Z_Revenue            2240 non-null   int64  \n",
            " 28  Response             2240 non-null   int64  \n",
            "dtypes: float64(1), int64(25), object(3)\n",
            "memory usage: 507.6+ KB\n"
          ]
        }
      ]
    },
    {
      "cell_type": "code",
      "source": [
        "df2 = pd.read_csv('marketing_campaign.csv', sep=';')\n",
        "# sep= es el codigo al cual se le indica el separador usado para el archivo csv\n",
        "#sep=';'"
      ],
      "metadata": {
        "id": "yPe6DkzG9o0o"
      },
      "execution_count": 114,
      "outputs": []
    },
    {
      "cell_type": "code",
      "source": [
        "df2.info()"
      ],
      "metadata": {
        "colab": {
          "base_uri": "https://localhost:8080/"
        },
        "id": "FkeitlMQ9zaj",
        "outputId": "1d1e1908-0784-4f10-9ba9-3f6962ec63b8"
      },
      "execution_count": 115,
      "outputs": [
        {
          "output_type": "stream",
          "name": "stdout",
          "text": [
            "<class 'pandas.core.frame.DataFrame'>\n",
            "RangeIndex: 2240 entries, 0 to 2239\n",
            "Data columns (total 29 columns):\n",
            " #   Column               Non-Null Count  Dtype  \n",
            "---  ------               --------------  -----  \n",
            " 0   ID                   2240 non-null   int64  \n",
            " 1   Year_Birth           2240 non-null   int64  \n",
            " 2   Education            2240 non-null   object \n",
            " 3   Marital_Status       2240 non-null   object \n",
            " 4   Income               2216 non-null   float64\n",
            " 5   Kidhome              2240 non-null   int64  \n",
            " 6   Teenhome             2240 non-null   int64  \n",
            " 7   Dt_Customer          2240 non-null   object \n",
            " 8   Recency              2240 non-null   int64  \n",
            " 9   MntWines             2240 non-null   int64  \n",
            " 10  MntFruits            2240 non-null   int64  \n",
            " 11  MntMeatProducts      2240 non-null   int64  \n",
            " 12  MntFishProducts      2240 non-null   int64  \n",
            " 13  MntSweetProducts     2240 non-null   int64  \n",
            " 14  MntGoldProds         2240 non-null   int64  \n",
            " 15  NumDealsPurchases    2240 non-null   int64  \n",
            " 16  NumWebPurchases      2240 non-null   int64  \n",
            " 17  NumCatalogPurchases  2240 non-null   int64  \n",
            " 18  NumStorePurchases    2240 non-null   int64  \n",
            " 19  NumWebVisitsMonth    2240 non-null   int64  \n",
            " 20  AcceptedCmp3         2240 non-null   int64  \n",
            " 21  AcceptedCmp4         2240 non-null   int64  \n",
            " 22  AcceptedCmp5         2240 non-null   int64  \n",
            " 23  AcceptedCmp1         2240 non-null   int64  \n",
            " 24  AcceptedCmp2         2240 non-null   int64  \n",
            " 25  Complain             2240 non-null   int64  \n",
            " 26  Z_CostContact        2240 non-null   int64  \n",
            " 27  Z_Revenue            2240 non-null   int64  \n",
            " 28  Response             2240 non-null   int64  \n",
            "dtypes: float64(1), int64(25), object(3)\n",
            "memory usage: 507.6+ KB\n"
          ]
        }
      ]
    },
    {
      "cell_type": "code",
      "source": [
        "# Información del número\n",
        "# Columnas: atributos, características\n",
        "#\n",
        "df.info()"
      ],
      "metadata": {
        "colab": {
          "base_uri": "https://localhost:8080/"
        },
        "id": "TsozCQDs0p6e",
        "outputId": "f822f2ae-fe06-4a1a-9b8f-e63973f07a49"
      },
      "execution_count": 116,
      "outputs": [
        {
          "output_type": "stream",
          "name": "stdout",
          "text": [
            "<class 'pandas.core.frame.DataFrame'>\n",
            "RangeIndex: 2240 entries, 0 to 2239\n",
            "Data columns (total 29 columns):\n",
            " #   Column               Non-Null Count  Dtype  \n",
            "---  ------               --------------  -----  \n",
            " 0   ID                   2240 non-null   int64  \n",
            " 1   Year_Birth           2240 non-null   int64  \n",
            " 2   Education            2240 non-null   object \n",
            " 3   Marital_Status       2240 non-null   object \n",
            " 4   Income               2216 non-null   float64\n",
            " 5   Kidhome              2240 non-null   int64  \n",
            " 6   Teenhome             2240 non-null   int64  \n",
            " 7   Dt_Customer          2240 non-null   object \n",
            " 8   Recency              2240 non-null   int64  \n",
            " 9   MntWines             2240 non-null   int64  \n",
            " 10  MntFruits            2240 non-null   int64  \n",
            " 11  MntMeatProducts      2240 non-null   int64  \n",
            " 12  MntFishProducts      2240 non-null   int64  \n",
            " 13  MntSweetProducts     2240 non-null   int64  \n",
            " 14  MntGoldProds         2240 non-null   int64  \n",
            " 15  NumDealsPurchases    2240 non-null   int64  \n",
            " 16  NumWebPurchases      2240 non-null   int64  \n",
            " 17  NumCatalogPurchases  2240 non-null   int64  \n",
            " 18  NumStorePurchases    2240 non-null   int64  \n",
            " 19  NumWebVisitsMonth    2240 non-null   int64  \n",
            " 20  AcceptedCmp3         2240 non-null   int64  \n",
            " 21  AcceptedCmp4         2240 non-null   int64  \n",
            " 22  AcceptedCmp5         2240 non-null   int64  \n",
            " 23  AcceptedCmp1         2240 non-null   int64  \n",
            " 24  AcceptedCmp2         2240 non-null   int64  \n",
            " 25  Complain             2240 non-null   int64  \n",
            " 26  Z_CostContact        2240 non-null   int64  \n",
            " 27  Z_Revenue            2240 non-null   int64  \n",
            " 28  Response             2240 non-null   int64  \n",
            "dtypes: float64(1), int64(25), object(3)\n",
            "memory usage: 507.6+ KB\n"
          ]
        }
      ]
    },
    {
      "cell_type": "code",
      "source": [
        "# Describe me entrega un resumen solo de los atributos númericos\n",
        "# count= número de registros\n",
        "# mean= promedio\n",
        "# std = desviación\n",
        "#\n",
        "df.describe()"
      ],
      "metadata": {
        "id": "z455jRlj0yKW",
        "outputId": "336324f1-f33b-4896-982a-d7941b40f398",
        "colab": {
          "base_uri": "https://localhost:8080/",
          "height": 349
        }
      },
      "execution_count": 117,
      "outputs": [
        {
          "output_type": "execute_result",
          "data": {
            "text/plain": [
              "                 ID   Year_Birth         Income      Kidhome     Teenhome  \\\n",
              "count   2240.000000  2240.000000    2216.000000  2240.000000  2240.000000   \n",
              "mean    5592.159821  1968.805804   52247.251354     0.444196     0.506250   \n",
              "std     3246.662198    11.984069   25173.076661     0.538398     0.544538   \n",
              "min        0.000000  1893.000000    1730.000000     0.000000     0.000000   \n",
              "25%     2828.250000  1959.000000   35303.000000     0.000000     0.000000   \n",
              "50%     5458.500000  1970.000000   51381.500000     0.000000     0.000000   \n",
              "75%     8427.750000  1977.000000   68522.000000     1.000000     1.000000   \n",
              "max    11191.000000  1996.000000  666666.000000     2.000000     2.000000   \n",
              "\n",
              "           Recency     MntWines    MntFruits  MntMeatProducts  \\\n",
              "count  2240.000000  2240.000000  2240.000000      2240.000000   \n",
              "mean     49.109375   303.935714    26.302232       166.950000   \n",
              "std      28.962453   336.597393    39.773434       225.715373   \n",
              "min       0.000000     0.000000     0.000000         0.000000   \n",
              "25%      24.000000    23.750000     1.000000        16.000000   \n",
              "50%      49.000000   173.500000     8.000000        67.000000   \n",
              "75%      74.000000   504.250000    33.000000       232.000000   \n",
              "max      99.000000  1493.000000   199.000000      1725.000000   \n",
              "\n",
              "       MntFishProducts  ...  NumWebVisitsMonth  AcceptedCmp3  AcceptedCmp4  \\\n",
              "count      2240.000000  ...        2240.000000   2240.000000   2240.000000   \n",
              "mean         37.525446  ...           5.316518      0.072768      0.074554   \n",
              "std          54.628979  ...           2.426645      0.259813      0.262728   \n",
              "min           0.000000  ...           0.000000      0.000000      0.000000   \n",
              "25%           3.000000  ...           3.000000      0.000000      0.000000   \n",
              "50%          12.000000  ...           6.000000      0.000000      0.000000   \n",
              "75%          50.000000  ...           7.000000      0.000000      0.000000   \n",
              "max         259.000000  ...          20.000000      1.000000      1.000000   \n",
              "\n",
              "       AcceptedCmp5  AcceptedCmp1  AcceptedCmp2     Complain  Z_CostContact  \\\n",
              "count   2240.000000   2240.000000   2240.000000  2240.000000         2240.0   \n",
              "mean       0.072768      0.064286      0.013393     0.009375            3.0   \n",
              "std        0.259813      0.245316      0.114976     0.096391            0.0   \n",
              "min        0.000000      0.000000      0.000000     0.000000            3.0   \n",
              "25%        0.000000      0.000000      0.000000     0.000000            3.0   \n",
              "50%        0.000000      0.000000      0.000000     0.000000            3.0   \n",
              "75%        0.000000      0.000000      0.000000     0.000000            3.0   \n",
              "max        1.000000      1.000000      1.000000     1.000000            3.0   \n",
              "\n",
              "       Z_Revenue     Response  \n",
              "count     2240.0  2240.000000  \n",
              "mean        11.0     0.149107  \n",
              "std          0.0     0.356274  \n",
              "min         11.0     0.000000  \n",
              "25%         11.0     0.000000  \n",
              "50%         11.0     0.000000  \n",
              "75%         11.0     0.000000  \n",
              "max         11.0     1.000000  \n",
              "\n",
              "[8 rows x 26 columns]"
            ],
            "text/html": [
              "\n",
              "  <div id=\"df-b54211bc-025e-4118-9bec-ac313ae7f528\" class=\"colab-df-container\">\n",
              "    <div>\n",
              "<style scoped>\n",
              "    .dataframe tbody tr th:only-of-type {\n",
              "        vertical-align: middle;\n",
              "    }\n",
              "\n",
              "    .dataframe tbody tr th {\n",
              "        vertical-align: top;\n",
              "    }\n",
              "\n",
              "    .dataframe thead th {\n",
              "        text-align: right;\n",
              "    }\n",
              "</style>\n",
              "<table border=\"1\" class=\"dataframe\">\n",
              "  <thead>\n",
              "    <tr style=\"text-align: right;\">\n",
              "      <th></th>\n",
              "      <th>ID</th>\n",
              "      <th>Year_Birth</th>\n",
              "      <th>Income</th>\n",
              "      <th>Kidhome</th>\n",
              "      <th>Teenhome</th>\n",
              "      <th>Recency</th>\n",
              "      <th>MntWines</th>\n",
              "      <th>MntFruits</th>\n",
              "      <th>MntMeatProducts</th>\n",
              "      <th>MntFishProducts</th>\n",
              "      <th>...</th>\n",
              "      <th>NumWebVisitsMonth</th>\n",
              "      <th>AcceptedCmp3</th>\n",
              "      <th>AcceptedCmp4</th>\n",
              "      <th>AcceptedCmp5</th>\n",
              "      <th>AcceptedCmp1</th>\n",
              "      <th>AcceptedCmp2</th>\n",
              "      <th>Complain</th>\n",
              "      <th>Z_CostContact</th>\n",
              "      <th>Z_Revenue</th>\n",
              "      <th>Response</th>\n",
              "    </tr>\n",
              "  </thead>\n",
              "  <tbody>\n",
              "    <tr>\n",
              "      <th>count</th>\n",
              "      <td>2240.000000</td>\n",
              "      <td>2240.000000</td>\n",
              "      <td>2216.000000</td>\n",
              "      <td>2240.000000</td>\n",
              "      <td>2240.000000</td>\n",
              "      <td>2240.000000</td>\n",
              "      <td>2240.000000</td>\n",
              "      <td>2240.000000</td>\n",
              "      <td>2240.000000</td>\n",
              "      <td>2240.000000</td>\n",
              "      <td>...</td>\n",
              "      <td>2240.000000</td>\n",
              "      <td>2240.000000</td>\n",
              "      <td>2240.000000</td>\n",
              "      <td>2240.000000</td>\n",
              "      <td>2240.000000</td>\n",
              "      <td>2240.000000</td>\n",
              "      <td>2240.000000</td>\n",
              "      <td>2240.0</td>\n",
              "      <td>2240.0</td>\n",
              "      <td>2240.000000</td>\n",
              "    </tr>\n",
              "    <tr>\n",
              "      <th>mean</th>\n",
              "      <td>5592.159821</td>\n",
              "      <td>1968.805804</td>\n",
              "      <td>52247.251354</td>\n",
              "      <td>0.444196</td>\n",
              "      <td>0.506250</td>\n",
              "      <td>49.109375</td>\n",
              "      <td>303.935714</td>\n",
              "      <td>26.302232</td>\n",
              "      <td>166.950000</td>\n",
              "      <td>37.525446</td>\n",
              "      <td>...</td>\n",
              "      <td>5.316518</td>\n",
              "      <td>0.072768</td>\n",
              "      <td>0.074554</td>\n",
              "      <td>0.072768</td>\n",
              "      <td>0.064286</td>\n",
              "      <td>0.013393</td>\n",
              "      <td>0.009375</td>\n",
              "      <td>3.0</td>\n",
              "      <td>11.0</td>\n",
              "      <td>0.149107</td>\n",
              "    </tr>\n",
              "    <tr>\n",
              "      <th>std</th>\n",
              "      <td>3246.662198</td>\n",
              "      <td>11.984069</td>\n",
              "      <td>25173.076661</td>\n",
              "      <td>0.538398</td>\n",
              "      <td>0.544538</td>\n",
              "      <td>28.962453</td>\n",
              "      <td>336.597393</td>\n",
              "      <td>39.773434</td>\n",
              "      <td>225.715373</td>\n",
              "      <td>54.628979</td>\n",
              "      <td>...</td>\n",
              "      <td>2.426645</td>\n",
              "      <td>0.259813</td>\n",
              "      <td>0.262728</td>\n",
              "      <td>0.259813</td>\n",
              "      <td>0.245316</td>\n",
              "      <td>0.114976</td>\n",
              "      <td>0.096391</td>\n",
              "      <td>0.0</td>\n",
              "      <td>0.0</td>\n",
              "      <td>0.356274</td>\n",
              "    </tr>\n",
              "    <tr>\n",
              "      <th>min</th>\n",
              "      <td>0.000000</td>\n",
              "      <td>1893.000000</td>\n",
              "      <td>1730.000000</td>\n",
              "      <td>0.000000</td>\n",
              "      <td>0.000000</td>\n",
              "      <td>0.000000</td>\n",
              "      <td>0.000000</td>\n",
              "      <td>0.000000</td>\n",
              "      <td>0.000000</td>\n",
              "      <td>0.000000</td>\n",
              "      <td>...</td>\n",
              "      <td>0.000000</td>\n",
              "      <td>0.000000</td>\n",
              "      <td>0.000000</td>\n",
              "      <td>0.000000</td>\n",
              "      <td>0.000000</td>\n",
              "      <td>0.000000</td>\n",
              "      <td>0.000000</td>\n",
              "      <td>3.0</td>\n",
              "      <td>11.0</td>\n",
              "      <td>0.000000</td>\n",
              "    </tr>\n",
              "    <tr>\n",
              "      <th>25%</th>\n",
              "      <td>2828.250000</td>\n",
              "      <td>1959.000000</td>\n",
              "      <td>35303.000000</td>\n",
              "      <td>0.000000</td>\n",
              "      <td>0.000000</td>\n",
              "      <td>24.000000</td>\n",
              "      <td>23.750000</td>\n",
              "      <td>1.000000</td>\n",
              "      <td>16.000000</td>\n",
              "      <td>3.000000</td>\n",
              "      <td>...</td>\n",
              "      <td>3.000000</td>\n",
              "      <td>0.000000</td>\n",
              "      <td>0.000000</td>\n",
              "      <td>0.000000</td>\n",
              "      <td>0.000000</td>\n",
              "      <td>0.000000</td>\n",
              "      <td>0.000000</td>\n",
              "      <td>3.0</td>\n",
              "      <td>11.0</td>\n",
              "      <td>0.000000</td>\n",
              "    </tr>\n",
              "    <tr>\n",
              "      <th>50%</th>\n",
              "      <td>5458.500000</td>\n",
              "      <td>1970.000000</td>\n",
              "      <td>51381.500000</td>\n",
              "      <td>0.000000</td>\n",
              "      <td>0.000000</td>\n",
              "      <td>49.000000</td>\n",
              "      <td>173.500000</td>\n",
              "      <td>8.000000</td>\n",
              "      <td>67.000000</td>\n",
              "      <td>12.000000</td>\n",
              "      <td>...</td>\n",
              "      <td>6.000000</td>\n",
              "      <td>0.000000</td>\n",
              "      <td>0.000000</td>\n",
              "      <td>0.000000</td>\n",
              "      <td>0.000000</td>\n",
              "      <td>0.000000</td>\n",
              "      <td>0.000000</td>\n",
              "      <td>3.0</td>\n",
              "      <td>11.0</td>\n",
              "      <td>0.000000</td>\n",
              "    </tr>\n",
              "    <tr>\n",
              "      <th>75%</th>\n",
              "      <td>8427.750000</td>\n",
              "      <td>1977.000000</td>\n",
              "      <td>68522.000000</td>\n",
              "      <td>1.000000</td>\n",
              "      <td>1.000000</td>\n",
              "      <td>74.000000</td>\n",
              "      <td>504.250000</td>\n",
              "      <td>33.000000</td>\n",
              "      <td>232.000000</td>\n",
              "      <td>50.000000</td>\n",
              "      <td>...</td>\n",
              "      <td>7.000000</td>\n",
              "      <td>0.000000</td>\n",
              "      <td>0.000000</td>\n",
              "      <td>0.000000</td>\n",
              "      <td>0.000000</td>\n",
              "      <td>0.000000</td>\n",
              "      <td>0.000000</td>\n",
              "      <td>3.0</td>\n",
              "      <td>11.0</td>\n",
              "      <td>0.000000</td>\n",
              "    </tr>\n",
              "    <tr>\n",
              "      <th>max</th>\n",
              "      <td>11191.000000</td>\n",
              "      <td>1996.000000</td>\n",
              "      <td>666666.000000</td>\n",
              "      <td>2.000000</td>\n",
              "      <td>2.000000</td>\n",
              "      <td>99.000000</td>\n",
              "      <td>1493.000000</td>\n",
              "      <td>199.000000</td>\n",
              "      <td>1725.000000</td>\n",
              "      <td>259.000000</td>\n",
              "      <td>...</td>\n",
              "      <td>20.000000</td>\n",
              "      <td>1.000000</td>\n",
              "      <td>1.000000</td>\n",
              "      <td>1.000000</td>\n",
              "      <td>1.000000</td>\n",
              "      <td>1.000000</td>\n",
              "      <td>1.000000</td>\n",
              "      <td>3.0</td>\n",
              "      <td>11.0</td>\n",
              "      <td>1.000000</td>\n",
              "    </tr>\n",
              "  </tbody>\n",
              "</table>\n",
              "<p>8 rows × 26 columns</p>\n",
              "</div>\n",
              "    <div class=\"colab-df-buttons\">\n",
              "\n",
              "  <div class=\"colab-df-container\">\n",
              "    <button class=\"colab-df-convert\" onclick=\"convertToInteractive('df-b54211bc-025e-4118-9bec-ac313ae7f528')\"\n",
              "            title=\"Convert this dataframe to an interactive table.\"\n",
              "            style=\"display:none;\">\n",
              "\n",
              "  <svg xmlns=\"http://www.w3.org/2000/svg\" height=\"24px\" viewBox=\"0 -960 960 960\">\n",
              "    <path d=\"M120-120v-720h720v720H120Zm60-500h600v-160H180v160Zm220 220h160v-160H400v160Zm0 220h160v-160H400v160ZM180-400h160v-160H180v160Zm440 0h160v-160H620v160ZM180-180h160v-160H180v160Zm440 0h160v-160H620v160Z\"/>\n",
              "  </svg>\n",
              "    </button>\n",
              "\n",
              "  <style>\n",
              "    .colab-df-container {\n",
              "      display:flex;\n",
              "      gap: 12px;\n",
              "    }\n",
              "\n",
              "    .colab-df-convert {\n",
              "      background-color: #E8F0FE;\n",
              "      border: none;\n",
              "      border-radius: 50%;\n",
              "      cursor: pointer;\n",
              "      display: none;\n",
              "      fill: #1967D2;\n",
              "      height: 32px;\n",
              "      padding: 0 0 0 0;\n",
              "      width: 32px;\n",
              "    }\n",
              "\n",
              "    .colab-df-convert:hover {\n",
              "      background-color: #E2EBFA;\n",
              "      box-shadow: 0px 1px 2px rgba(60, 64, 67, 0.3), 0px 1px 3px 1px rgba(60, 64, 67, 0.15);\n",
              "      fill: #174EA6;\n",
              "    }\n",
              "\n",
              "    .colab-df-buttons div {\n",
              "      margin-bottom: 4px;\n",
              "    }\n",
              "\n",
              "    [theme=dark] .colab-df-convert {\n",
              "      background-color: #3B4455;\n",
              "      fill: #D2E3FC;\n",
              "    }\n",
              "\n",
              "    [theme=dark] .colab-df-convert:hover {\n",
              "      background-color: #434B5C;\n",
              "      box-shadow: 0px 1px 3px 1px rgba(0, 0, 0, 0.15);\n",
              "      filter: drop-shadow(0px 1px 2px rgba(0, 0, 0, 0.3));\n",
              "      fill: #FFFFFF;\n",
              "    }\n",
              "  </style>\n",
              "\n",
              "    <script>\n",
              "      const buttonEl =\n",
              "        document.querySelector('#df-b54211bc-025e-4118-9bec-ac313ae7f528 button.colab-df-convert');\n",
              "      buttonEl.style.display =\n",
              "        google.colab.kernel.accessAllowed ? 'block' : 'none';\n",
              "\n",
              "      async function convertToInteractive(key) {\n",
              "        const element = document.querySelector('#df-b54211bc-025e-4118-9bec-ac313ae7f528');\n",
              "        const dataTable =\n",
              "          await google.colab.kernel.invokeFunction('convertToInteractive',\n",
              "                                                    [key], {});\n",
              "        if (!dataTable) return;\n",
              "\n",
              "        const docLinkHtml = 'Like what you see? Visit the ' +\n",
              "          '<a target=\"_blank\" href=https://colab.research.google.com/notebooks/data_table.ipynb>data table notebook</a>'\n",
              "          + ' to learn more about interactive tables.';\n",
              "        element.innerHTML = '';\n",
              "        dataTable['output_type'] = 'display_data';\n",
              "        await google.colab.output.renderOutput(dataTable, element);\n",
              "        const docLink = document.createElement('div');\n",
              "        docLink.innerHTML = docLinkHtml;\n",
              "        element.appendChild(docLink);\n",
              "      }\n",
              "    </script>\n",
              "  </div>\n",
              "\n",
              "\n",
              "<div id=\"df-579ed542-f72e-4efc-82d8-bbd9ab6767b9\">\n",
              "  <button class=\"colab-df-quickchart\" onclick=\"quickchart('df-579ed542-f72e-4efc-82d8-bbd9ab6767b9')\"\n",
              "            title=\"Suggest charts\"\n",
              "            style=\"display:none;\">\n",
              "\n",
              "<svg xmlns=\"http://www.w3.org/2000/svg\" height=\"24px\"viewBox=\"0 0 24 24\"\n",
              "     width=\"24px\">\n",
              "    <g>\n",
              "        <path d=\"M19 3H5c-1.1 0-2 .9-2 2v14c0 1.1.9 2 2 2h14c1.1 0 2-.9 2-2V5c0-1.1-.9-2-2-2zM9 17H7v-7h2v7zm4 0h-2V7h2v10zm4 0h-2v-4h2v4z\"/>\n",
              "    </g>\n",
              "</svg>\n",
              "  </button>\n",
              "\n",
              "<style>\n",
              "  .colab-df-quickchart {\n",
              "      --bg-color: #E8F0FE;\n",
              "      --fill-color: #1967D2;\n",
              "      --hover-bg-color: #E2EBFA;\n",
              "      --hover-fill-color: #174EA6;\n",
              "      --disabled-fill-color: #AAA;\n",
              "      --disabled-bg-color: #DDD;\n",
              "  }\n",
              "\n",
              "  [theme=dark] .colab-df-quickchart {\n",
              "      --bg-color: #3B4455;\n",
              "      --fill-color: #D2E3FC;\n",
              "      --hover-bg-color: #434B5C;\n",
              "      --hover-fill-color: #FFFFFF;\n",
              "      --disabled-bg-color: #3B4455;\n",
              "      --disabled-fill-color: #666;\n",
              "  }\n",
              "\n",
              "  .colab-df-quickchart {\n",
              "    background-color: var(--bg-color);\n",
              "    border: none;\n",
              "    border-radius: 50%;\n",
              "    cursor: pointer;\n",
              "    display: none;\n",
              "    fill: var(--fill-color);\n",
              "    height: 32px;\n",
              "    padding: 0;\n",
              "    width: 32px;\n",
              "  }\n",
              "\n",
              "  .colab-df-quickchart:hover {\n",
              "    background-color: var(--hover-bg-color);\n",
              "    box-shadow: 0 1px 2px rgba(60, 64, 67, 0.3), 0 1px 3px 1px rgba(60, 64, 67, 0.15);\n",
              "    fill: var(--button-hover-fill-color);\n",
              "  }\n",
              "\n",
              "  .colab-df-quickchart-complete:disabled,\n",
              "  .colab-df-quickchart-complete:disabled:hover {\n",
              "    background-color: var(--disabled-bg-color);\n",
              "    fill: var(--disabled-fill-color);\n",
              "    box-shadow: none;\n",
              "  }\n",
              "\n",
              "  .colab-df-spinner {\n",
              "    border: 2px solid var(--fill-color);\n",
              "    border-color: transparent;\n",
              "    border-bottom-color: var(--fill-color);\n",
              "    animation:\n",
              "      spin 1s steps(1) infinite;\n",
              "  }\n",
              "\n",
              "  @keyframes spin {\n",
              "    0% {\n",
              "      border-color: transparent;\n",
              "      border-bottom-color: var(--fill-color);\n",
              "      border-left-color: var(--fill-color);\n",
              "    }\n",
              "    20% {\n",
              "      border-color: transparent;\n",
              "      border-left-color: var(--fill-color);\n",
              "      border-top-color: var(--fill-color);\n",
              "    }\n",
              "    30% {\n",
              "      border-color: transparent;\n",
              "      border-left-color: var(--fill-color);\n",
              "      border-top-color: var(--fill-color);\n",
              "      border-right-color: var(--fill-color);\n",
              "    }\n",
              "    40% {\n",
              "      border-color: transparent;\n",
              "      border-right-color: var(--fill-color);\n",
              "      border-top-color: var(--fill-color);\n",
              "    }\n",
              "    60% {\n",
              "      border-color: transparent;\n",
              "      border-right-color: var(--fill-color);\n",
              "    }\n",
              "    80% {\n",
              "      border-color: transparent;\n",
              "      border-right-color: var(--fill-color);\n",
              "      border-bottom-color: var(--fill-color);\n",
              "    }\n",
              "    90% {\n",
              "      border-color: transparent;\n",
              "      border-bottom-color: var(--fill-color);\n",
              "    }\n",
              "  }\n",
              "</style>\n",
              "\n",
              "  <script>\n",
              "    async function quickchart(key) {\n",
              "      const quickchartButtonEl =\n",
              "        document.querySelector('#' + key + ' button');\n",
              "      quickchartButtonEl.disabled = true;  // To prevent multiple clicks.\n",
              "      quickchartButtonEl.classList.add('colab-df-spinner');\n",
              "      try {\n",
              "        const charts = await google.colab.kernel.invokeFunction(\n",
              "            'suggestCharts', [key], {});\n",
              "      } catch (error) {\n",
              "        console.error('Error during call to suggestCharts:', error);\n",
              "      }\n",
              "      quickchartButtonEl.classList.remove('colab-df-spinner');\n",
              "      quickchartButtonEl.classList.add('colab-df-quickchart-complete');\n",
              "    }\n",
              "    (() => {\n",
              "      let quickchartButtonEl =\n",
              "        document.querySelector('#df-579ed542-f72e-4efc-82d8-bbd9ab6767b9 button');\n",
              "      quickchartButtonEl.style.display =\n",
              "        google.colab.kernel.accessAllowed ? 'block' : 'none';\n",
              "    })();\n",
              "  </script>\n",
              "</div>\n",
              "\n",
              "    </div>\n",
              "  </div>\n"
            ],
            "application/vnd.google.colaboratory.intrinsic+json": {
              "type": "dataframe"
            }
          },
          "metadata": {},
          "execution_count": 117
        }
      ]
    },
    {
      "cell_type": "code",
      "source": [
        "# Qué tamaño tiene el data set?\n",
        "df.shape"
      ],
      "metadata": {
        "id": "vzVw9nfm6awD",
        "colab": {
          "base_uri": "https://localhost:8080/"
        },
        "outputId": "93adec80-161d-4ddd-d7ba-fc24b8106926"
      },
      "execution_count": 118,
      "outputs": [
        {
          "output_type": "execute_result",
          "data": {
            "text/plain": [
              "(2240, 29)"
            ]
          },
          "metadata": {},
          "execution_count": 118
        }
      ]
    },
    {
      "cell_type": "code",
      "source": [
        "# Qué categorías de educación?\n",
        "print(df['Education'].unique()) # El método .unique() en pandas se usa para obtener los valores únicos en una columna o serie\n",
        "\n",
        "## Observa: que hay 5 categorias en educación\n",
        "## Un atributo categorico tiene clases finitas, siempre será del tipo object"
      ],
      "metadata": {
        "id": "egtrvH-e2ax_",
        "colab": {
          "base_uri": "https://localhost:8080/"
        },
        "outputId": "898bad21-fe1e-4676-ab2b-af650cbf232f"
      },
      "execution_count": 119,
      "outputs": [
        {
          "output_type": "stream",
          "name": "stdout",
          "text": [
            "['Graduation' 'PhD' 'Master' 'Basic' '2n Cycle']\n"
          ]
        }
      ]
    },
    {
      "cell_type": "code",
      "source": [
        "# Qué categorás de estado civil?\n",
        "print(df['Marital_Status'].unique())\n",
        "\n",
        "## Obseva: para esta civil hay 8 categorías\n",
        "## YOLO: You Only Live Once"
      ],
      "metadata": {
        "colab": {
          "base_uri": "https://localhost:8080/"
        },
        "id": "eIT4ct0OF4B5",
        "outputId": "989f1b1a-d270-4731-c556-cdf9561f8b0b"
      },
      "execution_count": 120,
      "outputs": [
        {
          "output_type": "stream",
          "name": "stdout",
          "text": [
            "['Single' 'Together' 'Married' 'Divorced' 'Widow' 'Alone' 'Absurd' 'YOLO']\n"
          ]
        }
      ]
    },
    {
      "cell_type": "code",
      "source": [
        "# Qué edad tienen los clientes?\n",
        "\n",
        "# tengo el atributo Año de Nacimiento : Year_Birth\n",
        "# Debo crear un nuevo atributo calculado\n",
        "from datetime import date\n",
        "current_year = date.today().year\n",
        "print(current_year)\n",
        "# df['Age'] = current_year - df['Year_Birth'] para sacar el registrode edad\n",
        "df['Age'] = 2024 - df['Year_Birth']"
      ],
      "metadata": {
        "id": "oKfizkOeHT6z",
        "colab": {
          "base_uri": "https://localhost:8080/"
        },
        "outputId": "dd95bcea-c57c-431e-e7b6-98918d19bb4f"
      },
      "execution_count": 121,
      "outputs": [
        {
          "output_type": "stream",
          "name": "stdout",
          "text": [
            "2024\n"
          ]
        }
      ]
    },
    {
      "cell_type": "code",
      "source": [
        "plt.figure(figsize=(5,3))\n",
        "#subplot (filas, columnas, posicion)\n",
        "# este tipo de codigo de cordenada o vectores,\n",
        "#se usan para dar al grafico el tamaño y la distribucion\n",
        "plt.subplot(2, 1, 1)# Dividir el espacio donde voy a graficar coordenada (1,1)\n",
        "sns.boxplot(x=df['Age']) # boxplot grafica de caja\n",
        "              # los datos de edad se visualixan en el eje X\n",
        "\n",
        "plt.subplot(2, 1, 2) # Se ubicad en la coordenad (2,1,2)\n",
        "sns.distplot(df['Age']) # distplot grafica de distribucion de en \"curbas\" o distribucion"
      ],
      "metadata": {
        "colab": {
          "base_uri": "https://localhost:8080/",
          "height": 532
        },
        "id": "UzSrqAJFLGyI",
        "outputId": "f20b6d6f-6a3e-49d0-8231-6404ec227fff"
      },
      "execution_count": 122,
      "outputs": [
        {
          "output_type": "stream",
          "name": "stderr",
          "text": [
            "<ipython-input-122-0d1b192eebdd>:10: UserWarning: \n",
            "\n",
            "`distplot` is a deprecated function and will be removed in seaborn v0.14.0.\n",
            "\n",
            "Please adapt your code to use either `displot` (a figure-level function with\n",
            "similar flexibility) or `histplot` (an axes-level function for histograms).\n",
            "\n",
            "For a guide to updating your code to use the new functions, please see\n",
            "https://gist.github.com/mwaskom/de44147ed2974457ad6372750bbe5751\n",
            "\n",
            "  sns.distplot(df['Age']) # distplot grafica de distribucion de en \"curbas\" o distribucion\n"
          ]
        },
        {
          "output_type": "execute_result",
          "data": {
            "text/plain": [
              "<Axes: xlabel='Age', ylabel='Density'>"
            ]
          },
          "metadata": {},
          "execution_count": 122
        },
        {
          "output_type": "display_data",
          "data": {
            "text/plain": [
              "<Figure size 500x300 with 2 Axes>"
            ],
            "image/png": "[encoded data removed]"
          },
          "metadata": {}
        }
      ]
    },
    {
      "cell_type": "code",
      "source": [
        "plt.figure(figsize=(5,3))\n",
        "plt.subplot(2, 1, 1)\n",
        "plt.boxplot(df['Age'])\n",
        "plt.subplot(2, 1, 2)\n",
        "sns.boxplot(x = df['Age'])"
      ],
      "metadata": {
        "colab": {
          "base_uri": "https://localhost:8080/",
          "height": 329
        },
        "id": "TeA9zi5WTOwx",
        "outputId": "4cb5b83e-1202-466c-d667-8fc7bcaf012d"
      },
      "execution_count": 123,
      "outputs": [
        {
          "output_type": "execute_result",
          "data": {
            "text/plain": [
              "<Axes: xlabel='Age'>"
            ]
          },
          "metadata": {},
          "execution_count": 123
        },
        {
          "output_type": "display_data",
          "data": {
            "text/plain": [
              "<Figure size 500x300 with 2 Axes>"
            ],
            "image/png": "[encoded data removed]"
          },
          "metadata": {}
        }
      ]
    },
    {
      "cell_type": "markdown",
      "source": [
        "supongo que se vsualizan mejor los datos con un grafico tipo sns\n",
        "seaborn depende de matplotlib asi que no se puede trabajar sin matplotlib"
      ],
      "metadata": {
        "id": "VPd2YBaBWCzo"
      }
    },
    {
      "cell_type": "code",
      "source": [
        "df.describe()"
      ],
      "metadata": {
        "colab": {
          "base_uri": "https://localhost:8080/",
          "height": 349
        },
        "id": "GwNZ9g25WTCz",
        "outputId": "69f64ad5-1fe2-42be-d062-1304316dd34d"
      },
      "execution_count": 124,
      "outputs": [
        {
          "output_type": "execute_result",
          "data": {
            "text/plain": [
              "                 ID   Year_Birth         Income      Kidhome     Teenhome  \\\n",
              "count   2240.000000  2240.000000    2216.000000  2240.000000  2240.000000   \n",
              "mean    5592.159821  1968.805804   52247.251354     0.444196     0.506250   \n",
              "std     3246.662198    11.984069   25173.076661     0.538398     0.544538   \n",
              "min        0.000000  1893.000000    1730.000000     0.000000     0.000000   \n",
              "25%     2828.250000  1959.000000   35303.000000     0.000000     0.000000   \n",
              "50%     5458.500000  1970.000000   51381.500000     0.000000     0.000000   \n",
              "75%     8427.750000  1977.000000   68522.000000     1.000000     1.000000   \n",
              "max    11191.000000  1996.000000  666666.000000     2.000000     2.000000   \n",
              "\n",
              "           Recency     MntWines    MntFruits  MntMeatProducts  \\\n",
              "count  2240.000000  2240.000000  2240.000000      2240.000000   \n",
              "mean     49.109375   303.935714    26.302232       166.950000   \n",
              "std      28.962453   336.597393    39.773434       225.715373   \n",
              "min       0.000000     0.000000     0.000000         0.000000   \n",
              "25%      24.000000    23.750000     1.000000        16.000000   \n",
              "50%      49.000000   173.500000     8.000000        67.000000   \n",
              "75%      74.000000   504.250000    33.000000       232.000000   \n",
              "max      99.000000  1493.000000   199.000000      1725.000000   \n",
              "\n",
              "       MntFishProducts  ...  AcceptedCmp3  AcceptedCmp4  AcceptedCmp5  \\\n",
              "count      2240.000000  ...   2240.000000   2240.000000   2240.000000   \n",
              "mean         37.525446  ...      0.072768      0.074554      0.072768   \n",
              "std          54.628979  ...      0.259813      0.262728      0.259813   \n",
              "min           0.000000  ...      0.000000      0.000000      0.000000   \n",
              "25%           3.000000  ...      0.000000      0.000000      0.000000   \n",
              "50%          12.000000  ...      0.000000      0.000000      0.000000   \n",
              "75%          50.000000  ...      0.000000      0.000000      0.000000   \n",
              "max         259.000000  ...      1.000000      1.000000      1.000000   \n",
              "\n",
              "       AcceptedCmp1  AcceptedCmp2     Complain  Z_CostContact  Z_Revenue  \\\n",
              "count   2240.000000   2240.000000  2240.000000         2240.0     2240.0   \n",
              "mean       0.064286      0.013393     0.009375            3.0       11.0   \n",
              "std        0.245316      0.114976     0.096391            0.0        0.0   \n",
              "min        0.000000      0.000000     0.000000            3.0       11.0   \n",
              "25%        0.000000      0.000000     0.000000            3.0       11.0   \n",
              "50%        0.000000      0.000000     0.000000            3.0       11.0   \n",
              "75%        0.000000      0.000000     0.000000            3.0       11.0   \n",
              "max        1.000000      1.000000     1.000000            3.0       11.0   \n",
              "\n",
              "          Response          Age  \n",
              "count  2240.000000  2240.000000  \n",
              "mean      0.149107    55.194196  \n",
              "std       0.356274    11.984069  \n",
              "min       0.000000    28.000000  \n",
              "25%       0.000000    47.000000  \n",
              "50%       0.000000    54.000000  \n",
              "75%       0.000000    65.000000  \n",
              "max       1.000000   131.000000  \n",
              "\n",
              "[8 rows x 27 columns]"
            ],
            "text/html": [
              "\n",
              "  <div id=\"df-85d81361-d93f-44b9-92d7-8a77b95647f5\" class=\"colab-df-container\">\n",
              "    <div>\n",
              "<style scoped>\n",
              "    .dataframe tbody tr th:only-of-type {\n",
              "        vertical-align: middle;\n",
              "    }\n",
              "\n",
              "    .dataframe tbody tr th {\n",
              "        vertical-align: top;\n",
              "    }\n",
              "\n",
              "    .dataframe thead th {\n",
              "        text-align: right;\n",
              "    }\n",
              "</style>\n",
              "<table border=\"1\" class=\"dataframe\">\n",
              "  <thead>\n",
              "    <tr style=\"text-align: right;\">\n",
              "      <th></th>\n",
              "      <th>ID</th>\n",
              "      <th>Year_Birth</th>\n",
              "      <th>Income</th>\n",
              "      <th>Kidhome</th>\n",
              "      <th>Teenhome</th>\n",
              "      <th>Recency</th>\n",
              "      <th>MntWines</th>\n",
              "      <th>MntFruits</th>\n",
              "      <th>MntMeatProducts</th>\n",
              "      <th>MntFishProducts</th>\n",
              "      <th>...</th>\n",
              "      <th>AcceptedCmp3</th>\n",
              "      <th>AcceptedCmp4</th>\n",
              "      <th>AcceptedCmp5</th>\n",
              "      <th>AcceptedCmp1</th>\n",
              "      <th>AcceptedCmp2</th>\n",
              "      <th>Complain</th>\n",
              "      <th>Z_CostContact</th>\n",
              "      <th>Z_Revenue</th>\n",
              "      <th>Response</th>\n",
              "      <th>Age</th>\n",
              "    </tr>\n",
              "  </thead>\n",
              "  <tbody>\n",
              "    <tr>\n",
              "      <th>count</th>\n",
              "      <td>2240.000000</td>\n",
              "      <td>2240.000000</td>\n",
              "      <td>2216.000000</td>\n",
              "      <td>2240.000000</td>\n",
              "      <td>2240.000000</td>\n",
              "      <td>2240.000000</td>\n",
              "      <td>2240.000000</td>\n",
              "      <td>2240.000000</td>\n",
              "      <td>2240.000000</td>\n",
              "      <td>2240.000000</td>\n",
              "      <td>...</td>\n",
              "      <td>2240.000000</td>\n",
              "      <td>2240.000000</td>\n",
              "      <td>2240.000000</td>\n",
              "      <td>2240.000000</td>\n",
              "      <td>2240.000000</td>\n",
              "      <td>2240.000000</td>\n",
              "      <td>2240.0</td>\n",
              "      <td>2240.0</td>\n",
              "      <td>2240.000000</td>\n",
              "      <td>2240.000000</td>\n",
              "    </tr>\n",
              "    <tr>\n",
              "      <th>mean</th>\n",
              "      <td>5592.159821</td>\n",
              "      <td>1968.805804</td>\n",
              "      <td>52247.251354</td>\n",
              "      <td>0.444196</td>\n",
              "      <td>0.506250</td>\n",
              "      <td>49.109375</td>\n",
              "      <td>303.935714</td>\n",
              "      <td>26.302232</td>\n",
              "      <td>166.950000</td>\n",
              "      <td>37.525446</td>\n",
              "      <td>...</td>\n",
              "      <td>0.072768</td>\n",
              "      <td>0.074554</td>\n",
              "      <td>0.072768</td>\n",
              "      <td>0.064286</td>\n",
              "      <td>0.013393</td>\n",
              "      <td>0.009375</td>\n",
              "      <td>3.0</td>\n",
              "      <td>11.0</td>\n",
              "      <td>0.149107</td>\n",
              "      <td>55.194196</td>\n",
              "    </tr>\n",
              "    <tr>\n",
              "      <th>std</th>\n",
              "      <td>3246.662198</td>\n",
              "      <td>11.984069</td>\n",
              "      <td>25173.076661</td>\n",
              "      <td>0.538398</td>\n",
              "      <td>0.544538</td>\n",
              "      <td>28.962453</td>\n",
              "      <td>336.597393</td>\n",
              "      <td>39.773434</td>\n",
              "      <td>225.715373</td>\n",
              "      <td>54.628979</td>\n",
              "      <td>...</td>\n",
              "      <td>0.259813</td>\n",
              "      <td>0.262728</td>\n",
              "      <td>0.259813</td>\n",
              "      <td>0.245316</td>\n",
              "      <td>0.114976</td>\n",
              "      <td>0.096391</td>\n",
              "      <td>0.0</td>\n",
              "      <td>0.0</td>\n",
              "      <td>0.356274</td>\n",
              "      <td>11.984069</td>\n",
              "    </tr>\n",
              "    <tr>\n",
              "      <th>min</th>\n",
              "      <td>0.000000</td>\n",
              "      <td>1893.000000</td>\n",
              "      <td>1730.000000</td>\n",
              "      <td>0.000000</td>\n",
              "      <td>0.000000</td>\n",
              "      <td>0.000000</td>\n",
              "      <td>0.000000</td>\n",
              "      <td>0.000000</td>\n",
              "      <td>0.000000</td>\n",
              "      <td>0.000000</td>\n",
              "      <td>...</td>\n",
              "      <td>0.000000</td>\n",
              "      <td>0.000000</td>\n",
              "      <td>0.000000</td>\n",
              "      <td>0.000000</td>\n",
              "      <td>0.000000</td>\n",
              "      <td>0.000000</td>\n",
              "      <td>3.0</td>\n",
              "      <td>11.0</td>\n",
              "      <td>0.000000</td>\n",
              "      <td>28.000000</td>\n",
              "    </tr>\n",
              "    <tr>\n",
              "      <th>25%</th>\n",
              "      <td>2828.250000</td>\n",
              "      <td>1959.000000</td>\n",
              "      <td>35303.000000</td>\n",
              "      <td>0.000000</td>\n",
              "      <td>0.000000</td>\n",
              "      <td>24.000000</td>\n",
              "      <td>23.750000</td>\n",
              "      <td>1.000000</td>\n",
              "      <td>16.000000</td>\n",
              "      <td>3.000000</td>\n",
              "      <td>...</td>\n",
              "      <td>0.000000</td>\n",
              "      <td>0.000000</td>\n",
              "      <td>0.000000</td>\n",
              "      <td>0.000000</td>\n",
              "      <td>0.000000</td>\n",
              "      <td>0.000000</td>\n",
              "      <td>3.0</td>\n",
              "      <td>11.0</td>\n",
              "      <td>0.000000</td>\n",
              "      <td>47.000000</td>\n",
              "    </tr>\n",
              "    <tr>\n",
              "      <th>50%</th>\n",
              "      <td>5458.500000</td>\n",
              "      <td>1970.000000</td>\n",
              "      <td>51381.500000</td>\n",
              "      <td>0.000000</td>\n",
              "      <td>0.000000</td>\n",
              "      <td>49.000000</td>\n",
              "      <td>173.500000</td>\n",
              "      <td>8.000000</td>\n",
              "      <td>67.000000</td>\n",
              "      <td>12.000000</td>\n",
              "      <td>...</td>\n",
              "      <td>0.000000</td>\n",
              "      <td>0.000000</td>\n",
              "      <td>0.000000</td>\n",
              "      <td>0.000000</td>\n",
              "      <td>0.000000</td>\n",
              "      <td>0.000000</td>\n",
              "      <td>3.0</td>\n",
              "      <td>11.0</td>\n",
              "      <td>0.000000</td>\n",
              "      <td>54.000000</td>\n",
              "    </tr>\n",
              "    <tr>\n",
              "      <th>75%</th>\n",
              "      <td>8427.750000</td>\n",
              "      <td>1977.000000</td>\n",
              "      <td>68522.000000</td>\n",
              "      <td>1.000000</td>\n",
              "      <td>1.000000</td>\n",
              "      <td>74.000000</td>\n",
              "      <td>504.250000</td>\n",
              "      <td>33.000000</td>\n",
              "      <td>232.000000</td>\n",
              "      <td>50.000000</td>\n",
              "      <td>...</td>\n",
              "      <td>0.000000</td>\n",
              "      <td>0.000000</td>\n",
              "      <td>0.000000</td>\n",
              "      <td>0.000000</td>\n",
              "      <td>0.000000</td>\n",
              "      <td>0.000000</td>\n",
              "      <td>3.0</td>\n",
              "      <td>11.0</td>\n",
              "      <td>0.000000</td>\n",
              "      <td>65.000000</td>\n",
              "    </tr>\n",
              "    <tr>\n",
              "      <th>max</th>\n",
              "      <td>11191.000000</td>\n",
              "      <td>1996.000000</td>\n",
              "      <td>666666.000000</td>\n",
              "      <td>2.000000</td>\n",
              "      <td>2.000000</td>\n",
              "      <td>99.000000</td>\n",
              "      <td>1493.000000</td>\n",
              "      <td>199.000000</td>\n",
              "      <td>1725.000000</td>\n",
              "      <td>259.000000</td>\n",
              "      <td>...</td>\n",
              "      <td>1.000000</td>\n",
              "      <td>1.000000</td>\n",
              "      <td>1.000000</td>\n",
              "      <td>1.000000</td>\n",
              "      <td>1.000000</td>\n",
              "      <td>1.000000</td>\n",
              "      <td>3.0</td>\n",
              "      <td>11.0</td>\n",
              "      <td>1.000000</td>\n",
              "      <td>131.000000</td>\n",
              "    </tr>\n",
              "  </tbody>\n",
              "</table>\n",
              "<p>8 rows × 27 columns</p>\n",
              "</div>\n",
              "    <div class=\"colab-df-buttons\">\n",
              "\n",
              "  <div class=\"colab-df-container\">\n",
              "    <button class=\"colab-df-convert\" onclick=\"convertToInteractive('df-85d81361-d93f-44b9-92d7-8a77b95647f5')\"\n",
              "            title=\"Convert this dataframe to an interactive table.\"\n",
              "            style=\"display:none;\">\n",
              "\n",
              "  <svg xmlns=\"http://www.w3.org/2000/svg\" height=\"24px\" viewBox=\"0 -960 960 960\">\n",
              "    <path d=\"M120-120v-720h720v720H120Zm60-500h600v-160H180v160Zm220 220h160v-160H400v160Zm0 220h160v-160H400v160ZM180-400h160v-160H180v160Zm440 0h160v-160H620v160ZM180-180h160v-160H180v160Zm440 0h160v-160H620v160Z\"/>\n",
              "  </svg>\n",
              "    </button>\n",
              "\n",
              "  <style>\n",
              "    .colab-df-container {\n",
              "      display:flex;\n",
              "      gap: 12px;\n",
              "    }\n",
              "\n",
              "    .colab-df-convert {\n",
              "      background-color: #E8F0FE;\n",
              "      border: none;\n",
              "      border-radius: 50%;\n",
              "      cursor: pointer;\n",
              "      display: none;\n",
              "      fill: #1967D2;\n",
              "      height: 32px;\n",
              "      padding: 0 0 0 0;\n",
              "      width: 32px;\n",
              "    }\n",
              "\n",
              "    .colab-df-convert:hover {\n",
              "      background-color: #E2EBFA;\n",
              "      box-shadow: 0px 1px 2px rgba(60, 64, 67, 0.3), 0px 1px 3px 1px rgba(60, 64, 67, 0.15);\n",
              "      fill: #174EA6;\n",
              "    }\n",
              "\n",
              "    .colab-df-buttons div {\n",
              "      margin-bottom: 4px;\n",
              "    }\n",
              "\n",
              "    [theme=dark] .colab-df-convert {\n",
              "      background-color: #3B4455;\n",
              "      fill: #D2E3FC;\n",
              "    }\n",
              "\n",
              "    [theme=dark] .colab-df-convert:hover {\n",
              "      background-color: #434B5C;\n",
              "      box-shadow: 0px 1px 3px 1px rgba(0, 0, 0, 0.15);\n",
              "      filter: drop-shadow(0px 1px 2px rgba(0, 0, 0, 0.3));\n",
              "      fill: #FFFFFF;\n",
              "    }\n",
              "  </style>\n",
              "\n",
              "    <script>\n",
              "      const buttonEl =\n",
              "        document.querySelector('#df-85d81361-d93f-44b9-92d7-8a77b95647f5 button.colab-df-convert');\n",
              "      buttonEl.style.display =\n",
              "        google.colab.kernel.accessAllowed ? 'block' : 'none';\n",
              "\n",
              "      async function convertToInteractive(key) {\n",
              "        const element = document.querySelector('#df-85d81361-d93f-44b9-92d7-8a77b95647f5');\n",
              "        const dataTable =\n",
              "          await google.colab.kernel.invokeFunction('convertToInteractive',\n",
              "                                                    [key], {});\n",
              "        if (!dataTable) return;\n",
              "\n",
              "        const docLinkHtml = 'Like what you see? Visit the ' +\n",
              "          '<a target=\"_blank\" href=https://colab.research.google.com/notebooks/data_table.ipynb>data table notebook</a>'\n",
              "          + ' to learn more about interactive tables.';\n",
              "        element.innerHTML = '';\n",
              "        dataTable['output_type'] = 'display_data';\n",
              "        await google.colab.output.renderOutput(dataTable, element);\n",
              "        const docLink = document.createElement('div');\n",
              "        docLink.innerHTML = docLinkHtml;\n",
              "        element.appendChild(docLink);\n",
              "      }\n",
              "    </script>\n",
              "  </div>\n",
              "\n",
              "\n",
              "<div id=\"df-dab046d8-fd67-4f69-b47c-8b10b04c2eb2\">\n",
              "  <button class=\"colab-df-quickchart\" onclick=\"quickchart('df-dab046d8-fd67-4f69-b47c-8b10b04c2eb2')\"\n",
              "            title=\"Suggest charts\"\n",
              "            style=\"display:none;\">\n",
              "\n",
              "<svg xmlns=\"http://www.w3.org/2000/svg\" height=\"24px\"viewBox=\"0 0 24 24\"\n",
              "     width=\"24px\">\n",
              "    <g>\n",
              "        <path d=\"M19 3H5c-1.1 0-2 .9-2 2v14c0 1.1.9 2 2 2h14c1.1 0 2-.9 2-2V5c0-1.1-.9-2-2-2zM9 17H7v-7h2v7zm4 0h-2V7h2v10zm4 0h-2v-4h2v4z\"/>\n",
              "    </g>\n",
              "</svg>\n",
              "  </button>\n",
              "\n",
              "<style>\n",
              "  .colab-df-quickchart {\n",
              "      --bg-color: #E8F0FE;\n",
              "      --fill-color: #1967D2;\n",
              "      --hover-bg-color: #E2EBFA;\n",
              "      --hover-fill-color: #174EA6;\n",
              "      --disabled-fill-color: #AAA;\n",
              "      --disabled-bg-color: #DDD;\n",
              "  }\n",
              "\n",
              "  [theme=dark] .colab-df-quickchart {\n",
              "      --bg-color: #3B4455;\n",
              "      --fill-color: #D2E3FC;\n",
              "      --hover-bg-color: #434B5C;\n",
              "      --hover-fill-color: #FFFFFF;\n",
              "      --disabled-bg-color: #3B4455;\n",
              "      --disabled-fill-color: #666;\n",
              "  }\n",
              "\n",
              "  .colab-df-quickchart {\n",
              "    background-color: var(--bg-color);\n",
              "    border: none;\n",
              "    border-radius: 50%;\n",
              "    cursor: pointer;\n",
              "    display: none;\n",
              "    fill: var(--fill-color);\n",
              "    height: 32px;\n",
              "    padding: 0;\n",
              "    width: 32px;\n",
              "  }\n",
              "\n",
              "  .colab-df-quickchart:hover {\n",
              "    background-color: var(--hover-bg-color);\n",
              "    box-shadow: 0 1px 2px rgba(60, 64, 67, 0.3), 0 1px 3px 1px rgba(60, 64, 67, 0.15);\n",
              "    fill: var(--button-hover-fill-color);\n",
              "  }\n",
              "\n",
              "  .colab-df-quickchart-complete:disabled,\n",
              "  .colab-df-quickchart-complete:disabled:hover {\n",
              "    background-color: var(--disabled-bg-color);\n",
              "    fill: var(--disabled-fill-color);\n",
              "    box-shadow: none;\n",
              "  }\n",
              "\n",
              "  .colab-df-spinner {\n",
              "    border: 2px solid var(--fill-color);\n",
              "    border-color: transparent;\n",
              "    border-bottom-color: var(--fill-color);\n",
              "    animation:\n",
              "      spin 1s steps(1) infinite;\n",
              "  }\n",
              "\n",
              "  @keyframes spin {\n",
              "    0% {\n",
              "      border-color: transparent;\n",
              "      border-bottom-color: var(--fill-color);\n",
              "      border-left-color: var(--fill-color);\n",
              "    }\n",
              "    20% {\n",
              "      border-color: transparent;\n",
              "      border-left-color: var(--fill-color);\n",
              "      border-top-color: var(--fill-color);\n",
              "    }\n",
              "    30% {\n",
              "      border-color: transparent;\n",
              "      border-left-color: var(--fill-color);\n",
              "      border-top-color: var(--fill-color);\n",
              "      border-right-color: var(--fill-color);\n",
              "    }\n",
              "    40% {\n",
              "      border-color: transparent;\n",
              "      border-right-color: var(--fill-color);\n",
              "      border-top-color: var(--fill-color);\n",
              "    }\n",
              "    60% {\n",
              "      border-color: transparent;\n",
              "      border-right-color: var(--fill-color);\n",
              "    }\n",
              "    80% {\n",
              "      border-color: transparent;\n",
              "      border-right-color: var(--fill-color);\n",
              "      border-bottom-color: var(--fill-color);\n",
              "    }\n",
              "    90% {\n",
              "      border-color: transparent;\n",
              "      border-bottom-color: var(--fill-color);\n",
              "    }\n",
              "  }\n",
              "</style>\n",
              "\n",
              "  <script>\n",
              "    async function quickchart(key) {\n",
              "      const quickchartButtonEl =\n",
              "        document.querySelector('#' + key + ' button');\n",
              "      quickchartButtonEl.disabled = true;  // To prevent multiple clicks.\n",
              "      quickchartButtonEl.classList.add('colab-df-spinner');\n",
              "      try {\n",
              "        const charts = await google.colab.kernel.invokeFunction(\n",
              "            'suggestCharts', [key], {});\n",
              "      } catch (error) {\n",
              "        console.error('Error during call to suggestCharts:', error);\n",
              "      }\n",
              "      quickchartButtonEl.classList.remove('colab-df-spinner');\n",
              "      quickchartButtonEl.classList.add('colab-df-quickchart-complete');\n",
              "    }\n",
              "    (() => {\n",
              "      let quickchartButtonEl =\n",
              "        document.querySelector('#df-dab046d8-fd67-4f69-b47c-8b10b04c2eb2 button');\n",
              "      quickchartButtonEl.style.display =\n",
              "        google.colab.kernel.accessAllowed ? 'block' : 'none';\n",
              "    })();\n",
              "  </script>\n",
              "</div>\n",
              "\n",
              "    </div>\n",
              "  </div>\n"
            ],
            "application/vnd.google.colaboratory.intrinsic+json": {
              "type": "dataframe"
            }
          },
          "metadata": {},
          "execution_count": 124
        }
      ]
    },
    {
      "cell_type": "code",
      "source": [
        "Q1 = df['Age'].quantile(0.25)\n",
        "Q3 = df['Age'].quantile(0.75)\n",
        "IQR = Q3 - Q1 # Interquartile Range o Rango Intercuartil\n",
        "    #El IQR mide la dispersión del 50% central de los datos\n",
        "    #rango en el que se concentra la mitad central de los datos\n"
      ],
      "metadata": {
        "id": "Dk8312x7RD5w"
      },
      "execution_count": 125,
      "outputs": []
    },
    {
      "cell_type": "code",
      "source": [
        "bajo = df['Age'] <(Q1-1.5*IQR) # al realizar una comparacion me da un dato type bool\n",
        "bajo.value_counts()"
      ],
      "metadata": {
        "colab": {
          "base_uri": "https://localhost:8080/",
          "height": 147
        },
        "id": "kJe3HLRAgdg7",
        "outputId": "a692cebb-983d-470d-a066-ea8ece3990fe"
      },
      "execution_count": 126,
      "outputs": [
        {
          "output_type": "execute_result",
          "data": {
            "text/plain": [
              "Age\n",
              "False    2240\n",
              "Name: count, dtype: int64"
            ],
            "text/html": [
              "<div>\n",
              "<style scoped>\n",
              "    .dataframe tbody tr th:only-of-type {\n",
              "        vertical-align: middle;\n",
              "    }\n",
              "\n",
              "    .dataframe tbody tr th {\n",
              "        vertical-align: top;\n",
              "    }\n",
              "\n",
              "    .dataframe thead th {\n",
              "        text-align: right;\n",
              "    }\n",
              "</style>\n",
              "<table border=\"1\" class=\"dataframe\">\n",
              "  <thead>\n",
              "    <tr style=\"text-align: right;\">\n",
              "      <th></th>\n",
              "      <th>count</th>\n",
              "    </tr>\n",
              "    <tr>\n",
              "      <th>Age</th>\n",
              "      <th></th>\n",
              "    </tr>\n",
              "  </thead>\n",
              "  <tbody>\n",
              "    <tr>\n",
              "      <th>False</th>\n",
              "      <td>2240</td>\n",
              "    </tr>\n",
              "  </tbody>\n",
              "</table>\n",
              "</div><br><label><b>dtype:</b> int64</label>"
            ]
          },
          "metadata": {},
          "execution_count": 126
        }
      ]
    },
    {
      "cell_type": "markdown",
      "source": [
        "si df['Age'] es menor que el resultado de (Q1-1.5*IQR) entonces es verdadero\n",
        "\n",
        "no existe ningun valor que sea inferior a el resultado de la formula anterior, por lo tento todos los datos son **False**"
      ],
      "metadata": {
        "id": "NNzCttSplE4T"
      }
    },
    {
      "cell_type": "code",
      "source": [
        "alto = df['Age'] >(Q3+1.5*IQR) # ojo con el (+)\n",
        "alto.value_counts()"
      ],
      "metadata": {
        "colab": {
          "base_uri": "https://localhost:8080/",
          "height": 178
        },
        "id": "A-f6hxfff5yW",
        "outputId": "bea1c2e7-0403-455e-d7a6-6b55739190e4"
      },
      "execution_count": 127,
      "outputs": [
        {
          "output_type": "execute_result",
          "data": {
            "text/plain": [
              "Age\n",
              "False    2237\n",
              "True        3\n",
              "Name: count, dtype: int64"
            ],
            "text/html": [
              "<div>\n",
              "<style scoped>\n",
              "    .dataframe tbody tr th:only-of-type {\n",
              "        vertical-align: middle;\n",
              "    }\n",
              "\n",
              "    .dataframe tbody tr th {\n",
              "        vertical-align: top;\n",
              "    }\n",
              "\n",
              "    .dataframe thead th {\n",
              "        text-align: right;\n",
              "    }\n",
              "</style>\n",
              "<table border=\"1\" class=\"dataframe\">\n",
              "  <thead>\n",
              "    <tr style=\"text-align: right;\">\n",
              "      <th></th>\n",
              "      <th>count</th>\n",
              "    </tr>\n",
              "    <tr>\n",
              "      <th>Age</th>\n",
              "      <th></th>\n",
              "    </tr>\n",
              "  </thead>\n",
              "  <tbody>\n",
              "    <tr>\n",
              "      <th>False</th>\n",
              "      <td>2237</td>\n",
              "    </tr>\n",
              "    <tr>\n",
              "      <th>True</th>\n",
              "      <td>3</td>\n",
              "    </tr>\n",
              "  </tbody>\n",
              "</table>\n",
              "</div><br><label><b>dtype:</b> int64</label>"
            ]
          },
          "metadata": {},
          "execution_count": 127
        }
      ]
    },
    {
      "cell_type": "markdown",
      "source": [
        "si df['Age'] es mayor que el resultado de (Q3+1.5*IQR) entonces es verdadero\n",
        "\n",
        "**solo** exixten en este caso 3 valores mayores a (Q3+1.5*IQR) por lo tanto son **True**"
      ],
      "metadata": {
        "id": "-8NSnPMHmEmi"
      }
    },
    {
      "cell_type": "code",
      "source": [],
      "metadata": {
        "id": "16GYp9gEmD8R"
      },
      "execution_count": 127,
      "outputs": []
    },
    {
      "cell_type": "code",
      "source": [
        "#  ~ en la logica boolana significa negacion\n",
        "#  |  representa el OR ( el uno o el otro) se tiene que cumplir una condicion\n",
        "# & representa AND (uno y el otro)se tienen que cumplir dos condiciones\n",
        "df = df[~((df['Age'] <(Q1-1.5*IQR)) | (df['Age']>(Q3+1.5*IQR)))]\n",
        "# metodo sencillo para detectar outliers sin hacer supociciones dobre la forma exacta de la distribucion"
      ],
      "metadata": {
        "id": "ngMdftAYbqE1"
      },
      "execution_count": 128,
      "outputs": []
    },
    {
      "cell_type": "markdown",
      "source": [
        "actualiza los valores de df al excluir los outliers:\n",
        "* cambia de True a False (~) la formula de descarte siguiente:\n",
        "  * genera una asignacion booleana de si es outliers o no (|)\n",
        "    * (df['Age'] <(Q1-1.5*IQR))\n",
        "      * toma los datos de la columna **Age**\n",
        "      * al compararlos genera un bool\n",
        "      * los valores que cumplen la condicion de ser menores al resultado son **True**\n",
        "    * (df['Age']>(Q3+1.5*IQR))\n",
        "      * toma los datos de la columna **Age**\n",
        "      * al compararlos genera un bool\n",
        "      * los valores que cumplen la condicion de ser mayores al resultado son **True**\n",
        "\n",
        "Al final, esta línea de código crea un nuevo DataFrame df que solo contiene los valores de Age que están dentro del rango no considerado outlier (es decir, entre el límite inferior y el superior). Los valores que están fuera de estos límites se eliminan del DataFrame."
      ],
      "metadata": {
        "id": "KcoXAynOeL-M"
      }
    },
    {
      "cell_type": "markdown",
      "source": [
        "Al final, esta línea de código crea un nuevo DataFrame df que solo contiene los valores de Age que están dentro del rango no considerado outlier (es decir, entre el límite inferior y el superior). Los valores que están fuera de estos límites se eliminan del DataFrame."
      ],
      "metadata": {
        "id": "yt2aDdNZeLXL"
      }
    },
    {
      "cell_type": "markdown",
      "source": [
        "actualizamos el valor de df:\n",
        "* (df['Age'] <(Q1-1.5*IQR))"
      ],
      "metadata": {
        "id": "ruuABYrydVqY"
      }
    },
    {
      "cell_type": "code",
      "source": [
        "Q1_Age = df['Age'].quantile(0.25)\n",
        "Q3_Age = df['Age'].quantile(0.75)\n"
      ],
      "metadata": {
        "id": "R45nPdfObUHY"
      },
      "execution_count": 129,
      "outputs": []
    },
    {
      "cell_type": "code",
      "source": [
        "df.info() # devido al proceso de limpieza se merman los datos de 2240 a 2237"
      ],
      "metadata": {
        "colab": {
          "base_uri": "https://localhost:8080/"
        },
        "id": "NF_nkKFpV83A",
        "outputId": "c6aa28dc-4690-400b-8c04-d46c9d75de86"
      },
      "execution_count": 130,
      "outputs": [
        {
          "output_type": "stream",
          "name": "stdout",
          "text": [
            "<class 'pandas.core.frame.DataFrame'>\n",
            "Index: 2237 entries, 0 to 2239\n",
            "Data columns (total 30 columns):\n",
            " #   Column               Non-Null Count  Dtype  \n",
            "---  ------               --------------  -----  \n",
            " 0   ID                   2237 non-null   int64  \n",
            " 1   Year_Birth           2237 non-null   int64  \n",
            " 2   Education            2237 non-null   object \n",
            " 3   Marital_Status       2237 non-null   object \n",
            " 4   Income               2213 non-null   float64\n",
            " 5   Kidhome              2237 non-null   int64  \n",
            " 6   Teenhome             2237 non-null   int64  \n",
            " 7   Dt_Customer          2237 non-null   object \n",
            " 8   Recency              2237 non-null   int64  \n",
            " 9   MntWines             2237 non-null   int64  \n",
            " 10  MntFruits            2237 non-null   int64  \n",
            " 11  MntMeatProducts      2237 non-null   int64  \n",
            " 12  MntFishProducts      2237 non-null   int64  \n",
            " 13  MntSweetProducts     2237 non-null   int64  \n",
            " 14  MntGoldProds         2237 non-null   int64  \n",
            " 15  NumDealsPurchases    2237 non-null   int64  \n",
            " 16  NumWebPurchases      2237 non-null   int64  \n",
            " 17  NumCatalogPurchases  2237 non-null   int64  \n",
            " 18  NumStorePurchases    2237 non-null   int64  \n",
            " 19  NumWebVisitsMonth    2237 non-null   int64  \n",
            " 20  AcceptedCmp3         2237 non-null   int64  \n",
            " 21  AcceptedCmp4         2237 non-null   int64  \n",
            " 22  AcceptedCmp5         2237 non-null   int64  \n",
            " 23  AcceptedCmp1         2237 non-null   int64  \n",
            " 24  AcceptedCmp2         2237 non-null   int64  \n",
            " 25  Complain             2237 non-null   int64  \n",
            " 26  Z_CostContact        2237 non-null   int64  \n",
            " 27  Z_Revenue            2237 non-null   int64  \n",
            " 28  Response             2237 non-null   int64  \n",
            " 29  Age                  2237 non-null   int64  \n",
            "dtypes: float64(1), int64(26), object(3)\n",
            "memory usage: 541.8+ KB\n"
          ]
        }
      ]
    },
    {
      "cell_type": "code",
      "source": [
        "plt.figure(figsize=(5,3))\n",
        "#subplot (filas, columnas, posicion)\n",
        "plt.subplot(2, 1, 1)# Dividir el espacio donde voy a graficar coordenada (1,1)\n",
        "sns.boxplot(x=df['Age'])\n",
        "\n",
        "plt.subplot(2, 1, 2) # Se ubicad en la coordenad (2,1,2)\n",
        "sns.distplot(df.Age)"
      ],
      "metadata": {
        "colab": {
          "base_uri": "https://localhost:8080/",
          "height": 532
        },
        "id": "vUvjNmjATnj3",
        "outputId": "6ef966c4-0a84-4a7d-f222-1efa7f0126df"
      },
      "execution_count": 131,
      "outputs": [
        {
          "output_type": "stream",
          "name": "stderr",
          "text": [
            "<ipython-input-131-b412e28d11a7>:7: UserWarning: \n",
            "\n",
            "`distplot` is a deprecated function and will be removed in seaborn v0.14.0.\n",
            "\n",
            "Please adapt your code to use either `displot` (a figure-level function with\n",
            "similar flexibility) or `histplot` (an axes-level function for histograms).\n",
            "\n",
            "For a guide to updating your code to use the new functions, please see\n",
            "https://gist.github.com/mwaskom/de44147ed2974457ad6372750bbe5751\n",
            "\n",
            "  sns.distplot(df.Age)\n"
          ]
        },
        {
          "output_type": "execute_result",
          "data": {
            "text/plain": [
              "<Axes: xlabel='Age', ylabel='Density'>"
            ]
          },
          "metadata": {},
          "execution_count": 131
        },
        {
          "output_type": "display_data",
          "data": {
            "text/plain": [
              "<Figure size 500x300 with 2 Axes>"
            ],
            "image/png": "[encoded data removed]"
          },
          "metadata": {}
        }
      ]
    },
    {
      "cell_type": "code",
      "source": [
        "print(f'el 50% de los clientes tienen edades entre {Q1_Age} y {Q3_Age} años')"
      ],
      "metadata": {
        "colab": {
          "base_uri": "https://localhost:8080/"
        },
        "id": "qD5QAmHabNNE",
        "outputId": "442f80f2-91f0-49b3-841f-05cdad1f9650"
      },
      "execution_count": 132,
      "outputs": [
        {
          "output_type": "stream",
          "name": "stdout",
          "text": [
            "el 50% de los clientes tienen edades entre 47.0 y 65.0 años\n"
          ]
        }
      ]
    },
    {
      "cell_type": "code",
      "source": [
        "plt.figure(figsize=(5,3))\n",
        "#subplot (filas, columnas, posicion)\n",
        "# este tipo de codigo de cordenada o vectores,\n",
        "#se usan para dar al grafico el tamaño y la distribucion\n",
        "plt.subplot(2, 1, 1)# Dividir el espacio donde voy a graficar coordenada (1,1)\n",
        "sns.boxplot(x=df['Income']) # boxplot grafica de caja\n",
        "\n",
        "plt.subplot(2, 1, 2) # Se ubicad en la coordenad (2,1,2)\n",
        "sns.distplot(df['Income'])"
      ],
      "metadata": {
        "colab": {
          "base_uri": "https://localhost:8080/",
          "height": 532
        },
        "id": "Eaitd3NsY56w",
        "outputId": "bb0770dd-17d7-4def-e201-32a9102f02a9"
      },
      "execution_count": 133,
      "outputs": [
        {
          "output_type": "stream",
          "name": "stderr",
          "text": [
            "<ipython-input-133-07b331988bef>:9: UserWarning: \n",
            "\n",
            "`distplot` is a deprecated function and will be removed in seaborn v0.14.0.\n",
            "\n",
            "Please adapt your code to use either `displot` (a figure-level function with\n",
            "similar flexibility) or `histplot` (an axes-level function for histograms).\n",
            "\n",
            "For a guide to updating your code to use the new functions, please see\n",
            "https://gist.github.com/mwaskom/de44147ed2974457ad6372750bbe5751\n",
            "\n",
            "  sns.distplot(df['Income'])\n"
          ]
        },
        {
          "output_type": "execute_result",
          "data": {
            "text/plain": [
              "<Axes: xlabel='Income', ylabel='Density'>"
            ]
          },
          "metadata": {},
          "execution_count": 133
        },
        {
          "output_type": "display_data",
          "data": {
            "text/plain": [
              "<Figure size 500x300 with 2 Axes>"
            ],
            "image/png": "[encoded data removed]"
          },
          "metadata": {}
        }
      ]
    },
    {
      "cell_type": "code",
      "source": [
        "Q1 = df['Income'].quantile(0.25)\n",
        "Q3 = df['Income'].quantile(0.75)\n",
        "IQR = Q3 - Q1\n",
        "\n",
        "df = df[~((df['Income'] <(Q1-1.5*IQR)) | (df['Income']>(Q3+1.5*IQR)))]"
      ],
      "metadata": {
        "id": "x05nSsU8Yrbp"
      },
      "execution_count": 134,
      "outputs": []
    },
    {
      "cell_type": "code",
      "source": [
        "df.info() # devido al proceso de limpieza se merman los datos de 2237 a 2229"
      ],
      "metadata": {
        "colab": {
          "base_uri": "https://localhost:8080/"
        },
        "id": "daOY_E2FqPVR",
        "outputId": "7b6001b9-bec8-4387-8086-c0709f7e777e"
      },
      "execution_count": 139,
      "outputs": [
        {
          "output_type": "stream",
          "name": "stdout",
          "text": [
            "<class 'pandas.core.frame.DataFrame'>\n",
            "Index: 2229 entries, 0 to 2239\n",
            "Data columns (total 30 columns):\n",
            " #   Column               Non-Null Count  Dtype  \n",
            "---  ------               --------------  -----  \n",
            " 0   ID                   2229 non-null   int64  \n",
            " 1   Year_Birth           2229 non-null   int64  \n",
            " 2   Education            2229 non-null   object \n",
            " 3   Marital_Status       2229 non-null   object \n",
            " 4   Income               2205 non-null   float64\n",
            " 5   Kidhome              2229 non-null   int64  \n",
            " 6   Teenhome             2229 non-null   int64  \n",
            " 7   Dt_Customer          2229 non-null   object \n",
            " 8   Recency              2229 non-null   int64  \n",
            " 9   MntWines             2229 non-null   int64  \n",
            " 10  MntFruits            2229 non-null   int64  \n",
            " 11  MntMeatProducts      2229 non-null   int64  \n",
            " 12  MntFishProducts      2229 non-null   int64  \n",
            " 13  MntSweetProducts     2229 non-null   int64  \n",
            " 14  MntGoldProds         2229 non-null   int64  \n",
            " 15  NumDealsPurchases    2229 non-null   int64  \n",
            " 16  NumWebPurchases      2229 non-null   int64  \n",
            " 17  NumCatalogPurchases  2229 non-null   int64  \n",
            " 18  NumStorePurchases    2229 non-null   int64  \n",
            " 19  NumWebVisitsMonth    2229 non-null   int64  \n",
            " 20  AcceptedCmp3         2229 non-null   int64  \n",
            " 21  AcceptedCmp4         2229 non-null   int64  \n",
            " 22  AcceptedCmp5         2229 non-null   int64  \n",
            " 23  AcceptedCmp1         2229 non-null   int64  \n",
            " 24  AcceptedCmp2         2229 non-null   int64  \n",
            " 25  Complain             2229 non-null   int64  \n",
            " 26  Z_CostContact        2229 non-null   int64  \n",
            " 27  Z_Revenue            2229 non-null   int64  \n",
            " 28  Response             2229 non-null   int64  \n",
            " 29  Age                  2229 non-null   int64  \n",
            "dtypes: float64(1), int64(26), object(3)\n",
            "memory usage: 539.8+ KB\n"
          ]
        }
      ]
    },
    {
      "cell_type": "code",
      "source": [
        "plt.figure(figsize=(5,3))\n",
        "\n",
        "plt.subplot(2, 1, 1)\n",
        "sns.boxplot(x=df['Income'])\n",
        "\n",
        "plt.subplot(2, 1, 2)\n",
        "sns.distplot(df['Income'])"
      ],
      "metadata": {
        "colab": {
          "base_uri": "https://localhost:8080/",
          "height": 532
        },
        "id": "c6TNb94oZN_o",
        "outputId": "2f889c00-540d-491a-943a-f540ba3a7dc9"
      },
      "execution_count": 135,
      "outputs": [
        {
          "output_type": "stream",
          "name": "stderr",
          "text": [
            "<ipython-input-135-79eb5ed566c8>:7: UserWarning: \n",
            "\n",
            "`distplot` is a deprecated function and will be removed in seaborn v0.14.0.\n",
            "\n",
            "Please adapt your code to use either `displot` (a figure-level function with\n",
            "similar flexibility) or `histplot` (an axes-level function for histograms).\n",
            "\n",
            "For a guide to updating your code to use the new functions, please see\n",
            "https://gist.github.com/mwaskom/de44147ed2974457ad6372750bbe5751\n",
            "\n",
            "  sns.distplot(df['Income'])\n"
          ]
        },
        {
          "output_type": "execute_result",
          "data": {
            "text/plain": [
              "<Axes: xlabel='Income', ylabel='Density'>"
            ]
          },
          "metadata": {},
          "execution_count": 135
        },
        {
          "output_type": "display_data",
          "data": {
            "text/plain": [
              "<Figure size 500x300 with 2 Axes>"
            ],
            "image/png": "[encoded data removed]"
          },
          "metadata": {}
        }
      ]
    },
    {
      "cell_type": "code",
      "source": [
        "print(f'el 50% de los clientes tienen ingresos anuales entre {Q1} y {Q3} USD')"
      ],
      "metadata": {
        "colab": {
          "base_uri": "https://localhost:8080/"
        },
        "id": "m2iRcEmZaZUq",
        "outputId": "14002c63-b862-4c99-e970-4806c687c4ff"
      },
      "execution_count": 136,
      "outputs": [
        {
          "output_type": "stream",
          "name": "stdout",
          "text": [
            "el 50% de los clientes tienen ingresos anuales entre 35246.0 y 68487.0 USD\n"
          ]
        }
      ]
    },
    {
      "cell_type": "code",
      "source": [
        "df['Age'].dtype"
      ],
      "metadata": {
        "colab": {
          "base_uri": "https://localhost:8080/"
        },
        "id": "ZnEt0LllVkYW",
        "outputId": "a645564f-9735-40e7-b45e-cd8f79eb04f4"
      },
      "execution_count": 137,
      "outputs": [
        {
          "output_type": "execute_result",
          "data": {
            "text/plain": [
              "dtype('int64')"
            ]
          },
          "metadata": {},
          "execution_count": 137
        }
      ]
    },
    {
      "cell_type": "code",
      "source": [
        "# Shape entrega número de registros y atributos\n",
        "df.shape"
      ],
      "metadata": {
        "colab": {
          "base_uri": "https://localhost:8080/"
        },
        "id": "syvAKYQMI8za",
        "outputId": "84ee45fe-60c2-4957-dd62-b8f6b82e0dda"
      },
      "execution_count": 138,
      "outputs": [
        {
          "output_type": "execute_result",
          "data": {
            "text/plain": [
              "(2229, 30)"
            ]
          },
          "metadata": {},
          "execution_count": 138
        }
      ]
    },
    {
      "cell_type": "markdown",
      "source": [],
      "metadata": {
        "id": "4BvCh_LnRkM9"
      }
    },
    {
      "cell_type": "code",
      "source": [
        "df.info()"
      ],
      "metadata": {
        "colab": {
          "base_uri": "https://localhost:8080/"
        },
        "id": "3SYRYDLmI_at",
        "outputId": "1860fe4b-9e5f-4a7b-bd83-77c91f42fafe"
      },
      "execution_count": 140,
      "outputs": [
        {
          "output_type": "stream",
          "name": "stdout",
          "text": [
            "<class 'pandas.core.frame.DataFrame'>\n",
            "Index: 2229 entries, 0 to 2239\n",
            "Data columns (total 30 columns):\n",
            " #   Column               Non-Null Count  Dtype  \n",
            "---  ------               --------------  -----  \n",
            " 0   ID                   2229 non-null   int64  \n",
            " 1   Year_Birth           2229 non-null   int64  \n",
            " 2   Education            2229 non-null   object \n",
            " 3   Marital_Status       2229 non-null   object \n",
            " 4   Income               2205 non-null   float64\n",
            " 5   Kidhome              2229 non-null   int64  \n",
            " 6   Teenhome             2229 non-null   int64  \n",
            " 7   Dt_Customer          2229 non-null   object \n",
            " 8   Recency              2229 non-null   int64  \n",
            " 9   MntWines             2229 non-null   int64  \n",
            " 10  MntFruits            2229 non-null   int64  \n",
            " 11  MntMeatProducts      2229 non-null   int64  \n",
            " 12  MntFishProducts      2229 non-null   int64  \n",
            " 13  MntSweetProducts     2229 non-null   int64  \n",
            " 14  MntGoldProds         2229 non-null   int64  \n",
            " 15  NumDealsPurchases    2229 non-null   int64  \n",
            " 16  NumWebPurchases      2229 non-null   int64  \n",
            " 17  NumCatalogPurchases  2229 non-null   int64  \n",
            " 18  NumStorePurchases    2229 non-null   int64  \n",
            " 19  NumWebVisitsMonth    2229 non-null   int64  \n",
            " 20  AcceptedCmp3         2229 non-null   int64  \n",
            " 21  AcceptedCmp4         2229 non-null   int64  \n",
            " 22  AcceptedCmp5         2229 non-null   int64  \n",
            " 23  AcceptedCmp1         2229 non-null   int64  \n",
            " 24  AcceptedCmp2         2229 non-null   int64  \n",
            " 25  Complain             2229 non-null   int64  \n",
            " 26  Z_CostContact        2229 non-null   int64  \n",
            " 27  Z_Revenue            2229 non-null   int64  \n",
            " 28  Response             2229 non-null   int64  \n",
            " 29  Age                  2229 non-null   int64  \n",
            "dtypes: float64(1), int64(26), object(3)\n",
            "memory usage: 539.8+ KB\n"
          ]
        }
      ]
    },
    {
      "cell_type": "code",
      "source": [
        "df['Income'].hist()"
      ],
      "metadata": {
        "colab": {
          "base_uri": "https://localhost:8080/",
          "height": 448
        },
        "id": "XLM9M8BOKgpJ",
        "outputId": "73d4a270-e2c0-43fc-c4fa-f94da9f7d225"
      },
      "execution_count": 143,
      "outputs": [
        {
          "output_type": "execute_result",
          "data": {
            "text/plain": [
              "<Axes: >"
            ]
          },
          "metadata": {},
          "execution_count": 143
        },
        {
          "output_type": "display_data",
          "data": {
            "text/plain": [
              "<Figure size 640x480 with 1 Axes>"
            ],
            "image/png": "[encoded data removed]"
          },
          "metadata": {}
        }
      ]
    },
    {
      "cell_type": "code",
      "source": [
        "df.boxplot(column=\"Income\", by=\"Education\")"
      ],
      "metadata": {
        "colab": {
          "base_uri": "https://localhost:8080/",
          "height": 496
        },
        "id": "lsBf-IwXLIfn",
        "outputId": "28e95d83-4b5f-48f8-fd05-71dbcbca23bc"
      },
      "execution_count": 144,
      "outputs": [
        {
          "output_type": "execute_result",
          "data": {
            "text/plain": [
              "<Axes: title={'center': 'Income'}, xlabel='Education'>"
            ]
          },
          "metadata": {},
          "execution_count": 144
        },
        {
          "output_type": "display_data",
          "data": {
            "text/plain": [
              "<Figure size 640x480 with 1 Axes>"
            ],
            "image/png": "[encoded data removed]"
          },
          "metadata": {}
        }
      ]
    },
    {
      "cell_type": "markdown",
      "source": [
        "# Observación\n",
        "* En los clientes el máximo ingreso son 100000 USD anules, menos para quienes tienen educación básica\n",
        "*  "
      ],
      "metadata": {
        "id": "fa1MeFacL_av"
      }
    },
    {
      "cell_type": "code",
      "source": [
        "df.boxplot(column=\"Income\", by=\"Age\")"
      ],
      "metadata": {
        "colab": {
          "base_uri": "https://localhost:8080/",
          "height": 496
        },
        "id": "L7-pBCSmQ0cY",
        "outputId": "1262e23a-f0ac-49d2-f51c-d08a67a74f9b"
      },
      "execution_count": 145,
      "outputs": [
        {
          "output_type": "execute_result",
          "data": {
            "text/plain": [
              "<Axes: title={'center': 'Income'}, xlabel='Age'>"
            ]
          },
          "metadata": {},
          "execution_count": 145
        },
        {
          "output_type": "display_data",
          "data": {
            "text/plain": [
              "<Figure size 640x480 with 1 Axes>"
            ],
            "image/png": "[encoded data removed]"
          },
          "metadata": {}
        }
      ]
    },
    {
      "cell_type": "code",
      "source": [
        "df.boxplot(column=\"Income\", by=\"Marital_Status\")"
      ],
      "metadata": {
        "colab": {
          "base_uri": "https://localhost:8080/",
          "height": 496
        },
        "id": "0MjAspEnNYll",
        "outputId": "02fdc14c-7fc9-406e-9ade-86fa7900f7c7"
      },
      "execution_count": 146,
      "outputs": [
        {
          "output_type": "execute_result",
          "data": {
            "text/plain": [
              "<Axes: title={'center': 'Income'}, xlabel='Marital_Status'>"
            ]
          },
          "metadata": {},
          "execution_count": 146
        },
        {
          "output_type": "display_data",
          "data": {
            "text/plain": [
              "<Figure size 640x480 with 1 Axes>"
            ],
            "image/png": "[encoded data removed]"
          },
          "metadata": {}
        }
      ]
    },
    {
      "cell_type": "code",
      "source": [
        "# Un atributo condicional\n",
        "df['Age_Group'] = df['Age'].apply(lambda x: 'Children' if x <= 16\n",
        "                                  else (    'Youth' if 17 <= x <= 30\n",
        "                                  else (    'Middle Aged' if 30 < x <=  45\n",
        "                                  else       'Old'    )\n",
        "))"
      ],
      "metadata": {
        "id": "QUHVMZx9P8B6"
      },
      "execution_count": 147,
      "outputs": []
    },
    {
      "cell_type": "code",
      "source": [
        "df.info()"
      ],
      "metadata": {
        "colab": {
          "base_uri": "https://localhost:8080/"
        },
        "id": "RS3D4m2WP_rH",
        "outputId": "beb39751-0cea-48ec-d4bc-10465af86410"
      },
      "execution_count": 148,
      "outputs": [
        {
          "output_type": "stream",
          "name": "stdout",
          "text": [
            "<class 'pandas.core.frame.DataFrame'>\n",
            "Index: 2229 entries, 0 to 2239\n",
            "Data columns (total 31 columns):\n",
            " #   Column               Non-Null Count  Dtype  \n",
            "---  ------               --------------  -----  \n",
            " 0   ID                   2229 non-null   int64  \n",
            " 1   Year_Birth           2229 non-null   int64  \n",
            " 2   Education            2229 non-null   object \n",
            " 3   Marital_Status       2229 non-null   object \n",
            " 4   Income               2205 non-null   float64\n",
            " 5   Kidhome              2229 non-null   int64  \n",
            " 6   Teenhome             2229 non-null   int64  \n",
            " 7   Dt_Customer          2229 non-null   object \n",
            " 8   Recency              2229 non-null   int64  \n",
            " 9   MntWines             2229 non-null   int64  \n",
            " 10  MntFruits            2229 non-null   int64  \n",
            " 11  MntMeatProducts      2229 non-null   int64  \n",
            " 12  MntFishProducts      2229 non-null   int64  \n",
            " 13  MntSweetProducts     2229 non-null   int64  \n",
            " 14  MntGoldProds         2229 non-null   int64  \n",
            " 15  NumDealsPurchases    2229 non-null   int64  \n",
            " 16  NumWebPurchases      2229 non-null   int64  \n",
            " 17  NumCatalogPurchases  2229 non-null   int64  \n",
            " 18  NumStorePurchases    2229 non-null   int64  \n",
            " 19  NumWebVisitsMonth    2229 non-null   int64  \n",
            " 20  AcceptedCmp3         2229 non-null   int64  \n",
            " 21  AcceptedCmp4         2229 non-null   int64  \n",
            " 22  AcceptedCmp5         2229 non-null   int64  \n",
            " 23  AcceptedCmp1         2229 non-null   int64  \n",
            " 24  AcceptedCmp2         2229 non-null   int64  \n",
            " 25  Complain             2229 non-null   int64  \n",
            " 26  Z_CostContact        2229 non-null   int64  \n",
            " 27  Z_Revenue            2229 non-null   int64  \n",
            " 28  Response             2229 non-null   int64  \n",
            " 29  Age                  2229 non-null   int64  \n",
            " 30  Age_Group            2229 non-null   object \n",
            "dtypes: float64(1), int64(26), object(4)\n",
            "memory usage: 557.2+ KB\n"
          ]
        }
      ]
    },
    {
      "cell_type": "code",
      "source": [
        "df.head(5)"
      ],
      "metadata": {
        "colab": {
          "base_uri": "https://localhost:8080/",
          "height": 290
        },
        "id": "G57iYhb3V4Sd",
        "outputId": "5a3ecc1c-a07e-413d-9513-938f2b74d7c6"
      },
      "execution_count": 149,
      "outputs": [
        {
          "output_type": "execute_result",
          "data": {
            "text/plain": [
              "     ID  Year_Birth   Education Marital_Status   Income  Kidhome  Teenhome  \\\n",
              "0  5524        1957  Graduation         Single  58138.0        0         0   \n",
              "1  2174        1954  Graduation         Single  46344.0        1         1   \n",
              "2  4141        1965  Graduation       Together  71613.0        0         0   \n",
              "3  6182        1984  Graduation       Together  26646.0        1         0   \n",
              "4  5324        1981         PhD        Married  58293.0        1         0   \n",
              "\n",
              "  Dt_Customer  Recency  MntWines  ...  AcceptedCmp4  AcceptedCmp5  \\\n",
              "0  2012-09-04       58       635  ...             0             0   \n",
              "1  2014-03-08       38        11  ...             0             0   \n",
              "2  2013-08-21       26       426  ...             0             0   \n",
              "3  2014-02-10       26        11  ...             0             0   \n",
              "4  2014-01-19       94       173  ...             0             0   \n",
              "\n",
              "   AcceptedCmp1  AcceptedCmp2  Complain  Z_CostContact  Z_Revenue  Response  \\\n",
              "0             0             0         0              3         11         1   \n",
              "1             0             0         0              3         11         0   \n",
              "2             0             0         0              3         11         0   \n",
              "3             0             0         0              3         11         0   \n",
              "4             0             0         0              3         11         0   \n",
              "\n",
              "   Age    Age_Group  \n",
              "0   67          Old  \n",
              "1   70          Old  \n",
              "2   59          Old  \n",
              "3   40  Middle Aged  \n",
              "4   43  Middle Aged  \n",
              "\n",
              "[5 rows x 31 columns]"
            ],
            "text/html": [
              "\n",
              "  <div id=\"df-40ac6ca7-846c-47a3-8192-b943bf3d8018\" class=\"colab-df-container\">\n",
              "    <div>\n",
              "<style scoped>\n",
              "    .dataframe tbody tr th:only-of-type {\n",
              "        vertical-align: middle;\n",
              "    }\n",
              "\n",
              "    .dataframe tbody tr th {\n",
              "        vertical-align: top;\n",
              "    }\n",
              "\n",
              "    .dataframe thead th {\n",
              "        text-align: right;\n",
              "    }\n",
              "</style>\n",
              "<table border=\"1\" class=\"dataframe\">\n",
              "  <thead>\n",
              "    <tr style=\"text-align: right;\">\n",
              "      <th></th>\n",
              "      <th>ID</th>\n",
              "      <th>Year_Birth</th>\n",
              "      <th>Education</th>\n",
              "      <th>Marital_Status</th>\n",
              "      <th>Income</th>\n",
              "      <th>Kidhome</th>\n",
              "      <th>Teenhome</th>\n",
              "      <th>Dt_Customer</th>\n",
              "      <th>Recency</th>\n",
              "      <th>MntWines</th>\n",
              "      <th>...</th>\n",
              "      <th>AcceptedCmp4</th>\n",
              "      <th>AcceptedCmp5</th>\n",
              "      <th>AcceptedCmp1</th>\n",
              "      <th>AcceptedCmp2</th>\n",
              "      <th>Complain</th>\n",
              "      <th>Z_CostContact</th>\n",
              "      <th>Z_Revenue</th>\n",
              "      <th>Response</th>\n",
              "      <th>Age</th>\n",
              "      <th>Age_Group</th>\n",
              "    </tr>\n",
              "  </thead>\n",
              "  <tbody>\n",
              "    <tr>\n",
              "      <th>0</th>\n",
              "      <td>5524</td>\n",
              "      <td>1957</td>\n",
              "      <td>Graduation</td>\n",
              "      <td>Single</td>\n",
              "      <td>58138.0</td>\n",
              "      <td>0</td>\n",
              "      <td>0</td>\n",
              "      <td>2012-09-04</td>\n",
              "      <td>58</td>\n",
              "      <td>635</td>\n",
              "      <td>...</td>\n",
              "      <td>0</td>\n",
              "      <td>0</td>\n",
              "      <td>0</td>\n",
              "      <td>0</td>\n",
              "      <td>0</td>\n",
              "      <td>3</td>\n",
              "      <td>11</td>\n",
              "      <td>1</td>\n",
              "      <td>67</td>\n",
              "      <td>Old</td>\n",
              "    </tr>\n",
              "    <tr>\n",
              "      <th>1</th>\n",
              "      <td>2174</td>\n",
              "      <td>1954</td>\n",
              "      <td>Graduation</td>\n",
              "      <td>Single</td>\n",
              "      <td>46344.0</td>\n",
              "      <td>1</td>\n",
              "      <td>1</td>\n",
              "      <td>2014-03-08</td>\n",
              "      <td>38</td>\n",
              "      <td>11</td>\n",
              "      <td>...</td>\n",
              "      <td>0</td>\n",
              "      <td>0</td>\n",
              "      <td>0</td>\n",
              "      <td>0</td>\n",
              "      <td>0</td>\n",
              "      <td>3</td>\n",
              "      <td>11</td>\n",
              "      <td>0</td>\n",
              "      <td>70</td>\n",
              "      <td>Old</td>\n",
              "    </tr>\n",
              "    <tr>\n",
              "      <th>2</th>\n",
              "      <td>4141</td>\n",
              "      <td>1965</td>\n",
              "      <td>Graduation</td>\n",
              "      <td>Together</td>\n",
              "      <td>71613.0</td>\n",
              "      <td>0</td>\n",
              "      <td>0</td>\n",
              "      <td>2013-08-21</td>\n",
              "      <td>26</td>\n",
              "      <td>426</td>\n",
              "      <td>...</td>\n",
              "      <td>0</td>\n",
              "      <td>0</td>\n",
              "      <td>0</td>\n",
              "      <td>0</td>\n",
              "      <td>0</td>\n",
              "      <td>3</td>\n",
              "      <td>11</td>\n",
              "      <td>0</td>\n",
              "      <td>59</td>\n",
              "      <td>Old</td>\n",
              "    </tr>\n",
              "    <tr>\n",
              "      <th>3</th>\n",
              "      <td>6182</td>\n",
              "      <td>1984</td>\n",
              "      <td>Graduation</td>\n",
              "      <td>Together</td>\n",
              "      <td>26646.0</td>\n",
              "      <td>1</td>\n",
              "      <td>0</td>\n",
              "      <td>2014-02-10</td>\n",
              "      <td>26</td>\n",
              "      <td>11</td>\n",
              "      <td>...</td>\n",
              "      <td>0</td>\n",
              "      <td>0</td>\n",
              "      <td>0</td>\n",
              "      <td>0</td>\n",
              "      <td>0</td>\n",
              "      <td>3</td>\n",
              "      <td>11</td>\n",
              "      <td>0</td>\n",
              "      <td>40</td>\n",
              "      <td>Middle Aged</td>\n",
              "    </tr>\n",
              "    <tr>\n",
              "      <th>4</th>\n",
              "      <td>5324</td>\n",
              "      <td>1981</td>\n",
              "      <td>PhD</td>\n",
              "      <td>Married</td>\n",
              "      <td>58293.0</td>\n",
              "      <td>1</td>\n",
              "      <td>0</td>\n",
              "      <td>2014-01-19</td>\n",
              "      <td>94</td>\n",
              "      <td>173</td>\n",
              "      <td>...</td>\n",
              "      <td>0</td>\n",
              "      <td>0</td>\n",
              "      <td>0</td>\n",
              "      <td>0</td>\n",
              "      <td>0</td>\n",
              "      <td>3</td>\n",
              "      <td>11</td>\n",
              "      <td>0</td>\n",
              "      <td>43</td>\n",
              "      <td>Middle Aged</td>\n",
              "    </tr>\n",
              "  </tbody>\n",
              "</table>\n",
              "<p>5 rows × 31 columns</p>\n",
              "</div>\n",
              "    <div class=\"colab-df-buttons\">\n",
              "\n",
              "  <div class=\"colab-df-container\">\n",
              "    <button class=\"colab-df-convert\" onclick=\"convertToInteractive('df-40ac6ca7-846c-47a3-8192-b943bf3d8018')\"\n",
              "            title=\"Convert this dataframe to an interactive table.\"\n",
              "            style=\"display:none;\">\n",
              "\n",
              "  <svg xmlns=\"http://www.w3.org/2000/svg\" height=\"24px\" viewBox=\"0 -960 960 960\">\n",
              "    <path d=\"M120-120v-720h720v720H120Zm60-500h600v-160H180v160Zm220 220h160v-160H400v160Zm0 220h160v-160H400v160ZM180-400h160v-160H180v160Zm440 0h160v-160H620v160ZM180-180h160v-160H180v160Zm440 0h160v-160H620v160Z\"/>\n",
              "  </svg>\n",
              "    </button>\n",
              "\n",
              "  <style>\n",
              "    .colab-df-container {\n",
              "      display:flex;\n",
              "      gap: 12px;\n",
              "    }\n",
              "\n",
              "    .colab-df-convert {\n",
              "      background-color: #E8F0FE;\n",
              "      border: none;\n",
              "      border-radius: 50%;\n",
              "      cursor: pointer;\n",
              "      display: none;\n",
              "      fill: #1967D2;\n",
              "      height: 32px;\n",
              "      padding: 0 0 0 0;\n",
              "      width: 32px;\n",
              "    }\n",
              "\n",
              "    .colab-df-convert:hover {\n",
              "      background-color: #E2EBFA;\n",
              "      box-shadow: 0px 1px 2px rgba(60, 64, 67, 0.3), 0px 1px 3px 1px rgba(60, 64, 67, 0.15);\n",
              "      fill: #174EA6;\n",
              "    }\n",
              "\n",
              "    .colab-df-buttons div {\n",
              "      margin-bottom: 4px;\n",
              "    }\n",
              "\n",
              "    [theme=dark] .colab-df-convert {\n",
              "      background-color: #3B4455;\n",
              "      fill: #D2E3FC;\n",
              "    }\n",
              "\n",
              "    [theme=dark] .colab-df-convert:hover {\n",
              "      background-color: #434B5C;\n",
              "      box-shadow: 0px 1px 3px 1px rgba(0, 0, 0, 0.15);\n",
              "      filter: drop-shadow(0px 1px 2px rgba(0, 0, 0, 0.3));\n",
              "      fill: #FFFFFF;\n",
              "    }\n",
              "  </style>\n",
              "\n",
              "    <script>\n",
              "      const buttonEl =\n",
              "        document.querySelector('#df-40ac6ca7-846c-47a3-8192-b943bf3d8018 button.colab-df-convert');\n",
              "      buttonEl.style.display =\n",
              "        google.colab.kernel.accessAllowed ? 'block' : 'none';\n",
              "\n",
              "      async function convertToInteractive(key) {\n",
              "        const element = document.querySelector('#df-40ac6ca7-846c-47a3-8192-b943bf3d8018');\n",
              "        const dataTable =\n",
              "          await google.colab.kernel.invokeFunction('convertToInteractive',\n",
              "                                                    [key], {});\n",
              "        if (!dataTable) return;\n",
              "\n",
              "        const docLinkHtml = 'Like what you see? Visit the ' +\n",
              "          '<a target=\"_blank\" href=https://colab.research.google.com/notebooks/data_table.ipynb>data table notebook</a>'\n",
              "          + ' to learn more about interactive tables.';\n",
              "        element.innerHTML = '';\n",
              "        dataTable['output_type'] = 'display_data';\n",
              "        await google.colab.output.renderOutput(dataTable, element);\n",
              "        const docLink = document.createElement('div');\n",
              "        docLink.innerHTML = docLinkHtml;\n",
              "        element.appendChild(docLink);\n",
              "      }\n",
              "    </script>\n",
              "  </div>\n",
              "\n",
              "\n",
              "<div id=\"df-735fa839-a1d8-4f0e-9427-f4128ac0b7c8\">\n",
              "  <button class=\"colab-df-quickchart\" onclick=\"quickchart('df-735fa839-a1d8-4f0e-9427-f4128ac0b7c8')\"\n",
              "            title=\"Suggest charts\"\n",
              "            style=\"display:none;\">\n",
              "\n",
              "<svg xmlns=\"http://www.w3.org/2000/svg\" height=\"24px\"viewBox=\"0 0 24 24\"\n",
              "     width=\"24px\">\n",
              "    <g>\n",
              "        <path d=\"M19 3H5c-1.1 0-2 .9-2 2v14c0 1.1.9 2 2 2h14c1.1 0 2-.9 2-2V5c0-1.1-.9-2-2-2zM9 17H7v-7h2v7zm4 0h-2V7h2v10zm4 0h-2v-4h2v4z\"/>\n",
              "    </g>\n",
              "</svg>\n",
              "  </button>\n",
              "\n",
              "<style>\n",
              "  .colab-df-quickchart {\n",
              "      --bg-color: #E8F0FE;\n",
              "      --fill-color: #1967D2;\n",
              "      --hover-bg-color: #E2EBFA;\n",
              "      --hover-fill-color: #174EA6;\n",
              "      --disabled-fill-color: #AAA;\n",
              "      --disabled-bg-color: #DDD;\n",
              "  }\n",
              "\n",
              "  [theme=dark] .colab-df-quickchart {\n",
              "      --bg-color: #3B4455;\n",
              "      --fill-color: #D2E3FC;\n",
              "      --hover-bg-color: #434B5C;\n",
              "      --hover-fill-color: #FFFFFF;\n",
              "      --disabled-bg-color: #3B4455;\n",
              "      --disabled-fill-color: #666;\n",
              "  }\n",
              "\n",
              "  .colab-df-quickchart {\n",
              "    background-color: var(--bg-color);\n",
              "    border: none;\n",
              "    border-radius: 50%;\n",
              "    cursor: pointer;\n",
              "    display: none;\n",
              "    fill: var(--fill-color);\n",
              "    height: 32px;\n",
              "    padding: 0;\n",
              "    width: 32px;\n",
              "  }\n",
              "\n",
              "  .colab-df-quickchart:hover {\n",
              "    background-color: var(--hover-bg-color);\n",
              "    box-shadow: 0 1px 2px rgba(60, 64, 67, 0.3), 0 1px 3px 1px rgba(60, 64, 67, 0.15);\n",
              "    fill: var(--button-hover-fill-color);\n",
              "  }\n",
              "\n",
              "  .colab-df-quickchart-complete:disabled,\n",
              "  .colab-df-quickchart-complete:disabled:hover {\n",
              "    background-color: var(--disabled-bg-color);\n",
              "    fill: var(--disabled-fill-color);\n",
              "    box-shadow: none;\n",
              "  }\n",
              "\n",
              "  .colab-df-spinner {\n",
              "    border: 2px solid var(--fill-color);\n",
              "    border-color: transparent;\n",
              "    border-bottom-color: var(--fill-color);\n",
              "    animation:\n",
              "      spin 1s steps(1) infinite;\n",
              "  }\n",
              "\n",
              "  @keyframes spin {\n",
              "    0% {\n",
              "      border-color: transparent;\n",
              "      border-bottom-color: var(--fill-color);\n",
              "      border-left-color: var(--fill-color);\n",
              "    }\n",
              "    20% {\n",
              "      border-color: transparent;\n",
              "      border-left-color: var(--fill-color);\n",
              "      border-top-color: var(--fill-color);\n",
              "    }\n",
              "    30% {\n",
              "      border-color: transparent;\n",
              "      border-left-color: var(--fill-color);\n",
              "      border-top-color: var(--fill-color);\n",
              "      border-right-color: var(--fill-color);\n",
              "    }\n",
              "    40% {\n",
              "      border-color: transparent;\n",
              "      border-right-color: var(--fill-color);\n",
              "      border-top-color: var(--fill-color);\n",
              "    }\n",
              "    60% {\n",
              "      border-color: transparent;\n",
              "      border-right-color: var(--fill-color);\n",
              "    }\n",
              "    80% {\n",
              "      border-color: transparent;\n",
              "      border-right-color: var(--fill-color);\n",
              "      border-bottom-color: var(--fill-color);\n",
              "    }\n",
              "    90% {\n",
              "      border-color: transparent;\n",
              "      border-bottom-color: var(--fill-color);\n",
              "    }\n",
              "  }\n",
              "</style>\n",
              "\n",
              "  <script>\n",
              "    async function quickchart(key) {\n",
              "      const quickchartButtonEl =\n",
              "        document.querySelector('#' + key + ' button');\n",
              "      quickchartButtonEl.disabled = true;  // To prevent multiple clicks.\n",
              "      quickchartButtonEl.classList.add('colab-df-spinner');\n",
              "      try {\n",
              "        const charts = await google.colab.kernel.invokeFunction(\n",
              "            'suggestCharts', [key], {});\n",
              "      } catch (error) {\n",
              "        console.error('Error during call to suggestCharts:', error);\n",
              "      }\n",
              "      quickchartButtonEl.classList.remove('colab-df-spinner');\n",
              "      quickchartButtonEl.classList.add('colab-df-quickchart-complete');\n",
              "    }\n",
              "    (() => {\n",
              "      let quickchartButtonEl =\n",
              "        document.querySelector('#df-735fa839-a1d8-4f0e-9427-f4128ac0b7c8 button');\n",
              "      quickchartButtonEl.style.display =\n",
              "        google.colab.kernel.accessAllowed ? 'block' : 'none';\n",
              "    })();\n",
              "  </script>\n",
              "</div>\n",
              "\n",
              "    </div>\n",
              "  </div>\n"
            ],
            "application/vnd.google.colaboratory.intrinsic+json": {
              "type": "dataframe",
              "variable_name": "df"
            }
          },
          "metadata": {},
          "execution_count": 149
        }
      ]
    },
    {
      "cell_type": "code",
      "source": [
        "# Cuánto compró  cada cliente en los últimos  2 años?\n",
        "df['Total_Income'] = df['MntWines'] + df['MntFruits'] + df['MntMeatProducts'] + df['MntFishProducts'] + df['MntSweetProducts'] + df['MntGoldProds']\n",
        "  # cracion de una nueva columna\n",
        "\n",
        "# df [['nombres de los atributos,....'nombres de los atributos]] doble corchete cuadrado\n",
        "df_Total_Income = df[['MntWines','MntFruits','MntMeatProducts','MntFishProducts','MntSweetProducts','MntGoldProds', 'Total_Income']]\n",
        "  # estoy CREANDO un nuevo dataframe\n",
        "  # el [[]] es para especificar que columnas quiero en el nuevo dataframe"
      ],
      "metadata": {
        "id": "bTorpOwUUkq5"
      },
      "execution_count": 150,
      "outputs": []
    },
    {
      "cell_type": "code",
      "source": [
        "df_Total_Income.sum() # suma todos los valores de cada columna y me da un total de cada columna"
      ],
      "metadata": {
        "colab": {
          "base_uri": "https://localhost:8080/",
          "height": 303
        },
        "id": "S8NBt27vCoSk",
        "outputId": "3a056a98-6ab0-4d96-8130-3fbbb2c442dd"
      },
      "execution_count": 151,
      "outputs": [
        {
          "output_type": "execute_result",
          "data": {
            "text/plain": [
              "MntWines             679826\n",
              "MntFruits             58731\n",
              "MntMeatProducts      368418\n",
              "MntFishProducts       83905\n",
              "MntSweetProducts      60543\n",
              "MntGoldProds          98328\n",
              "Total_Income        1349751\n",
              "dtype: int64"
            ],
            "text/html": [
              "<div>\n",
              "<style scoped>\n",
              "    .dataframe tbody tr th:only-of-type {\n",
              "        vertical-align: middle;\n",
              "    }\n",
              "\n",
              "    .dataframe tbody tr th {\n",
              "        vertical-align: top;\n",
              "    }\n",
              "\n",
              "    .dataframe thead th {\n",
              "        text-align: right;\n",
              "    }\n",
              "</style>\n",
              "<table border=\"1\" class=\"dataframe\">\n",
              "  <thead>\n",
              "    <tr style=\"text-align: right;\">\n",
              "      <th></th>\n",
              "      <th>0</th>\n",
              "    </tr>\n",
              "  </thead>\n",
              "  <tbody>\n",
              "    <tr>\n",
              "      <th>MntWines</th>\n",
              "      <td>679826</td>\n",
              "    </tr>\n",
              "    <tr>\n",
              "      <th>MntFruits</th>\n",
              "      <td>58731</td>\n",
              "    </tr>\n",
              "    <tr>\n",
              "      <th>MntMeatProducts</th>\n",
              "      <td>368418</td>\n",
              "    </tr>\n",
              "    <tr>\n",
              "      <th>MntFishProducts</th>\n",
              "      <td>83905</td>\n",
              "    </tr>\n",
              "    <tr>\n",
              "      <th>MntSweetProducts</th>\n",
              "      <td>60543</td>\n",
              "    </tr>\n",
              "    <tr>\n",
              "      <th>MntGoldProds</th>\n",
              "      <td>98328</td>\n",
              "    </tr>\n",
              "    <tr>\n",
              "      <th>Total_Income</th>\n",
              "      <td>1349751</td>\n",
              "    </tr>\n",
              "  </tbody>\n",
              "</table>\n",
              "</div><br><label><b>dtype:</b> int64</label>"
            ]
          },
          "metadata": {},
          "execution_count": 151
        }
      ]
    },
    {
      "cell_type": "code",
      "source": [
        "df.info()"
      ],
      "metadata": {
        "colab": {
          "base_uri": "https://localhost:8080/"
        },
        "id": "F8O-YBfHB-ms",
        "outputId": "6d2cf677-bf1c-4b9a-9468-59a796399f09"
      },
      "execution_count": 152,
      "outputs": [
        {
          "output_type": "stream",
          "name": "stdout",
          "text": [
            "<class 'pandas.core.frame.DataFrame'>\n",
            "Index: 2229 entries, 0 to 2239\n",
            "Data columns (total 32 columns):\n",
            " #   Column               Non-Null Count  Dtype  \n",
            "---  ------               --------------  -----  \n",
            " 0   ID                   2229 non-null   int64  \n",
            " 1   Year_Birth           2229 non-null   int64  \n",
            " 2   Education            2229 non-null   object \n",
            " 3   Marital_Status       2229 non-null   object \n",
            " 4   Income               2205 non-null   float64\n",
            " 5   Kidhome              2229 non-null   int64  \n",
            " 6   Teenhome             2229 non-null   int64  \n",
            " 7   Dt_Customer          2229 non-null   object \n",
            " 8   Recency              2229 non-null   int64  \n",
            " 9   MntWines             2229 non-null   int64  \n",
            " 10  MntFruits            2229 non-null   int64  \n",
            " 11  MntMeatProducts      2229 non-null   int64  \n",
            " 12  MntFishProducts      2229 non-null   int64  \n",
            " 13  MntSweetProducts     2229 non-null   int64  \n",
            " 14  MntGoldProds         2229 non-null   int64  \n",
            " 15  NumDealsPurchases    2229 non-null   int64  \n",
            " 16  NumWebPurchases      2229 non-null   int64  \n",
            " 17  NumCatalogPurchases  2229 non-null   int64  \n",
            " 18  NumStorePurchases    2229 non-null   int64  \n",
            " 19  NumWebVisitsMonth    2229 non-null   int64  \n",
            " 20  AcceptedCmp3         2229 non-null   int64  \n",
            " 21  AcceptedCmp4         2229 non-null   int64  \n",
            " 22  AcceptedCmp5         2229 non-null   int64  \n",
            " 23  AcceptedCmp1         2229 non-null   int64  \n",
            " 24  AcceptedCmp2         2229 non-null   int64  \n",
            " 25  Complain             2229 non-null   int64  \n",
            " 26  Z_CostContact        2229 non-null   int64  \n",
            " 27  Z_Revenue            2229 non-null   int64  \n",
            " 28  Response             2229 non-null   int64  \n",
            " 29  Age                  2229 non-null   int64  \n",
            " 30  Age_Group            2229 non-null   object \n",
            " 31  Total_Income         2229 non-null   int64  \n",
            "dtypes: float64(1), int64(27), object(4)\n",
            "memory usage: 574.7+ KB\n"
          ]
        }
      ]
    },
    {
      "cell_type": "code",
      "source": [
        "#df.drop('Total_Spent', axis=1, inplace=True)\n",
        "#para eliminar un registro"
      ],
      "metadata": {
        "id": "KOHhtP4KCEg2"
      },
      "execution_count": null,
      "outputs": []
    },
    {
      "cell_type": "code",
      "source": [],
      "metadata": {
        "id": "TM3Bnm_UYiQR"
      },
      "execution_count": null,
      "outputs": []
    }
  ]
}
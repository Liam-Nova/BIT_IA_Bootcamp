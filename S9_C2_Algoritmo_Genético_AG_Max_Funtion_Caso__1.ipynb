{
  "nbformat": 4,
  "nbformat_minor": 0,
  "metadata": {
    "colab": {
      "provenance": [],
      "include_colab_link": true
    },
    "kernelspec": {
      "name": "python3",
      "display_name": "Python 3"
    },
    "language_info": {
      "name": "python"
    }
  },
  "cells": [
    {
      "cell_type": "markdown",
      "metadata": {
        "id": "view-in-github",
        "colab_type": "text"
      },
      "source": [
        "<a href=\"https://colab.research.google.com/github/Liam-Nova/BIT_IA_Bootcamp/blob/main/S9_C2_Algoritmo_Gen%C3%A9tico_AG_Max_Funtion_Caso__1.ipynb\" target=\"_parent\"><img src=\"https://colab.research.google.com/assets/colab-badge.svg\" alt=\"Open In Colab\"/></a>"
      ]
    },
    {
      "cell_type": "markdown",
      "source": [
        "Importar librarias\n"
      ],
      "metadata": {
        "id": "NeCAcJ4-2oHE"
      }
    },
    {
      "cell_type": "code",
      "execution_count": null,
      "metadata": {
        "id": "MJi3HRpZuf4G"
      },
      "outputs": [],
      "source": [
        "import matplotlib.pyplot as plt\n",
        "import numpy as np\n",
        "import math"
      ]
    },
    {
      "cell_type": "markdown",
      "source": [
        "1. Problema\n",
        "\n",
        "Maximizar una función\n",
        "\n"
      ],
      "metadata": {
        "id": "LYy1J4LB2vyI"
      }
    },
    {
      "cell_type": "code",
      "source": [
        "# Función objetivo\n",
        "def fx(x):\n",
        "  return(2000+math.sin(x)*(x**2))"
      ],
      "metadata": {
        "id": "cCnhjfxR2tT-"
      },
      "execution_count": null,
      "outputs": []
    },
    {
      "cell_type": "code",
      "source": [
        "# Función objetivo\n",
        "def fx_lineal(x):\n",
        "  return(3*x+2)"
      ],
      "metadata": {
        "id": "6Si4aORO61oI"
      },
      "execution_count": null,
      "outputs": []
    },
    {
      "cell_type": "markdown",
      "source": [
        "Generar el vector de x"
      ],
      "metadata": {
        "id": "hdU4MpyO3nPZ"
      }
    },
    {
      "cell_type": "code",
      "source": [
        "#x = np.arange(0,88,0.01)\n",
        "x = np.arange(0,32,0.01)\n",
        "y = []\n",
        "#y_lineal = []\n",
        "for i in x:\n",
        "  y.append(fx(i))\n",
        "  #y_lineal.append(fx_lineal(i))"
      ],
      "metadata": {
        "id": "r9tJW8ci3WYC"
      },
      "execution_count": null,
      "outputs": []
    },
    {
      "cell_type": "code",
      "source": [
        "x"
      ],
      "metadata": {
        "colab": {
          "base_uri": "https://localhost:8080/"
        },
        "id": "nsdBLgXT5aZa",
        "outputId": "a09f9d83-31fb-4780-9e83-27067a4e9715"
      },
      "execution_count": null,
      "outputs": [
        {
          "output_type": "execute_result",
          "data": {
            "text/plain": [
              "array([0.000e+00, 1.000e-02, 2.000e-02, ..., 8.797e+01, 8.798e+01,\n",
              "       8.799e+01])"
            ]
          },
          "metadata": {},
          "execution_count": 32
        }
      ]
    },
    {
      "cell_type": "code",
      "source": [
        "plt.figure(figsize=(3,2))\n",
        "plt.plot(x,y, \"g\")\n",
        "plt.title(\"Función Objetivo\")\n",
        "#plt.plot(x,y_lineal, \"r\")"
      ],
      "metadata": {
        "colab": {
          "base_uri": "https://localhost:8080/",
          "height": 254
        },
        "id": "tLDbnujP8LQH",
        "outputId": "030e9c1b-de5e-4bd0-cd7a-1b3e36ebac7f"
      },
      "execution_count": null,
      "outputs": [
        {
          "output_type": "execute_result",
          "data": {
            "text/plain": [
              "Text(0.5, 1.0, 'Función Objetivo')"
            ]
          },
          "metadata": {},
          "execution_count": 43
        },
        {
          "output_type": "display_data",
          "data": {
            "text/plain": [
              "<Figure size 300x200 with 1 Axes>"
            ],
            "image/png": "[encoded data removed]"
          },
          "metadata": {}
        }
      ]
    },
    {
      "cell_type": "code",
      "source": [
        "plt.figure(figsize=(3,2))\n",
        "plt.plot(x,y, \"g\")\n",
        "plt.title(\"Función Objetivo\")"
      ],
      "metadata": {
        "colab": {
          "base_uri": "https://localhost:8080/",
          "height": 254
        },
        "id": "yD71pHvg4LVT",
        "outputId": "8ffbf8c7-3fe8-4fc9-e814-231efd3db78a"
      },
      "execution_count": null,
      "outputs": [
        {
          "output_type": "execute_result",
          "data": {
            "text/plain": [
              "Text(0.5, 1.0, 'Función Objetivo')"
            ]
          },
          "metadata": {},
          "execution_count": 21
        },
        {
          "output_type": "display_data",
          "data": {
            "text/plain": [
              "<Figure size 300x200 with 1 Axes>"
            ],
            "image/png": "[encoded data removed]"
          },
          "metadata": {}
        }
      ]
    },
    {
      "cell_type": "code",
      "source": [
        "plt.figure(figsize=(3,2))\n",
        "x_p = 20.2345\n",
        "y_p =fx(x_p)\n",
        "plt.plot(x_p,y_p, 'o')\n",
        "plt.plot(x,y, \"g\")"
      ],
      "metadata": {
        "colab": {
          "base_uri": "https://localhost:8080/",
          "height": 231
        },
        "id": "TX0GgQm_5Qol",
        "outputId": "8525d48b-5c50-427e-d76f-b88752a66332"
      },
      "execution_count": null,
      "outputs": [
        {
          "output_type": "execute_result",
          "data": {
            "text/plain": [
              "[<matplotlib.lines.Line2D at 0x7b6effd6c460>]"
            ]
          },
          "metadata": {},
          "execution_count": 44
        },
        {
          "output_type": "display_data",
          "data": {
            "text/plain": [
              "<Figure size 300x200 with 1 Axes>"
            ],
            "image/png": "[encoded data removed]"
          },
          "metadata": {}
        }
      ]
    },
    {
      "cell_type": "code",
      "source": [],
      "metadata": {
        "id": "pwwJ2kH27zT1"
      },
      "execution_count": null,
      "outputs": []
    },
    {
      "cell_type": "code",
      "source": [
        "np.max(y_p)"
      ],
      "metadata": {
        "colab": {
          "base_uri": "https://localhost:8080/"
        },
        "id": "xJCweM3rXlgN",
        "outputId": "2705bdb0-8791-4e91-e176-33a4bcdf1557"
      },
      "execution_count": null,
      "outputs": [
        {
          "output_type": "execute_result",
          "data": {
            "text/plain": [
              "2402.3841616898717"
            ]
          },
          "metadata": {},
          "execution_count": 45
        }
      ]
    },
    {
      "cell_type": "markdown",
      "source": [
        "**ALGORITMO GENÉTICO - CODIFICACIÓN**"
      ],
      "metadata": {
        "id": "u92Obfdt7BNG"
      }
    },
    {
      "cell_type": "code",
      "source": [
        "# DECODICAR: De lista a decimal\n",
        "def listToDecimal (num):\n",
        "  decimal = 0\n",
        "  for i in range(len(num)):\n",
        "    decimal+=num[i]*10**(-i)\n",
        "  return decimal"
      ],
      "metadata": {
        "id": "TDc2cDqm7Jcm"
      },
      "execution_count": null,
      "outputs": []
    },
    {
      "cell_type": "code",
      "source": [
        "# CODIFICAR: Generar el cromosoma de cada individuo\n",
        "size_cromo = 15\n",
        "cromosoma = [np.linspace(0,31,32),np.linspace(0,9,10)]\n",
        "individuo = []\n",
        "individuo += [np.random.choice(cromosoma[0])]\n",
        "individuo += list(np.random.choice(cromosoma[1],size_cromo-1))\n",
        "individuo"
      ],
      "metadata": {
        "colab": {
          "base_uri": "https://localhost:8080/"
        },
        "id": "dGSu0dPl788-",
        "outputId": "74b1bc6c-babd-45b4-b639-56b040e53745"
      },
      "execution_count": null,
      "outputs": [
        {
          "output_type": "execute_result",
          "data": {
            "text/plain": [
              "[19.0, 2.0, 2.0, 6.0, 0.0, 1.0, 1.0, 5.0, 2.0, 0.0, 2.0, 5.0, 1.0, 7.0, 9.0]"
            ]
          },
          "metadata": {},
          "execution_count": 50
        }
      ]
    },
    {
      "cell_type": "code",
      "source": [
        "listToDecimal(individuo)"
      ],
      "metadata": {
        "colab": {
          "base_uri": "https://localhost:8080/"
        },
        "id": "nz77A201_S37",
        "outputId": "f7ad465c-f315-4812-9c95-b9366f2948f3"
      },
      "execution_count": null,
      "outputs": [
        {
          "output_type": "execute_result",
          "data": {
            "text/plain": [
              "19.226011520251788"
            ]
          },
          "metadata": {},
          "execution_count": 51
        }
      ]
    },
    {
      "cell_type": "markdown",
      "source": [
        "**ALGORITMO GENÉTICO - POBLACIÓN**"
      ],
      "metadata": {
        "id": "0PVneuu6AIOI"
      }
    },
    {
      "cell_type": "code",
      "source": [
        "# Población\n",
        "size_poblacion = 20\n",
        "poblacion = []\n",
        "\n",
        "for i in range(size_poblacion):\n",
        "  individuo = []\n",
        "  individuo += [np.random.choice(cromosoma[0])]# Antes de la coma\n",
        "  individuo += list(np.random.choice(cromosoma[1],size_cromo-1)) # después de la coma\n",
        "  poblacion.append(individuo) # Concatenando individuos ingresar un nuevo elemento al verctor población\n",
        "\n",
        "poblacion"
      ],
      "metadata": {
        "colab": {
          "base_uri": "https://localhost:8080/"
        },
        "id": "Vmk3uA-9AMPz",
        "outputId": "3dfaec4b-85e3-43ac-abb0-03b02548e9ec"
      },
      "execution_count": null,
      "outputs": [
        {
          "output_type": "execute_result",
          "data": {
            "text/plain": [
              "[[15.0, 9.0, 0.0, 1.0, 5.0, 9.0, 4.0, 6.0, 8.0, 9.0, 2.0, 3.0, 7.0, 1.0, 2.0],\n",
              " [23.0, 7.0, 8.0, 7.0, 1.0, 7.0, 0.0, 4.0, 7.0, 4.0, 4.0, 7.0, 6.0, 0.0, 4.0],\n",
              " [10.0, 8.0, 6.0, 3.0, 6.0, 6.0, 3.0, 7.0, 1.0, 9.0, 0.0, 9.0, 8.0, 8.0, 6.0],\n",
              " [10.0, 7.0, 4.0, 3.0, 8.0, 3.0, 7.0, 8.0, 5.0, 7.0, 7.0, 3.0, 7.0, 6.0, 6.0],\n",
              " [1.0, 8.0, 3.0, 4.0, 5.0, 9.0, 9.0, 3.0, 3.0, 0.0, 4.0, 8.0, 7.0, 6.0, 4.0],\n",
              " [8.0, 9.0, 0.0, 5.0, 5.0, 1.0, 6.0, 1.0, 2.0, 9.0, 0.0, 7.0, 8.0, 0.0, 9.0],\n",
              " [10.0, 3.0, 8.0, 9.0, 4.0, 6.0, 3.0, 5.0, 3.0, 0.0, 1.0, 3.0, 3.0, 8.0, 1.0],\n",
              " [13.0, 1.0, 7.0, 9.0, 6.0, 5.0, 2.0, 7.0, 2.0, 5.0, 0.0, 0.0, 7.0, 6.0, 6.0],\n",
              " [10.0, 7.0, 6.0, 8.0, 6.0, 9.0, 9.0, 1.0, 0.0, 6.0, 2.0, 2.0, 8.0, 6.0, 2.0],\n",
              " [7.0, 1.0, 0.0, 7.0, 8.0, 2.0, 1.0, 4.0, 0.0, 3.0, 4.0, 6.0, 3.0, 9.0, 6.0],\n",
              " [3.0, 0.0, 5.0, 3.0, 5.0, 8.0, 0.0, 2.0, 4.0, 7.0, 7.0, 5.0, 8.0, 0.0, 6.0],\n",
              " [24.0, 6.0, 0.0, 9.0, 9.0, 5.0, 7.0, 6.0, 1.0, 6.0, 0.0, 5.0, 8.0, 1.0, 9.0],\n",
              " [4.0, 2.0, 7.0, 7.0, 6.0, 7.0, 7.0, 9.0, 5.0, 5.0, 8.0, 5.0, 2.0, 5.0, 1.0],\n",
              " [0.0, 7.0, 7.0, 2.0, 9.0, 2.0, 8.0, 4.0, 0.0, 5.0, 7.0, 5.0, 1.0, 7.0, 5.0],\n",
              " [13.0, 7.0, 6.0, 1.0, 1.0, 7.0, 0.0, 0.0, 8.0, 4.0, 3.0, 9.0, 2.0, 0.0, 2.0],\n",
              " [7.0, 1.0, 1.0, 8.0, 8.0, 9.0, 9.0, 4.0, 2.0, 9.0, 9.0, 3.0, 9.0, 4.0, 2.0],\n",
              " [4.0, 1.0, 6.0, 3.0, 3.0, 3.0, 5.0, 1.0, 0.0, 6.0, 9.0, 5.0, 2.0, 0.0, 1.0],\n",
              " [14.0, 0.0, 3.0, 1.0, 5.0, 3.0, 6.0, 8.0, 7.0, 2.0, 4.0, 3.0, 4.0, 7.0, 7.0],\n",
              " [0.0, 0.0, 5.0, 3.0, 1.0, 8.0, 8.0, 2.0, 7.0, 7.0, 4.0, 9.0, 8.0, 7.0, 1.0],\n",
              " [11.0, 4.0, 7.0, 4.0, 6.0, 5.0, 1.0, 2.0, 8.0, 9.0, 9.0, 6.0, 3.0, 4.0, 2.0]]"
            ]
          },
          "metadata": {},
          "execution_count": 72
        }
      ]
    },
    {
      "cell_type": "code",
      "source": [
        "for individuo in poblacion:\n",
        "  x_d = listToDecimal(individuo)\n",
        "  y_d = fx(x_d)\n",
        "  plt.plot(x_d,y_d,'o')\n",
        "\n",
        "plt.plot(x,y,'r')"
      ],
      "metadata": {
        "colab": {
          "base_uri": "https://localhost:8080/",
          "height": 447
        },
        "id": "olzgdfhUC9a7",
        "outputId": "d9f074ab-31ac-4d8b-bf91-9051438f2664"
      },
      "execution_count": null,
      "outputs": [
        {
          "output_type": "execute_result",
          "data": {
            "text/plain": [
              "[<matplotlib.lines.Line2D at 0x7b6eff6a3580>]"
            ]
          },
          "metadata": {},
          "execution_count": 73
        },
        {
          "output_type": "display_data",
          "data": {
            "text/plain": [
              "<Figure size 640x480 with 1 Axes>"
            ],
            "image/png": "[encoded data removed]"
          },
          "metadata": {}
        }
      ]
    },
    {
      "cell_type": "markdown",
      "source": [
        "**ALGORITMO GENÉTICO - EVALUAR POBLACIÓN**"
      ],
      "metadata": {
        "id": "F3aTIuHxBw_n"
      }
    },
    {
      "cell_type": "code",
      "source": [
        "fitness = []\n",
        "\n",
        "for individuo in poblacion:\n",
        "  x_d = listToDecimal(individuo)\n",
        "  y_d = fx(x_d)\n",
        "  fitness += [y_d]\n",
        "  #plt.plot(x_d,y_d,'o')\n",
        "\n",
        "#plt.plot(x,y, \"g\")\n",
        "#plt.title(\"Evaluación de la población en la Función Objetivo\")\n",
        "#plt.xlabel(\"X\")\n",
        "#plt.ylabel(\"f(x)\")\n"
      ],
      "metadata": {
        "id": "dVjDMKt_BzqZ"
      },
      "execution_count": null,
      "outputs": []
    },
    {
      "cell_type": "code",
      "source": [
        "fitness"
      ],
      "metadata": {
        "colab": {
          "base_uri": "https://localhost:8080/"
        },
        "id": "VwITEhrTLNDo",
        "outputId": "c0423063-d114-4ab8-bfc2-fb10606ec668"
      },
      "execution_count": null,
      "outputs": [
        {
          "output_type": "execute_result",
          "data": {
            "text/plain": [
              "[1951.3436026150152,\n",
              " 1448.4612484345403,\n",
              " 1883.0061130193537,\n",
              " 1888.208146155008,\n",
              " 2003.2493174757726,\n",
              " 2039.3558627487328,\n",
              " 1911.2865873691378,\n",
              " 2099.9756927278827,\n",
              " 1887.006832270037,\n",
              " 2037.0977027933457,\n",
              " 2000.8195995961514,\n",
              " 1697.6026533578656,\n",
              " 1983.4033848573415,\n",
              " 2000.41713813272,\n",
              " 2176.14081372731,\n",
              " 2037.5922459945268,\n",
              " 1985.2143210004165,\n",
              " 2195.7866603356797,\n",
              " 2000.0001503983215,\n",
              " 1883.1554178313727]"
            ]
          },
          "metadata": {},
          "execution_count": 75
        }
      ]
    },
    {
      "cell_type": "code",
      "source": [
        "# Medición de aptitud de la población\n",
        "fitness = np.array(fitness)\n",
        "fitness = fitness/fitness.sum()\n",
        "#fitness = (fitness/fitness.sum())*100\n",
        "fitness"
      ],
      "metadata": {
        "colab": {
          "base_uri": "https://localhost:8080/"
        },
        "id": "x30Rk7FHKTgP",
        "outputId": "e6055906-0125-4926-952f-8a229f7ab483"
      },
      "execution_count": null,
      "outputs": [
        {
          "output_type": "execute_result",
          "data": {
            "text/plain": [
              "array([0.04989484, 0.0370364 , 0.04814749, 0.0482805 , 0.05122205,\n",
              "       0.05214527, 0.04887061, 0.05369529, 0.04824979, 0.05208753,\n",
              "       0.05115992, 0.04340682, 0.0507146 , 0.05114963, 0.05564279,\n",
              "       0.05210018, 0.0507609 , 0.05614513, 0.05113897, 0.04815131])"
            ]
          },
          "metadata": {},
          "execution_count": 76
        }
      ]
    },
    {
      "cell_type": "code",
      "source": [
        "np.argmax(fitness)"
      ],
      "metadata": {
        "colab": {
          "base_uri": "https://localhost:8080/"
        },
        "id": "Wlevdg4wGZ5N",
        "outputId": "ef94b28b-fa02-442e-9117-f3fb633de520"
      },
      "execution_count": null,
      "outputs": [
        {
          "output_type": "execute_result",
          "data": {
            "text/plain": [
              "17"
            ]
          },
          "metadata": {},
          "execution_count": 77
        }
      ]
    },
    {
      "cell_type": "markdown",
      "source": [
        "**ALGORITMO GENÉTICO - SELECCIONAR**"
      ],
      "metadata": {
        "id": "hWZcFlzrMdDt"
      }
    },
    {
      "cell_type": "markdown",
      "source": [
        "**Metodo de selección: Ruleta.** Se selecciona al más apto y el segundo se selcciona aleatorio."
      ],
      "metadata": {
        "id": "0QMGsqbJT2E4"
      }
    },
    {
      "cell_type": "code",
      "source": [
        "# El más apto por función fitness\n",
        "padre_1 = np.argmax(fitness)\n",
        "# Seleccionando el alatorio por random pero con las probabilidades dadas por la función fitness\n",
        "padre_2 = np.random.choice(size_poblacion, 1, p=fitness)\n",
        "padres_ruleta = [padre_1, padre_2[0]]\n",
        "padres_ruleta\n"
      ],
      "metadata": {
        "id": "yJNpxx-hM0Sa",
        "colab": {
          "base_uri": "https://localhost:8080/"
        },
        "outputId": "44322d8f-b0e4-4504-bdfd-caa0716324cf"
      },
      "execution_count": null,
      "outputs": [
        {
          "output_type": "execute_result",
          "data": {
            "text/plain": [
              "[0, 7]"
            ]
          },
          "metadata": {},
          "execution_count": 108
        }
      ]
    },
    {
      "cell_type": "markdown",
      "source": [
        "**Metodo de selección: Elitista.** Selecciona  siempre los dos mejores padres.\n"
      ],
      "metadata": {
        "id": "Xh92pCVRTjSc"
      }
    },
    {
      "cell_type": "code",
      "source": [
        "# Lee las posiciones de los dos valores máximos de la función fitneess\n",
        "padres_elitista = np.argsort(fitness)[::-1][:2]\n",
        "padres_elitista"
      ],
      "metadata": {
        "colab": {
          "base_uri": "https://localhost:8080/"
        },
        "id": "NXfWdpFCRREe",
        "outputId": "a3b5b83c-8326-4626-e623-cb1f5bc7a726"
      },
      "execution_count": null,
      "outputs": [
        {
          "output_type": "execute_result",
          "data": {
            "text/plain": [
              "array([17, 14])"
            ]
          },
          "metadata": {},
          "execution_count": 89
        }
      ]
    },
    {
      "cell_type": "code",
      "source": [
        "padres = padres_ruleta\n",
        "#padres = padres_elitista"
      ],
      "metadata": {
        "id": "BvjAHEXjPEkf"
      },
      "execution_count": null,
      "outputs": []
    },
    {
      "cell_type": "markdown",
      "source": [
        "**ALGORITMO GENÉTICO - CRUCE**"
      ],
      "metadata": {
        "id": "rk-Zmr7EUxcN"
      }
    },
    {
      "cell_type": "markdown",
      "source": [
        "**Metodo de Cruce: Punto Simple** En este ejemplo, vamos a cruzar en la mitad de los cromosomas\n"
      ],
      "metadata": {
        "id": "EauOY3xlVI_K"
      }
    },
    {
      "cell_type": "code",
      "source": [
        "poblacion_temporal=[]\n",
        "# Definir el punto de cruce\n",
        "cross_point = int(size_cromo/2)\n",
        "numero_hijos = 5 # en cada iteracion me genera dos hijos\n",
        "for i in range(numero_hijos):\n",
        "  padres = np.argsort(fitness)[::-1][:2]\n",
        "  poblacion_temporal += [poblacion[padres[0]][:cross_point]+poblacion[padres[1]][cross_point:]]\n",
        "  poblacion_temporal += [poblacion[padres[1]][:cross_point]+poblacion[padres[0]][cross_point:]]"
      ],
      "metadata": {
        "id": "pLJwiJdyVIHi"
      },
      "execution_count": null,
      "outputs": []
    },
    {
      "cell_type": "code",
      "source": [
        "poblacion_temporal"
      ],
      "metadata": {
        "colab": {
          "base_uri": "https://localhost:8080/"
        },
        "id": "AEbKaxn7YSCS",
        "outputId": "ec99ae5f-e680-419c-9948-de2c161af994"
      },
      "execution_count": null,
      "outputs": [
        {
          "output_type": "execute_result",
          "data": {
            "text/plain": [
              "[[14.0, 0.0, 3.0, 1.0, 5.0, 3.0, 6.0, 0.0, 8.0, 4.0, 3.0, 9.0, 2.0, 0.0, 2.0],\n",
              " [13.0, 7.0, 6.0, 1.0, 1.0, 7.0, 0.0, 8.0, 7.0, 2.0, 4.0, 3.0, 4.0, 7.0, 7.0],\n",
              " [14.0, 0.0, 3.0, 1.0, 5.0, 3.0, 6.0, 0.0, 8.0, 4.0, 3.0, 9.0, 2.0, 0.0, 2.0],\n",
              " [13.0, 7.0, 6.0, 1.0, 1.0, 7.0, 0.0, 8.0, 7.0, 2.0, 4.0, 3.0, 4.0, 7.0, 7.0],\n",
              " [14.0, 0.0, 3.0, 1.0, 5.0, 3.0, 6.0, 0.0, 8.0, 4.0, 3.0, 9.0, 2.0, 0.0, 2.0],\n",
              " [13.0, 7.0, 6.0, 1.0, 1.0, 7.0, 0.0, 8.0, 7.0, 2.0, 4.0, 3.0, 4.0, 7.0, 7.0],\n",
              " [14.0, 0.0, 3.0, 1.0, 5.0, 3.0, 6.0, 0.0, 8.0, 4.0, 3.0, 9.0, 2.0, 0.0, 2.0],\n",
              " [13.0, 7.0, 6.0, 1.0, 1.0, 7.0, 0.0, 8.0, 7.0, 2.0, 4.0, 3.0, 4.0, 7.0, 7.0],\n",
              " [14.0, 0.0, 3.0, 1.0, 5.0, 3.0, 6.0, 0.0, 8.0, 4.0, 3.0, 9.0, 2.0, 0.0, 2.0],\n",
              " [13.0, 7.0, 6.0, 1.0, 1.0, 7.0, 0.0, 8.0, 7.0, 2.0, 4.0, 3.0, 4.0, 7.0, 7.0]]"
            ]
          },
          "metadata": {},
          "execution_count": 95
        }
      ]
    },
    {
      "cell_type": "code",
      "source": [
        "poblacion_temporal=[]\n",
        "# Definir el punto de cruce\n",
        "cross_point = int(size_cromo/2)\n",
        "numero_hijos = 5 # en cada iteracion me genera dos hijos\n",
        "for i in range(numero_hijos):\n",
        "  # El más apto por función fitness\n",
        "  padre_1 = np.argmax(fitness)\n",
        "  # Seleccionando el alatorio por random pero con las probabilidades dadas por la función fitness\n",
        "  padre_2 = np.random.choice(size_poblacion, 1, p=fitness)\n",
        "  padres = [padre_1, padre_2[0]]\n",
        "  poblacion_temporal += [poblacion[padres[0]][:cross_point]+poblacion[padres[1]][cross_point:]]\n",
        "  poblacion_temporal += [poblacion[padres[1]][:cross_point]+poblacion[padres[0]][cross_point:]]"
      ],
      "metadata": {
        "id": "tFKrxmLVb4aM"
      },
      "execution_count": null,
      "outputs": []
    },
    {
      "cell_type": "code",
      "source": [
        "poblacion_temporal"
      ],
      "metadata": {
        "colab": {
          "base_uri": "https://localhost:8080/"
        },
        "id": "sdrVBxBjcPVl",
        "outputId": "ceca315d-3bf8-4af9-d089-8d58042c1e5a"
      },
      "execution_count": null,
      "outputs": [
        {
          "output_type": "execute_result",
          "data": {
            "text/plain": [
              "[[27.0, 0.0, 0.0, 0.0, 0.0, 0.0, 0.0, 0.0, 0.0, 0.0, 0.0, 0.0, 0.0, 0.0, 0.0],\n",
              " [27.0, 0.0, 0.0, 0.0, 0.0, 0.0, 0.0, 0.0, 0.0, 0.0, 0.0, 0.0, 0.0, 0.0, 0.0],\n",
              " [27.0, 0.0, 0.0, 0.0, 0.0, 0.0, 0.0, 0.0, 0.0, 0.0, 0.0, 0.0, 0.0, 0.0, 0.0],\n",
              " [27.0, 0.0, 0.0, 0.0, 0.0, 0.0, 0.0, 0.0, 0.0, 0.0, 0.0, 0.0, 0.0, 0.0, 0.0],\n",
              " [27.0, 0.0, 0.0, 0.0, 0.0, 0.0, 0.0, 0.0, 0.0, 0.0, 0.0, 0.0, 0.0, 0.0, 0.0],\n",
              " [27.0, 0.0, 0.0, 0.0, 0.0, 0.0, 0.0, 0.0, 0.0, 0.0, 0.0, 0.0, 0.0, 0.0, 0.0],\n",
              " [27.0, 0.0, 0.0, 0.0, 0.0, 0.0, 0.0, 0.0, 0.0, 0.0, 0.0, 0.0, 0.0, 0.0, 0.0],\n",
              " [27.0, 0.0, 0.0, 0.0, 0.0, 0.0, 0.0, 0.0, 0.0, 0.0, 0.0, 0.0, 0.0, 0.0, 0.0],\n",
              " [27.0, 0.0, 0.0, 0.0, 0.0, 0.0, 0.0, 0.0, 0.0, 0.0, 0.0, 0.0, 0.0, 0.0, 0.0],\n",
              " [27.0, 0.0, 0.0, 0.0, 0.0, 0.0, 0.0, 0.0, 0.0, 0.0, 0.0, 0.0, 0.0, 0.0, 0.0]]"
            ]
          },
          "metadata": {},
          "execution_count": 110
        }
      ]
    },
    {
      "cell_type": "markdown",
      "source": [
        "**ALGORITMO GENÉTICO - MUTACIÓN**"
      ],
      "metadata": {
        "id": "FyEtRwHTep2f"
      }
    },
    {
      "cell_type": "code",
      "source": [
        "def mutate(individuals, prob, pool):\n",
        "    for i in range(len(individuals)):\n",
        "        mutate_individual=individuals[i]\n",
        "\n",
        "        if np.random.random() < prob:\n",
        "            mutation = np.random.choice(pool[0])\n",
        "            mutate_individual = [mutation] + mutate_individual[1:]\n",
        "\n",
        "        for j in range(1,len(mutate_individual)):\n",
        "            if np.random.random() < prob:\n",
        "                mutation = np.random.choice(pool[1])\n",
        "                mutate_individual = mutate_individual[0:j] + [mutation] + mutate_individual[j+1:]\n",
        "        individuals[i] = mutate_individual"
      ],
      "metadata": {
        "id": "_POs94_qetG1"
      },
      "execution_count": null,
      "outputs": []
    },
    {
      "cell_type": "code",
      "source": [
        "mutate(poblacion_temporal, 0.05, cromosoma)\n",
        "poblacion_temporal"
      ],
      "metadata": {
        "colab": {
          "base_uri": "https://localhost:8080/"
        },
        "id": "H1J-Ddd2e5W9",
        "outputId": "d6e728ac-9283-4051-f623-c408db41d8ac"
      },
      "execution_count": null,
      "outputs": [
        {
          "output_type": "execute_result",
          "data": {
            "text/plain": [
              "[[27.0, 0.0, 0.0, 0.0, 0.0, 0.0, 0.0, 0.0, 0.0, 0.0, 0.0, 7.0, 0.0, 0.0, 0.0],\n",
              " [27.0, 0.0, 0.0, 0.0, 0.0, 0.0, 0.0, 0.0, 0.0, 0.0, 0.0, 0.0, 0.0, 0.0, 0.0],\n",
              " [27.0, 0.0, 0.0, 0.0, 0.0, 0.0, 0.0, 0.0, 0.0, 0.0, 0.0, 0.0, 5.0, 0.0, 0.0],\n",
              " [27.0, 0.0, 0.0, 0.0, 0.0, 0.0, 0.0, 0.0, 0.0, 0.0, 0.0, 0.0, 0.0, 0.0, 0.0],\n",
              " [27.0, 0.0, 0.0, 0.0, 0.0, 0.0, 0.0, 0.0, 0.0, 0.0, 0.0, 0.0, 0.0, 0.0, 0.0],\n",
              " [27.0, 0.0, 0.0, 0.0, 0.0, 0.0, 0.0, 0.0, 0.0, 0.0, 0.0, 0.0, 0.0, 0.0, 0.0],\n",
              " [27.0, 0.0, 0.0, 0.0, 0.0, 0.0, 0.0, 0.0, 4.0, 0.0, 0.0, 0.0, 0.0, 0.0, 0.0],\n",
              " [27.0, 0.0, 0.0, 0.0, 0.0, 0.0, 0.0, 0.0, 0.0, 0.0, 0.0, 0.0, 0.0, 0.0, 0.0],\n",
              " [27.0, 0.0, 0.0, 0.0, 0.0, 0.0, 0.0, 0.0, 0.0, 0.0, 0.0, 0.0, 0.0, 0.0, 0.0],\n",
              " [27.0, 0.0, 0.0, 0.0, 5.0, 0.0, 0.0, 0.0, 0.0, 0.0, 0.0, 0.0, 0.0, 7.0, 0.0]]"
            ]
          },
          "metadata": {},
          "execution_count": 112
        }
      ]
    },
    {
      "cell_type": "markdown",
      "source": [
        "**ALGORITMO GENÉTICO - REEMPLAZO**"
      ],
      "metadata": {
        "id": "Upe5Vvz-bWyZ"
      }
    },
    {
      "cell_type": "markdown",
      "source": [
        "**Metodo de Reemplazo** Generación completa"
      ],
      "metadata": {
        "id": "xKywv8tUbaz1"
      }
    },
    {
      "cell_type": "code",
      "source": [
        "poblacion = poblacion_temporal\n",
        "\n",
        "for individuo in poblacion:\n",
        "  x_d = listToDecimal(individuo)\n",
        "  y_d = fx(x_d)\n",
        "  plt.plot(x_d,y_d,'o')\n",
        "\n",
        "plt.plot(x,y,'r')\n"
      ],
      "metadata": {
        "colab": {
          "base_uri": "https://localhost:8080/",
          "height": 447
        },
        "id": "SUx3asPwbWg2",
        "outputId": "9546d8ec-6680-4ac8-8bb3-6b4ee02d6ec5"
      },
      "execution_count": null,
      "outputs": [
        {
          "output_type": "execute_result",
          "data": {
            "text/plain": [
              "[<matplotlib.lines.Line2D at 0x7b6eff3b1f90>]"
            ]
          },
          "metadata": {},
          "execution_count": 113
        },
        {
          "output_type": "display_data",
          "data": {
            "text/plain": [
              "<Figure size 640x480 with 1 Axes>"
            ],
            "image/png": "[encoded data removed]"
          },
          "metadata": {}
        }
      ]
    },
    {
      "cell_type": "code",
      "source": [
        "def mutate(individuals, prob, pool):\n",
        "\n",
        "    for i in range(len(individuals)):\n",
        "        mutate_individual=individuals[i]\n",
        "\n",
        "        if np.random.random() < prob:\n",
        "            mutation = np.random.choice(pool[0])\n",
        "            mutate_individual = [mutation] + mutate_individual[1:]\n",
        "\n",
        "        for j in range(1,len(mutate_individual)):\n",
        "            if np.random.random() < prob:\n",
        "                mutation = np.random.choice(pool[1])\n",
        "                mutate_individual = mutate_individual[0:j] + [mutation] + mutate_individual[j+1:]\n",
        "        individuals[i] = mutate_individual"
      ],
      "metadata": {
        "id": "eRcd-rNeeewL"
      },
      "execution_count": null,
      "outputs": []
    },
    {
      "cell_type": "markdown",
      "source": [
        "**ALGORITMO GENÉTICO - COMPLETO - main**"
      ],
      "metadata": {
        "id": "E6r_5A4-WpZ5"
      }
    },
    {
      "cell_type": "code",
      "source": [
        "# Función objetivo\n",
        "def fx(x):\n",
        "  return(30 + 30 * np.tanh(x**3 - 300) * np.exp(-0.01 * x**2))\n",
        "\n",
        "x = np.arange(0,32,0.01)\n",
        "y = []\n",
        "\n",
        "for i in x:\n",
        "  y.append(fx(i))"
      ],
      "metadata": {
        "id": "-gC36CxAYB9J"
      },
      "execution_count": null,
      "outputs": []
    },
    {
      "cell_type": "code",
      "source": [
        "# Población\n",
        "size_poblacion = 20 # Cuantos individuos\n",
        "poblacion = []\n",
        "\n",
        "for i in range(size_poblacion):\n",
        "  individuo = []\n",
        "  individuo += [np.random.choice(cromosoma[0])]# Antes de la coma\n",
        "  individuo += list(np.random.choice(cromosoma[1],size_cromo-1)) # después de la coma\n",
        "  poblacion.append(individuo) # Concatenando individuos ingresar un nuevo elemento al verctor población\n",
        "\n",
        "poblacion"
      ],
      "metadata": {
        "id": "F1495UPykG6H",
        "colab": {
          "base_uri": "https://localhost:8080/"
        },
        "outputId": "8d44094a-5bba-4d7d-ff30-d8945372eb03"
      },
      "execution_count": null,
      "outputs": [
        {
          "output_type": "execute_result",
          "data": {
            "text/plain": [
              "[[29.0, 0.0, 7.0, 4.0, 8.0, 0.0, 8.0, 4.0, 7.0, 4.0, 5.0, 6.0, 3.0, 3.0, 3.0],\n",
              " [14.0, 3.0, 2.0, 2.0, 9.0, 9.0, 4.0, 9.0, 4.0, 6.0, 4.0, 4.0, 3.0, 9.0, 7.0],\n",
              " [19.0, 8.0, 8.0, 2.0, 0.0, 3.0, 7.0, 4.0, 4.0, 3.0, 7.0, 5.0, 5.0, 7.0, 1.0],\n",
              " [10.0, 9.0, 0.0, 9.0, 8.0, 8.0, 7.0, 3.0, 1.0, 7.0, 5.0, 2.0, 9.0, 5.0, 7.0],\n",
              " [23.0, 3.0, 8.0, 1.0, 8.0, 7.0, 3.0, 6.0, 5.0, 7.0, 0.0, 6.0, 6.0, 7.0, 4.0],\n",
              " [26.0, 3.0, 6.0, 2.0, 4.0, 5.0, 4.0, 1.0, 0.0, 0.0, 9.0, 9.0, 5.0, 8.0, 8.0],\n",
              " [9.0, 7.0, 0.0, 2.0, 0.0, 4.0, 9.0, 3.0, 5.0, 5.0, 3.0, 8.0, 2.0, 1.0, 2.0],\n",
              " [24.0, 6.0, 9.0, 5.0, 7.0, 7.0, 3.0, 0.0, 1.0, 6.0, 3.0, 0.0, 2.0, 1.0, 3.0],\n",
              " [6.0, 2.0, 2.0, 3.0, 1.0, 6.0, 6.0, 7.0, 1.0, 7.0, 0.0, 7.0, 5.0, 3.0, 1.0],\n",
              " [16.0, 3.0, 3.0, 6.0, 6.0, 0.0, 6.0, 1.0, 4.0, 8.0, 7.0, 9.0, 7.0, 8.0, 1.0],\n",
              " [27.0, 7.0, 3.0, 0.0, 3.0, 7.0, 1.0, 2.0, 4.0, 4.0, 0.0, 3.0, 6.0, 3.0, 5.0],\n",
              " [29.0, 9.0, 0.0, 6.0, 9.0, 1.0, 1.0, 1.0, 1.0, 4.0, 2.0, 8.0, 9.0, 4.0, 0.0],\n",
              " [26.0, 3.0, 3.0, 4.0, 1.0, 7.0, 9.0, 3.0, 7.0, 3.0, 3.0, 9.0, 5.0, 4.0, 3.0],\n",
              " [25.0, 3.0, 4.0, 3.0, 2.0, 8.0, 6.0, 2.0, 0.0, 7.0, 1.0, 1.0, 9.0, 0.0, 4.0],\n",
              " [2.0, 8.0, 0.0, 0.0, 0.0, 8.0, 1.0, 1.0, 4.0, 2.0, 9.0, 1.0, 2.0, 8.0, 8.0],\n",
              " [17.0, 6.0, 7.0, 0.0, 3.0, 2.0, 3.0, 5.0, 9.0, 1.0, 9.0, 4.0, 5.0, 6.0, 7.0],\n",
              " [2.0, 1.0, 7.0, 8.0, 9.0, 0.0, 2.0, 8.0, 7.0, 8.0, 6.0, 2.0, 0.0, 8.0, 6.0],\n",
              " [8.0, 7.0, 9.0, 6.0, 9.0, 8.0, 3.0, 0.0, 5.0, 5.0, 4.0, 3.0, 3.0, 6.0, 8.0],\n",
              " [24.0, 8.0, 9.0, 7.0, 6.0, 0.0, 1.0, 3.0, 1.0, 9.0, 1.0, 3.0, 2.0, 2.0, 9.0],\n",
              " [29.0, 3.0, 5.0, 0.0, 0.0, 8.0, 6.0, 0.0, 9.0, 0.0, 8.0, 3.0, 5.0, 2.0, 7.0]]"
            ]
          },
          "metadata": {},
          "execution_count": 126
        }
      ]
    },
    {
      "cell_type": "code",
      "source": [
        "for individuo in poblacion:\n",
        "  x_d = listToDecimal(individuo)\n",
        "  y_d = fx(x_d)\n",
        "  plt.plot(x_d,y_d,'o')\n",
        "\n",
        "plt.plot(x,y,'r')"
      ],
      "metadata": {
        "colab": {
          "base_uri": "https://localhost:8080/",
          "height": 447
        },
        "id": "Q0kA59XGVdui",
        "outputId": "91efa709-4b9e-469c-cc4a-aca332490943"
      },
      "execution_count": null,
      "outputs": [
        {
          "output_type": "execute_result",
          "data": {
            "text/plain": [
              "[<matplotlib.lines.Line2D at 0x7b6efef17700>]"
            ]
          },
          "metadata": {},
          "execution_count": 127
        },
        {
          "output_type": "display_data",
          "data": {
            "text/plain": [
              "<Figure size 640x480 with 1 Axes>"
            ],
            "image/png": "[encoded data removed]"
          },
          "metadata": {}
        }
      ]
    },
    {
      "cell_type": "code",
      "source": [
        "generaciones = 1000\n",
        "\n",
        "for _ in range(generaciones):\n",
        "\n",
        "# Evaluación de aptitud\n",
        "  fitness = []\n",
        "  for individuo in poblacion:\n",
        "    x_d = listToDecimal(individuo)\n",
        "    y_d = fx(x_d)\n",
        "    fitness += [y_d]\n",
        "  fitness = np.array(fitness)\n",
        "  fitness = fitness/fitness.sum()\n",
        "\n",
        "# Selección y Cruce\n",
        "  poblacion_temporal=[]\n",
        "  # Definir el punto de cruce\n",
        "  cross_point = int(size_cromo/2)\n",
        "  numero_hijos = int(size_poblacion/2) # en cada iteracion me genera dos hijos\n",
        "  for i in range(numero_hijos):\n",
        "    padres = np.argsort(fitness)[::-1][:2]\n",
        "    poblacion_temporal += [poblacion[padres[0]][:cross_point]+poblacion[padres[1]][cross_point:]]\n",
        "    poblacion_temporal += [poblacion[padres[1]][:cross_point]+poblacion[padres[0]][cross_point:]]\n",
        "\n",
        "# Mutacion\n",
        "  mutate(poblacion_temporal, 0.01, cromosoma)\n",
        "\n",
        "# Reemplazo\n",
        "  poblacion = poblacion_temporal\n"
      ],
      "metadata": {
        "id": "PZlIr_y1hzyL"
      },
      "execution_count": null,
      "outputs": []
    },
    {
      "cell_type": "code",
      "source": [
        "poblacion"
      ],
      "metadata": {
        "colab": {
          "base_uri": "https://localhost:8080/"
        },
        "id": "mHIf8_TsV1_w",
        "outputId": "af1ecc6b-a3d7-4051-d3de-1a665e4a636e"
      },
      "execution_count": null,
      "outputs": [
        {
          "output_type": "execute_result",
          "data": {
            "text/plain": [
              "[[7.0, 0.0, 0.0, 0.0, 0.0, 0.0, 0.0, 0.0, 0.0, 0.0, 0.0, 0.0, 0.0, 0.0, 0.0],\n",
              " [7.0, 0.0, 0.0, 0.0, 0.0, 0.0, 0.0, 0.0, 0.0, 0.0, 0.0, 0.0, 0.0, 0.0, 0.0],\n",
              " [7.0, 0.0, 0.0, 0.0, 0.0, 0.0, 0.0, 0.0, 0.0, 0.0, 0.0, 0.0, 9.0, 0.0, 0.0],\n",
              " [7.0, 0.0, 0.0, 0.0, 0.0, 0.0, 0.0, 0.0, 0.0, 0.0, 0.0, 0.0, 0.0, 0.0, 0.0],\n",
              " [7.0, 0.0, 7.0, 0.0, 0.0, 0.0, 0.0, 0.0, 0.0, 0.0, 0.0, 0.0, 0.0, 0.0, 0.0],\n",
              " [7.0, 0.0, 0.0, 0.0, 0.0, 0.0, 0.0, 0.0, 0.0, 0.0, 0.0, 0.0, 0.0, 0.0, 0.0],\n",
              " [7.0, 0.0, 0.0, 0.0, 0.0, 0.0, 0.0, 0.0, 0.0, 0.0, 0.0, 0.0, 0.0, 0.0, 0.0],\n",
              " [7.0, 0.0, 0.0, 0.0, 0.0, 0.0, 0.0, 0.0, 0.0, 0.0, 0.0, 0.0, 0.0, 0.0, 0.0],\n",
              " [7.0, 0.0, 0.0, 0.0, 0.0, 0.0, 0.0, 0.0, 0.0, 0.0, 0.0, 0.0, 0.0, 0.0, 0.0],\n",
              " [7.0, 0.0, 0.0, 0.0, 0.0, 0.0, 0.0, 0.0, 0.0, 0.0, 0.0, 0.0, 0.0, 0.0, 0.0],\n",
              " [7.0, 0.0, 0.0, 0.0, 0.0, 0.0, 0.0, 0.0, 0.0, 0.0, 0.0, 0.0, 0.0, 0.0, 0.0],\n",
              " [7.0, 0.0, 0.0, 0.0, 0.0, 0.0, 0.0, 0.0, 0.0, 0.0, 0.0, 0.0, 0.0, 0.0, 0.0],\n",
              " [7.0, 0.0, 0.0, 0.0, 0.0, 0.0, 0.0, 0.0, 0.0, 0.0, 0.0, 0.0, 0.0, 0.0, 0.0],\n",
              " [28.0, 0.0, 0.0, 0.0, 0.0, 0.0, 0.0, 0.0, 0.0, 0.0, 0.0, 9.0, 0.0, 0.0, 0.0],\n",
              " [7.0, 0.0, 0.0, 0.0, 0.0, 0.0, 0.0, 0.0, 0.0, 0.0, 0.0, 0.0, 0.0, 0.0, 0.0],\n",
              " [7.0, 0.0, 0.0, 0.0, 0.0, 0.0, 0.0, 0.0, 0.0, 0.0, 0.0, 0.0, 0.0, 0.0, 0.0],\n",
              " [7.0, 0.0, 0.0, 0.0, 0.0, 0.0, 0.0, 0.0, 0.0, 0.0, 0.0, 0.0, 0.0, 0.0, 0.0],\n",
              " [7.0, 0.0, 0.0, 0.0, 2.0, 0.0, 0.0, 0.0, 0.0, 0.0, 0.0, 0.0, 0.0, 0.0, 0.0],\n",
              " [7.0, 0.0, 0.0, 0.0, 0.0, 0.0, 0.0, 0.0, 0.0, 0.0, 0.0, 0.0, 0.0, 0.0, 0.0],\n",
              " [7.0, 0.0, 0.0, 0.0, 0.0, 0.0, 0.0, 0.0, 0.0, 0.0, 0.0, 0.0, 0.0, 0.0, 0.0]]"
            ]
          },
          "metadata": {},
          "execution_count": 129
        }
      ]
    },
    {
      "cell_type": "code",
      "source": [
        "for individuo in poblacion:\n",
        "  x_d = listToDecimal(individuo)\n",
        "  y_d = fx(x_d)\n",
        "  plt.plot(x_d,y_d,'o')\n",
        "\n",
        "plt.plot(x,y,'r')"
      ],
      "metadata": {
        "colab": {
          "base_uri": "https://localhost:8080/",
          "height": 447
        },
        "id": "b1w_hl9jjxMc",
        "outputId": "6a8e6c96-3f9b-4667-ed27-0f971bf8ce86"
      },
      "execution_count": null,
      "outputs": [
        {
          "output_type": "execute_result",
          "data": {
            "text/plain": [
              "[<matplotlib.lines.Line2D at 0x7b6efefecbb0>]"
            ]
          },
          "metadata": {},
          "execution_count": 130
        },
        {
          "output_type": "display_data",
          "data": {
            "text/plain": [
              "<Figure size 640x480 with 1 Axes>"
            ],
            "image/png": "[encoded data removed]"
          },
          "metadata": {}
        }
      ]
    },
    {
      "cell_type": "code",
      "source": [],
      "metadata": {
        "id": "nDzY-4ZpV68F"
      },
      "execution_count": null,
      "outputs": []
    }
  ]
}
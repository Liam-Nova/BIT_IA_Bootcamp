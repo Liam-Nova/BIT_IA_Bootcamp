{
  "nbformat": 4,
  "nbformat_minor": 0,
  "metadata": {
    "colab": {
      "provenance": [],
      "authorship_tag": "ABX9TyNDihmffae1aTKjdGhPRpKm",
      "include_colab_link": true
    },
    "kernelspec": {
      "name": "python3",
      "display_name": "Python 3"
    },
    "language_info": {
      "name": "python"
    }
  },
  "cells": [
    {
      "cell_type": "markdown",
      "metadata": {
        "id": "view-in-github",
        "colab_type": "text"
      },
      "source": [
        "<a href=\"https://colab.research.google.com/github/Liam-Nova/BIT_IA_Bootcamp/blob/main/S10_C2_NLP_Intro.ipynb\" target=\"_parent\"><img src=\"https://colab.research.google.com/assets/colab-badge.svg\" alt=\"Open In Colab\"/></a>"
      ]
    },
    {
      "cell_type": "code",
      "source": [
        "import nltk # herramientas utilizadas para procesamiento del lenguaje natural\n",
        "nltk.download('cess_esp')\n",
        "# en español diseñado para el análisis y procesamiento del lenguaje natural"
      ],
      "metadata": {
        "colab": {
          "base_uri": "https://localhost:8080/"
        },
        "id": "yI9YhneKDV72",
        "outputId": "7bbfbdce-839e-4dc4-cd65-0af722a7ad2b"
      },
      "execution_count": null,
      "outputs": [
        {
          "output_type": "stream",
          "name": "stderr",
          "text": [
            "[nltk_data] Downloading package cess_esp to /root/nltk_data...\n",
            "[nltk_data]   Unzipping corpora/cess_esp.zip.\n"
          ]
        },
        {
          "output_type": "execute_result",
          "data": {
            "text/plain": [
              "True"
            ]
          },
          "metadata": {},
          "execution_count": 4
        }
      ]
    },
    {
      "cell_type": "code",
      "source": [
        "import re\n",
        "#herramientas para trabajar con expresiones regulares\n",
        "# (regular expressions)"
      ],
      "metadata": {
        "id": "PM1yTF5yD42u"
      },
      "execution_count": null,
      "outputs": []
    },
    {
      "cell_type": "markdown",
      "source": [
        "# Corpus"
      ],
      "metadata": {
        "id": "sUR1T6E4EJVj"
      }
    },
    {
      "cell_type": "code",
      "source": [
        "corpus = nltk.corpus.cess_esp.sents()\n",
        "len(corpus)\n",
        "# Es una tupla de noticias y me da el numero de tuplas"
      ],
      "metadata": {
        "colab": {
          "base_uri": "https://localhost:8080/"
        },
        "id": "G6fvV_3jELsD",
        "outputId": "722ac40e-6dd8-4472-f1e9-4929df15a80c"
      },
      "execution_count": null,
      "outputs": [
        {
          "output_type": "execute_result",
          "data": {
            "text/plain": [
              "6030"
            ]
          },
          "metadata": {},
          "execution_count": 7
        }
      ]
    },
    {
      "cell_type": "code",
      "source": [
        "corpus"
      ],
      "metadata": {
        "colab": {
          "base_uri": "https://localhost:8080/"
        },
        "id": "c3oIhuFoEY4E",
        "outputId": "7233cd9e-ca04-4606-a9b1-36c75c7b2b8d"
      },
      "execution_count": null,
      "outputs": [
        {
          "output_type": "execute_result",
          "data": {
            "text/plain": [
              "[['El', 'grupo', 'estatal', 'Electricité_de_France', '-Fpa-', 'EDF', '-Fpt-', 'anunció', 'hoy', ',', 'jueves', ',', 'la', 'compra', 'del', '51_por_ciento', 'de', 'la', 'empresa', 'mexicana', 'Electricidad_Águila_de_Altamira', '-Fpa-', 'EAA', '-Fpt-', ',', 'creada', 'por', 'el', 'japonés', 'Mitsubishi_Corporation', 'para', 'poner_en_marcha', 'una', 'central', 'de', 'gas', 'de', '495', 'megavatios', '.'], ['Una', 'portavoz', 'de', 'EDF', 'explicó', 'a', 'EFE', 'que', 'el', 'proyecto', 'para', 'la', 'construcción', 'de', 'Altamira_2', ',', 'al', 'norte', 'de', 'Tampico', ',', 'prevé', 'la', 'utilización', 'de', 'gas', 'natural', 'como', 'combustible', 'principal', 'en', 'una', 'central', 'de', 'ciclo', 'combinado', 'que', 'debe', 'empezar', 'a', 'funcionar', 'en', 'mayo_del_2002', '.'], ...]"
            ]
          },
          "metadata": {},
          "execution_count": 8
        }
      ]
    },
    {
      "cell_type": "code",
      "source": [
        "vector = [w for i in corpus for w in i]\n",
        "# se eliminan la tuplas para organizar todo\n",
        "# en una sola cadena de texto\n",
        "\"\"\"\n",
        "for i in range(len(corpus)):\n",
        "  for j in range(len(corpus[i])):\n",
        "    vector.append(corpus[i][j])\n",
        "\"\"\""
      ],
      "metadata": {
        "colab": {
          "base_uri": "https://localhost:8080/",
          "height": 53
        },
        "id": "thB6oVEFE_XB",
        "outputId": "c8cdbd75-2de8-4b8b-db0b-7a60a4c926be"
      },
      "execution_count": null,
      "outputs": [
        {
          "output_type": "execute_result",
          "data": {
            "text/plain": [
              "'\\nfor i in range(len(corpus)):\\n  for j in range(len(corpus[i])):\\n    vector.append(corpus[i][j])\\n'"
            ],
            "application/vnd.google.colaboratory.intrinsic+json": {
              "type": "string"
            }
          },
          "metadata": {},
          "execution_count": 19
        }
      ]
    },
    {
      "cell_type": "code",
      "source": [
        "# Nos entrega el numero de palabras de corpus\n",
        "len(vector)"
      ],
      "metadata": {
        "colab": {
          "base_uri": "https://localhost:8080/"
        },
        "id": "J3Rxq-wMI8Yl",
        "outputId": "4509a095-9382-4863-947c-57ee566575d8"
      },
      "execution_count": null,
      "outputs": [
        {
          "output_type": "execute_result",
          "data": {
            "text/plain": [
              "192686"
            ]
          },
          "metadata": {},
          "execution_count": 24
        }
      ]
    },
    {
      "cell_type": "code",
      "source": [
        "vector [35:50]\n"
      ],
      "metadata": {
        "colab": {
          "base_uri": "https://localhost:8080/"
        },
        "id": "8PLXq5J1Fjn4",
        "outputId": "6ffdf588-501f-4190-8f19-450a555db423"
      },
      "execution_count": null,
      "outputs": [
        {
          "output_type": "execute_result",
          "data": {
            "text/plain": [
              "['gas',\n",
              " 'de',\n",
              " '495',\n",
              " 'megavatios',\n",
              " '.',\n",
              " 'Una',\n",
              " 'portavoz',\n",
              " 'de',\n",
              " 'EDF',\n",
              " 'explicó',\n",
              " 'a',\n",
              " 'EFE',\n",
              " 'que',\n",
              " 'el',\n",
              " 'proyecto']"
            ]
          },
          "metadata": {},
          "execution_count": 17
        }
      ]
    },
    {
      "cell_type": "markdown",
      "source": [
        "# Anclas\n",
        "* texto al inicio\n",
        "* texto al fina"
      ],
      "metadata": {
        "id": "zMIkH0HuLoFE"
      }
    },
    {
      "cell_type": "markdown",
      "source": [
        "Q1. ¿Qué palabras tienen la consonante 'pa'?"
      ],
      "metadata": {
        "id": "GinHpX8UHCd6"
      }
    },
    {
      "cell_type": "markdown",
      "source": [
        "vactor = 2"
      ],
      "metadata": {
        "id": "J3ARzZn-Hee8"
      }
    },
    {
      "cell_type": "code",
      "source": [
        "vector_pa = [w for w in vector if re.search('pa', w)]\n",
        "vector_pa[:10]"
      ],
      "metadata": {
        "colab": {
          "base_uri": "https://localhost:8080/"
        },
        "id": "sYyZsoCwGv4z",
        "outputId": "8ff7509e-7e26-4cd1-cafe-2518953f3f18"
      },
      "execution_count": null,
      "outputs": [
        {
          "output_type": "execute_result",
          "data": {
            "text/plain": [
              "['estatal',\n",
              " 'jueves',\n",
              " 'empresa',\n",
              " 'centrales',\n",
              " 'francesa',\n",
              " 'japonesa',\n",
              " 'millones',\n",
              " 'millones',\n",
              " 'dólares',\n",
              " 'millones']"
            ]
          },
          "metadata": {},
          "execution_count": 25
        }
      ]
    },
    {
      "cell_type": "markdown",
      "source": [
        "Q2. ¿Qué palabras tienen la consonante 'es'?"
      ],
      "metadata": {
        "id": "Xo8JdTMUJXZz"
      }
    },
    {
      "cell_type": "code",
      "source": [
        "vector_pa = [w for w in vector if re.search('es', w)]\n",
        "vector_pa[:10]"
      ],
      "metadata": {
        "colab": {
          "base_uri": "https://localhost:8080/"
        },
        "id": "T0k0JrddJ1rj",
        "outputId": "e0d14d35-5a71-4aeb-f96d-90285e2cae32"
      },
      "execution_count": null,
      "outputs": [
        {
          "output_type": "execute_result",
          "data": {
            "text/plain": [
              "['estatal',\n",
              " 'jueves',\n",
              " 'empresa',\n",
              " 'centrales',\n",
              " 'francesa',\n",
              " 'japonesa',\n",
              " 'millones',\n",
              " 'millones',\n",
              " 'dólares',\n",
              " 'millones']"
            ]
          },
          "metadata": {},
          "execution_count": 27
        }
      ]
    },
    {
      "cell_type": "markdown",
      "source": [
        "Q3. ¿Qué palabras comienzan con la consonante 'es'?\n",
        "\n",
        "Q4. ¿Qué palabras finalizan con la consonante 'pa'?"
      ],
      "metadata": {
        "id": "3tkhMvL1KIfw"
      }
    },
    {
      "cell_type": "code",
      "source": [
        "vector_pa = [w for w in vector if re.search('^es', w)]\n",
        "vector_pa[:10]"
      ],
      "metadata": {
        "colab": {
          "base_uri": "https://localhost:8080/"
        },
        "id": "LwkXlFaEJ3Mw",
        "outputId": "697e43d4-b0f5-482f-cbd4-afc886410013"
      },
      "execution_count": null,
      "outputs": [
        {
          "output_type": "execute_result",
          "data": {
            "text/plain": [
              "['estatal',\n",
              " 'es',\n",
              " 'esta',\n",
              " 'esta',\n",
              " 'eso',\n",
              " 'es',\n",
              " 'especial',\n",
              " 'especialmente',\n",
              " 'este',\n",
              " 'estas']"
            ]
          },
          "metadata": {},
          "execution_count": 28
        }
      ]
    },
    {
      "cell_type": "code",
      "source": [
        "vector_pa = [w for w in vector if re.search('pa$', w)]\n",
        "vector_pa[:10]"
      ],
      "metadata": {
        "colab": {
          "base_uri": "https://localhost:8080/"
        },
        "id": "bHFUsz8pKVQ4",
        "outputId": "ecddde5f-5493-41ae-c227-bc898c62b83a"
      },
      "execution_count": null,
      "outputs": [
        {
          "output_type": "execute_result",
          "data": {
            "text/plain": [
              "['Europa',\n",
              " 'Eurocopa',\n",
              " 'Europa',\n",
              " 'Europa',\n",
              " 'Europa',\n",
              " 'Europa',\n",
              " 'ocupa',\n",
              " 'etapa',\n",
              " 'etapa',\n",
              " 'ocupa']"
            ]
          },
          "metadata": {},
          "execution_count": 29
        }
      ]
    },
    {
      "cell_type": "markdown",
      "source": [
        "Q3. ¿Qué palabras comienzan con la consonante 'Pa'?\n",
        "\n",
        "Q4. ¿Qué palabras finalizan con la consonante 'ma'?"
      ],
      "metadata": {
        "id": "loAZibIqKkIA"
      }
    },
    {
      "cell_type": "code",
      "source": [
        "vector_pa = [w for w in vector if re.search('^Pa', w)]\n",
        "vector_pa[:10]"
      ],
      "metadata": {
        "colab": {
          "base_uri": "https://localhost:8080/"
        },
        "id": "0sma-ffyKj2e",
        "outputId": "d3f55064-bf34-4f28-e322-ad2a78848a99"
      },
      "execution_count": null,
      "outputs": [
        {
          "output_type": "execute_result",
          "data": {
            "text/plain": [
              "['Parlamento',\n",
              " 'Patrick_Rafter',\n",
              " 'Partido_Popular',\n",
              " 'Parlamento',\n",
              " 'Partido_Popular',\n",
              " 'Panamá',\n",
              " 'Pablo_de_Castro',\n",
              " 'Pablo_de_Castro',\n",
              " 'Palm_Beach',\n",
              " 'Para']"
            ]
          },
          "metadata": {},
          "execution_count": 30
        }
      ]
    },
    {
      "cell_type": "code",
      "source": [
        "vector_pa = [w for w in vector if re.search('^ma', w)]\n",
        "vector_pa[:10]"
      ],
      "metadata": {
        "colab": {
          "base_uri": "https://localhost:8080/"
        },
        "id": "clcM5x93K_JI",
        "outputId": "ed53d6b6-b4a3-49c0-ff60-342839d9c2c4"
      },
      "execution_count": null,
      "outputs": [
        {
          "output_type": "execute_result",
          "data": {
            "text/plain": [
              "['mayo_del_2002',\n",
              " 'mayoritaria',\n",
              " 'malagueña',\n",
              " 'mayoritario',\n",
              " 'martes',\n",
              " 'mañana',\n",
              " 'marcas',\n",
              " 'marca',\n",
              " 'mayoría',\n",
              " 'margen']"
            ]
          },
          "metadata": {},
          "execution_count": 32
        }
      ]
    },
    {
      "cell_type": "code",
      "source": [
        "vector_pa = [w for w in vector if re.search('[PS]', w)]\n",
        "vector_pa[:10]"
      ],
      "metadata": {
        "colab": {
          "base_uri": "https://localhost:8080/"
        },
        "id": "f1h3jo5wLRGG",
        "outputId": "4588eebc-f7c6-4389-b83a-b13823667451"
      },
      "execution_count": null,
      "outputs": [
        {
          "output_type": "execute_result",
          "data": {
            "text/plain": [
              "['Saltillo',\n",
              " 'Saltillo',\n",
              " 'PP',\n",
              " 'PP',\n",
              " 'PP',\n",
              " 'PP',\n",
              " 'Senado',\n",
              " 'PSOE',\n",
              " 'Por',\n",
              " 'Senado']"
            ]
          },
          "metadata": {},
          "execution_count": 33
        }
      ]
    },
    {
      "cell_type": "markdown",
      "source": [
        "# Rango\n",
        "* Busca en unn conjunto de valores\n",
        "  *  es el rango entre los dos"
      ],
      "metadata": {
        "id": "Fzn6j374Lu22"
      }
    },
    {
      "cell_type": "code",
      "source": [
        "vector_pa = [w for w in vector if re.search('[P-S]', w)]\n",
        "vector_pa[:10]"
      ],
      "metadata": {
        "colab": {
          "base_uri": "https://localhost:8080/"
        },
        "id": "xsNfHlR9L2Kq",
        "outputId": "aac96bd0-b7d3-45a5-be9a-17589b95b2eb"
      },
      "execution_count": null,
      "outputs": [
        {
          "output_type": "execute_result",
          "data": {
            "text/plain": [
              "['Río_Bravo',\n",
              " 'Saltillo',\n",
              " 'Río_Bravo',\n",
              " 'Saltillo',\n",
              " 'PP',\n",
              " 'PP',\n",
              " 'PP',\n",
              " 'PP',\n",
              " 'Senado',\n",
              " 'Respecto_al']"
            ]
          },
          "metadata": {},
          "execution_count": 34
        }
      ]
    },
    {
      "cell_type": "code",
      "source": [
        "vector_pa = [w for w in vector if re.search('[P-Sp-s]', w)]\n",
        "vector_pa[:10]"
      ],
      "metadata": {
        "colab": {
          "base_uri": "https://localhost:8080/"
        },
        "id": "MmwekgWWMHYk",
        "outputId": "3eea15c4-f084-48a2-d0dd-c8bd635fc880"
      },
      "execution_count": null,
      "outputs": [
        {
          "output_type": "execute_result",
          "data": {
            "text/plain": [
              "['grupo',\n",
              " 'estatal',\n",
              " 'Electricité_de_France',\n",
              " '-Fpa-',\n",
              " '-Fpt-',\n",
              " 'jueves',\n",
              " 'compra',\n",
              " '51_por_ciento',\n",
              " 'empresa',\n",
              " 'Electricidad_Águila_de_Altamira']"
            ]
          },
          "metadata": {},
          "execution_count": 36
        }
      ]
    },
    {
      "cell_type": "markdown",
      "source": [
        "# Clausura\n",
        "* una cadena de caracteres se repita 0 o mas veces (*)\n",
        "* una cadena de caracteres se repita 1 o mas veces (+)"
      ],
      "metadata": {
        "id": "a5KRNtWcQjCN"
      }
    },
    {
      "cell_type": "code",
      "source": [
        "vector_pa = [w for w in vector if re.search('(ta)*', w)]\n",
        "vector_pa[:10]"
      ],
      "metadata": {
        "colab": {
          "base_uri": "https://localhost:8080/"
        },
        "id": "nVMsi90NRDJG",
        "outputId": "7837fa64-1889-4ccb-e3ac-73e1c8ba852a"
      },
      "execution_count": null,
      "outputs": [
        {
          "output_type": "execute_result",
          "data": {
            "text/plain": [
              "['El',\n",
              " 'grupo',\n",
              " 'estatal',\n",
              " 'Electricité_de_France',\n",
              " '-Fpa-',\n",
              " 'EDF',\n",
              " '-Fpt-',\n",
              " 'anunció',\n",
              " 'hoy',\n",
              " ',']"
            ]
          },
          "metadata": {},
          "execution_count": 39
        }
      ]
    },
    {
      "cell_type": "code",
      "source": [
        "vector_pa = [w for w in vector if re.search('(ta)+', w)]\n",
        "vector_pa[:10]"
      ],
      "metadata": {
        "colab": {
          "base_uri": "https://localhost:8080/"
        },
        "id": "Msd-aH6jRmKw",
        "outputId": "fe255d88-c1b0-46f2-ffd1-b8874be955d3"
      },
      "execution_count": null,
      "outputs": [
        {
          "output_type": "execute_result",
          "data": {
            "text/plain": [
              "['estatal',\n",
              " 'Electricidad_Águila_de_Altamira',\n",
              " 'portavoz',\n",
              " 'Altamira_2',\n",
              " 'venta',\n",
              " 'mayoritaria',\n",
              " 'Altamira_2',\n",
              " 'explotarla',\n",
              " 'accionista',\n",
              " 'licitación']"
            ]
          },
          "metadata": {},
          "execution_count": 40
        }
      ]
    },
    {
      "cell_type": "code",
      "source": [
        "vector_pa = [w for w in vector if re.search('^(ta)*', w)]\n",
        "# ^(ta) aunque bliga a iniciar con 'ta' con * dice 0 o mas veces\n",
        "# entonces puede ser cualquiera\n",
        "vector_pa[:10]"
      ],
      "metadata": {
        "colab": {
          "base_uri": "https://localhost:8080/"
        },
        "id": "3ofETfqzRtfG",
        "outputId": "8c746649-7922-4b15-cbaf-95ae61b679c4"
      },
      "execution_count": null,
      "outputs": [
        {
          "output_type": "execute_result",
          "data": {
            "text/plain": [
              "['El',\n",
              " 'grupo',\n",
              " 'estatal',\n",
              " 'Electricité_de_France',\n",
              " '-Fpa-',\n",
              " 'EDF',\n",
              " '-Fpt-',\n",
              " 'anunció',\n",
              " 'hoy',\n",
              " ',']"
            ]
          },
          "metadata": {},
          "execution_count": 45
        }
      ]
    },
    {
      "cell_type": "markdown",
      "source": [
        "# Tokenización"
      ],
      "metadata": {
        "id": "JU2Jps7FSOYQ"
      }
    },
    {
      "cell_type": "code",
      "source": [
        "vector_3 = ['En', 'los', 'E.U.', 'esa', 'postal', 'vale', '$15.50', '99%', '97.37%', '...']"
      ],
      "metadata": {
        "id": "O50ps-yiSKpw"
      },
      "execution_count": null,
      "outputs": []
    },
    {
      "cell_type": "code",
      "source": [
        "vector_USD = [w for w in vector_3 if re.search('^[$]', w)]\n",
        "vector_USD[:10]"
      ],
      "metadata": {
        "colab": {
          "base_uri": "https://localhost:8080/"
        },
        "id": "ooap-j6ESqMq",
        "outputId": "89c8485b-9da7-480f-fa69-31e7217f97fe"
      },
      "execution_count": null,
      "outputs": [
        {
          "output_type": "execute_result",
          "data": {
            "text/plain": [
              "['$15.50']"
            ]
          },
          "metadata": {},
          "execution_count": 51
        }
      ]
    },
    {
      "cell_type": "code",
      "source": [
        "vector_USD = [w for w in vector_3 if re.search('[%]$', w)]\n",
        "vector_USD[:10]"
      ],
      "metadata": {
        "colab": {
          "base_uri": "https://localhost:8080/"
        },
        "id": "-D0OKCFlTJpL",
        "outputId": "ad476e51-96d5-40e0-8c95-362c2f48d27d"
      },
      "execution_count": null,
      "outputs": [
        {
          "output_type": "execute_result",
          "data": {
            "text/plain": [
              "['99%', '97.37%']"
            ]
          },
          "metadata": {},
          "execution_count": 56
        }
      ]
    },
    {
      "cell_type": "markdown",
      "source": [
        "## Tokenización ejercicio 2"
      ],
      "metadata": {
        "id": "sEEoLyy2TllW"
      }
    },
    {
      "cell_type": "code",
      "source": [
        "vector_Frase = \"Carlos gasto $1200 en ropa y se le aplicó un descuento de 10%\"\n",
        "\n",
        "# D: contien el descuento\n",
        "# G: contiene el valor que pagó"
      ],
      "metadata": {
        "id": "zGqAHAQcTi6C"
      },
      "execution_count": null,
      "outputs": []
    },
    {
      "cell_type": "code",
      "source": [
        "print(re.split(r'[ \\W\\t\\n]+',vector_Frase))"
      ],
      "metadata": {
        "colab": {
          "base_uri": "https://localhost:8080/"
        },
        "id": "YemEkE1yVF7m",
        "outputId": "b96a86d4-0ccc-4025-f6cb-a86b77674903"
      },
      "execution_count": null,
      "outputs": [
        {
          "output_type": "stream",
          "name": "stdout",
          "text": [
            "['Carlos', 'gasto', '1200', 'en', 'ropa', 'y', 'se', 'le', 'aplicó', 'un', 'descuento', 'de', '10', '']\n"
          ]
        }
      ]
    },
    {
      "cell_type": "code",
      "source": [
        "frase = vector_Frase.split()\n",
        "frase"
      ],
      "metadata": {
        "colab": {
          "base_uri": "https://localhost:8080/"
        },
        "id": "afFtKA8sV_d2",
        "outputId": "94370da9-ed7d-4998-f6f7-a6b62758a3cc"
      },
      "execution_count": null,
      "outputs": [
        {
          "output_type": "execute_result",
          "data": {
            "text/plain": [
              "['Carlos',\n",
              " 'gasto',\n",
              " '$1200',\n",
              " 'en',\n",
              " 'ropa',\n",
              " 'y',\n",
              " 'se',\n",
              " 'le',\n",
              " 'aplicó',\n",
              " 'un',\n",
              " 'descuento',\n",
              " 'de',\n",
              " '10%']"
            ]
          },
          "metadata": {},
          "execution_count": 65
        }
      ]
    },
    {
      "cell_type": "code",
      "source": [
        "vector_desc = [w for w in frase if re.search('[%]$', w)]\n",
        "vector_desc[:10]"
      ],
      "metadata": {
        "colab": {
          "base_uri": "https://localhost:8080/"
        },
        "id": "MH4QQzzpT-SW",
        "outputId": "bcab7d43-44ef-4e24-f643-e9e9d1be885a"
      },
      "execution_count": null,
      "outputs": [
        {
          "output_type": "execute_result",
          "data": {
            "text/plain": [
              "['10%']"
            ]
          },
          "metadata": {},
          "execution_count": 68
        }
      ]
    },
    {
      "cell_type": "code",
      "source": [
        "vector_pag = [w for w in frase if re.search('^[$]', w)]\n",
        "vector_pag[:10]"
      ],
      "metadata": {
        "colab": {
          "base_uri": "https://localhost:8080/"
        },
        "id": "uqiqDn5eVEe3",
        "outputId": "92fd9632-adbd-4ef2-f466-8c5c9a54f0d4"
      },
      "execution_count": null,
      "outputs": [
        {
          "output_type": "execute_result",
          "data": {
            "text/plain": [
              "['$1200']"
            ]
          },
          "metadata": {},
          "execution_count": 69
        }
      ]
    },
    {
      "cell_type": "code",
      "source": [
        "Frase_2 = \"El cliente María Gómez compró un artículo por $250.00 el 12/03/2024. Contacto: maria.gomez@example.com, teléfono: +57 300-123-4567\""
      ],
      "metadata": {
        "id": "D_N4Q_0eXs_1"
      },
      "execution_count": null,
      "outputs": []
    },
    {
      "cell_type": "code",
      "source": [
        "frase2 = Frase_2.split()\n",
        "frase2"
      ],
      "metadata": {
        "colab": {
          "base_uri": "https://localhost:8080/"
        },
        "id": "2SHjq1AWX8Xn",
        "outputId": "fd0c0361-d879-45df-faef-5435a79ffaf7"
      },
      "execution_count": null,
      "outputs": [
        {
          "output_type": "execute_result",
          "data": {
            "text/plain": [
              "['El',\n",
              " 'cliente',\n",
              " 'María',\n",
              " 'Gómez',\n",
              " 'compró',\n",
              " 'un',\n",
              " 'artículo',\n",
              " 'por',\n",
              " '$250.00',\n",
              " 'el',\n",
              " '12/03/2024.',\n",
              " 'Contacto:',\n",
              " 'maria.gomez@example.com,',\n",
              " 'teléfono:',\n",
              " '+57',\n",
              " '300-123-4567']"
            ]
          },
          "metadata": {},
          "execution_count": 71
        }
      ]
    },
    {
      "cell_type": "code",
      "source": [
        "vector_fecha = [w for w in frase2 if re.search('[/]', w)]\n",
        "vector_fecha[:10]"
      ],
      "metadata": {
        "colab": {
          "base_uri": "https://localhost:8080/"
        },
        "id": "dnipeJCTYJ_d",
        "outputId": "0c97d7f9-1f71-4a14-ed75-cf1a9ee57790"
      },
      "execution_count": null,
      "outputs": [
        {
          "output_type": "execute_result",
          "data": {
            "text/plain": [
              "['12/03/2024.']"
            ]
          },
          "metadata": {},
          "execution_count": 72
        }
      ]
    },
    {
      "cell_type": "code",
      "source": [
        "vector_correo = [w for w in frase2 if re.search('[@]', w)]\n",
        "vector_correo[:10]"
      ],
      "metadata": {
        "colab": {
          "base_uri": "https://localhost:8080/"
        },
        "id": "4rKWolhYYXOF",
        "outputId": "d035b397-b573-4e40-8ee0-758a44843bbf"
      },
      "execution_count": null,
      "outputs": [
        {
          "output_type": "execute_result",
          "data": {
            "text/plain": [
              "['maria.gomez@example.com,']"
            ]
          },
          "metadata": {},
          "execution_count": 73
        }
      ]
    },
    {
      "cell_type": "code",
      "source": [
        "vector_tel = [w for w in frase2 if re.search('[-]', w)]\n",
        "vector_tel[:10]"
      ],
      "metadata": {
        "colab": {
          "base_uri": "https://localhost:8080/"
        },
        "id": "Mg2cCxQTYjCw",
        "outputId": "fd823e66-2462-49ec-f266-17a969b5c8ea"
      },
      "execution_count": null,
      "outputs": [
        {
          "output_type": "execute_result",
          "data": {
            "text/plain": [
              "['300-123-4567']"
            ]
          },
          "metadata": {},
          "execution_count": 74
        }
      ]
    },
    {
      "cell_type": "markdown",
      "source": [
        "# ejercicio plus"
      ],
      "metadata": {
        "id": "sT2kr9YLZSdK"
      }
    },
    {
      "cell_type": "code",
      "source": [
        "# Lista de textos\n",
        "textos = [\n",
        "    \"El cliente María Gómez compró un artículo por $250.00 el 12/03/2024. Contacto: maria.gomez@example.com, teléfono: +57 300-123-4567.\",\n",
        "    \"Pedro López adquirió un paquete por $1250.50 el 01/01/2023. Correo: pedro.lopez@example.org, móvil: +1 (415) 987-6543.\",\n",
        "    \"La transacción de Luisa Fernández fue de $89.99 el 22/07/2024. Email: luisa_fernandez23@gmail.com, teléfono: 320-765-4321.\",\n",
        "    \"Compra realizada por Juan Pérez por $560.75 el 05/11/2022. Email de contacto: juan.perez123@correo.com, teléfono: +34 678-543-210.\",\n",
        "    \"El cliente Ana Torres gastó $42.30 el 15/08/2024. Contacto: ana.torres@empresa.com, móvil: +57 301-456-7890.\"\n",
        "]\n",
        "\n",
        "# Generar un data frame: email, telefono, valor, fecha"
      ],
      "metadata": {
        "id": "ipnZCeHYZRME"
      },
      "execution_count": null,
      "outputs": []
    },
    {
      "cell_type": "code",
      "source": [
        "for texto in textos:\n",
        "  print(texto)"
      ],
      "metadata": {
        "colab": {
          "base_uri": "https://localhost:8080/"
        },
        "id": "pRFCmqyUayJ1",
        "outputId": "d5460de2-25b6-4c3f-8bf9-e10ad234049c"
      },
      "execution_count": null,
      "outputs": [
        {
          "output_type": "stream",
          "name": "stdout",
          "text": [
            "El cliente María Gómez compró un artículo por $250.00 el 12/03/2024. Contacto: maria.gomez@example.com, teléfono: +57 300-123-4567.\n",
            "Pedro López adquirió un paquete por $1250.50 el 01/01/2023. Correo: pedro.lopez@example.org, móvil: +1 (415) 987-6543.\n",
            "La transacción de Luisa Fernández fue de $89.99 el 22/07/2024. Email: luisa_fernandez23@gmail.com, teléfono: 320-765-4321.\n",
            "Compra realizada por Juan Pérez por $560.75 el 05/11/2022. Email de contacto: juan.perez123@correo.com, teléfono: +34 678-543-210.\n",
            "El cliente Ana Torres gastó $42.30 el 15/08/2024. Contacto: ana.torres@empresa.com, móvil: +57 301-456-7890.\n"
          ]
        }
      ]
    },
    {
      "cell_type": "code",
      "source": [
        "email_temp = []\n",
        "telefono_temp = []\n",
        "valor_temp = []\n",
        "fecha_temp = []\n",
        "for texto in textos:\n",
        "  email = re.findall(r'[\\w\\.-]+@[\\w\\.-]+', texto)\n",
        "  email_temp.append(email)\n",
        "  telefono = re.findall(r'[+]?\\d{1,3}[\\s-]?\\(?\\d{1,3}\\)?[\\s-]?\\d{3,4}[\\s-]?\\d{4}', texto)\n",
        "  telefono_temp.append(telefono)\n",
        "  valor = re.findall(r'\\$\\d+(?:\\.\\d+)?', texto)\n",
        "  valor_temp.append(valor)\n",
        "  fecha = re.findall(r'\\d{2}/\\d{2}/\\d{4}', texto)\n",
        "  fecha_temp.append(fecha)\n"
      ],
      "metadata": {
        "id": "2pBXWCpYh85x"
      },
      "execution_count": null,
      "outputs": []
    },
    {
      "cell_type": "markdown",
      "source": [
        "\\$ : simbolo $\n",
        "\n",
        "\\d+ :d digitos del 0 al 9, + puede ser que tenga uno o mas digitos\n",
        "\n",
        "(?:\\.\\d+): busca el punto decimal\n",
        "  * (?.....) punto decimal\n",
        "  * \\.\n"
      ],
      "metadata": {
        "id": "a0O5ixFMklTa"
      }
    },
    {
      "cell_type": "code",
      "source": [],
      "metadata": {
        "id": "1wLz4VxvkjuJ"
      },
      "execution_count": null,
      "outputs": []
    },
    {
      "cell_type": "code",
      "source": [
        "fecha_temp"
      ],
      "metadata": {
        "colab": {
          "base_uri": "https://localhost:8080/"
        },
        "id": "_A2xy7Fmjwfs",
        "outputId": "ffee8857-eb25-4909-f4c1-5cdea91b9585"
      },
      "execution_count": null,
      "outputs": [
        {
          "output_type": "execute_result",
          "data": {
            "text/plain": [
              "[['12/03/2024'],\n",
              " ['01/01/2023'],\n",
              " ['22/07/2024'],\n",
              " ['05/11/2022'],\n",
              " ['15/08/2024']]"
            ]
          },
          "metadata": {},
          "execution_count": 117
        }
      ]
    },
    {
      "cell_type": "code",
      "source": [
        "valor_temp"
      ],
      "metadata": {
        "colab": {
          "base_uri": "https://localhost:8080/"
        },
        "id": "jH-OiGa_jq48",
        "outputId": "b50124c5-12dc-4161-e161-ee9c6b73b5e4"
      },
      "execution_count": null,
      "outputs": [
        {
          "output_type": "execute_result",
          "data": {
            "text/plain": [
              "[['$250.00'], ['$1250.50'], ['$89.99'], ['$560.75'], ['$42.30']]"
            ]
          },
          "metadata": {},
          "execution_count": 119
        }
      ]
    },
    {
      "cell_type": "code",
      "source": [
        "telefono_temp"
      ],
      "metadata": {
        "colab": {
          "base_uri": "https://localhost:8080/"
        },
        "id": "zytiO_2gjMl-",
        "outputId": "0781ea16-51c0-4453-ef8e-829000351f65"
      },
      "execution_count": null,
      "outputs": [
        {
          "output_type": "execute_result",
          "data": {
            "text/plain": [
              "[['+57 300-123-4567'],\n",
              " ['+1 (415) 987-6543'],\n",
              " ['320-765-4321'],\n",
              " [],\n",
              " ['+57 301-456-7890']]"
            ]
          },
          "metadata": {},
          "execution_count": 113
        }
      ]
    },
    {
      "cell_type": "code",
      "source": [
        "email_temp\n"
      ],
      "metadata": {
        "colab": {
          "base_uri": "https://localhost:8080/"
        },
        "id": "snAtSw60iH5s",
        "outputId": "123c3f5f-6808-4596-bfd5-72e2dc3fcdba"
      },
      "execution_count": null,
      "outputs": [
        {
          "output_type": "execute_result",
          "data": {
            "text/plain": [
              "[['maria.gomez@example.com'],\n",
              " ['pedro.lopez@example.org'],\n",
              " ['luisa_fernandez23@gmail.com'],\n",
              " ['juan.perez123@correo.com'],\n",
              " ['ana.torres@empresa.com']]"
            ]
          },
          "metadata": {},
          "execution_count": 115
        }
      ]
    },
    {
      "cell_type": "markdown",
      "source": [
        "tokenizar"
      ],
      "metadata": {
        "id": "Yml8NYCTbmYH"
      }
    },
    {
      "cell_type": "code",
      "source": [
        "nltk.corpus.cess_esp.sents()"
      ],
      "metadata": {
        "id": "QCMtFCUjb1LE"
      },
      "execution_count": null,
      "outputs": []
    },
    {
      "cell_type": "code",
      "source": [
        "text = re.sub(' ', textos)\n",
        "text"
      ],
      "metadata": {
        "colab": {
          "base_uri": "https://localhost:8080/",
          "height": 159
        },
        "id": "_KSi4LsScPB7",
        "outputId": "76434a38-a61a-4965-a8e4-eede7c3701f0"
      },
      "execution_count": null,
      "outputs": [
        {
          "output_type": "error",
          "ename": "TypeError",
          "evalue": "sub() missing 1 required positional argument: 'string'",
          "traceback": [
            "\u001b[0;31m---------------------------------------------------------------------------\u001b[0m",
            "\u001b[0;31mTypeError\u001b[0m                                 Traceback (most recent call last)",
            "\u001b[0;32m<ipython-input-98-c0223b85d180>\u001b[0m in \u001b[0;36m<cell line: 1>\u001b[0;34m()\u001b[0m\n\u001b[0;32m----> 1\u001b[0;31m \u001b[0mtext\u001b[0m \u001b[0;34m=\u001b[0m \u001b[0mre\u001b[0m\u001b[0;34m.\u001b[0m\u001b[0msub\u001b[0m\u001b[0;34m(\u001b[0m\u001b[0;34m' '\u001b[0m\u001b[0;34m,\u001b[0m \u001b[0mtextos\u001b[0m\u001b[0;34m)\u001b[0m\u001b[0;34m\u001b[0m\u001b[0;34m\u001b[0m\u001b[0m\n\u001b[0m\u001b[1;32m      2\u001b[0m \u001b[0mtext\u001b[0m\u001b[0;34m\u001b[0m\u001b[0;34m\u001b[0m\u001b[0m\n",
            "\u001b[0;31mTypeError\u001b[0m: sub() missing 1 required positional argument: 'string'"
          ]
        }
      ]
    },
    {
      "cell_type": "code",
      "source": [
        "text = [nltk.word_tokenize(texto) for texto in textos]\n",
        "text"
      ],
      "metadata": {
        "colab": {
          "base_uri": "https://localhost:8080/",
          "height": 686
        },
        "id": "5Hb8OKr9aW_f",
        "outputId": "26cf8f4f-0b5c-486c-e703-c2e4e2fb11ab"
      },
      "execution_count": null,
      "outputs": [
        {
          "output_type": "error",
          "ename": "LookupError",
          "evalue": "\n**********************************************************************\n  Resource \u001b[93mpunkt_tab\u001b[0m not found.\n  Please use the NLTK Downloader to obtain the resource:\n\n  \u001b[31m>>> import nltk\n  >>> nltk.download('punkt_tab')\n  \u001b[0m\n  For more information see: https://www.nltk.org/data.html\n\n  Attempted to load \u001b[93mtokenizers/punkt_tab/english/\u001b[0m\n\n  Searched in:\n    - '/root/nltk_data'\n    - '/usr/nltk_data'\n    - '/usr/share/nltk_data'\n    - '/usr/lib/nltk_data'\n    - '/usr/share/nltk_data'\n    - '/usr/local/share/nltk_data'\n    - '/usr/lib/nltk_data'\n    - '/usr/local/lib/nltk_data'\n**********************************************************************\n",
          "traceback": [
            "\u001b[0;31m---------------------------------------------------------------------------\u001b[0m",
            "\u001b[0;31mLookupError\u001b[0m                               Traceback (most recent call last)",
            "\u001b[0;32m<ipython-input-92-0e24815bb875>\u001b[0m in \u001b[0;36m<cell line: 1>\u001b[0;34m()\u001b[0m\n\u001b[0;32m----> 1\u001b[0;31m \u001b[0mtext\u001b[0m \u001b[0;34m=\u001b[0m \u001b[0;34m[\u001b[0m\u001b[0mnltk\u001b[0m\u001b[0;34m.\u001b[0m\u001b[0mword_tokenize\u001b[0m\u001b[0;34m(\u001b[0m\u001b[0mtexto\u001b[0m\u001b[0;34m)\u001b[0m \u001b[0;32mfor\u001b[0m \u001b[0mtexto\u001b[0m \u001b[0;32min\u001b[0m \u001b[0mtextos\u001b[0m\u001b[0;34m]\u001b[0m\u001b[0;34m\u001b[0m\u001b[0;34m\u001b[0m\u001b[0m\n\u001b[0m\u001b[1;32m      2\u001b[0m \u001b[0mtext\u001b[0m\u001b[0;34m\u001b[0m\u001b[0;34m\u001b[0m\u001b[0m\n",
            "\u001b[0;32m<ipython-input-92-0e24815bb875>\u001b[0m in \u001b[0;36m<listcomp>\u001b[0;34m(.0)\u001b[0m\n\u001b[0;32m----> 1\u001b[0;31m \u001b[0mtext\u001b[0m \u001b[0;34m=\u001b[0m \u001b[0;34m[\u001b[0m\u001b[0mnltk\u001b[0m\u001b[0;34m.\u001b[0m\u001b[0mword_tokenize\u001b[0m\u001b[0;34m(\u001b[0m\u001b[0mtexto\u001b[0m\u001b[0;34m)\u001b[0m \u001b[0;32mfor\u001b[0m \u001b[0mtexto\u001b[0m \u001b[0;32min\u001b[0m \u001b[0mtextos\u001b[0m\u001b[0;34m]\u001b[0m\u001b[0;34m\u001b[0m\u001b[0;34m\u001b[0m\u001b[0m\n\u001b[0m\u001b[1;32m      2\u001b[0m \u001b[0mtext\u001b[0m\u001b[0;34m\u001b[0m\u001b[0;34m\u001b[0m\u001b[0m\n",
            "\u001b[0;32m/usr/local/lib/python3.10/dist-packages/nltk/tokenize/__init__.py\u001b[0m in \u001b[0;36mword_tokenize\u001b[0;34m(text, language, preserve_line)\u001b[0m\n\u001b[1;32m    140\u001b[0m     \u001b[0;34m:\u001b[0m\u001b[0mtype\u001b[0m \u001b[0mpreserve_line\u001b[0m\u001b[0;34m:\u001b[0m \u001b[0mbool\u001b[0m\u001b[0;34m\u001b[0m\u001b[0;34m\u001b[0m\u001b[0m\n\u001b[1;32m    141\u001b[0m     \"\"\"\n\u001b[0;32m--> 142\u001b[0;31m     \u001b[0msentences\u001b[0m \u001b[0;34m=\u001b[0m \u001b[0;34m[\u001b[0m\u001b[0mtext\u001b[0m\u001b[0;34m]\u001b[0m \u001b[0;32mif\u001b[0m \u001b[0mpreserve_line\u001b[0m \u001b[0;32melse\u001b[0m \u001b[0msent_tokenize\u001b[0m\u001b[0;34m(\u001b[0m\u001b[0mtext\u001b[0m\u001b[0;34m,\u001b[0m \u001b[0mlanguage\u001b[0m\u001b[0;34m)\u001b[0m\u001b[0;34m\u001b[0m\u001b[0;34m\u001b[0m\u001b[0m\n\u001b[0m\u001b[1;32m    143\u001b[0m     return [\n\u001b[1;32m    144\u001b[0m         \u001b[0mtoken\u001b[0m \u001b[0;32mfor\u001b[0m \u001b[0msent\u001b[0m \u001b[0;32min\u001b[0m \u001b[0msentences\u001b[0m \u001b[0;32mfor\u001b[0m \u001b[0mtoken\u001b[0m \u001b[0;32min\u001b[0m \u001b[0m_treebank_word_tokenizer\u001b[0m\u001b[0;34m.\u001b[0m\u001b[0mtokenize\u001b[0m\u001b[0;34m(\u001b[0m\u001b[0msent\u001b[0m\u001b[0;34m)\u001b[0m\u001b[0;34m\u001b[0m\u001b[0;34m\u001b[0m\u001b[0m\n",
            "\u001b[0;32m/usr/local/lib/python3.10/dist-packages/nltk/tokenize/__init__.py\u001b[0m in \u001b[0;36msent_tokenize\u001b[0;34m(text, language)\u001b[0m\n\u001b[1;32m    117\u001b[0m     \u001b[0;34m:\u001b[0m\u001b[0mparam\u001b[0m \u001b[0mlanguage\u001b[0m\u001b[0;34m:\u001b[0m \u001b[0mthe\u001b[0m \u001b[0mmodel\u001b[0m \u001b[0mname\u001b[0m \u001b[0;32min\u001b[0m \u001b[0mthe\u001b[0m \u001b[0mPunkt\u001b[0m \u001b[0mcorpus\u001b[0m\u001b[0;34m\u001b[0m\u001b[0;34m\u001b[0m\u001b[0m\n\u001b[1;32m    118\u001b[0m     \"\"\"\n\u001b[0;32m--> 119\u001b[0;31m     \u001b[0mtokenizer\u001b[0m \u001b[0;34m=\u001b[0m \u001b[0m_get_punkt_tokenizer\u001b[0m\u001b[0;34m(\u001b[0m\u001b[0mlanguage\u001b[0m\u001b[0;34m)\u001b[0m\u001b[0;34m\u001b[0m\u001b[0;34m\u001b[0m\u001b[0m\n\u001b[0m\u001b[1;32m    120\u001b[0m     \u001b[0;32mreturn\u001b[0m \u001b[0mtokenizer\u001b[0m\u001b[0;34m.\u001b[0m\u001b[0mtokenize\u001b[0m\u001b[0;34m(\u001b[0m\u001b[0mtext\u001b[0m\u001b[0;34m)\u001b[0m\u001b[0;34m\u001b[0m\u001b[0;34m\u001b[0m\u001b[0m\n\u001b[1;32m    121\u001b[0m \u001b[0;34m\u001b[0m\u001b[0m\n",
            "\u001b[0;32m/usr/local/lib/python3.10/dist-packages/nltk/tokenize/__init__.py\u001b[0m in \u001b[0;36m_get_punkt_tokenizer\u001b[0;34m(language)\u001b[0m\n\u001b[1;32m    103\u001b[0m     \u001b[0;34m:\u001b[0m\u001b[0mtype\u001b[0m \u001b[0mlanguage\u001b[0m\u001b[0;34m:\u001b[0m \u001b[0mstr\u001b[0m\u001b[0;34m\u001b[0m\u001b[0;34m\u001b[0m\u001b[0m\n\u001b[1;32m    104\u001b[0m     \"\"\"\n\u001b[0;32m--> 105\u001b[0;31m     \u001b[0;32mreturn\u001b[0m \u001b[0mPunktTokenizer\u001b[0m\u001b[0;34m(\u001b[0m\u001b[0mlanguage\u001b[0m\u001b[0;34m)\u001b[0m\u001b[0;34m\u001b[0m\u001b[0;34m\u001b[0m\u001b[0m\n\u001b[0m\u001b[1;32m    106\u001b[0m \u001b[0;34m\u001b[0m\u001b[0m\n\u001b[1;32m    107\u001b[0m \u001b[0;34m\u001b[0m\u001b[0m\n",
            "\u001b[0;32m/usr/local/lib/python3.10/dist-packages/nltk/tokenize/punkt.py\u001b[0m in \u001b[0;36m__init__\u001b[0;34m(self, lang)\u001b[0m\n\u001b[1;32m   1742\u001b[0m     \u001b[0;32mdef\u001b[0m \u001b[0m__init__\u001b[0m\u001b[0;34m(\u001b[0m\u001b[0mself\u001b[0m\u001b[0;34m,\u001b[0m \u001b[0mlang\u001b[0m\u001b[0;34m=\u001b[0m\u001b[0;34m\"english\"\u001b[0m\u001b[0;34m)\u001b[0m\u001b[0;34m:\u001b[0m\u001b[0;34m\u001b[0m\u001b[0;34m\u001b[0m\u001b[0m\n\u001b[1;32m   1743\u001b[0m         \u001b[0mPunktSentenceTokenizer\u001b[0m\u001b[0;34m.\u001b[0m\u001b[0m__init__\u001b[0m\u001b[0;34m(\u001b[0m\u001b[0mself\u001b[0m\u001b[0;34m)\u001b[0m\u001b[0;34m\u001b[0m\u001b[0;34m\u001b[0m\u001b[0m\n\u001b[0;32m-> 1744\u001b[0;31m         \u001b[0mself\u001b[0m\u001b[0;34m.\u001b[0m\u001b[0mload_lang\u001b[0m\u001b[0;34m(\u001b[0m\u001b[0mlang\u001b[0m\u001b[0;34m)\u001b[0m\u001b[0;34m\u001b[0m\u001b[0;34m\u001b[0m\u001b[0m\n\u001b[0m\u001b[1;32m   1745\u001b[0m \u001b[0;34m\u001b[0m\u001b[0m\n\u001b[1;32m   1746\u001b[0m     \u001b[0;32mdef\u001b[0m \u001b[0mload_lang\u001b[0m\u001b[0;34m(\u001b[0m\u001b[0mself\u001b[0m\u001b[0;34m,\u001b[0m \u001b[0mlang\u001b[0m\u001b[0;34m=\u001b[0m\u001b[0;34m\"english\"\u001b[0m\u001b[0;34m)\u001b[0m\u001b[0;34m:\u001b[0m\u001b[0;34m\u001b[0m\u001b[0;34m\u001b[0m\u001b[0m\n",
            "\u001b[0;32m/usr/local/lib/python3.10/dist-packages/nltk/tokenize/punkt.py\u001b[0m in \u001b[0;36mload_lang\u001b[0;34m(self, lang)\u001b[0m\n\u001b[1;32m   1747\u001b[0m         \u001b[0;32mfrom\u001b[0m \u001b[0mnltk\u001b[0m\u001b[0;34m.\u001b[0m\u001b[0mdata\u001b[0m \u001b[0;32mimport\u001b[0m \u001b[0mfind\u001b[0m\u001b[0;34m\u001b[0m\u001b[0;34m\u001b[0m\u001b[0m\n\u001b[1;32m   1748\u001b[0m \u001b[0;34m\u001b[0m\u001b[0m\n\u001b[0;32m-> 1749\u001b[0;31m         \u001b[0mlang_dir\u001b[0m \u001b[0;34m=\u001b[0m \u001b[0mfind\u001b[0m\u001b[0;34m(\u001b[0m\u001b[0;34mf\"tokenizers/punkt_tab/{lang}/\"\u001b[0m\u001b[0;34m)\u001b[0m\u001b[0;34m\u001b[0m\u001b[0;34m\u001b[0m\u001b[0m\n\u001b[0m\u001b[1;32m   1750\u001b[0m         \u001b[0mself\u001b[0m\u001b[0;34m.\u001b[0m\u001b[0m_params\u001b[0m \u001b[0;34m=\u001b[0m \u001b[0mload_punkt_params\u001b[0m\u001b[0;34m(\u001b[0m\u001b[0mlang_dir\u001b[0m\u001b[0;34m)\u001b[0m\u001b[0;34m\u001b[0m\u001b[0;34m\u001b[0m\u001b[0m\n\u001b[1;32m   1751\u001b[0m         \u001b[0mself\u001b[0m\u001b[0;34m.\u001b[0m\u001b[0m_lang\u001b[0m \u001b[0;34m=\u001b[0m \u001b[0mlang\u001b[0m\u001b[0;34m\u001b[0m\u001b[0;34m\u001b[0m\u001b[0m\n",
            "\u001b[0;32m/usr/local/lib/python3.10/dist-packages/nltk/data.py\u001b[0m in \u001b[0;36mfind\u001b[0;34m(resource_name, paths)\u001b[0m\n\u001b[1;32m    577\u001b[0m     \u001b[0msep\u001b[0m \u001b[0;34m=\u001b[0m \u001b[0;34m\"*\"\u001b[0m \u001b[0;34m*\u001b[0m \u001b[0;36m70\u001b[0m\u001b[0;34m\u001b[0m\u001b[0;34m\u001b[0m\u001b[0m\n\u001b[1;32m    578\u001b[0m     \u001b[0mresource_not_found\u001b[0m \u001b[0;34m=\u001b[0m \u001b[0;34mf\"\\n{sep}\\n{msg}\\n{sep}\\n\"\u001b[0m\u001b[0;34m\u001b[0m\u001b[0;34m\u001b[0m\u001b[0m\n\u001b[0;32m--> 579\u001b[0;31m     \u001b[0;32mraise\u001b[0m \u001b[0mLookupError\u001b[0m\u001b[0;34m(\u001b[0m\u001b[0mresource_not_found\u001b[0m\u001b[0;34m)\u001b[0m\u001b[0;34m\u001b[0m\u001b[0;34m\u001b[0m\u001b[0m\n\u001b[0m\u001b[1;32m    580\u001b[0m \u001b[0;34m\u001b[0m\u001b[0m\n\u001b[1;32m    581\u001b[0m \u001b[0;34m\u001b[0m\u001b[0m\n",
            "\u001b[0;31mLookupError\u001b[0m: \n**********************************************************************\n  Resource \u001b[93mpunkt_tab\u001b[0m not found.\n  Please use the NLTK Downloader to obtain the resource:\n\n  \u001b[31m>>> import nltk\n  >>> nltk.download('punkt_tab')\n  \u001b[0m\n  For more information see: https://www.nltk.org/data.html\n\n  Attempted to load \u001b[93mtokenizers/punkt_tab/english/\u001b[0m\n\n  Searched in:\n    - '/root/nltk_data'\n    - '/usr/nltk_data'\n    - '/usr/share/nltk_data'\n    - '/usr/lib/nltk_data'\n    - '/usr/share/nltk_data'\n    - '/usr/local/share/nltk_data'\n    - '/usr/lib/nltk_data'\n    - '/usr/local/lib/nltk_data'\n**********************************************************************\n"
          ]
        }
      ]
    },
    {
      "cell_type": "code",
      "source": [
        "correo = [w for w in textos if re.search('[@]', w)]\n",
        "correo[:10]"
      ],
      "metadata": {
        "colab": {
          "base_uri": "https://localhost:8080/"
        },
        "id": "jpSgi_AdaSf3",
        "outputId": "b8dbfc8c-b9e0-4e96-f6a9-ee04576dcf75"
      },
      "execution_count": null,
      "outputs": [
        {
          "output_type": "execute_result",
          "data": {
            "text/plain": [
              "['El cliente María Gómez compró un artículo por $250.00 el 12/03/2024. Contacto: maria.gomez@example.com, teléfono: +57 300-123-4567.',\n",
              " 'Pedro López adquirió un paquete por $1250.50 el 01/01/2023. Correo: pedro.lopez@example.org, móvil: +1 (415) 987-6543.',\n",
              " 'La transacción de Luisa Fernández fue de $89.99 el 22/07/2024. Email: luisa_fernandez23@gmail.com, teléfono: 320-765-4321.',\n",
              " 'Compra realizada por Juan Pérez por $560.75 el 05/11/2022. Email de contacto: juan.perez123@correo.com, teléfono: +34 678-543-210.',\n",
              " 'El cliente Ana Torres gastó $42.30 el 15/08/2024. Contacto: ana.torres@empresa.com, móvil: +57 301-456-7890.']"
            ]
          },
          "metadata": {},
          "execution_count": 99
        }
      ]
    }
  ]
}
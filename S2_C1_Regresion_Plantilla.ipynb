{
  "nbformat": 4,
  "nbformat_minor": 0,
  "metadata": {
    "colab": {
      "provenance": [],
      "include_colab_link": true
    },
    "kernelspec": {
      "name": "python3",
      "display_name": "Python 3"
    },
    "language_info": {
      "name": "python"
    }
  },
  "cells": [
    {
      "cell_type": "markdown",
      "metadata": {
        "id": "view-in-github",
        "colab_type": "text"
      },
      "source": [
        "<a href=\"https://colab.research.google.com/github/Liam-Nova/BIT_IA_Bootcamp/blob/main/S2_C1_Regresion_Plantilla.ipynb\" target=\"_parent\"><img src=\"https://colab.research.google.com/assets/colab-badge.svg\" alt=\"Open In Colab\"/></a>"
      ]
    },
    {
      "cell_type": "markdown",
      "source": [
        "**Modelos de Regresión Lineal**\n",
        "\n",
        "\n",
        "\n",
        "1. Cree una carpeta en drive  'Models'\n",
        "2. Guarde los archivos .plk\n",
        "3. Actualice las ruta de la carpeta\n",
        "\n",
        "\n"
      ],
      "metadata": {
        "id": "TXyBVqcvO4q6"
      }
    },
    {
      "cell_type": "code",
      "source": [
        "from google.colab import drive\n",
        "drive.mount('/content/drive')\n",
        "import os\n"
      ],
      "metadata": {
        "colab": {
          "base_uri": "https://localhost:8080/"
        },
        "id": "qcde1eTGmRE2",
        "outputId": "400da78d-0896-4b58-d4b3-cac2d9bef2fd"
      },
      "execution_count": 8,
      "outputs": [
        {
          "output_type": "stream",
          "name": "stdout",
          "text": [
            "Drive already mounted at /content/drive; to attempt to forcibly remount, call drive.mount(\"/content/drive\", force_remount=True).\n"
          ]
        }
      ]
    },
    {
      "cell_type": "code",
      "source": [
        "# Se envia el documento consolidado a la carpeta SAC_NOTAS_CONSOLIDADO\n",
        "os.chdir('/content/drive/MyDrive/Colab Notebooks/BIT_Bootcam_IA/Models')\n",
        "os.listdir()"
      ],
      "metadata": {
        "colab": {
          "base_uri": "https://localhost:8080/"
        },
        "id": "YwxIfpb5ooV6",
        "outputId": "57dc953a-af3d-4ef6-85ba-126816e28554"
      },
      "execution_count": 7,
      "outputs": [
        {
          "output_type": "execute_result",
          "data": {
            "text/plain": [
              "['linear_regression_model.pkl', 'poly_regression_model.pkl']"
            ]
          },
          "metadata": {},
          "execution_count": 7
        }
      ]
    },
    {
      "cell_type": "markdown",
      "source": [
        "\n",
        "\n",
        "# Actividad 1.\n",
        "\n",
        "1. Ingrese un valor  y realice una prediccion con el modelo lineal\n",
        "\n"
      ],
      "metadata": {
        "id": "DX9jzaoLQJm5"
      }
    },
    {
      "cell_type": "code",
      "execution_count": 10,
      "metadata": {
        "id": "kA55dPTpAyMC"
      },
      "outputs": [],
      "source": [
        "import joblib\n",
        "# Cargar el modelo desde el archivo\n",
        "loaded_model = joblib.load('linear_regression_model.pkl') # este modelo ya a sido entrenado\n",
        "          # joblib es la libreria\n",
        "          # load : cargar: carga los datos a esa variable"
      ]
    },
    {
      "cell_type": "code",
      "source": [
        "\n",
        "# Hacer predicciones con el modelo cargado\n",
        "print(\"Predicción del Ingreso Anual a partir de las Compras en productos de Carne \")\n",
        "\n",
        "opcion = int(input(\"Ingrese el valor de compras en carne \"))\n",
        "predicted_class = loaded_model.predict([[opcion]])\n",
        "                  # loaded_model : variable que contiene el modelo ya preentrenado de 'linear_regression_model.pkl'\n",
        "                  # .predict : metodo para predecir datos a partir de un modelo\n",
        "print(f\"EL ingreso anual de esta persona  es de : {predicted_class}\")"
      ],
      "metadata": {
        "id": "R1c9t7TYm69e",
        "colab": {
          "base_uri": "https://localhost:8080/"
        },
        "outputId": "ca0a362a-d735-4fc2-e667-672f250ababc"
      },
      "execution_count": 12,
      "outputs": [
        {
          "output_type": "stream",
          "name": "stdout",
          "text": [
            "Predicción del Ingreso Anual a partir de las Compras en productos de Carne \n",
            "Ingrese el valor de compras en carne 30\n",
            "EL ingreso anual de esta persona  es de : [40340.70967447]\n"
          ]
        },
        {
          "output_type": "stream",
          "name": "stderr",
          "text": [
            "/usr/local/lib/python3.10/dist-packages/sklearn/base.py:493: UserWarning: X does not have valid feature names, but LinearRegression was fitted with feature names\n",
            "  warnings.warn(\n"
          ]
        }
      ]
    },
    {
      "cell_type": "code",
      "source": [
        "# Observación: este modelo es una relación proporcional de mayor consumo de carne, más ingreso anual."
      ],
      "metadata": {
        "id": "E6kcdv6OxMle"
      },
      "execution_count": null,
      "outputs": []
    },
    {
      "cell_type": "markdown",
      "source": [],
      "metadata": {
        "id": "pf2_9FFhwm8M"
      }
    },
    {
      "cell_type": "markdown",
      "source": [
        "# Actividad 2.\n",
        "\n",
        "1. Cargue el modelo de regresión polinómica\n",
        "2. Ingrese un valor  y realice una prediccion con el modelo polinómico"
      ],
      "metadata": {
        "id": "YE9ot9lsQ6qK"
      }
    },
    {
      "cell_type": "code",
      "source": [
        "\n",
        "# este no se carga mas porque se carga solo una vezimport joblib\n",
        "# Cargar el modelo desde el archivo\n",
        "loaded_model_Poli = joblib.load('poly_regression_model.pkl')\n",
        "# hay que cambiar el nombre para que no haya conflicto de valores"
      ],
      "metadata": {
        "id": "gYknB9DLQZzL"
      },
      "execution_count": 14,
      "outputs": []
    },
    {
      "cell_type": "code",
      "source": [
        "# Hacer predicciones con el modelo cargado\n",
        "print(\"Predicción del Ingreso Anual a partir de las Compras en productos de Carne \")\n",
        "opcion = int(input(\"Ingrese el valor de compras en carne \"))\n",
        "\n",
        "def arreglo (opcion):\n",
        "    return [1, opcion, opcion**2]\n",
        "#se evalua en la funcion anterior\n",
        "print(arreglo(opcion))"
      ],
      "metadata": {
        "colab": {
          "base_uri": "https://localhost:8080/"
        },
        "id": "wVikCiy2xoNF",
        "outputId": "3558a989-d1b9-4d94-cf7a-eac1d93c7d85"
      },
      "execution_count": 20,
      "outputs": [
        {
          "output_type": "stream",
          "name": "stdout",
          "text": [
            "Predicción del Ingreso Anual a partir de las Compras en productos de Carne \n",
            "Ingrese el valor de compras en carne 500\n",
            "[1, 500, 250000]\n"
          ]
        }
      ]
    },
    {
      "cell_type": "code",
      "source": [
        "x_test= arreglo(opcion) # arreglo(opcion) se usa para probar(testear) el modelo\n",
        "predicted_Class = loaded_model_Poli.predict([x_test])\n",
        "\n",
        "predicted_Class"
      ],
      "metadata": {
        "colab": {
          "base_uri": "https://localhost:8080/"
        },
        "id": "h0-ltSbr92bJ",
        "outputId": "fb68d6a0-a769-4f02-a082-45eac2a5c986"
      },
      "execution_count": 17,
      "outputs": [
        {
          "output_type": "execute_result",
          "data": {
            "text/plain": [
              "array([73229.37699056])"
            ]
          },
          "metadata": {},
          "execution_count": 17
        }
      ]
    },
    {
      "cell_type": "markdown",
      "source": [
        "# Actividad 3.\n",
        "\n",
        "1. Modique que codigo para que con el mismo datos prediga con los dos modelos\n",
        "2. Realice un ciclo FOR que 5 valores ingresados por teclado\n",
        "3. Grafiquelo scatter('Los imputs: Mntmeat"
      ],
      "metadata": {
        "id": "rOuAAPVIQ8s2"
      }
    },
    {
      "cell_type": "code",
      "source": [
        "631\n",
        "# Modelos\n",
        "loaded_model_Poli = joblib.load('poly_regression_model.pkl')\n",
        "loaded_model = joblib.load('linear_regression_model.pkl')\n",
        "\n",
        "print(\"Predicción Lineal y Polinomica Anual en Compras de Carne \")\n",
        "for i in range(3):\n",
        "    opcion = int(input(f\"Valores de compras en carne {i + 1}: \")) # f\" : f-string\n",
        "        # f-string (cadena formateada) en Python\n",
        "          # permite en un str usar {calculos} para unirlos con el str"
      ],
      "metadata": {
        "colab": {
          "base_uri": "https://localhost:8080/"
        },
        "id": "d7IBEjs4CaaD",
        "outputId": "ccbf9a45-f9ea-4c2e-fbfe-a41d11fae373"
      },
      "execution_count": 36,
      "outputs": [
        {
          "name": "stdout",
          "output_type": "stream",
          "text": [
            "Predicción Lineal y Polinomica Anual en Compras de Carne \n",
            "Valores de compras en carne 1: 33\n",
            "Valores de compras en carne 2: 3\n",
            "Valores de compras en carne 3: 3\n"
          ]
        }
      ]
    },
    {
      "cell_type": "markdown",
      "source": [
        " {i + 1} en cada iteracion i aumenta +1\n",
        "\n",
        ""
      ],
      "metadata": {
        "id": "OSHJEWN2LJj-"
      }
    },
    {
      "cell_type": "code",
      "source": [
        "# Predicción Lineal\n",
        "Predicción_Lineal = loaded_model.predict([[opcion]])\n",
        "\n",
        "#Predicción Polinómico\n",
        "def arreglo (opcion):\n",
        "     return [1, opcion, opcion**2]\n",
        "    #se evalua en la funcion anterior\n",
        "x_test= arreglo(opcion)\n",
        "Predicción_Polinómico = loaded_model_Poli.predict([x_test])\n"
      ],
      "metadata": {
        "colab": {
          "base_uri": "https://localhost:8080/"
        },
        "id": "zvo5dMkIL0mU",
        "outputId": "89429e24-d2ae-4974-c0b5-4032658bf9d1"
      },
      "execution_count": 37,
      "outputs": [
        {
          "output_type": "stream",
          "name": "stderr",
          "text": [
            "/usr/local/lib/python3.10/dist-packages/sklearn/base.py:493: UserWarning: X does not have valid feature names, but LinearRegression was fitted with feature names\n",
            "  warnings.warn(\n"
          ]
        }
      ]
    },
    {
      "cell_type": "code",
      "source": [
        "print(f\"{i + 1}: Cantidad ingresada lineal anual: {Predicción_Lineal} y polinómico anual: {Predicción_Polinómico}\")"
      ],
      "metadata": {
        "colab": {
          "base_uri": "https://localhost:8080/"
        },
        "outputId": "3b65bcbd-4784-4abc-e067-171a004a1b92",
        "id": "4QlfpH4iMWJ-"
      },
      "execution_count": 38,
      "outputs": [
        {
          "output_type": "stream",
          "name": "stdout",
          "text": [
            "3: Cantidad ingresada lineal anual: [37612.91892414] y polinómico anual: [32897.21231275]\n"
          ]
        }
      ]
    },
    {
      "cell_type": "code",
      "source": [
        "# Predicción Lineal\n",
        "Predicción_Lineal = loaded_model.predict([[opcion]])\n",
        "\n",
        "#Predicción Polinómico\n",
        "def arreglo (opcion):\n",
        "     return [1, opcion, opcion**2]\n",
        "    #se evalua en la funcion anterior\n",
        "x_test= arreglo(opcion)\n",
        "Predicción_Polinómico = loaded_model_Poli.predict([x_test])\n",
        "\n",
        "print(f\"Ingreso {i + 1} lineal anual: {Predicción_Lineal} y polinómico anual: {Predicción_Polinómico} \")"
      ],
      "metadata": {
        "colab": {
          "base_uri": "https://localhost:8080/"
        },
        "outputId": "243fd38c-c967-4fd8-cefe-13f80a30400b",
        "id": "ghoGydKqMT4_"
      },
      "execution_count": 39,
      "outputs": [
        {
          "output_type": "stream",
          "name": "stdout",
          "text": [
            "Ingreso 3 lineal anual: [37612.91892414] y polinómico anual: [32897.21231275] \n"
          ]
        },
        {
          "output_type": "stream",
          "name": "stderr",
          "text": [
            "/usr/local/lib/python3.10/dist-packages/sklearn/base.py:493: UserWarning: X does not have valid feature names, but LinearRegression was fitted with feature names\n",
            "  warnings.warn(\n"
          ]
        }
      ]
    },
    {
      "cell_type": "code",
      "source": [
        "import joblib\n",
        "\n",
        "# Cargar los modelos\n",
        "loaded_model_Poli = joblib.load('poly_regression_model.pkl')\n",
        "loaded_model = joblib.load('linear_regression_model.pkl')\n",
        "\n",
        "print(\"Predicción Lineal y Polinómica Anual en Compras de Carne\")\n",
        "\n",
        "# Ciclo para ingresar 5 valores y hacer las predicciones\n",
        "for i in range(5):\n",
        "    opcion = int(input(f\"Valor ingresado de compras en carne para el cliente {i + 1}: \"))\n",
        "\n",
        "    # Predicción Lineal\n",
        "    Predicción_Lineal = loaded_model.predict([[opcion]])\n",
        "\n",
        "    # Predicción Polinómica\n",
        "    def arreglo(opcion):\n",
        "        return [1, opcion, opcion**2]  # Arreglo para el modelo polinómico\n",
        "\n",
        "    x_test = arreglo(opcion)\n",
        "    Predicción_Polinómico = loaded_model_Poli.predict([x_test])\n",
        "\n",
        "    # Mostrar las predicciones para el valor ingresado\n",
        "    print(f\"Cliente {i + 1} - Ingreso lineal anual: {Predicción_Lineal[0]} y polinómico anual: {Predicción_Polinómico[0]}\")"
      ],
      "metadata": {
        "id": "IuPvHbKKMCdk",
        "colab": {
          "base_uri": "https://localhost:8080/"
        },
        "outputId": "9af2c639-e0b6-4621-fcd5-3c5bb977b844"
      },
      "execution_count": 44,
      "outputs": [
        {
          "name": "stdout",
          "output_type": "stream",
          "text": [
            "Predicción Lineal y Polinómica Anual en Compras de Carne\n",
            "Valor ingresado de compras en carne para el cliente 1: 3\n"
          ]
        },
        {
          "output_type": "stream",
          "name": "stderr",
          "text": [
            "/usr/local/lib/python3.10/dist-packages/sklearn/base.py:493: UserWarning: X does not have valid feature names, but LinearRegression was fitted with feature names\n",
            "  warnings.warn(\n"
          ]
        },
        {
          "name": "stdout",
          "output_type": "stream",
          "text": [
            "Cliente 1 - Ingreso lineal anual: 37612.91892413688 y polinómico anual: 32897.21231275151\n",
            "Valor ingresado de compras en carne para el cliente 2: 3\n"
          ]
        },
        {
          "output_type": "stream",
          "name": "stderr",
          "text": [
            "/usr/local/lib/python3.10/dist-packages/sklearn/base.py:493: UserWarning: X does not have valid feature names, but LinearRegression was fitted with feature names\n",
            "  warnings.warn(\n"
          ]
        },
        {
          "name": "stdout",
          "output_type": "stream",
          "text": [
            "Cliente 2 - Ingreso lineal anual: 37612.91892413688 y polinómico anual: 32897.21231275151\n",
            "Valor ingresado de compras en carne para el cliente 3: 3\n"
          ]
        },
        {
          "output_type": "stream",
          "name": "stderr",
          "text": [
            "/usr/local/lib/python3.10/dist-packages/sklearn/base.py:493: UserWarning: X does not have valid feature names, but LinearRegression was fitted with feature names\n",
            "  warnings.warn(\n"
          ]
        },
        {
          "name": "stdout",
          "output_type": "stream",
          "text": [
            "Cliente 3 - Ingreso lineal anual: 37612.91892413688 y polinómico anual: 32897.21231275151\n",
            "Valor ingresado de compras en carne para el cliente 4: 3\n"
          ]
        },
        {
          "output_type": "stream",
          "name": "stderr",
          "text": [
            "/usr/local/lib/python3.10/dist-packages/sklearn/base.py:493: UserWarning: X does not have valid feature names, but LinearRegression was fitted with feature names\n",
            "  warnings.warn(\n"
          ]
        },
        {
          "output_type": "stream",
          "name": "stdout",
          "text": [
            "Cliente 4 - Ingreso lineal anual: 37612.91892413688 y polinómico anual: 32897.21231275151\n",
            "Valor ingresado de compras en carne para el cliente 5: 3\n",
            "Cliente 5 - Ingreso lineal anual: 37612.91892413688 y polinómico anual: 32897.21231275151\n"
          ]
        },
        {
          "output_type": "stream",
          "name": "stderr",
          "text": [
            "/usr/local/lib/python3.10/dist-packages/sklearn/base.py:493: UserWarning: X does not have valid feature names, but LinearRegression was fitted with feature names\n",
            "  warnings.warn(\n"
          ]
        }
      ]
    }
  ]
}
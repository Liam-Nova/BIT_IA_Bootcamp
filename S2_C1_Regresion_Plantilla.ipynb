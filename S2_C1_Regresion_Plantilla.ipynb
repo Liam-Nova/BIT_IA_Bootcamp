{
  "nbformat": 4,
  "nbformat_minor": 0,
  "metadata": {
    "colab": {
      "provenance": [],
      "include_colab_link": true
    },
    "kernelspec": {
      "name": "python3",
      "display_name": "Python 3"
    },
    "language_info": {
      "name": "python"
    }
  },
  "cells": [
    {
      "cell_type": "markdown",
      "metadata": {
        "id": "view-in-github",
        "colab_type": "text"
      },
      "source": [
        "<a href=\"https://colab.research.google.com/github/Liam-Nova/BIT_IA_Bootcamp/blob/main/S2_C1_Regresion_Plantilla.ipynb\" target=\"_parent\"><img src=\"https://colab.research.google.com/assets/colab-badge.svg\" alt=\"Open In Colab\"/></a>"
      ]
    },
    {
      "cell_type": "markdown",
      "source": [
        "**Modelos de Regresión Lineal**\n",
        "\n",
        "\n",
        "\n",
        "1. Cree una carpeta en drive  'Models'\n",
        "2. Guarde los archivos .plk\n",
        "3. Actualice las ruta de la carpeta\n",
        "\n",
        "\n"
      ],
      "metadata": {
        "id": "TXyBVqcvO4q6"
      }
    },
    {
      "cell_type": "code",
      "source": [
        "from google.colab import drive\n",
        "drive.mount('/content/drive')\n",
        "import os\n"
      ],
      "metadata": {
        "colab": {
          "base_uri": "https://localhost:8080/"
        },
        "id": "qcde1eTGmRE2",
        "outputId": "8daa2b47-f980-4986-daa6-f1016ab36a46"
      },
      "execution_count": null,
      "outputs": [
        {
          "output_type": "stream",
          "name": "stdout",
          "text": [
            "Drive already mounted at /content/drive; to attempt to forcibly remount, call drive.mount(\"/content/drive\", force_remount=True).\n"
          ]
        }
      ]
    },
    {
      "cell_type": "code",
      "source": [
        "# Se envia el documento consolidado a la carpeta SAC_NOTAS_CONSOLIDADO\n",
        "os.chdir('/content/drive/MyDrive/Colab Notebooks/BIT_Bootcam_IA/Models')\n",
        "os.listdir()"
      ],
      "metadata": {
        "colab": {
          "base_uri": "https://localhost:8080/"
        },
        "id": "YwxIfpb5ooV6",
        "outputId": "17e7f129-2222-435f-b615-2aae399bc973"
      },
      "execution_count": null,
      "outputs": [
        {
          "output_type": "execute_result",
          "data": {
            "text/plain": [
              "['linear_regression_model.pkl', 'poly_regression_model.pkl']"
            ]
          },
          "metadata": {},
          "execution_count": 4
        }
      ]
    },
    {
      "cell_type": "markdown",
      "source": [
        "\n",
        "\n",
        "# Actividad 1.\n",
        "\n",
        "1. Ingrese un valor  y realice una prediccion con el modelo lineal\n",
        "\n"
      ],
      "metadata": {
        "id": "DX9jzaoLQJm5"
      }
    },
    {
      "cell_type": "code",
      "execution_count": null,
      "metadata": {
        "id": "kA55dPTpAyMC"
      },
      "outputs": [],
      "source": [
        "import joblib\n",
        "# Cargar el modelo desde el archivo\n",
        "loaded_model = joblib.load('linear_regression_model.pkl')"
      ]
    },
    {
      "cell_type": "code",
      "source": [
        "\n",
        "+# Hacer predicciones con el modelo cargado\n",
        "print(\"Predicción del Ingreso Anual a partir de las Compras en productos de Carne \")\n",
        "\n",
        "opcion = int(input(\"Ingrese el valor de compras en carne \"))\n",
        "predicted_class = loaded_model.predict([[opcion]])\n",
        "\n",
        "print(f\"EL ingreso anual de esta persona  es de : {predicted_class}\")"
      ],
      "metadata": {
        "id": "R1c9t7TYm69e",
        "colab": {
          "base_uri": "https://localhost:8080/"
        },
        "outputId": "f27456c4-a19b-4d05-8f87-bad36787d306"
      },
      "execution_count": null,
      "outputs": [
        {
          "output_type": "stream",
          "name": "stdout",
          "text": [
            "Predicción del Ingreso Anual a partir de las Compras en productos de Carne \n",
            "Ingrese el valor de compras en carne 300\n",
            "EL ingreso anual de esta persona  es de : [67618.6171778]\n"
          ]
        },
        {
          "output_type": "stream",
          "name": "stderr",
          "text": [
            "/usr/local/lib/python3.10/dist-packages/sklearn/base.py:493: UserWarning: X does not have valid feature names, but LinearRegression was fitted with feature names\n",
            "  warnings.warn(\n"
          ]
        }
      ]
    },
    {
      "cell_type": "code",
      "source": [
        "# Observación: este modelo es una relación proporcional de mayor consumo de carne, más ingreso anual."
      ],
      "metadata": {
        "id": "E6kcdv6OxMle"
      },
      "execution_count": null,
      "outputs": []
    },
    {
      "cell_type": "markdown",
      "source": [],
      "metadata": {
        "id": "pf2_9FFhwm8M"
      }
    },
    {
      "cell_type": "markdown",
      "source": [
        "# Actividad 2.\n",
        "\n",
        "1. Cargue el modelo de regresión polinómica\n",
        "2. Ingrese un valor  y realice una prediccion con el modelo polinómico"
      ],
      "metadata": {
        "id": "YE9ot9lsQ6qK"
      }
    },
    {
      "cell_type": "code",
      "source": [
        "\n",
        "# este no se carga mas porque se carga solo una vezimport joblib\n",
        "# Cargar el modelo desde el archivo\n",
        "loaded_model_Poli = joblib.load('poly_regression_model.pkl')\n",
        "# hay que cambiar el nimbre para que no haya conflicto de valores"
      ],
      "metadata": {
        "id": "gYknB9DLQZzL"
      },
      "execution_count": null,
      "outputs": []
    },
    {
      "cell_type": "code",
      "source": [
        "# Hacer predicciones con el modelo cargado\n",
        "print(\"Predicción del Ingreso Anual a partir de las Compras en productos de Carne \")\n",
        "opcion = int(input(\"Ingrese el valor de compras en carne \"))\n",
        "\n",
        "def arreglo (opcion):\n",
        "    return [1, opcion, opcion**2]\n",
        "#se evalua en la funcion anterior\n",
        "x_test= arreglo(opcion)\n",
        "predicted_Class = loaded_model_Poli.predict([x_test])\n",
        "\n",
        "predicted_Class"
      ],
      "metadata": {
        "colab": {
          "base_uri": "https://localhost:8080/"
        },
        "id": "wVikCiy2xoNF",
        "outputId": "db167f65-77c6-4af9-ab20-163919364d8e"
      },
      "execution_count": null,
      "outputs": [
        {
          "name": "stdout",
          "output_type": "stream",
          "text": [
            "Predicción del Ingreso Anual a partir de las Compras en productos de Carne \n",
            "Ingrese el valor de compras en carne 300\n"
          ]
        },
        {
          "output_type": "execute_result",
          "data": {
            "text/plain": [
              "array([74196.1287516])"
            ]
          },
          "metadata": {},
          "execution_count": 54
        }
      ]
    },
    {
      "cell_type": "markdown",
      "source": [
        "# Actividad 3.\n",
        "\n",
        "1. Modique que codigo para que con el mismo datos prediga con los dos modelos\n",
        "2. Realice un ciclo FOR que 5 valores ingresados por teclado\n",
        "3. Grafiquelo scatter('Los imputs: Mntmeat"
      ],
      "metadata": {
        "id": "rOuAAPVIQ8s2"
      }
    },
    {
      "cell_type": "code",
      "source": [
        "# Modelos\n",
        "loaded_model_Poli = joblib.load('poly_regression_model.pkl')\n",
        "loaded_model = joblib.load('linear_regression_model.pkl')\n",
        "\n",
        "print(\"Predicción Lineal y Polinomica Anual en Compras de Carne \")\n",
        "for i in range(5):\n",
        "    opcion = int(input(f\"Valores de compras en carne{i + 1}: \"))\n",
        "\n",
        "\n"
      ],
      "metadata": {
        "colab": {
          "base_uri": "https://localhost:8080/"
        },
        "id": "d7IBEjs4CaaD",
        "outputId": "52cc65ce-5591-4415-cc67-6fb7edb279a8"
      },
      "execution_count": null,
      "outputs": [
        {
          "name": "stdout",
          "output_type": "stream",
          "text": [
            "Predicción Lineal y Polinomica Anual en Compras de Carne \n",
            "Valores de compras en carne1: 3\n",
            "Valores de compras en carne2: 2\n",
            "Valores de compras en carne3: 2\n",
            "Valores de compras en carne4: 3\n",
            "Valores de compras en carne5: 1\n"
          ]
        }
      ]
    },
    {
      "cell_type": "code",
      "source": [
        "# Predicción Lineal\n",
        "Predicción_Lineal = loaded_model.predict([[opcion]])\n",
        "\n",
        "#Predicción Polinómico\n",
        "def arreglo (opcion):\n",
        "     return [1, opcion, opcion**2]\n",
        "    #se evalua en la funcion anterior\n",
        "x_test= arreglo(opcion)\n",
        "Predicción_Polinómico = loaded_model_Poli.predict([x_test])\n"
      ],
      "metadata": {
        "colab": {
          "base_uri": "https://localhost:8080/"
        },
        "id": "zvo5dMkIL0mU",
        "outputId": "148ae346-d509-4f07-aef5-cdd31c9a4006"
      },
      "execution_count": null,
      "outputs": [
        {
          "output_type": "stream",
          "name": "stderr",
          "text": [
            "/usr/local/lib/python3.10/dist-packages/sklearn/base.py:493: UserWarning: X does not have valid feature names, but LinearRegression was fitted with feature names\n",
            "  warnings.warn(\n"
          ]
        }
      ]
    },
    {
      "cell_type": "code",
      "source": [
        "print(f\"{i + 1}: Cantidad ingresada lineal anual: {Predicción_Lineal} y polinómico anual: {Predicción_Polinómico}\")"
      ],
      "metadata": {
        "colab": {
          "base_uri": "https://localhost:8080/"
        },
        "outputId": "7db733cd-7aec-4de0-c31d-ee7c7bd94bc4",
        "id": "4QlfpH4iMWJ-"
      },
      "execution_count": null,
      "outputs": [
        {
          "output_type": "stream",
          "name": "stdout",
          "text": [
            "5: Cantidad ingresada lineal anual: [37410.86035004] y polinómico anual: [32445.9770931]\n"
          ]
        }
      ]
    },
    {
      "cell_type": "code",
      "source": [
        "# Predicción Lineal\n",
        "Predicción_Lineal = loaded_model.predict([[opcion]])\n",
        "\n",
        "#Predicción Polinómico\n",
        "def arreglo (opcion):\n",
        "     return [1, opcion, opcion**2]\n",
        "    #se evalua en la funcion anterior\n",
        "x_test= arreglo(opcion)\n",
        "Predicción_Polinómico = loaded_model_Poli.predict([x_test])\n",
        "\n",
        "print(f\"Ingreso {i + 1} lineal anual: {Predicción_Lineal} y polinómico anual: {Predicción_Polinómico} \")"
      ],
      "metadata": {
        "colab": {
          "base_uri": "https://localhost:8080/"
        },
        "outputId": "6954dc92-b518-4ade-9919-1faa60fb7134",
        "id": "ghoGydKqMT4_"
      },
      "execution_count": null,
      "outputs": [
        {
          "output_type": "stream",
          "name": "stdout",
          "text": [
            "Ingreso 5lineal anual: [37410.86035004] y polinómico anual: [32445.9770931] \n"
          ]
        },
        {
          "output_type": "stream",
          "name": "stderr",
          "text": [
            "/usr/local/lib/python3.10/dist-packages/sklearn/base.py:493: UserWarning: X does not have valid feature names, but LinearRegression was fitted with feature names\n",
            "  warnings.warn(\n"
          ]
        }
      ]
    },
    {
      "cell_type": "code",
      "source": [
        "import joblib\n",
        "\n",
        "# Cargar los modelos\n",
        "loaded_model_Poli = joblib.load('poly_regression_model.pkl')\n",
        "loaded_model = joblib.load('linear_regression_model.pkl')\n",
        "\n",
        "print(\"Predicción Lineal y Polinómica Anual en Compras de Carne\")\n",
        "\n",
        "# Ciclo para ingresar 5 valores y hacer las predicciones\n",
        "for i in range(5):\n",
        "    opcion = int(input(f\"Valor ingresado de compras en carne para el cliente {i + 1}: \"))\n",
        "\n",
        "    # Predicción Lineal\n",
        "    Predicción_Lineal = loaded_model.predict([[opcion]])\n",
        "\n",
        "    # Predicción Polinómica\n",
        "    def arreglo(opcion):\n",
        "        return [1, opcion, opcion**2]  # Arreglo para el modelo polinómico\n",
        "\n",
        "    x_test = arreglo(opcion)\n",
        "    Predicción_Polinómico = loaded_model_Poli.predict([x_test])\n",
        "\n",
        "    # Mostrar las predicciones para el valor ingresado\n",
        "    print(f\"Cliente {i + 1} - Ingreso lineal anual: {Predicción_Lineal[0]} y polinómico anual: {Predicción_Polinómico[0]}\")"
      ],
      "metadata": {
        "id": "IuPvHbKKMCdk"
      },
      "execution_count": null,
      "outputs": []
    }
  ]
}
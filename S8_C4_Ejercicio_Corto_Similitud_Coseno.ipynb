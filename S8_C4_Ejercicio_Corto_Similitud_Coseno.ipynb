{
  "nbformat": 4,
  "nbformat_minor": 0,
  "metadata": {
    "colab": {
      "provenance": [],
      "authorship_tag": "ABX9TyMhaLtgyjgWaWvJwD0w98zJ",
      "include_colab_link": true
    },
    "kernelspec": {
      "name": "python3",
      "display_name": "Python 3"
    },
    "language_info": {
      "name": "python"
    }
  },
  "cells": [
    {
      "cell_type": "markdown",
      "metadata": {
        "id": "view-in-github",
        "colab_type": "text"
      },
      "source": [
        "<a href=\"https://colab.research.google.com/github/Liam-Nova/BIT_IA_Bootcamp/blob/main/S8_C4_Ejercicio_Corto_Similitud_Coseno.ipynb\" target=\"_parent\"><img src=\"https://colab.research.google.com/assets/colab-badge.svg\" alt=\"Open In Colab\"/></a>"
      ]
    },
    {
      "cell_type": "code",
      "source": [
        "from sklearn.feature_extraction.text import TfidfVectorizer"
      ],
      "metadata": {
        "id": "t8POZS1BhOU-"
      },
      "execution_count": 1,
      "outputs": []
    },
    {
      "cell_type": "code",
      "execution_count": 2,
      "metadata": {
        "id": "hxUzkYtnhLe3"
      },
      "outputs": [],
      "source": [
        "#crime_type_preprocessed = ['Arrest Made', 'Citizen Arrest', 'Resisting Arrest']\n",
        "#crime_type_preprocessed = ['Dw', 'Rz', 'Dw/rz', 'Rz/dw', 'Dw Tow', '22500e/rz', '500e/rz']\n",
        "#crime_type_preprocessed = ['Traf Violation Tow', 'Traf Violation Cite', 'R/o Violation', 'Ro Violation', 'R.o. Violation']\n",
        "crime_type_preprocessed = ['Audible Alarm', 'Silent Holdup Alarm', 'Silent Alarm', 'Muni Inspection']\n",
        "#crime_type_preprocessed = ['Homeless Complaint', 'Susp Info', '594', \"Ref'd\", 'Encampment', 'Burglary', 'Ip', 'Tent', 'Guitar', 'Music', 'Vandalism', 'Petty Theft', '415', 'Noise Nuisance', 'Fraud', 'Rep', 'Meet W/citizen', 'Prisoner Transport', 'Trespasser', 'Stolen Vehicle', 'Fight No Weapon', 'Check For Ped', 'Juvenile Disturbance', 'Party', 'Lltd', 'Robbery', '601', '500e', '913', 'Traffic Stop', '909', 'Suspicious Vehicle', 'Fight No Weapon Dv', 'Parking', 'Pay', 'Passing Call', 'Family', 'Thumping', '916', 'Att', 'Threats / Harassment', 'Boombox', 'Bar Check', 'Suicide Attempt', 'Susp', 'Crosswalk', 'Casing/917', 'Wireless-Drop', 'Uc Hastings/405', 'Bomb Threat', 'Mentally Disturbed', 'Complaint Unkn', '811', 'Casing', 'Prowler', 'Shots Fired', 'Shooting', '919', '417', 'Well Being Check', '917', '917/811', 'Wanted Vehicle / Sub', 'Ug', 'Hold-Up', '531', 'Fare', 'Construction', 'Drugs', 'Campers', 'X', 'Return', 'Rtl', 'Verbal', '518', 'Meet W/officer', '488', 'Awol', 'Strongarm Robbery', 'Male', 'Sw', 'Encampent', 'Loitering', 'Auto Boost / Strip', '22500e', 'Sleepers', 'Fire', 'Mal', 'Trc 7.2.46', 'Reckless', 'Camper', '22500f', 'Openline', 'Indecent Exposure', 'Rept', 'Cw', '851', 'Prem Check', 'Ringing Doorbell', 'I/p', 'Video', 'Unoccupied', 'Psych Eval / Hold', 'Missing Adult', '418', 'Found Drugs', 'Citizen Standby', 'Yelling', '7.2.41', 'Lltn', '7.2.45', 'Nabor', 'X 594', 'Glass Bottles', 'Missing Juvenile', '852', 'Escalating', 'Demo / Protest', 'Death / Coroner', 'Jjo', 'Vc21113a', '601 Ug', 'Npat', 'Aggr Soliciting', '7.2.46', 'Dog Barking', '800', 'Grand Theft', 'Pepperspray', '22500e/22500b', 'Vendors', 'Crack', 'Opp', 'Stolen Property', '22500h', '22514', 'Selling Foods', 'Elevator', 'Ll/td', '221', 'Static', 'Road Rage', 'W/a Hammer', 'At Risk', 'Drop', 'Juve Beyond Control', '22500e/.25', 'Squattters', 'Illegal Vendor', '7.2.25', 'Parking Space', '22500a', '913/child', 'Dancer', '500f', '500h', '7.2.28', 'Drinking', 'Ped', 'Pepper Spray', '222', '487', '470', '22500i', 'Drugs Needles', '911 Hu', 'Purse Snatch', '7.2.26', 'Custody', '7.2.27', '22500eal', 'Mc', 'Gamblers', 'Drugs/dealing', 'Drunk Driver', 'Ret', 'Spitter', 'Prostitute/solicite', 'Aided Case', '22500f/cw', 'Suspect', '22500b', 'Barking', '7.2.32', 'Bat', '213', 'Encampments', '7.2.38', '7.2.40', 'Ll/ll', 'Adv', 'Chp', '911-Drop', 'Hammer', 'Open Line', 'Physical', 'Dog', '910', 'Pay Dispute', '245', 'Keys', 'Nabors', '650', 'Opportunist', 'Live Band', 'Recorder', 'Female', 'Tx To Chp', 'Party Yelling', \"Juv's\", 'At The Atm', 'Heated', 'Adv To 0123', 'Band', 'Kidnapping', 'Driveway', 'Threats Dv', '415 Music', 'Stick', 'Spike', 'Sideshow', '22502a', 'Taxi Zone', 'Graffiti Vandalism', '601 Rtl', 'Living', 'Roof', 'Dp', '22500l', 'J/o', 'Gz', 'Caser', 'Wz', '519', 'Sign', 'Ambulance', 'Suspects', '811 Male', 'Camp', 'Attemp', 'Drinkers', 'Uwg', 'Lp', 'H&r', 'Tree Bark', 'Vendor', 'Casing/852', 'Ro Viol', '9915', 'Pups', '518hr', 'Reckless Mcs', '800attempt', 'Follow Up', 'Chop Shop', 'Paydispute', 'Illegal Gambling', 'Rep Identity Theft', '225800e', '852 Occupied', 'Roadrage', '252500e', '420 Drugs', '912', 'Sudrugs', 'Fi**expedite**', 'Tow Truck', '*909*', '22500', '7.2.25/2250e', 'Agressive', 'Pay Dis', 'Rtl Cab', 'Drummer', '22500f/7.2.70', 'Hu', 'Elderly X', 'Hold Up', 'Sagressive', 'Bart', 'Illegal Vendors', 'Stabbing', 'Roomate', 'Fireworks', 'Property', 'Iph', 'Bottles', 'Cane', 'Get Inside The Bldg', 'Music/909', 'Panic', '601rtl', 'Vandalism Dv', 'Neighbors', 'Open', 'Stattic', '594 Ip', '601uwg', '911', 'Making A Mess', 'Campers W/bikes', 'Pos Jumper', 'Doorway/917', 'Camping', '**Tazer**', 'Loading Dock', 'Bl', 'Naked', 'Attempt', 'Explosive Found', 'Car Campers', 'Subj', 'Fp', 'Gambling', 'Wild', '419', '7.2.41/22500f', 'Shooting Up', 'St Vendors', '22507.8a', '901 For 909', 'Unocc', 'Samurai', '911 Open', 'Drugdealer', \"Mc's\", 'S', 'Rp', '459', 'Atc', '915s', 'Rtl/811', '420', 'Amplified', 'Tra7.2.37', 'Casers', 'Jump', 'Dismember Body Part', '500b', '7.2.25/22500e', 'Busy', 'Mace', 'Child', 'Spit', 'Prem', 'Roof Squatters', '.25/500e', '910 X', 'Drug Use', 'In Svc/ On Foot', 'Explosion', 'Scratch', '916/music', 'Return Call', 'Verbals', '100v', '601/415', 'Hot', 'Cassing', 'A', '152', 'Trc 7.2.45', 'Cz', 'Silent', '502a', 'Home Invasion', '911 Drop', 'Tz', 'Npa', 'Toilet', 'Dropped Call', '459 Attempt', 'Ucpd', 'Jumper', 'Dog Bite', '909x', 'Tro', 'Stepping On Plants', 'Ld', '311x/poss800', 'Dogs Barking', 'Panhandler W/pitbull', 'Video Surveillence', 'H/r', 'Areport', 'Protestors', 'Broken Window', '`Drugs', 'Haz', 'House', '418rm', '21211', '601/488', '7.2.70', 'Resd', 'Maced', 'Suatters', '22514/500b', '212', '911 Open Line', 'Recycling', 'Park Ranger', 'Curb', 'Pills', 'Ll/ Tenant', '219/601', 'Ifo', '911 Hu Call', '920 Rtl', 'Att Only', 'Ams', '***901 Req***', 'Rpt', 'Children', 'Vehicle', 'Ug Rtl', '601/family', 'Death', 'Att Susp', '9909', '2 Reps', 'Vending', 'Drp', 'Brewing/pay Dispute', 'Skateboarders', 'Sonitrol', 'Wreckless Driver', '148', 'Bicylist', '852 Casing', 'Nabo', '22500e/500h', 'Pay Disp', '22654e', 'Brewing', '.52', 'Phys', '222 Att', 'Wireless-Open', 'Adv To Co A', 'Wireless-H/u']\n"
      ]
    },
    {
      "cell_type": "code",
      "source": [
        "vectorizer= TfidfVectorizer()\n",
        "crime_type_vectorizer = vectorizer.fit_transform(crime_type_preprocessed)"
      ],
      "metadata": {
        "id": "lUse91fshjYf"
      },
      "execution_count": 3,
      "outputs": []
    },
    {
      "cell_type": "code",
      "source": [
        "crime_type_vectorizer.toarray()"
      ],
      "metadata": {
        "colab": {
          "base_uri": "https://localhost:8080/"
        },
        "id": "KpsuyKg5ill9",
        "outputId": "2b4648ac-30fd-411b-e9d5-6af6811c0b0b"
      },
      "execution_count": 4,
      "outputs": [
        {
          "output_type": "execute_result",
          "data": {
            "text/plain": [
              "array([[0.53802897, 0.84292635, 0.        , 0.        , 0.        ,\n",
              "        0.        ],\n",
              "       [0.44809973, 0.        , 0.70203482, 0.        , 0.        ,\n",
              "        0.55349232],\n",
              "       [0.62922751, 0.        , 0.        , 0.        , 0.        ,\n",
              "        0.77722116],\n",
              "       [0.        , 0.        , 0.        , 0.70710678, 0.70710678,\n",
              "        0.        ]])"
            ]
          },
          "metadata": {},
          "execution_count": 4
        }
      ]
    },
    {
      "cell_type": "code",
      "source": [
        "vectorizer.get_feature_names_out()"
      ],
      "metadata": {
        "colab": {
          "base_uri": "https://localhost:8080/"
        },
        "id": "SqmlWR_Vixt7",
        "outputId": "a89501a5-d977-4d3b-bcdd-4f3a37e2800b"
      },
      "execution_count": 5,
      "outputs": [
        {
          "output_type": "execute_result",
          "data": {
            "text/plain": [
              "array(['alarm', 'audible', 'holdup', 'inspection', 'muni', 'silent'],\n",
              "      dtype=object)"
            ]
          },
          "metadata": {},
          "execution_count": 5
        }
      ]
    },
    {
      "cell_type": "code",
      "source": [
        "from sklearn.metrics.pairwise import cosine_similarity"
      ],
      "metadata": {
        "id": "ISs5gWWzolY5"
      },
      "execution_count": 6,
      "outputs": []
    },
    {
      "cell_type": "code",
      "source": [
        "cosine_similar = cosine_similarity(crime_type_vectorizer)\n",
        "cosine_similar"
      ],
      "metadata": {
        "colab": {
          "base_uri": "https://localhost:8080/"
        },
        "id": "ssjHwYU7on2f",
        "outputId": "b278e3ce-6c62-4049-cf3a-c006db4fe1a8"
      },
      "execution_count": 7,
      "outputs": [
        {
          "output_type": "execute_result",
          "data": {
            "text/plain": [
              "array([[1.        , 0.24109064, 0.33854263, 0.        ],\n",
              "       [0.24109064, 1.        , 0.71214262, 0.        ],\n",
              "       [0.33854263, 0.71214262, 1.        , 0.        ],\n",
              "       [0.        , 0.        , 0.        , 1.        ]])"
            ]
          },
          "metadata": {},
          "execution_count": 7
        }
      ]
    },
    {
      "cell_type": "markdown",
      "source": [
        "# Del siguiente conjunto de términos\n",
        "\n",
        "crime_type_preprocessed = ['Audible Alarm', 'Silent Holdup Alarm', 'Silent Alarm', 'Muni Inspection']\n",
        "* Se observa que el índice de símiltud más alta (0.69) se presenta en los términos 'Silent Holdup Alarm' y 'Silent Alarm' dado que tienen dos palabras iguales, en total hay 5 palabras 2 palabras en los dos 2 términos\n",
        "\n",
        "* Se observa que el índice de símiltud más bajo (0) se presenta en los términos 'Muni Inspection' dado que ninguna de sus palabras se repite en los otros términos"
      ],
      "metadata": {
        "id": "_xGKKu8Tt-b0"
      }
    },
    {
      "cell_type": "markdown",
      "source": [
        "# Del siguiente conjunto de términos\n",
        "\n",
        "crime_type_preprocessed = ['Audible Alarm', 'Silent Holdup Alarm', 'Silent Alarm']\n",
        "* Se observa que el índice de símiltud más alta (0.69) se presenta en los términos 'Silent Holdup Alarm' y 'Silent Alarm' dado que tienen dos palabras iguales, en total hay 5 palabras 2 palabras en los dos 2 términos\n",
        "\n",
        "* Se observa que el índice de símiltud más bajo (0.21) se presenta en los términos 'Audible Alarm' y 'Silent Holdup Alarm' en total hay 5 palabras sollamente 1 palabra está presente en los dos términos"
      ],
      "metadata": {
        "id": "OKvemKLMrr7N"
      }
    }
  ]
}
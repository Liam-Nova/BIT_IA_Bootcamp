{
  "cells": [
    {
      "cell_type": "markdown",
      "metadata": {
        "id": "view-in-github",
        "colab_type": "text"
      },
      "source": [
        "<a href=\"https://colab.research.google.com/github/Liam-Nova/BIT_IA_Bootcamp/blob/main/S4_C2_LAB_Logistic_Regression_Part_1_ipynb2.ipynb\" target=\"_parent\"><img src=\"https://colab.research.google.com/assets/colab-badge.svg\" alt=\"Open In Colab\"/></a>"
      ]
    },
    {
      "cell_type": "markdown",
      "metadata": {
        "id": "lxqgMxwgY0va"
      },
      "source": [
        "<h2 align=\"center\"> Logistic Regression </h2>"
      ]
    },
    {
      "cell_type": "markdown",
      "metadata": {
        "id": "t26je5roY0vf"
      },
      "source": [
        "## **Actividad 2**\n",
        "\n",
        "\n",
        "---\n",
        "\n",
        "\n",
        "## **Balance de clases**\n",
        "El balance de las clases se refiere a la ***distribución*** de las clases en un conjunto de datos de clasificación.\n",
        "\n",
        "Un conjunto de datos está ***balanceado ***cuando las diferentes clases tienen aproximadamente el mismo número de muestras. Si una clase tiene significativamente más ejemplos que otra, se dice que el conjunto de datos está ***desbalanceado.***\n",
        "\n",
        "Por ejemplo, si estás clasificando si un examen fue aprobado o no, y el 90% de los estudiantes aprobaron mientras solo el 10% fallaron, el conjunto de datos está desbalanceado. Un modelo entrenado en un conjunto de datos desbalanceado tiende a estar sesgado hacia la clase mayoritaria (en este caso, los aprobados), lo que puede llevar a un mal rendimiento en la predicción de la clase minoritaria (los que fallaron).\n",
        "\n",
        "### **¿Cómo manejarlo?**\n",
        "\n",
        "**Aumentar la clase minoritaria (Oversampling):**\n",
        "\n",
        "* SMOTE (Synthetic Minority Over-sampling Technique): Genera ejemplos sintéticos de la clase minoritaria combinando características de los datos existentes.\n",
        "* Random Oversampling: Duplica aleatoriamente ejemplos de la clase minoritaria hasta que ambas clases tengan tamaños similares.\n",
        "\n",
        "**Reducir la clase mayoritaria (Undersampling):**\n",
        "\n",
        "* Random Undersampling: Reduce el tamaño de la clase mayoritaria eliminando ejemplos aleatoriamente hasta igualar el tamaño de la clase minoritaria.\n",
        "\n",
        "**Recolección de más datos**\n",
        "\n",
        "**Usar algoritmos adaptados a datos desbalanceados**\n",
        "\n",
        "* Balanced Random Forest o Class-balanced loss functions"
      ]
    },
    {
      "cell_type": "markdown",
      "source": [
        "Data set:\n",
        "\n",
        "* **Test_1:** Puntuación en el primer examen.\n",
        "* **Test_2:** Puntuación en el segundo examen.\n",
        "* **Results:** Resultado del examen (0 = Fallido, 1 = Aprobado)."
      ],
      "metadata": {
        "id": "BuZkMIWkY7Fl"
      }
    },
    {
      "cell_type": "markdown",
      "metadata": {
        "id": "_FaIduLIY0vg"
      },
      "source": [
        "### **Actividad 1. Cargue librerías y datos**\n",
        "------"
      ]
    },
    {
      "cell_type": "code",
      "execution_count": 89,
      "metadata": {
        "id": "A9XGbCizY0vg"
      },
      "outputs": [],
      "source": [
        "import numpy as np\n",
        "import matplotlib.pyplot as plt\n",
        "import seaborn as sns\n",
        "import pandas as pd\n",
        "plt.style.use(\"ggplot\")\n",
        "%matplotlib inline"
      ]
    },
    {
      "cell_type": "code",
      "source": [
        "from pylab import rcParams\n",
        "rcParams['figure.figsize'] = 5,3"
      ],
      "metadata": {
        "id": "2FzWAIfyFJy-"
      },
      "execution_count": 90,
      "outputs": []
    },
    {
      "cell_type": "markdown",
      "source": [
        "### *Tareas A1*\n",
        "\n",
        "* Cargue los datos 'Classification_Tests.csv' desde su carpeta de drive\n",
        "* Muestre las 5 pirmeras columnas"
      ],
      "metadata": {
        "id": "8JUCu0Ri88SM"
      }
    },
    {
      "cell_type": "code",
      "source": [
        "from google.colab import drive # Conectanonos con google drive\n",
        "drive.mount('/content/drive')\n",
        "import os    # la librería necesaria para la ruta de la carpeta\n",
        "os.chdir('/content/drive/MyDrive/Colab Notebooks/BIT_Bootcam_IA/DataSET')\n",
        "#mostar lista de archivos\n",
        "os.listdir()"
      ],
      "metadata": {
        "colab": {
          "base_uri": "https://localhost:8080/"
        },
        "id": "jDyReuQ3ZwYt",
        "outputId": "a40aaa0e-a34e-4380-b093-54d613f3ec93"
      },
      "execution_count": 91,
      "outputs": [
        {
          "output_type": "stream",
          "name": "stdout",
          "text": [
            "Drive already mounted at /content/drive; to attempt to forcibly remount, call drive.mount(\"/content/drive\", force_remount=True).\n"
          ]
        },
        {
          "output_type": "execute_result",
          "data": {
            "text/plain": [
              "['marketing_campaign.csv',\n",
              " 'marketing_campaign.xlsx',\n",
              " 'marketing_extract_2X_Income.xlsx',\n",
              " 'linear_regression_model (1).pkl',\n",
              " 'poly_regression_model (1).pkl',\n",
              " 'auto-mpg.names',\n",
              " 'auto-mpg.data-original',\n",
              " 'auto-mpg.data',\n",
              " 'Index',\n",
              " 'mpg-limpios-procesados.xlsx',\n",
              " 'Classification_Tests.csv']"
            ]
          },
          "metadata": {},
          "execution_count": 91
        }
      ]
    },
    {
      "cell_type": "code",
      "execution_count": 92,
      "metadata": {
        "colab": {
          "base_uri": "https://localhost:8080/",
          "height": 206
        },
        "id": "PjAoEjXiY0vi",
        "outputId": "87b4c654-668c-469f-857a-036ad47ddb06"
      },
      "outputs": [
        {
          "output_type": "execute_result",
          "data": {
            "text/plain": [
              "      Test_1     Test_2  Results\n",
              "0  34.623660  78.024693        0\n",
              "1  30.286711  43.894998        0\n",
              "2  35.847409  72.902198        0\n",
              "3  60.182599  86.308552        1\n",
              "4  79.032736  75.344376        1"
            ],
            "text/html": [
              "\n",
              "  <div id=\"df-fd6d7e9b-1e32-4081-a264-5866d2176e2c\" class=\"colab-df-container\">\n",
              "    <div>\n",
              "<style scoped>\n",
              "    .dataframe tbody tr th:only-of-type {\n",
              "        vertical-align: middle;\n",
              "    }\n",
              "\n",
              "    .dataframe tbody tr th {\n",
              "        vertical-align: top;\n",
              "    }\n",
              "\n",
              "    .dataframe thead th {\n",
              "        text-align: right;\n",
              "    }\n",
              "</style>\n",
              "<table border=\"1\" class=\"dataframe\">\n",
              "  <thead>\n",
              "    <tr style=\"text-align: right;\">\n",
              "      <th></th>\n",
              "      <th>Test_1</th>\n",
              "      <th>Test_2</th>\n",
              "      <th>Results</th>\n",
              "    </tr>\n",
              "  </thead>\n",
              "  <tbody>\n",
              "    <tr>\n",
              "      <th>0</th>\n",
              "      <td>34.623660</td>\n",
              "      <td>78.024693</td>\n",
              "      <td>0</td>\n",
              "    </tr>\n",
              "    <tr>\n",
              "      <th>1</th>\n",
              "      <td>30.286711</td>\n",
              "      <td>43.894998</td>\n",
              "      <td>0</td>\n",
              "    </tr>\n",
              "    <tr>\n",
              "      <th>2</th>\n",
              "      <td>35.847409</td>\n",
              "      <td>72.902198</td>\n",
              "      <td>0</td>\n",
              "    </tr>\n",
              "    <tr>\n",
              "      <th>3</th>\n",
              "      <td>60.182599</td>\n",
              "      <td>86.308552</td>\n",
              "      <td>1</td>\n",
              "    </tr>\n",
              "    <tr>\n",
              "      <th>4</th>\n",
              "      <td>79.032736</td>\n",
              "      <td>75.344376</td>\n",
              "      <td>1</td>\n",
              "    </tr>\n",
              "  </tbody>\n",
              "</table>\n",
              "</div>\n",
              "    <div class=\"colab-df-buttons\">\n",
              "\n",
              "  <div class=\"colab-df-container\">\n",
              "    <button class=\"colab-df-convert\" onclick=\"convertToInteractive('df-fd6d7e9b-1e32-4081-a264-5866d2176e2c')\"\n",
              "            title=\"Convert this dataframe to an interactive table.\"\n",
              "            style=\"display:none;\">\n",
              "\n",
              "  <svg xmlns=\"http://www.w3.org/2000/svg\" height=\"24px\" viewBox=\"0 -960 960 960\">\n",
              "    <path d=\"M120-120v-720h720v720H120Zm60-500h600v-160H180v160Zm220 220h160v-160H400v160Zm0 220h160v-160H400v160ZM180-400h160v-160H180v160Zm440 0h160v-160H620v160ZM180-180h160v-160H180v160Zm440 0h160v-160H620v160Z\"/>\n",
              "  </svg>\n",
              "    </button>\n",
              "\n",
              "  <style>\n",
              "    .colab-df-container {\n",
              "      display:flex;\n",
              "      gap: 12px;\n",
              "    }\n",
              "\n",
              "    .colab-df-convert {\n",
              "      background-color: #E8F0FE;\n",
              "      border: none;\n",
              "      border-radius: 50%;\n",
              "      cursor: pointer;\n",
              "      display: none;\n",
              "      fill: #1967D2;\n",
              "      height: 32px;\n",
              "      padding: 0 0 0 0;\n",
              "      width: 32px;\n",
              "    }\n",
              "\n",
              "    .colab-df-convert:hover {\n",
              "      background-color: #E2EBFA;\n",
              "      box-shadow: 0px 1px 2px rgba(60, 64, 67, 0.3), 0px 1px 3px 1px rgba(60, 64, 67, 0.15);\n",
              "      fill: #174EA6;\n",
              "    }\n",
              "\n",
              "    .colab-df-buttons div {\n",
              "      margin-bottom: 4px;\n",
              "    }\n",
              "\n",
              "    [theme=dark] .colab-df-convert {\n",
              "      background-color: #3B4455;\n",
              "      fill: #D2E3FC;\n",
              "    }\n",
              "\n",
              "    [theme=dark] .colab-df-convert:hover {\n",
              "      background-color: #434B5C;\n",
              "      box-shadow: 0px 1px 3px 1px rgba(0, 0, 0, 0.15);\n",
              "      filter: drop-shadow(0px 1px 2px rgba(0, 0, 0, 0.3));\n",
              "      fill: #FFFFFF;\n",
              "    }\n",
              "  </style>\n",
              "\n",
              "    <script>\n",
              "      const buttonEl =\n",
              "        document.querySelector('#df-fd6d7e9b-1e32-4081-a264-5866d2176e2c button.colab-df-convert');\n",
              "      buttonEl.style.display =\n",
              "        google.colab.kernel.accessAllowed ? 'block' : 'none';\n",
              "\n",
              "      async function convertToInteractive(key) {\n",
              "        const element = document.querySelector('#df-fd6d7e9b-1e32-4081-a264-5866d2176e2c');\n",
              "        const dataTable =\n",
              "          await google.colab.kernel.invokeFunction('convertToInteractive',\n",
              "                                                    [key], {});\n",
              "        if (!dataTable) return;\n",
              "\n",
              "        const docLinkHtml = 'Like what you see? Visit the ' +\n",
              "          '<a target=\"_blank\" href=https://colab.research.google.com/notebooks/data_table.ipynb>data table notebook</a>'\n",
              "          + ' to learn more about interactive tables.';\n",
              "        element.innerHTML = '';\n",
              "        dataTable['output_type'] = 'display_data';\n",
              "        await google.colab.output.renderOutput(dataTable, element);\n",
              "        const docLink = document.createElement('div');\n",
              "        docLink.innerHTML = docLinkHtml;\n",
              "        element.appendChild(docLink);\n",
              "      }\n",
              "    </script>\n",
              "  </div>\n",
              "\n",
              "\n",
              "<div id=\"df-ea9799bb-acac-4a67-bb7b-f1f39729aad7\">\n",
              "  <button class=\"colab-df-quickchart\" onclick=\"quickchart('df-ea9799bb-acac-4a67-bb7b-f1f39729aad7')\"\n",
              "            title=\"Suggest charts\"\n",
              "            style=\"display:none;\">\n",
              "\n",
              "<svg xmlns=\"http://www.w3.org/2000/svg\" height=\"24px\"viewBox=\"0 0 24 24\"\n",
              "     width=\"24px\">\n",
              "    <g>\n",
              "        <path d=\"M19 3H5c-1.1 0-2 .9-2 2v14c0 1.1.9 2 2 2h14c1.1 0 2-.9 2-2V5c0-1.1-.9-2-2-2zM9 17H7v-7h2v7zm4 0h-2V7h2v10zm4 0h-2v-4h2v4z\"/>\n",
              "    </g>\n",
              "</svg>\n",
              "  </button>\n",
              "\n",
              "<style>\n",
              "  .colab-df-quickchart {\n",
              "      --bg-color: #E8F0FE;\n",
              "      --fill-color: #1967D2;\n",
              "      --hover-bg-color: #E2EBFA;\n",
              "      --hover-fill-color: #174EA6;\n",
              "      --disabled-fill-color: #AAA;\n",
              "      --disabled-bg-color: #DDD;\n",
              "  }\n",
              "\n",
              "  [theme=dark] .colab-df-quickchart {\n",
              "      --bg-color: #3B4455;\n",
              "      --fill-color: #D2E3FC;\n",
              "      --hover-bg-color: #434B5C;\n",
              "      --hover-fill-color: #FFFFFF;\n",
              "      --disabled-bg-color: #3B4455;\n",
              "      --disabled-fill-color: #666;\n",
              "  }\n",
              "\n",
              "  .colab-df-quickchart {\n",
              "    background-color: var(--bg-color);\n",
              "    border: none;\n",
              "    border-radius: 50%;\n",
              "    cursor: pointer;\n",
              "    display: none;\n",
              "    fill: var(--fill-color);\n",
              "    height: 32px;\n",
              "    padding: 0;\n",
              "    width: 32px;\n",
              "  }\n",
              "\n",
              "  .colab-df-quickchart:hover {\n",
              "    background-color: var(--hover-bg-color);\n",
              "    box-shadow: 0 1px 2px rgba(60, 64, 67, 0.3), 0 1px 3px 1px rgba(60, 64, 67, 0.15);\n",
              "    fill: var(--button-hover-fill-color);\n",
              "  }\n",
              "\n",
              "  .colab-df-quickchart-complete:disabled,\n",
              "  .colab-df-quickchart-complete:disabled:hover {\n",
              "    background-color: var(--disabled-bg-color);\n",
              "    fill: var(--disabled-fill-color);\n",
              "    box-shadow: none;\n",
              "  }\n",
              "\n",
              "  .colab-df-spinner {\n",
              "    border: 2px solid var(--fill-color);\n",
              "    border-color: transparent;\n",
              "    border-bottom-color: var(--fill-color);\n",
              "    animation:\n",
              "      spin 1s steps(1) infinite;\n",
              "  }\n",
              "\n",
              "  @keyframes spin {\n",
              "    0% {\n",
              "      border-color: transparent;\n",
              "      border-bottom-color: var(--fill-color);\n",
              "      border-left-color: var(--fill-color);\n",
              "    }\n",
              "    20% {\n",
              "      border-color: transparent;\n",
              "      border-left-color: var(--fill-color);\n",
              "      border-top-color: var(--fill-color);\n",
              "    }\n",
              "    30% {\n",
              "      border-color: transparent;\n",
              "      border-left-color: var(--fill-color);\n",
              "      border-top-color: var(--fill-color);\n",
              "      border-right-color: var(--fill-color);\n",
              "    }\n",
              "    40% {\n",
              "      border-color: transparent;\n",
              "      border-right-color: var(--fill-color);\n",
              "      border-top-color: var(--fill-color);\n",
              "    }\n",
              "    60% {\n",
              "      border-color: transparent;\n",
              "      border-right-color: var(--fill-color);\n",
              "    }\n",
              "    80% {\n",
              "      border-color: transparent;\n",
              "      border-right-color: var(--fill-color);\n",
              "      border-bottom-color: var(--fill-color);\n",
              "    }\n",
              "    90% {\n",
              "      border-color: transparent;\n",
              "      border-bottom-color: var(--fill-color);\n",
              "    }\n",
              "  }\n",
              "</style>\n",
              "\n",
              "  <script>\n",
              "    async function quickchart(key) {\n",
              "      const quickchartButtonEl =\n",
              "        document.querySelector('#' + key + ' button');\n",
              "      quickchartButtonEl.disabled = true;  // To prevent multiple clicks.\n",
              "      quickchartButtonEl.classList.add('colab-df-spinner');\n",
              "      try {\n",
              "        const charts = await google.colab.kernel.invokeFunction(\n",
              "            'suggestCharts', [key], {});\n",
              "      } catch (error) {\n",
              "        console.error('Error during call to suggestCharts:', error);\n",
              "      }\n",
              "      quickchartButtonEl.classList.remove('colab-df-spinner');\n",
              "      quickchartButtonEl.classList.add('colab-df-quickchart-complete');\n",
              "    }\n",
              "    (() => {\n",
              "      let quickchartButtonEl =\n",
              "        document.querySelector('#df-ea9799bb-acac-4a67-bb7b-f1f39729aad7 button');\n",
              "      quickchartButtonEl.style.display =\n",
              "        google.colab.kernel.accessAllowed ? 'block' : 'none';\n",
              "    })();\n",
              "  </script>\n",
              "</div>\n",
              "\n",
              "    </div>\n",
              "  </div>\n"
            ],
            "application/vnd.google.colaboratory.intrinsic+json": {
              "type": "dataframe",
              "variable_name": "df",
              "summary": "{\n  \"name\": \"df\",\n  \"rows\": 100,\n  \"fields\": [\n    {\n      \"column\": \"Test_1\",\n      \"properties\": {\n        \"dtype\": \"number\",\n        \"std\": 19.458222275425072,\n        \"min\": 30.05882244669796,\n        \"max\": 99.82785779692128,\n        \"num_unique_values\": 100,\n        \"samples\": [\n          57.23870631569862,\n          34.52451385320009,\n          32.72283304060323\n        ],\n        \"semantic_type\": \"\",\n        \"description\": \"\"\n      }\n    },\n    {\n      \"column\": \"Test_2\",\n      \"properties\": {\n        \"dtype\": \"number\",\n        \"std\": 18.582783039307344,\n        \"min\": 30.60326323428011,\n        \"max\": 98.86943574220612,\n        \"num_unique_values\": 100,\n        \"samples\": [\n          59.51428198012956,\n          60.39634245837173,\n          43.30717306430063\n        ],\n        \"semantic_type\": \"\",\n        \"description\": \"\"\n      }\n    },\n    {\n      \"column\": \"Results\",\n      \"properties\": {\n        \"dtype\": \"number\",\n        \"std\": 0,\n        \"min\": 0,\n        \"max\": 1,\n        \"num_unique_values\": 2,\n        \"samples\": [\n          1,\n          0\n        ],\n        \"semantic_type\": \"\",\n        \"description\": \"\"\n      }\n    }\n  ]\n}"
            }
          },
          "metadata": {},
          "execution_count": 92
        }
      ],
      "source": [
        "# Cargue los datos\n",
        "df = pd.read_csv('Classification_Tests.csv')\n",
        "df.head()"
      ]
    },
    {
      "cell_type": "markdown",
      "metadata": {
        "id": "9BUwirKT8CoV"
      },
      "source": [
        "### **Actividad 2. Descripción del data set**\n",
        "------"
      ]
    },
    {
      "cell_type": "markdown",
      "source": [
        "### *Tareas A2*\n",
        "\n",
        "* Describa los datos (Atributos, registros, rangos, distribuciones)\n",
        "* ¿Debe aplicar alguna técnica de limpieza?\n",
        "\n"
      ],
      "metadata": {
        "id": "eCJ5Ds9-5CTV"
      }
    },
    {
      "cell_type": "code",
      "source": [
        "df.info()"
      ],
      "metadata": {
        "colab": {
          "base_uri": "https://localhost:8080/"
        },
        "id": "sS4HEvVs5B4Y",
        "outputId": "5d00975c-0639-40b1-c1b1-99fa6fff6b11"
      },
      "execution_count": 93,
      "outputs": [
        {
          "output_type": "stream",
          "name": "stdout",
          "text": [
            "<class 'pandas.core.frame.DataFrame'>\n",
            "RangeIndex: 100 entries, 0 to 99\n",
            "Data columns (total 3 columns):\n",
            " #   Column   Non-Null Count  Dtype  \n",
            "---  ------   --------------  -----  \n",
            " 0   Test_1   100 non-null    float64\n",
            " 1   Test_2   100 non-null    float64\n",
            " 2   Results  100 non-null    int64  \n",
            "dtypes: float64(2), int64(1)\n",
            "memory usage: 2.5 KB\n"
          ]
        }
      ]
    },
    {
      "cell_type": "markdown",
      "source": [
        "### *Tareas A2*\n",
        "\n",
        "* Realice un diagrama de barras al target (concluya respecto al balance de las clases)"
      ],
      "metadata": {
        "id": "XtY_J-vJEa_H"
      }
    },
    {
      "cell_type": "code",
      "execution_count": 94,
      "metadata": {
        "colab": {
          "base_uri": "https://localhost:8080/",
          "height": 333
        },
        "id": "NrFREtdbY0vj",
        "outputId": "8e74122d-5584-4e59-8872-6858ae2d5f51"
      },
      "outputs": [
        {
          "output_type": "display_data",
          "data": {
            "text/plain": [
              "<Figure size 500x300 with 1 Axes>"
            ],
            "image/png": "[encoded data removed]"
          },
          "metadata": {}
        }
      ],
      "source": [
        "class_counts = df['Results'].value_counts()\n",
        "class_counts.plot(kind='bar')\n",
        "plt.xlabel('Clase')\n",
        "plt.ylabel('Número de muestras')\n",
        "plt.title('Distribución de clases')\n",
        "plt.show()"
      ]
    },
    {
      "cell_type": "code",
      "source": [
        "df.head(20)"
      ],
      "metadata": {
        "colab": {
          "base_uri": "https://localhost:8080/",
          "height": 676
        },
        "id": "RB9m54Po2rGN",
        "outputId": "b2502f88-1ed9-4aaf-fe9e-31cceb336902"
      },
      "execution_count": 95,
      "outputs": [
        {
          "output_type": "execute_result",
          "data": {
            "text/plain": [
              "       Test_1     Test_2  Results\n",
              "0   34.623660  78.024693        0\n",
              "1   30.286711  43.894998        0\n",
              "2   35.847409  72.902198        0\n",
              "3   60.182599  86.308552        1\n",
              "4   79.032736  75.344376        1\n",
              "5   45.083277  56.316372        0\n",
              "6   61.106665  96.511426        1\n",
              "7   75.024746  46.554014        1\n",
              "8   76.098787  87.420570        1\n",
              "9   84.432820  43.533393        1\n",
              "10  95.861555  38.225278        0\n",
              "11  75.013658  30.603263        0\n",
              "12  82.307053  76.481963        1\n",
              "13  69.364589  97.718692        1\n",
              "14  39.538339  76.036811        0\n",
              "15  53.971052  89.207350        1\n",
              "16  69.070144  52.740470        1\n",
              "17  67.946855  46.678574        0\n",
              "18  70.661510  92.927138        1\n",
              "19  76.978784  47.575964        1"
            ],
            "text/html": [
              "\n",
              "  <div id=\"df-523b1228-7f9c-4894-820c-394dde2d2e81\" class=\"colab-df-container\">\n",
              "    <div>\n",
              "<style scoped>\n",
              "    .dataframe tbody tr th:only-of-type {\n",
              "        vertical-align: middle;\n",
              "    }\n",
              "\n",
              "    .dataframe tbody tr th {\n",
              "        vertical-align: top;\n",
              "    }\n",
              "\n",
              "    .dataframe thead th {\n",
              "        text-align: right;\n",
              "    }\n",
              "</style>\n",
              "<table border=\"1\" class=\"dataframe\">\n",
              "  <thead>\n",
              "    <tr style=\"text-align: right;\">\n",
              "      <th></th>\n",
              "      <th>Test_1</th>\n",
              "      <th>Test_2</th>\n",
              "      <th>Results</th>\n",
              "    </tr>\n",
              "  </thead>\n",
              "  <tbody>\n",
              "    <tr>\n",
              "      <th>0</th>\n",
              "      <td>34.623660</td>\n",
              "      <td>78.024693</td>\n",
              "      <td>0</td>\n",
              "    </tr>\n",
              "    <tr>\n",
              "      <th>1</th>\n",
              "      <td>30.286711</td>\n",
              "      <td>43.894998</td>\n",
              "      <td>0</td>\n",
              "    </tr>\n",
              "    <tr>\n",
              "      <th>2</th>\n",
              "      <td>35.847409</td>\n",
              "      <td>72.902198</td>\n",
              "      <td>0</td>\n",
              "    </tr>\n",
              "    <tr>\n",
              "      <th>3</th>\n",
              "      <td>60.182599</td>\n",
              "      <td>86.308552</td>\n",
              "      <td>1</td>\n",
              "    </tr>\n",
              "    <tr>\n",
              "      <th>4</th>\n",
              "      <td>79.032736</td>\n",
              "      <td>75.344376</td>\n",
              "      <td>1</td>\n",
              "    </tr>\n",
              "    <tr>\n",
              "      <th>5</th>\n",
              "      <td>45.083277</td>\n",
              "      <td>56.316372</td>\n",
              "      <td>0</td>\n",
              "    </tr>\n",
              "    <tr>\n",
              "      <th>6</th>\n",
              "      <td>61.106665</td>\n",
              "      <td>96.511426</td>\n",
              "      <td>1</td>\n",
              "    </tr>\n",
              "    <tr>\n",
              "      <th>7</th>\n",
              "      <td>75.024746</td>\n",
              "      <td>46.554014</td>\n",
              "      <td>1</td>\n",
              "    </tr>\n",
              "    <tr>\n",
              "      <th>8</th>\n",
              "      <td>76.098787</td>\n",
              "      <td>87.420570</td>\n",
              "      <td>1</td>\n",
              "    </tr>\n",
              "    <tr>\n",
              "      <th>9</th>\n",
              "      <td>84.432820</td>\n",
              "      <td>43.533393</td>\n",
              "      <td>1</td>\n",
              "    </tr>\n",
              "    <tr>\n",
              "      <th>10</th>\n",
              "      <td>95.861555</td>\n",
              "      <td>38.225278</td>\n",
              "      <td>0</td>\n",
              "    </tr>\n",
              "    <tr>\n",
              "      <th>11</th>\n",
              "      <td>75.013658</td>\n",
              "      <td>30.603263</td>\n",
              "      <td>0</td>\n",
              "    </tr>\n",
              "    <tr>\n",
              "      <th>12</th>\n",
              "      <td>82.307053</td>\n",
              "      <td>76.481963</td>\n",
              "      <td>1</td>\n",
              "    </tr>\n",
              "    <tr>\n",
              "      <th>13</th>\n",
              "      <td>69.364589</td>\n",
              "      <td>97.718692</td>\n",
              "      <td>1</td>\n",
              "    </tr>\n",
              "    <tr>\n",
              "      <th>14</th>\n",
              "      <td>39.538339</td>\n",
              "      <td>76.036811</td>\n",
              "      <td>0</td>\n",
              "    </tr>\n",
              "    <tr>\n",
              "      <th>15</th>\n",
              "      <td>53.971052</td>\n",
              "      <td>89.207350</td>\n",
              "      <td>1</td>\n",
              "    </tr>\n",
              "    <tr>\n",
              "      <th>16</th>\n",
              "      <td>69.070144</td>\n",
              "      <td>52.740470</td>\n",
              "      <td>1</td>\n",
              "    </tr>\n",
              "    <tr>\n",
              "      <th>17</th>\n",
              "      <td>67.946855</td>\n",
              "      <td>46.678574</td>\n",
              "      <td>0</td>\n",
              "    </tr>\n",
              "    <tr>\n",
              "      <th>18</th>\n",
              "      <td>70.661510</td>\n",
              "      <td>92.927138</td>\n",
              "      <td>1</td>\n",
              "    </tr>\n",
              "    <tr>\n",
              "      <th>19</th>\n",
              "      <td>76.978784</td>\n",
              "      <td>47.575964</td>\n",
              "      <td>1</td>\n",
              "    </tr>\n",
              "  </tbody>\n",
              "</table>\n",
              "</div>\n",
              "    <div class=\"colab-df-buttons\">\n",
              "\n",
              "  <div class=\"colab-df-container\">\n",
              "    <button class=\"colab-df-convert\" onclick=\"convertToInteractive('df-523b1228-7f9c-4894-820c-394dde2d2e81')\"\n",
              "            title=\"Convert this dataframe to an interactive table.\"\n",
              "            style=\"display:none;\">\n",
              "\n",
              "  <svg xmlns=\"http://www.w3.org/2000/svg\" height=\"24px\" viewBox=\"0 -960 960 960\">\n",
              "    <path d=\"M120-120v-720h720v720H120Zm60-500h600v-160H180v160Zm220 220h160v-160H400v160Zm0 220h160v-160H400v160ZM180-400h160v-160H180v160Zm440 0h160v-160H620v160ZM180-180h160v-160H180v160Zm440 0h160v-160H620v160Z\"/>\n",
              "  </svg>\n",
              "    </button>\n",
              "\n",
              "  <style>\n",
              "    .colab-df-container {\n",
              "      display:flex;\n",
              "      gap: 12px;\n",
              "    }\n",
              "\n",
              "    .colab-df-convert {\n",
              "      background-color: #E8F0FE;\n",
              "      border: none;\n",
              "      border-radius: 50%;\n",
              "      cursor: pointer;\n",
              "      display: none;\n",
              "      fill: #1967D2;\n",
              "      height: 32px;\n",
              "      padding: 0 0 0 0;\n",
              "      width: 32px;\n",
              "    }\n",
              "\n",
              "    .colab-df-convert:hover {\n",
              "      background-color: #E2EBFA;\n",
              "      box-shadow: 0px 1px 2px rgba(60, 64, 67, 0.3), 0px 1px 3px 1px rgba(60, 64, 67, 0.15);\n",
              "      fill: #174EA6;\n",
              "    }\n",
              "\n",
              "    .colab-df-buttons div {\n",
              "      margin-bottom: 4px;\n",
              "    }\n",
              "\n",
              "    [theme=dark] .colab-df-convert {\n",
              "      background-color: #3B4455;\n",
              "      fill: #D2E3FC;\n",
              "    }\n",
              "\n",
              "    [theme=dark] .colab-df-convert:hover {\n",
              "      background-color: #434B5C;\n",
              "      box-shadow: 0px 1px 3px 1px rgba(0, 0, 0, 0.15);\n",
              "      filter: drop-shadow(0px 1px 2px rgba(0, 0, 0, 0.3));\n",
              "      fill: #FFFFFF;\n",
              "    }\n",
              "  </style>\n",
              "\n",
              "    <script>\n",
              "      const buttonEl =\n",
              "        document.querySelector('#df-523b1228-7f9c-4894-820c-394dde2d2e81 button.colab-df-convert');\n",
              "      buttonEl.style.display =\n",
              "        google.colab.kernel.accessAllowed ? 'block' : 'none';\n",
              "\n",
              "      async function convertToInteractive(key) {\n",
              "        const element = document.querySelector('#df-523b1228-7f9c-4894-820c-394dde2d2e81');\n",
              "        const dataTable =\n",
              "          await google.colab.kernel.invokeFunction('convertToInteractive',\n",
              "                                                    [key], {});\n",
              "        if (!dataTable) return;\n",
              "\n",
              "        const docLinkHtml = 'Like what you see? Visit the ' +\n",
              "          '<a target=\"_blank\" href=https://colab.research.google.com/notebooks/data_table.ipynb>data table notebook</a>'\n",
              "          + ' to learn more about interactive tables.';\n",
              "        element.innerHTML = '';\n",
              "        dataTable['output_type'] = 'display_data';\n",
              "        await google.colab.output.renderOutput(dataTable, element);\n",
              "        const docLink = document.createElement('div');\n",
              "        docLink.innerHTML = docLinkHtml;\n",
              "        element.appendChild(docLink);\n",
              "      }\n",
              "    </script>\n",
              "  </div>\n",
              "\n",
              "\n",
              "<div id=\"df-e327b46b-c006-4e5b-89bd-660393f58d83\">\n",
              "  <button class=\"colab-df-quickchart\" onclick=\"quickchart('df-e327b46b-c006-4e5b-89bd-660393f58d83')\"\n",
              "            title=\"Suggest charts\"\n",
              "            style=\"display:none;\">\n",
              "\n",
              "<svg xmlns=\"http://www.w3.org/2000/svg\" height=\"24px\"viewBox=\"0 0 24 24\"\n",
              "     width=\"24px\">\n",
              "    <g>\n",
              "        <path d=\"M19 3H5c-1.1 0-2 .9-2 2v14c0 1.1.9 2 2 2h14c1.1 0 2-.9 2-2V5c0-1.1-.9-2-2-2zM9 17H7v-7h2v7zm4 0h-2V7h2v10zm4 0h-2v-4h2v4z\"/>\n",
              "    </g>\n",
              "</svg>\n",
              "  </button>\n",
              "\n",
              "<style>\n",
              "  .colab-df-quickchart {\n",
              "      --bg-color: #E8F0FE;\n",
              "      --fill-color: #1967D2;\n",
              "      --hover-bg-color: #E2EBFA;\n",
              "      --hover-fill-color: #174EA6;\n",
              "      --disabled-fill-color: #AAA;\n",
              "      --disabled-bg-color: #DDD;\n",
              "  }\n",
              "\n",
              "  [theme=dark] .colab-df-quickchart {\n",
              "      --bg-color: #3B4455;\n",
              "      --fill-color: #D2E3FC;\n",
              "      --hover-bg-color: #434B5C;\n",
              "      --hover-fill-color: #FFFFFF;\n",
              "      --disabled-bg-color: #3B4455;\n",
              "      --disabled-fill-color: #666;\n",
              "  }\n",
              "\n",
              "  .colab-df-quickchart {\n",
              "    background-color: var(--bg-color);\n",
              "    border: none;\n",
              "    border-radius: 50%;\n",
              "    cursor: pointer;\n",
              "    display: none;\n",
              "    fill: var(--fill-color);\n",
              "    height: 32px;\n",
              "    padding: 0;\n",
              "    width: 32px;\n",
              "  }\n",
              "\n",
              "  .colab-df-quickchart:hover {\n",
              "    background-color: var(--hover-bg-color);\n",
              "    box-shadow: 0 1px 2px rgba(60, 64, 67, 0.3), 0 1px 3px 1px rgba(60, 64, 67, 0.15);\n",
              "    fill: var(--button-hover-fill-color);\n",
              "  }\n",
              "\n",
              "  .colab-df-quickchart-complete:disabled,\n",
              "  .colab-df-quickchart-complete:disabled:hover {\n",
              "    background-color: var(--disabled-bg-color);\n",
              "    fill: var(--disabled-fill-color);\n",
              "    box-shadow: none;\n",
              "  }\n",
              "\n",
              "  .colab-df-spinner {\n",
              "    border: 2px solid var(--fill-color);\n",
              "    border-color: transparent;\n",
              "    border-bottom-color: var(--fill-color);\n",
              "    animation:\n",
              "      spin 1s steps(1) infinite;\n",
              "  }\n",
              "\n",
              "  @keyframes spin {\n",
              "    0% {\n",
              "      border-color: transparent;\n",
              "      border-bottom-color: var(--fill-color);\n",
              "      border-left-color: var(--fill-color);\n",
              "    }\n",
              "    20% {\n",
              "      border-color: transparent;\n",
              "      border-left-color: var(--fill-color);\n",
              "      border-top-color: var(--fill-color);\n",
              "    }\n",
              "    30% {\n",
              "      border-color: transparent;\n",
              "      border-left-color: var(--fill-color);\n",
              "      border-top-color: var(--fill-color);\n",
              "      border-right-color: var(--fill-color);\n",
              "    }\n",
              "    40% {\n",
              "      border-color: transparent;\n",
              "      border-right-color: var(--fill-color);\n",
              "      border-top-color: var(--fill-color);\n",
              "    }\n",
              "    60% {\n",
              "      border-color: transparent;\n",
              "      border-right-color: var(--fill-color);\n",
              "    }\n",
              "    80% {\n",
              "      border-color: transparent;\n",
              "      border-right-color: var(--fill-color);\n",
              "      border-bottom-color: var(--fill-color);\n",
              "    }\n",
              "    90% {\n",
              "      border-color: transparent;\n",
              "      border-bottom-color: var(--fill-color);\n",
              "    }\n",
              "  }\n",
              "</style>\n",
              "\n",
              "  <script>\n",
              "    async function quickchart(key) {\n",
              "      const quickchartButtonEl =\n",
              "        document.querySelector('#' + key + ' button');\n",
              "      quickchartButtonEl.disabled = true;  // To prevent multiple clicks.\n",
              "      quickchartButtonEl.classList.add('colab-df-spinner');\n",
              "      try {\n",
              "        const charts = await google.colab.kernel.invokeFunction(\n",
              "            'suggestCharts', [key], {});\n",
              "      } catch (error) {\n",
              "        console.error('Error during call to suggestCharts:', error);\n",
              "      }\n",
              "      quickchartButtonEl.classList.remove('colab-df-spinner');\n",
              "      quickchartButtonEl.classList.add('colab-df-quickchart-complete');\n",
              "    }\n",
              "    (() => {\n",
              "      let quickchartButtonEl =\n",
              "        document.querySelector('#df-e327b46b-c006-4e5b-89bd-660393f58d83 button');\n",
              "      quickchartButtonEl.style.display =\n",
              "        google.colab.kernel.accessAllowed ? 'block' : 'none';\n",
              "    })();\n",
              "  </script>\n",
              "</div>\n",
              "\n",
              "    </div>\n",
              "  </div>\n"
            ],
            "application/vnd.google.colaboratory.intrinsic+json": {
              "type": "dataframe",
              "variable_name": "df",
              "summary": "{\n  \"name\": \"df\",\n  \"rows\": 100,\n  \"fields\": [\n    {\n      \"column\": \"Test_1\",\n      \"properties\": {\n        \"dtype\": \"number\",\n        \"std\": 19.458222275425072,\n        \"min\": 30.05882244669796,\n        \"max\": 99.82785779692128,\n        \"num_unique_values\": 100,\n        \"samples\": [\n          57.23870631569862,\n          34.52451385320009,\n          32.72283304060323\n        ],\n        \"semantic_type\": \"\",\n        \"description\": \"\"\n      }\n    },\n    {\n      \"column\": \"Test_2\",\n      \"properties\": {\n        \"dtype\": \"number\",\n        \"std\": 18.582783039307344,\n        \"min\": 30.60326323428011,\n        \"max\": 98.86943574220612,\n        \"num_unique_values\": 100,\n        \"samples\": [\n          59.51428198012956,\n          60.39634245837173,\n          43.30717306430063\n        ],\n        \"semantic_type\": \"\",\n        \"description\": \"\"\n      }\n    },\n    {\n      \"column\": \"Results\",\n      \"properties\": {\n        \"dtype\": \"number\",\n        \"std\": 0,\n        \"min\": 0,\n        \"max\": 1,\n        \"num_unique_values\": 2,\n        \"samples\": [\n          1,\n          0\n        ],\n        \"semantic_type\": \"\",\n        \"description\": \"\"\n      }\n    }\n  ]\n}"
            }
          },
          "metadata": {},
          "execution_count": 95
        }
      ]
    },
    {
      "cell_type": "code",
      "source": [
        "resultado_Test1 = df['Results'][df['Test_1'] > 85]\n",
        "resultado_Test1\n"
      ],
      "metadata": {
        "colab": {
          "base_uri": "https://localhost:8080/",
          "height": 617
        },
        "id": "WsKQzOMP10e3",
        "outputId": "f1c9d55f-a880-4aad-a670-145502e96d7d"
      },
      "execution_count": 96,
      "outputs": [
        {
          "output_type": "execute_result",
          "data": {
            "text/plain": [
              "10    0\n",
              "21    1\n",
              "27    0\n",
              "31    1\n",
              "42    1\n",
              "47    1\n",
              "49    1\n",
              "51    1\n",
              "52    1\n",
              "56    1\n",
              "75    1\n",
              "80    1\n",
              "81    1\n",
              "90    1\n",
              "91    1\n",
              "94    1\n",
              "97    1\n",
              "Name: Results, dtype: int64"
            ],
            "text/html": [
              "<div>\n",
              "<style scoped>\n",
              "    .dataframe tbody tr th:only-of-type {\n",
              "        vertical-align: middle;\n",
              "    }\n",
              "\n",
              "    .dataframe tbody tr th {\n",
              "        vertical-align: top;\n",
              "    }\n",
              "\n",
              "    .dataframe thead th {\n",
              "        text-align: right;\n",
              "    }\n",
              "</style>\n",
              "<table border=\"1\" class=\"dataframe\">\n",
              "  <thead>\n",
              "    <tr style=\"text-align: right;\">\n",
              "      <th></th>\n",
              "      <th>Results</th>\n",
              "    </tr>\n",
              "  </thead>\n",
              "  <tbody>\n",
              "    <tr>\n",
              "      <th>10</th>\n",
              "      <td>0</td>\n",
              "    </tr>\n",
              "    <tr>\n",
              "      <th>21</th>\n",
              "      <td>1</td>\n",
              "    </tr>\n",
              "    <tr>\n",
              "      <th>27</th>\n",
              "      <td>0</td>\n",
              "    </tr>\n",
              "    <tr>\n",
              "      <th>31</th>\n",
              "      <td>1</td>\n",
              "    </tr>\n",
              "    <tr>\n",
              "      <th>42</th>\n",
              "      <td>1</td>\n",
              "    </tr>\n",
              "    <tr>\n",
              "      <th>47</th>\n",
              "      <td>1</td>\n",
              "    </tr>\n",
              "    <tr>\n",
              "      <th>49</th>\n",
              "      <td>1</td>\n",
              "    </tr>\n",
              "    <tr>\n",
              "      <th>51</th>\n",
              "      <td>1</td>\n",
              "    </tr>\n",
              "    <tr>\n",
              "      <th>52</th>\n",
              "      <td>1</td>\n",
              "    </tr>\n",
              "    <tr>\n",
              "      <th>56</th>\n",
              "      <td>1</td>\n",
              "    </tr>\n",
              "    <tr>\n",
              "      <th>75</th>\n",
              "      <td>1</td>\n",
              "    </tr>\n",
              "    <tr>\n",
              "      <th>80</th>\n",
              "      <td>1</td>\n",
              "    </tr>\n",
              "    <tr>\n",
              "      <th>81</th>\n",
              "      <td>1</td>\n",
              "    </tr>\n",
              "    <tr>\n",
              "      <th>90</th>\n",
              "      <td>1</td>\n",
              "    </tr>\n",
              "    <tr>\n",
              "      <th>91</th>\n",
              "      <td>1</td>\n",
              "    </tr>\n",
              "    <tr>\n",
              "      <th>94</th>\n",
              "      <td>1</td>\n",
              "    </tr>\n",
              "    <tr>\n",
              "      <th>97</th>\n",
              "      <td>1</td>\n",
              "    </tr>\n",
              "  </tbody>\n",
              "</table>\n",
              "</div><br><label><b>dtype:</b> int64</label>"
            ]
          },
          "metadata": {},
          "execution_count": 96
        }
      ]
    },
    {
      "cell_type": "markdown",
      "metadata": {
        "id": "oExLo73lY0vk"
      },
      "source": [
        "### **Actividad 3: Construya un diagrama de las clases de data set**\n",
        "---"
      ]
    },
    {
      "cell_type": "markdown",
      "source": [
        "### *Tareas A3*\n",
        "\n",
        "Las siguientes líneas de código grafican el diagrama de dispersión (scatter) de los datos de los que no aprobaron\n",
        "\n",
        "* Ingresa la línea de código para que gráfique la clase que si aprobó con un triangulo verde\n",
        "*  Complete los títulos de la gra´fica y los ejes"
      ],
      "metadata": {
        "id": "A3EVH3quCVpm"
      }
    },
    {
      "cell_type": "code",
      "execution_count": 97,
      "metadata": {
        "colab": {
          "base_uri": "https://localhost:8080/",
          "height": 339
        },
        "id": "DVPjbmyYY0vk",
        "outputId": "5272ce4e-1e89-4941-b2ea-af4c3396c97d"
      },
      "outputs": [
        {
          "output_type": "display_data",
          "data": {
            "text/plain": [
              "<Figure size 500x300 with 1 Axes>"
            ],
            "image/png": "[encoded data removed]"
          },
          "metadata": {}
        }
      ],
      "source": [
        "target = df['Results']\n",
        "\n",
        "plt.scatter(df['Test_1'][target == 0], df['Test_2'][target== 0], alpha=0.5, label='No aprobó (0)', marker='X', color='red')\n",
        "plt.scatter(df['Test_1'][target == 1], df['Test_2'][target == 1], alpha=1, label='Aprobo (1)', marker='^', color='green')\n",
        "\n",
        "plt.title('Qué título tiene está grafica')\n",
        "plt.xlabel('cuál es el x?')\n",
        "plt.ylabel('cuál es el y?')\n",
        "plt.legend()\n",
        "plt.grid(True)\n",
        "plt.show()"
      ]
    },
    {
      "cell_type": "markdown",
      "metadata": {
        "id": "whFa8CdFY0vk"
      },
      "source": [
        "### **Actividad 4: Defina una función para calcular la función sigmoid**\n",
        "---\n",
        "\n",
        "$$ h(z) = \\frac{1}{1+e^{-z}}$$"
      ]
    },
    {
      "cell_type": "code",
      "source": [
        "def sigmoid(x):\n",
        "    return 1 / (1 + np.exp(-x))"
      ],
      "metadata": {
        "id": "2K0K3JySvfVk"
      },
      "execution_count": 98,
      "outputs": []
    },
    {
      "cell_type": "markdown",
      "source": [
        "### *Tareas A4*\n",
        "\n",
        "En clases pasadas desarrollamos la función de para en cálculo de la sigmoid\n",
        "\n",
        "* Copia la función y grafica en un rango de -10 a 10\n",
        "* Describa la función sigmoid\n",
        "* Cuál es el rango de la función sigmoid? Es decir en qué valores existe la función?"
      ],
      "metadata": {
        "id": "imKJDEfrHwlm"
      }
    },
    {
      "cell_type": "markdown",
      "metadata": {
        "id": "99tSO2zMY0vl"
      },
      "source": [
        "### Actividad 5: Cálculo de la función de costos $J(\\theta)$\n",
        "---"
      ]
    },
    {
      "cell_type": "markdown",
      "metadata": {
        "id": "Omcly6RDY0vl"
      },
      "source": [
        "El objetivo de la regresión log´stica es minimizar la función de costo\n",
        "\n",
        "$$J(\\theta) = -\\frac{1}{m} \\sum_{i=1}^{m} [ y^{(i)}log(h_{\\theta}(x^{(i)})) + (1 - y^{(i)})log(1 - (h_{\\theta}(x^{(i)}))]$$\n",
        "\n",
        "donde el gradiente de la función de costo está dado por\n",
        "\n",
        "$$ \\frac{\\partial J(\\theta)}{\\partial \\theta_j} = \\frac{1}{m} \\sum_{i=1}^{m} (h_{\\theta}(x^{(i)}) - y^{(i)})x_j^{(i)}$$"
      ]
    },
    {
      "cell_type": "markdown",
      "source": [
        "### *Tareas A5*\n",
        "\n",
        "* Contruya una función para calcular la función de costo\n",
        "* Construya una gráfica con plot(h,y) para graficar la función de costo.\n",
        "1. Genere un vector de datos con todos los posibles valores de h\n",
        "2. Grafique un plot cuando  y = 0\n",
        "3. Grafique un plot cuando  y = 1\n",
        "\n",
        "* Concluya"
      ],
      "metadata": {
        "id": "LXOjxwEJI-Wi"
      }
    },
    {
      "cell_type": "code",
      "source": [],
      "metadata": {
        "id": "0mDjFGGOMXTL"
      },
      "execution_count": 98,
      "outputs": []
    },
    {
      "cell_type": "code",
      "execution_count": 99,
      "metadata": {
        "colab": {
          "base_uri": "https://localhost:8080/",
          "height": 571
        },
        "id": "TtD8ITgbY0vl",
        "outputId": "00f5938b-1c1f-45d1-f3e3-f76956227d93"
      },
      "outputs": [
        {
          "output_type": "display_data",
          "data": {
            "text/plain": [
              "<Figure size 800x600 with 1 Axes>"
            ],
            "image/png": "[encoded data removed]"
          },
          "metadata": {}
        }
      ],
      "source": [
        "# Definir la función de costo para logistic regression\n",
        "def cost_function(h, y):\n",
        "    h = np.clip(h, 1e-10, 1 - 1e-10)  # Avoid log(0)\n",
        "    return -y * np.log(h) - (1 - y) * np.log(1 - h)\n",
        "\n",
        "# Crear valores de h (predicción) desde casi 0 hasta casi 1\n",
        "h_values = np.linspace(0.01, 0.99, 100)\n",
        "\n",
        "# Calcular el costo para y=0 y y=1\n",
        "cost_for_y0 = cost_function(h_values, 0)\n",
        "cost_for_y1 = cost_function(h_values, 1)\n",
        "\n",
        "# Graficar las funciones de costo\n",
        "plt.figure(figsize=(8, 6))\n",
        "plt.plot(h_values, cost_for_y0, label='Costo cuando y=0', color='blue')\n",
        "plt.plot(h_values, cost_for_y1, label='Costo cuando y=1', color='red')\n",
        "plt.title('Función de Costo para Logistic Regression')\n",
        "plt.xlabel('h_θ(x) (Predicción)')\n",
        "plt.ylabel('Costo')\n",
        "plt.legend()\n",
        "plt.grid(True)\n",
        "plt.show()"
      ]
    },
    {
      "cell_type": "markdown",
      "source": [
        "### Actividad 6: Actualización de los parámetros $(\\theta)$\n",
        "---\n",
        "\n",
        "Modificar la fucnión desarrolladas en RGD para ajustarla a la hipotesisi de la Reg logistica\n",
        "\n",
        "\n",
        "El objetivo del **gradiente descendente** es minimizar la **función de costo** ajustando los parámetrosdata:image/png;base64,"
      ],
      "metadata": {
        "id": "QUaxpZ3rEHKv"
      }
    },
    {
      "cell_type": "code",
      "source": [
        "from statsmodels.tools.tools import add_constant"
      ],
      "metadata": {
        "id": "BWHhAT9yzFyY"
      },
      "execution_count": 100,
      "outputs": []
    },
    {
      "cell_type": "code",
      "source": [
        "# Fuente del codigo original\n",
        "\n",
        "\n",
        "\n",
        "def my_RLog(X,Y,alpha,theta,n_iteraciones):\n",
        "  m = len(Y) #Se calcila el numero de registro (ejemplos de entrenamiento) y se guardan en m\n",
        "  Y = np.reshape(Y,(-1,1))\n",
        "  # Se reemplaza cost_history = np.zeros(n_iteraciones)\n",
        "  # Por\n",
        "\n",
        "  cost_history =[]\n",
        "\n",
        "# Que hago para guardar el valor del costo\n",
        " # cost_history.append(cost)\n",
        "\n",
        "\n",
        "  for i in range(n_iteraciones):\n",
        "    # H = sigmo de (z) =1 / (1 + exp(-(t0+t1X1+t2X2)))\n",
        "    H = sigmoid(np.dot(X,theta))\n",
        "\n",
        "  # Actualización de paramatero\n",
        "    # theta = theta - alpha * (1/m) * np.dot(X1.T,(H-Y))\n",
        "    theta -=  alpha * (1/m) * np.dot(X1.T,(H-Y)) # es la formula de arriba pero mas resumida\n",
        "\n",
        "    # Llamando la función que calculael del costo\n",
        "    # cost_history[i] = cost_function(H,Y)\n",
        "    cost= cost_function(H,Y)\n",
        "\n",
        "\n",
        "\n",
        "\n",
        "\n",
        "\n",
        "    # Guarda los valores del costo en la iteracion i-ésima\n",
        "    # cost_history[i] = cost_function(H,Y)\n",
        "    cost_history.append(cost)\n",
        "    # cost_history.append(cost_function(H,Y))\n",
        "\n",
        "  return theta, cost_history"
      ],
      "metadata": {
        "id": "rgB_FTCc1TEl"
      },
      "execution_count": 101,
      "outputs": []
    },
    {
      "cell_type": "markdown",
      "metadata": {
        "id": "MfT-d55JY0vl"
      },
      "source": [
        "### Actividad 7: Entrenamiento\n",
        "---\n",
        "\n",
        "* Definifir los atributos y objetivo\n",
        "* Modelar los atributos con la componente de unos para $(\\theta_0)$ (**bias**)\n",
        "* Definir hiperparámetros\n",
        "* Fit ( Entrenar) en con la función de la actividad 6"
      ]
    },
    {
      "cell_type": "code",
      "source": [
        "Y = df['Results'] # Target\n",
        "X = df[['Test_1','Test_2']] # Atributos\n",
        "# X = add_constant(X) # Agregar unos pata theta_0\n",
        "# X =np.c_[A,B] : concatena A,B\n",
        "X = np.c_[np.ones((X.shape[0],1)),X]\n",
        "alpha = 0.01\n",
        "n_iteraciones = 1000"
      ],
      "metadata": {
        "id": "lJu1WtYJEqMa"
      },
      "execution_count": 104,
      "outputs": []
    },
    {
      "cell_type": "code",
      "source": [
        "theta = np.random.randn(3,1)\n",
        "print('Parámetros iniciales')\n",
        "print(theta)"
      ],
      "metadata": {
        "colab": {
          "base_uri": "https://localhost:8080/"
        },
        "id": "MWJISkESFZ9F",
        "outputId": "3f5c1aed-bd54-4251-89e8-dbba66af0578"
      },
      "execution_count": 105,
      "outputs": [
        {
          "output_type": "stream",
          "name": "stdout",
          "text": [
            "Parámetros iniciales\n",
            "[[-0.75165057]\n",
            " [ 0.41161176]\n",
            " [-0.22706727]]\n"
          ]
        }
      ]
    },
    {
      "cell_type": "code",
      "source": [
        "theta, cost_history = my_RLog(X,Y,alpha,theta,n_iteraciones)\n",
        "print('Parámetros finales')\n",
        "print(theta)"
      ],
      "metadata": {
        "colab": {
          "base_uri": "https://localhost:8080/"
        },
        "id": "dUW1etp-NOv7",
        "outputId": "3c2dcf18-770c-4077-ea39-d297f38355bb"
      },
      "execution_count": 106,
      "outputs": [
        {
          "output_type": "stream",
          "name": "stdout",
          "text": [
            "Parámetros finales\n",
            "[[-1.51620969]\n",
            " [ 0.57265516]\n",
            " [ 0.11430095]]\n"
          ]
        }
      ]
    },
    {
      "cell_type": "code",
      "source": [
        "theta, cost_history = my_RLog(X,Y,alpha,theta,n_iteraciones)\n",
        "print('Parámetros finales')\n",
        "print(theta)"
      ],
      "metadata": {
        "colab": {
          "base_uri": "https://localhost:8080/"
        },
        "id": "dZhRu-gbGzYE",
        "outputId": "8225543a-c06f-4e5e-be3b-f1d18161f248"
      },
      "execution_count": 107,
      "outputs": [
        {
          "output_type": "stream",
          "name": "stdout",
          "text": [
            "Parámetros finales\n",
            "[[-2.28754607]\n",
            " [ 0.37044223]\n",
            " [-0.09808065]]\n"
          ]
        }
      ]
    },
    {
      "cell_type": "code",
      "source": [
        "len(cost_history)"
      ],
      "metadata": {
        "colab": {
          "base_uri": "https://localhost:8080/"
        },
        "id": "xUkKOup6OKhe",
        "outputId": "adf516a9-1875-4e22-967b-e12c0394ce0b"
      },
      "execution_count": 108,
      "outputs": [
        {
          "output_type": "execute_result",
          "data": {
            "text/plain": [
              "1000"
            ]
          },
          "metadata": {},
          "execution_count": 108
        }
      ]
    },
    {
      "cell_type": "code",
      "source": [
        "def predict(X, theta):\n",
        "  H = sigmoid(np.dot(X, theta))\n",
        "  return H"
      ],
      "metadata": {
        "id": "9ud2AeulOQm4"
      },
      "execution_count": 109,
      "outputs": []
    },
    {
      "cell_type": "code",
      "source": [
        "H = predict(X, theta)\n",
        "np.c_[H,Y]"
      ],
      "metadata": {
        "colab": {
          "base_uri": "https://localhost:8080/"
        },
        "id": "fsFIwLRBQB2f",
        "outputId": "e1d133ed-a9be-470f-e5ec-4d3b9eaad35c"
      },
      "execution_count": 111,
      "outputs": [
        {
          "output_type": "execute_result",
          "data": {
            "text/plain": [
              "array([[0.94714035, 0.        ],\n",
              "       [0.99030767, 0.        ],\n",
              "       [0.97899062, 0.        ],\n",
              "       [0.99999028, 1.        ],\n",
              "       [1.        , 1.        ],\n",
              "       [0.99986221, 0.        ],\n",
              "       [0.99998123, 1.        ],\n",
              "       [1.        , 1.        ],\n",
              "       [0.99999997, 1.        ],\n",
              "       [1.        , 1.        ],\n",
              "       [1.        , 0.        ],\n",
              "       [1.        , 0.        ],\n",
              "       [1.        , 1.        ],\n",
              "       [0.99999901, 1.        ],\n",
              "       [0.99261861, 0.        ],\n",
              "       [0.99987107, 1.        ],\n",
              "       [0.99999999, 1.        ],\n",
              "       [0.99999999, 0.        ],\n",
              "       [0.99999962, 1.        ],\n",
              "       [1.        , 1.        ],\n",
              "       [0.99999999, 0.        ],\n",
              "       [1.        , 1.        ],\n",
              "       [0.9999912 , 0.        ],\n",
              "       [0.99764756, 0.        ],\n",
              "       [1.        , 1.        ],\n",
              "       [0.9999991 , 1.        ],\n",
              "       [1.        , 1.        ],\n",
              "       [1.        , 0.        ],\n",
              "       [0.99999985, 0.        ],\n",
              "       [0.99668354, 0.        ],\n",
              "       [0.99999834, 1.        ],\n",
              "       [1.        , 1.        ],\n",
              "       [0.99998008, 0.        ],\n",
              "       [0.99996217, 1.        ],\n",
              "       [0.99645166, 0.        ],\n",
              "       [0.99999732, 0.        ],\n",
              "       [0.6408393 , 0.        ],\n",
              "       [0.9999987 , 1.        ],\n",
              "       [1.        , 0.        ],\n",
              "       [0.95240004, 0.        ],\n",
              "       [1.        , 1.        ],\n",
              "       [0.99999503, 0.        ],\n",
              "       [1.        , 1.        ],\n",
              "       [1.        , 0.        ],\n",
              "       [0.9999946 , 0.        ],\n",
              "       [0.99999984, 0.        ],\n",
              "       [1.        , 1.        ],\n",
              "       [1.        , 1.        ],\n",
              "       [0.99998654, 1.        ],\n",
              "       [1.        , 1.        ],\n",
              "       [1.        , 1.        ],\n",
              "       [1.        , 1.        ],\n",
              "       [1.        , 1.        ],\n",
              "       [0.98982988, 0.        ],\n",
              "       [0.99998941, 0.        ],\n",
              "       [0.9999634 , 0.        ],\n",
              "       [1.        , 1.        ],\n",
              "       [0.59966197, 0.        ],\n",
              "       [0.99999999, 1.        ],\n",
              "       [0.99999994, 1.        ],\n",
              "       [0.99999997, 1.        ],\n",
              "       [0.99791753, 0.        ],\n",
              "       [0.99999959, 0.        ],\n",
              "       [0.98171823, 0.        ],\n",
              "       [0.99956598, 0.        ],\n",
              "       [0.99999999, 0.        ],\n",
              "       [0.95824662, 1.        ],\n",
              "       [0.99997965, 0.        ],\n",
              "       [0.99999999, 1.        ],\n",
              "       [0.99999993, 1.        ],\n",
              "       [0.9962669 , 0.        ],\n",
              "       [0.99999897, 1.        ],\n",
              "       [0.99999972, 1.        ],\n",
              "       [0.9999976 , 1.        ],\n",
              "       [0.99999427, 1.        ],\n",
              "       [1.        , 1.        ],\n",
              "       [0.99856243, 1.        ],\n",
              "       [0.9998727 , 1.        ],\n",
              "       [0.99999988, 0.        ],\n",
              "       [1.        , 0.        ],\n",
              "       [1.        , 1.        ],\n",
              "       [1.        , 1.        ],\n",
              "       [0.9999999 , 1.        ],\n",
              "       [0.99999791, 1.        ],\n",
              "       [0.99999999, 1.        ],\n",
              "       [0.99999958, 1.        ],\n",
              "       [0.99618819, 0.        ],\n",
              "       [0.99999995, 1.        ],\n",
              "       [0.99999997, 1.        ],\n",
              "       [0.99998554, 0.        ],\n",
              "       [1.        , 1.        ],\n",
              "       [1.        , 1.        ],\n",
              "       [0.99999962, 0.        ],\n",
              "       [0.99999996, 1.        ],\n",
              "       [1.        , 1.        ],\n",
              "       [1.        , 1.        ],\n",
              "       [0.99203554, 1.        ],\n",
              "       [1.        , 1.        ],\n",
              "       [0.99999282, 1.        ],\n",
              "       [0.99999994, 1.        ]])"
            ]
          },
          "metadata": {},
          "execution_count": 111
        }
      ]
    },
    {
      "cell_type": "markdown",
      "metadata": {
        "id": "iUpG_CgrY0vm"
      },
      "source": [
        "### Task 6: Cost and Gradient at Initialization\n",
        "---"
      ]
    },
    {
      "cell_type": "code",
      "execution_count": null,
      "metadata": {
        "id": "AhKmyeJZY0vm"
      },
      "outputs": [],
      "source": []
    },
    {
      "cell_type": "code",
      "execution_count": null,
      "metadata": {
        "id": "xYHVnDQjY0vm"
      },
      "outputs": [],
      "source": []
    },
    {
      "cell_type": "markdown",
      "metadata": {
        "id": "QhW7qvvRY0vm"
      },
      "source": []
    },
    {
      "cell_type": "markdown",
      "metadata": {
        "id": "N96R0A0rY0vm"
      },
      "source": [
        "### Task 7: Gradient Descent\n",
        "---"
      ]
    },
    {
      "cell_type": "markdown",
      "metadata": {
        "id": "rOWv0yirY0vm"
      },
      "source": [
        "Minimize the cost function $J(\\theta)$ by updating the below equation and repeat until convergence\n",
        "$\\theta_j := \\theta_j - \\alpha \\frac{\\partial J(\\theta)}{\\partial \\theta_j}$ (simultaneously update $\\theta_j$ for all $j$)"
      ]
    },
    {
      "cell_type": "code",
      "execution_count": 32,
      "metadata": {
        "id": "G15IM7WrY0vm"
      },
      "outputs": [],
      "source": []
    },
    {
      "cell_type": "code",
      "execution_count": 32,
      "metadata": {
        "id": "7b9fYBhlY0vm"
      },
      "outputs": [],
      "source": []
    },
    {
      "cell_type": "code",
      "execution_count": 32,
      "metadata": {
        "id": "54ZIga03Y0vm"
      },
      "outputs": [],
      "source": []
    },
    {
      "cell_type": "markdown",
      "metadata": {
        "id": "f0cuff_eY0vn"
      },
      "source": []
    },
    {
      "cell_type": "markdown",
      "metadata": {
        "id": "MwH6POp8Y0vn"
      },
      "source": [
        "### Task 8: Plotting the Convergence of $J(\\theta)$\n",
        "---"
      ]
    },
    {
      "cell_type": "markdown",
      "metadata": {
        "id": "-lgJ5XL4Y0vn"
      },
      "source": [
        "Plot $J(\\theta)$ against the number of iterations of gradient descent:"
      ]
    },
    {
      "cell_type": "code",
      "execution_count": null,
      "metadata": {
        "id": "Gxs9zt64Y0vn"
      },
      "outputs": [],
      "source": []
    },
    {
      "cell_type": "code",
      "execution_count": null,
      "metadata": {
        "id": "o2h_ZeXuY0vn"
      },
      "outputs": [],
      "source": []
    },
    {
      "cell_type": "markdown",
      "metadata": {
        "id": "yb0_3PXsY0vn"
      },
      "source": []
    },
    {
      "cell_type": "markdown",
      "metadata": {
        "id": "lp8u-dkeY0vn"
      },
      "source": [
        "### Task 9: Plotting the decision boundary\n",
        "---"
      ]
    },
    {
      "cell_type": "markdown",
      "metadata": {
        "id": "_c8hz25jY0vn"
      },
      "source": [
        "$h_\\theta(x) = \\sigma(z)$, where $\\sigma$ is the logistic sigmoid function and $z = \\theta^Tx$\n",
        "\n",
        "When $h_\\theta(x) \\geq 0.5$ the model predicts class \"1\":\n",
        "\n",
        "$\\implies \\sigma(\\theta^Tx) \\geq 0.5$\n",
        "\n",
        "$\\implies \\theta^Tx \\geq 0$ predict class \"1\"\n",
        "\n",
        "Hence, $\\theta_1 + \\theta_2x_2 + \\theta_3x_3 = 0$ is the equation for the decision boundary, giving us\n",
        "\n",
        "$ x_3 = \\frac{-(\\theta_1+\\theta_2x_2)}{\\theta_3}$"
      ]
    },
    {
      "cell_type": "code",
      "execution_count": null,
      "metadata": {
        "id": "epA6IINhY0vn"
      },
      "outputs": [],
      "source": []
    },
    {
      "cell_type": "code",
      "execution_count": null,
      "metadata": {
        "id": "34D47MgiY0vo"
      },
      "outputs": [],
      "source": []
    },
    {
      "cell_type": "markdown",
      "metadata": {
        "id": "DLCxf5AmY0vo"
      },
      "source": []
    },
    {
      "cell_type": "markdown",
      "metadata": {
        "id": "fsHewQ6CY0vo"
      },
      "source": [
        "### Task 10: Predictions using the optimized $\\theta$ values\n",
        "---"
      ]
    },
    {
      "cell_type": "markdown",
      "metadata": {
        "id": "vDjEJPU_Y0vo"
      },
      "source": [
        "$h_\\theta(x) = x\\theta$"
      ]
    },
    {
      "cell_type": "code",
      "execution_count": null,
      "metadata": {
        "id": "ZCDnqXysY0vs"
      },
      "outputs": [],
      "source": []
    },
    {
      "cell_type": "code",
      "execution_count": null,
      "metadata": {
        "id": "Y9173QR8Y0vt"
      },
      "outputs": [],
      "source": []
    },
    {
      "cell_type": "code",
      "execution_count": null,
      "metadata": {
        "id": "_CmNGvTyY0vt"
      },
      "outputs": [],
      "source": []
    }
  ],
  "metadata": {
    "kernelspec": {
      "display_name": "Python 3 (ipykernel)",
      "language": "python",
      "name": "python3"
    },
    "language_info": {
      "codemirror_mode": {
        "name": "ipython",
        "version": 3
      },
      "file_extension": ".py",
      "mimetype": "text/x-python",
      "name": "python",
      "nbconvert_exporter": "python",
      "pygments_lexer": "ipython3",
      "version": "3.10.6"
    },
    "colab": {
      "provenance": [],
      "include_colab_link": true
    }
  },
  "nbformat": 4,
  "nbformat_minor": 0
}
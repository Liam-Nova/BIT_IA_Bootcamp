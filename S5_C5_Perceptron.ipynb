{
  "nbformat": 4,
  "nbformat_minor": 0,
  "metadata": {
    "colab": {
      "provenance": [],
      "authorship_tag": "ABX9TyNSKUVN6UgkMAM3PmsVYSS7",
      "include_colab_link": true
    },
    "kernelspec": {
      "name": "python3",
      "display_name": "Python 3"
    },
    "language_info": {
      "name": "python"
    }
  },
  "cells": [
    {
      "cell_type": "markdown",
      "metadata": {
        "id": "view-in-github",
        "colab_type": "text"
      },
      "source": [
        "<a href=\"https://colab.research.google.com/github/Liam-Nova/BIT_IA_Bootcamp/blob/main/S5_C5_Perceptron.ipynb\" target=\"_parent\"><img src=\"https://colab.research.google.com/assets/colab-badge.svg\" alt=\"Open In Colab\"/></a>"
      ]
    },
    {
      "cell_type": "code",
      "source": [
        "import pandas as pd\n",
        "import numpy as np\n",
        "import matplotlib.pyplot as plt\n",
        "import seaborn as sns"
      ],
      "metadata": {
        "id": "70Vf5ZK3UPFK"
      },
      "execution_count": null,
      "outputs": []
    },
    {
      "cell_type": "markdown",
      "source": [
        "# Parte 1. Cargar los datos limpios"
      ],
      "metadata": {
        "id": "sXchpx0ZUvCw"
      }
    },
    {
      "cell_type": "code",
      "source": [
        "from google.colab import drive # Conectanonos con google drive\n",
        "drive.mount('/content/drive')\n",
        "\n",
        "import os    # la librería necesaria para la ruta de la carpeta\n",
        "folder_path = '/content/drive/MyDrive/Colab Notebooks/BIT_Bootcam_IA/DataSET' # ruta de la carpeta\n",
        "os.chdir(folder_path) # ruta de la carpeta\n",
        "\n",
        "#mostar lista de archivos\n",
        "os.listdir()"
      ],
      "metadata": {
        "colab": {
          "base_uri": "https://localhost:8080/"
        },
        "id": "DHDAOh-LSijx",
        "outputId": "d70629b5-4db5-4b83-9b96-9e507e7a1e94"
      },
      "execution_count": null,
      "outputs": [
        {
          "output_type": "stream",
          "name": "stdout",
          "text": [
            "Mounted at /content/drive\n"
          ]
        },
        {
          "output_type": "execute_result",
          "data": {
            "text/plain": [
              "['marketing_campaign.csv',\n",
              " 'marketing_campaign.xlsx',\n",
              " 'marketing_extract_2X_Income.xlsx',\n",
              " 'linear_regression_model (1).pkl',\n",
              " 'poly_regression_model (1).pkl',\n",
              " 'auto-mpg.names',\n",
              " 'auto-mpg.data-original',\n",
              " 'auto-mpg.data',\n",
              " 'Index',\n",
              " 'mpg-limpios-procesados.xlsx',\n",
              " 'Classification_Tests.csv',\n",
              " 'heart_attack_risk_dataset.csv',\n",
              " 'generated_classification_data.csv',\n",
              " 'Mall_Customers.csv']"
            ]
          },
          "metadata": {},
          "execution_count": 1
        }
      ]
    },
    {
      "cell_type": "code",
      "source": [
        "df = pd.read_csv('generated_classification_data.csv')\n",
        "df.head()"
      ],
      "metadata": {
        "colab": {
          "base_uri": "https://localhost:8080/",
          "height": 206
        },
        "id": "UhHyRm0zUaIW",
        "outputId": "e976695a-e3af-4a86-fa20-d5e1133069a4"
      },
      "execution_count": null,
      "outputs": [
        {
          "output_type": "execute_result",
          "data": {
            "text/plain": [
              "    Imput 1   Imput 2  Target\n",
              "0  0.989532 -3.214553       1\n",
              "1 -0.971155  2.464751       0\n",
              "2 -1.090155  1.333711       0\n",
              "3 -0.958417  1.125960       0\n",
              "4  1.053018 -0.258581       1"
            ],
            "text/html": [
              "\n",
              "  <div id=\"df-cc78f2c7-5beb-4d49-b17d-ed91ab74faf9\" class=\"colab-df-container\">\n",
              "    <div>\n",
              "<style scoped>\n",
              "    .dataframe tbody tr th:only-of-type {\n",
              "        vertical-align: middle;\n",
              "    }\n",
              "\n",
              "    .dataframe tbody tr th {\n",
              "        vertical-align: top;\n",
              "    }\n",
              "\n",
              "    .dataframe thead th {\n",
              "        text-align: right;\n",
              "    }\n",
              "</style>\n",
              "<table border=\"1\" class=\"dataframe\">\n",
              "  <thead>\n",
              "    <tr style=\"text-align: right;\">\n",
              "      <th></th>\n",
              "      <th>Imput 1</th>\n",
              "      <th>Imput 2</th>\n",
              "      <th>Target</th>\n",
              "    </tr>\n",
              "  </thead>\n",
              "  <tbody>\n",
              "    <tr>\n",
              "      <th>0</th>\n",
              "      <td>0.989532</td>\n",
              "      <td>-3.214553</td>\n",
              "      <td>1</td>\n",
              "    </tr>\n",
              "    <tr>\n",
              "      <th>1</th>\n",
              "      <td>-0.971155</td>\n",
              "      <td>2.464751</td>\n",
              "      <td>0</td>\n",
              "    </tr>\n",
              "    <tr>\n",
              "      <th>2</th>\n",
              "      <td>-1.090155</td>\n",
              "      <td>1.333711</td>\n",
              "      <td>0</td>\n",
              "    </tr>\n",
              "    <tr>\n",
              "      <th>3</th>\n",
              "      <td>-0.958417</td>\n",
              "      <td>1.125960</td>\n",
              "      <td>0</td>\n",
              "    </tr>\n",
              "    <tr>\n",
              "      <th>4</th>\n",
              "      <td>1.053018</td>\n",
              "      <td>-0.258581</td>\n",
              "      <td>1</td>\n",
              "    </tr>\n",
              "  </tbody>\n",
              "</table>\n",
              "</div>\n",
              "    <div class=\"colab-df-buttons\">\n",
              "\n",
              "  <div class=\"colab-df-container\">\n",
              "    <button class=\"colab-df-convert\" onclick=\"convertToInteractive('df-cc78f2c7-5beb-4d49-b17d-ed91ab74faf9')\"\n",
              "            title=\"Convert this dataframe to an interactive table.\"\n",
              "            style=\"display:none;\">\n",
              "\n",
              "  <svg xmlns=\"http://www.w3.org/2000/svg\" height=\"24px\" viewBox=\"0 -960 960 960\">\n",
              "    <path d=\"M120-120v-720h720v720H120Zm60-500h600v-160H180v160Zm220 220h160v-160H400v160Zm0 220h160v-160H400v160ZM180-400h160v-160H180v160Zm440 0h160v-160H620v160ZM180-180h160v-160H180v160Zm440 0h160v-160H620v160Z\"/>\n",
              "  </svg>\n",
              "    </button>\n",
              "\n",
              "  <style>\n",
              "    .colab-df-container {\n",
              "      display:flex;\n",
              "      gap: 12px;\n",
              "    }\n",
              "\n",
              "    .colab-df-convert {\n",
              "      background-color: #E8F0FE;\n",
              "      border: none;\n",
              "      border-radius: 50%;\n",
              "      cursor: pointer;\n",
              "      display: none;\n",
              "      fill: #1967D2;\n",
              "      height: 32px;\n",
              "      padding: 0 0 0 0;\n",
              "      width: 32px;\n",
              "    }\n",
              "\n",
              "    .colab-df-convert:hover {\n",
              "      background-color: #E2EBFA;\n",
              "      box-shadow: 0px 1px 2px rgba(60, 64, 67, 0.3), 0px 1px 3px 1px rgba(60, 64, 67, 0.15);\n",
              "      fill: #174EA6;\n",
              "    }\n",
              "\n",
              "    .colab-df-buttons div {\n",
              "      margin-bottom: 4px;\n",
              "    }\n",
              "\n",
              "    [theme=dark] .colab-df-convert {\n",
              "      background-color: #3B4455;\n",
              "      fill: #D2E3FC;\n",
              "    }\n",
              "\n",
              "    [theme=dark] .colab-df-convert:hover {\n",
              "      background-color: #434B5C;\n",
              "      box-shadow: 0px 1px 3px 1px rgba(0, 0, 0, 0.15);\n",
              "      filter: drop-shadow(0px 1px 2px rgba(0, 0, 0, 0.3));\n",
              "      fill: #FFFFFF;\n",
              "    }\n",
              "  </style>\n",
              "\n",
              "    <script>\n",
              "      const buttonEl =\n",
              "        document.querySelector('#df-cc78f2c7-5beb-4d49-b17d-ed91ab74faf9 button.colab-df-convert');\n",
              "      buttonEl.style.display =\n",
              "        google.colab.kernel.accessAllowed ? 'block' : 'none';\n",
              "\n",
              "      async function convertToInteractive(key) {\n",
              "        const element = document.querySelector('#df-cc78f2c7-5beb-4d49-b17d-ed91ab74faf9');\n",
              "        const dataTable =\n",
              "          await google.colab.kernel.invokeFunction('convertToInteractive',\n",
              "                                                    [key], {});\n",
              "        if (!dataTable) return;\n",
              "\n",
              "        const docLinkHtml = 'Like what you see? Visit the ' +\n",
              "          '<a target=\"_blank\" href=https://colab.research.google.com/notebooks/data_table.ipynb>data table notebook</a>'\n",
              "          + ' to learn more about interactive tables.';\n",
              "        element.innerHTML = '';\n",
              "        dataTable['output_type'] = 'display_data';\n",
              "        await google.colab.output.renderOutput(dataTable, element);\n",
              "        const docLink = document.createElement('div');\n",
              "        docLink.innerHTML = docLinkHtml;\n",
              "        element.appendChild(docLink);\n",
              "      }\n",
              "    </script>\n",
              "  </div>\n",
              "\n",
              "\n",
              "<div id=\"df-14d033d4-9071-48db-a366-8b0e872accb3\">\n",
              "  <button class=\"colab-df-quickchart\" onclick=\"quickchart('df-14d033d4-9071-48db-a366-8b0e872accb3')\"\n",
              "            title=\"Suggest charts\"\n",
              "            style=\"display:none;\">\n",
              "\n",
              "<svg xmlns=\"http://www.w3.org/2000/svg\" height=\"24px\"viewBox=\"0 0 24 24\"\n",
              "     width=\"24px\">\n",
              "    <g>\n",
              "        <path d=\"M19 3H5c-1.1 0-2 .9-2 2v14c0 1.1.9 2 2 2h14c1.1 0 2-.9 2-2V5c0-1.1-.9-2-2-2zM9 17H7v-7h2v7zm4 0h-2V7h2v10zm4 0h-2v-4h2v4z\"/>\n",
              "    </g>\n",
              "</svg>\n",
              "  </button>\n",
              "\n",
              "<style>\n",
              "  .colab-df-quickchart {\n",
              "      --bg-color: #E8F0FE;\n",
              "      --fill-color: #1967D2;\n",
              "      --hover-bg-color: #E2EBFA;\n",
              "      --hover-fill-color: #174EA6;\n",
              "      --disabled-fill-color: #AAA;\n",
              "      --disabled-bg-color: #DDD;\n",
              "  }\n",
              "\n",
              "  [theme=dark] .colab-df-quickchart {\n",
              "      --bg-color: #3B4455;\n",
              "      --fill-color: #D2E3FC;\n",
              "      --hover-bg-color: #434B5C;\n",
              "      --hover-fill-color: #FFFFFF;\n",
              "      --disabled-bg-color: #3B4455;\n",
              "      --disabled-fill-color: #666;\n",
              "  }\n",
              "\n",
              "  .colab-df-quickchart {\n",
              "    background-color: var(--bg-color);\n",
              "    border: none;\n",
              "    border-radius: 50%;\n",
              "    cursor: pointer;\n",
              "    display: none;\n",
              "    fill: var(--fill-color);\n",
              "    height: 32px;\n",
              "    padding: 0;\n",
              "    width: 32px;\n",
              "  }\n",
              "\n",
              "  .colab-df-quickchart:hover {\n",
              "    background-color: var(--hover-bg-color);\n",
              "    box-shadow: 0 1px 2px rgba(60, 64, 67, 0.3), 0 1px 3px 1px rgba(60, 64, 67, 0.15);\n",
              "    fill: var(--button-hover-fill-color);\n",
              "  }\n",
              "\n",
              "  .colab-df-quickchart-complete:disabled,\n",
              "  .colab-df-quickchart-complete:disabled:hover {\n",
              "    background-color: var(--disabled-bg-color);\n",
              "    fill: var(--disabled-fill-color);\n",
              "    box-shadow: none;\n",
              "  }\n",
              "\n",
              "  .colab-df-spinner {\n",
              "    border: 2px solid var(--fill-color);\n",
              "    border-color: transparent;\n",
              "    border-bottom-color: var(--fill-color);\n",
              "    animation:\n",
              "      spin 1s steps(1) infinite;\n",
              "  }\n",
              "\n",
              "  @keyframes spin {\n",
              "    0% {\n",
              "      border-color: transparent;\n",
              "      border-bottom-color: var(--fill-color);\n",
              "      border-left-color: var(--fill-color);\n",
              "    }\n",
              "    20% {\n",
              "      border-color: transparent;\n",
              "      border-left-color: var(--fill-color);\n",
              "      border-top-color: var(--fill-color);\n",
              "    }\n",
              "    30% {\n",
              "      border-color: transparent;\n",
              "      border-left-color: var(--fill-color);\n",
              "      border-top-color: var(--fill-color);\n",
              "      border-right-color: var(--fill-color);\n",
              "    }\n",
              "    40% {\n",
              "      border-color: transparent;\n",
              "      border-right-color: var(--fill-color);\n",
              "      border-top-color: var(--fill-color);\n",
              "    }\n",
              "    60% {\n",
              "      border-color: transparent;\n",
              "      border-right-color: var(--fill-color);\n",
              "    }\n",
              "    80% {\n",
              "      border-color: transparent;\n",
              "      border-right-color: var(--fill-color);\n",
              "      border-bottom-color: var(--fill-color);\n",
              "    }\n",
              "    90% {\n",
              "      border-color: transparent;\n",
              "      border-bottom-color: var(--fill-color);\n",
              "    }\n",
              "  }\n",
              "</style>\n",
              "\n",
              "  <script>\n",
              "    async function quickchart(key) {\n",
              "      const quickchartButtonEl =\n",
              "        document.querySelector('#' + key + ' button');\n",
              "      quickchartButtonEl.disabled = true;  // To prevent multiple clicks.\n",
              "      quickchartButtonEl.classList.add('colab-df-spinner');\n",
              "      try {\n",
              "        const charts = await google.colab.kernel.invokeFunction(\n",
              "            'suggestCharts', [key], {});\n",
              "      } catch (error) {\n",
              "        console.error('Error during call to suggestCharts:', error);\n",
              "      }\n",
              "      quickchartButtonEl.classList.remove('colab-df-spinner');\n",
              "      quickchartButtonEl.classList.add('colab-df-quickchart-complete');\n",
              "    }\n",
              "    (() => {\n",
              "      let quickchartButtonEl =\n",
              "        document.querySelector('#df-14d033d4-9071-48db-a366-8b0e872accb3 button');\n",
              "      quickchartButtonEl.style.display =\n",
              "        google.colab.kernel.accessAllowed ? 'block' : 'none';\n",
              "    })();\n",
              "  </script>\n",
              "</div>\n",
              "\n",
              "    </div>\n",
              "  </div>\n"
            ],
            "application/vnd.google.colaboratory.intrinsic+json": {
              "type": "dataframe",
              "variable_name": "df",
              "summary": "{\n  \"name\": \"df\",\n  \"rows\": 200,\n  \"fields\": [\n    {\n      \"column\": \"Imput 1\",\n      \"properties\": {\n        \"dtype\": \"number\",\n        \"std\": 1.0056272695083555,\n        \"min\": -1.22067387428625,\n        \"max\": 1.2176729913663755,\n        \"num_unique_values\": 200,\n        \"samples\": [\n          1.0332763396275004,\n          1.0594204871547437,\n          1.125722795004987\n        ],\n        \"semantic_type\": \"\",\n        \"description\": \"\"\n      }\n    },\n    {\n      \"column\": \"Imput 2\",\n      \"properties\": {\n        \"dtype\": \"number\",\n        \"std\": 1.036944656727678,\n        \"min\": -3.214553345504064,\n        \"max\": 2.9216544063496968,\n        \"num_unique_values\": 200,\n        \"samples\": [\n          -1.6639208239386236,\n          0.4033879097666887,\n          -0.7018764169835423\n        ],\n        \"semantic_type\": \"\",\n        \"description\": \"\"\n      }\n    },\n    {\n      \"column\": \"Target\",\n      \"properties\": {\n        \"dtype\": \"number\",\n        \"std\": 0,\n        \"min\": 0,\n        \"max\": 1,\n        \"num_unique_values\": 2,\n        \"samples\": [\n          0,\n          1\n        ],\n        \"semantic_type\": \"\",\n        \"description\": \"\"\n      }\n    }\n  ]\n}"
            }
          },
          "metadata": {},
          "execution_count": 3
        }
      ]
    },
    {
      "cell_type": "markdown",
      "source": [
        "# Parte 2. Seleccionas los conjuntos de entrenamiento y prueba"
      ],
      "metadata": {
        "id": "oIGmn3DTU4rF"
      }
    },
    {
      "cell_type": "code",
      "source": [
        "import sklearn\n",
        "from sklearn.model_selection import train_test_split"
      ],
      "metadata": {
        "id": "QlXSVPzjV9Oa"
      },
      "execution_count": null,
      "outputs": []
    },
    {
      "cell_type": "code",
      "source": [
        "X = df.drop('Target', axis=1)\n",
        "Y = df['Target']"
      ],
      "metadata": {
        "id": "5ex4WmrNVAK5"
      },
      "execution_count": null,
      "outputs": []
    },
    {
      "cell_type": "code",
      "source": [
        "# X = df[['Imput 1', 'Imput 2']] hay doble corchetes\n",
        "# y = df['Target'] ojo con las mayusculas"
      ],
      "metadata": {
        "id": "inxoB_FkWsj1"
      },
      "execution_count": null,
      "outputs": []
    },
    {
      "cell_type": "code",
      "source": [
        "X_train, X_test, Y_train, Y_test = train_test_split(X, Y, test_size=0.2, random_state=42)"
      ],
      "metadata": {
        "id": "tjX3iOdKWRrR"
      },
      "execution_count": null,
      "outputs": []
    },
    {
      "cell_type": "markdown",
      "source": [
        "# Parte 3. Inicializar **parámetros** (pesos) e hiperparámetros\n",
        "\n",
        "* Bias\n",
        "* Weights"
      ],
      "metadata": {
        "id": "N5DKz8xFWWXW"
      }
    },
    {
      "cell_type": "markdown",
      "source": [
        "## BIAS\n",
        "\n",
        "* El bias en un perceptrón es un término adicional que se agrega a la función de activación del modelo.\n",
        "* Matemáticamente, se incluye como un término independiente en la ecuación del perceptrón:\n",
        "* El intercepto (c) en una ecuación de línea recta (y = mx + c) Este término permite que la línea no siempre pase por el origen, lo que es crucial para representar relaciones más complejas.\n",
        "* es el punto de origen de los datos cuando (x = 0)\n",
        "* En resumen, el bias amplía la capacidad del perceptrón para aprender patrones en los datos al permitir que la función de activación se ajuste a diferentes ubicaciones en el espacio."
      ],
      "metadata": {
        "id": "BF9GNquVWsYs"
      }
    },
    {
      "cell_type": "markdown",
      "source": [
        "## WEIGHTS\n",
        "\n",
        "*  son valores numéricos que determinan la importancia que se le asigna a cada entrada del modelo durante el cálculo de la salida\n",
        "* Entradas con pesos altos tienen un impacto mayor en la salida, mientras que entradas con pesos bajos tienen menos impacto.\n",
        "* Los pesos se ajustan usando un algoritmo de aprendizaje, como el descenso de gradiente, con el objetivo de minimizar el error entre las predicciones del perceptrón y las salidas deseadas."
      ],
      "metadata": {
        "id": "8xAEKnMtXaMJ"
      }
    },
    {
      "cell_type": "markdown",
      "source": [
        "## LEARNING RATE\n",
        "\n",
        "\n",
        "El learning rate (tasa de aprendizaje) es un hiperparámetro que controla la magnitud del ajuste realizado a los pesos durante el proceso de aprendizaje.\n",
        "\n",
        "* Es un valor numérico que determina qué tan grande es el paso que el algoritmo da hacia una mejor solución en cada iteración del proceso de entrenamiento.\n",
        "* Importancia del Learning Rate\n",
        "  * Learning rate bajo:\n",
        "    * El modelo realiza pequeños ajustes en cada iteración.\n",
        "    * Puede tardar más tiempo en converger hacia la solución óptima.\n",
        "    * Es menos probable que se \"salte\" la solución óptima.\n",
        "  * Learning rate alto:\n",
        "    * El modelo realiza grandes ajustes en cada iteración.\n",
        "    * Puede converger más rápido.\n",
        "    * Sin embargo, si el valor es demasiado alto, podría oscilar alrededor de la solución óptima o no converger."
      ],
      "metadata": {
        "id": "1pmhBYXwZVmj"
      }
    },
    {
      "cell_type": "markdown",
      "source": [
        "## EPOCHS\n",
        "\n",
        "* **Número de veces** que el modelo completa un recorrido completo por el conjunto de datos de entrenamiento.\n",
        "* Durante un epoch, cada muestra del conjunto de datos pasa por el modelo una vez y se ajustan los pesos del perceptrón (o red neuronal) basándose en el error observado.\n",
        "\n",
        "En este punto se puede producir el **Overfitting**"
      ],
      "metadata": {
        "id": "ATsVkJfJbWZz"
      }
    },
    {
      "cell_type": "code",
      "source": [
        "weights = np.random.rand(2) # pesos de las entradas al perceptron W11 y W12\n",
        "bias = np.random.rand(1)\n",
        "    # np.random.rand genera un numero al azar(random) float entre el [0] y el [1]\n",
        "    # el () es : (la cantidad de numeros generados en un array)\n",
        "\n",
        "epochs = 100 # variable\n",
        "#learning_rate = 0.001\n"
      ],
      "metadata": {
        "id": "lZqEX2xxWhY2"
      },
      "execution_count": null,
      "outputs": []
    },
    {
      "cell_type": "code",
      "source": [
        "epochs"
      ],
      "metadata": {
        "colab": {
          "base_uri": "https://localhost:8080/"
        },
        "id": "p3PdKxNaLoKs",
        "outputId": "641e6d06-166c-432e-a1af-f55d0b2f11fb"
      },
      "execution_count": null,
      "outputs": [
        {
          "output_type": "execute_result",
          "data": {
            "text/plain": [
              "100"
            ]
          },
          "metadata": {},
          "execution_count": 14
        }
      ]
    },
    {
      "cell_type": "code",
      "source": [
        "bias #"
      ],
      "metadata": {
        "colab": {
          "base_uri": "https://localhost:8080/"
        },
        "id": "1HvO6rsOUN5L",
        "outputId": "64f30c48-00aa-4e51-b09a-9a0fce67e599"
      },
      "execution_count": null,
      "outputs": [
        {
          "output_type": "execute_result",
          "data": {
            "text/plain": [
              "array([0.87555541])"
            ]
          },
          "metadata": {},
          "execution_count": 14
        }
      ]
    },
    {
      "cell_type": "markdown",
      "source": [
        "# Parte 4. Entrenamiento del Pérceptron (.fit())"
      ],
      "metadata": {
        "id": "sk75Ls-DZKrw"
      }
    },
    {
      "cell_type": "code",
      "source": [
        "#n = bias + W11*Imput 1 + W12*Imput 2\n",
        "# X_train['Imput 1', 'Imput 2']\n",
        "n_output =bias + np.dot(X_train, weights) # np.dot multiplicacion de dos matrices\n",
        "n_output.shape # .shape cuenta la cantidad de datos en el array y genera una tupla con ese valor"
      ],
      "metadata": {
        "colab": {
          "base_uri": "https://localhost:8080/"
        },
        "id": "PgUN5YxyZrqa",
        "outputId": "bf153cb1-bd5f-48ea-9b57-a8650d561e0d"
      },
      "execution_count": null,
      "outputs": [
        {
          "output_type": "execute_result",
          "data": {
            "text/plain": [
              "(160,)"
            ]
          },
          "metadata": {},
          "execution_count": 15
        }
      ]
    },
    {
      "cell_type": "code",
      "source": [
        "print(n_output) # muestra el array despues de aplicar bias y weights"
      ],
      "metadata": {
        "colab": {
          "base_uri": "https://localhost:8080/"
        },
        "collapsed": true,
        "id": "jhlJ178epQPW",
        "outputId": "bdd0ca46-7e78-4c3b-d0ba-663544b6f3f9"
      },
      "execution_count": null,
      "outputs": [
        {
          "output_type": "stream",
          "name": "stdout",
          "text": [
            "[ 0.59147984  0.09010403  0.70007162  0.9115768   0.93640098  2.21161406\n",
            "  0.73630555  0.41027294  0.6017032  -0.98956974 -0.74686052 -0.01031846\n",
            "  2.39808599  1.35308167  2.66008023  0.5125755   0.56373773  0.45229036\n",
            "  1.23234754  1.90717325  0.7335005   0.21446639  0.98007134  1.03240893\n",
            "  0.230042    0.15001005 -0.75380552  0.54968626  0.29106486  0.53803799\n",
            " -0.13160353  0.97741219  0.38814465  0.70283205  1.38604753 -0.21100537\n",
            "  0.06393124  0.81641268  0.09687619  0.44199353  1.0069888  -1.15608003\n",
            "  0.05655178  0.60653153 -0.46922031 -0.20894795  0.23308518  1.34817777\n",
            "  0.42993819  0.16508418  0.69547414  0.87237243  1.37058917  1.12120481\n",
            "  0.10785349  0.09518256  1.34181232  0.74379538  0.17789234 -0.44703418\n",
            "  0.73733367 -1.37108656  0.53394484  0.98635318  1.24355572  0.61692459\n",
            " -0.48016236  1.72436961  2.52168921  0.56815519 -0.42320545 -1.35719918\n",
            "  0.6745547   0.41472865  0.88007964 -0.1079436   2.96641363  1.62069241\n",
            "  1.15270821  0.49661391  0.68023487 -0.14001648  1.16872073  0.757395\n",
            "  1.01141688 -0.75144067 -0.64212501  1.4872973  -0.05698189  0.57691739\n",
            "  1.24756525  0.06812776  0.47934567  2.22807237  0.60119491  0.3689032\n",
            "  0.91348904 -0.24404304  0.0369143   1.25326306  0.22231424  1.93484476\n",
            "  1.23592177  1.3168399   1.47643177 -0.35045491  0.52729955  0.57057039\n",
            "  1.76703484  0.41249122  0.91629711  0.47113882 -0.43114076  0.30305575\n",
            "  1.68512041 -0.18489934  1.23652974  0.96435276  1.47544293 -0.68172476\n",
            "  0.18977342  0.74441258  0.75554214  0.72371951 -0.40617199  0.25949284\n",
            "  0.66755522  0.01775174  1.86883977 -1.14628608  0.91872459 -0.04743982\n",
            "  0.12473411  0.06419287  1.5443326  -0.73965304  0.83011908 -0.14407866\n",
            "  0.69175123  1.20201295  1.84576386  0.35527984 -0.05435768  0.86412744\n",
            " -0.32652521 -1.11841484  1.07950692  1.20277533  1.17368211  0.99217096\n",
            " -0.48303242  1.02599742  0.77492347  2.03212111  0.49951343  1.09590649\n",
            "  1.48102126  1.02690774  0.58883279 -0.66028784]\n"
          ]
        }
      ]
    },
    {
      "cell_type": "code",
      "source": [
        "X_train.head(5)"
      ],
      "metadata": {
        "colab": {
          "base_uri": "https://localhost:8080/",
          "height": 206
        },
        "id": "2Rxp1JgbpCzx",
        "outputId": "6fad22f3-799f-49a5-9c83-d278b8d02d1c"
      },
      "execution_count": null,
      "outputs": [
        {
          "output_type": "execute_result",
          "data": {
            "text/plain": [
              "      Imput 1   Imput 2\n",
              "79  -0.937922  0.654473\n",
              "197 -0.859060 -0.106086\n",
              "38   0.925460 -0.239958\n",
              "24  -1.087940  1.196182\n",
              "122  1.093657  0.002867"
            ],
            "text/html": [
              "\n",
              "  <div id=\"df-4dcdd88a-9837-4137-9e64-037e8f852583\" class=\"colab-df-container\">\n",
              "    <div>\n",
              "<style scoped>\n",
              "    .dataframe tbody tr th:only-of-type {\n",
              "        vertical-align: middle;\n",
              "    }\n",
              "\n",
              "    .dataframe tbody tr th {\n",
              "        vertical-align: top;\n",
              "    }\n",
              "\n",
              "    .dataframe thead th {\n",
              "        text-align: right;\n",
              "    }\n",
              "</style>\n",
              "<table border=\"1\" class=\"dataframe\">\n",
              "  <thead>\n",
              "    <tr style=\"text-align: right;\">\n",
              "      <th></th>\n",
              "      <th>Imput 1</th>\n",
              "      <th>Imput 2</th>\n",
              "    </tr>\n",
              "  </thead>\n",
              "  <tbody>\n",
              "    <tr>\n",
              "      <th>79</th>\n",
              "      <td>-0.937922</td>\n",
              "      <td>0.654473</td>\n",
              "    </tr>\n",
              "    <tr>\n",
              "      <th>197</th>\n",
              "      <td>-0.859060</td>\n",
              "      <td>-0.106086</td>\n",
              "    </tr>\n",
              "    <tr>\n",
              "      <th>38</th>\n",
              "      <td>0.925460</td>\n",
              "      <td>-0.239958</td>\n",
              "    </tr>\n",
              "    <tr>\n",
              "      <th>24</th>\n",
              "      <td>-1.087940</td>\n",
              "      <td>1.196182</td>\n",
              "    </tr>\n",
              "    <tr>\n",
              "      <th>122</th>\n",
              "      <td>1.093657</td>\n",
              "      <td>0.002867</td>\n",
              "    </tr>\n",
              "  </tbody>\n",
              "</table>\n",
              "</div>\n",
              "    <div class=\"colab-df-buttons\">\n",
              "\n",
              "  <div class=\"colab-df-container\">\n",
              "    <button class=\"colab-df-convert\" onclick=\"convertToInteractive('df-4dcdd88a-9837-4137-9e64-037e8f852583')\"\n",
              "            title=\"Convert this dataframe to an interactive table.\"\n",
              "            style=\"display:none;\">\n",
              "\n",
              "  <svg xmlns=\"http://www.w3.org/2000/svg\" height=\"24px\" viewBox=\"0 -960 960 960\">\n",
              "    <path d=\"M120-120v-720h720v720H120Zm60-500h600v-160H180v160Zm220 220h160v-160H400v160Zm0 220h160v-160H400v160ZM180-400h160v-160H180v160Zm440 0h160v-160H620v160ZM180-180h160v-160H180v160Zm440 0h160v-160H620v160Z\"/>\n",
              "  </svg>\n",
              "    </button>\n",
              "\n",
              "  <style>\n",
              "    .colab-df-container {\n",
              "      display:flex;\n",
              "      gap: 12px;\n",
              "    }\n",
              "\n",
              "    .colab-df-convert {\n",
              "      background-color: #E8F0FE;\n",
              "      border: none;\n",
              "      border-radius: 50%;\n",
              "      cursor: pointer;\n",
              "      display: none;\n",
              "      fill: #1967D2;\n",
              "      height: 32px;\n",
              "      padding: 0 0 0 0;\n",
              "      width: 32px;\n",
              "    }\n",
              "\n",
              "    .colab-df-convert:hover {\n",
              "      background-color: #E2EBFA;\n",
              "      box-shadow: 0px 1px 2px rgba(60, 64, 67, 0.3), 0px 1px 3px 1px rgba(60, 64, 67, 0.15);\n",
              "      fill: #174EA6;\n",
              "    }\n",
              "\n",
              "    .colab-df-buttons div {\n",
              "      margin-bottom: 4px;\n",
              "    }\n",
              "\n",
              "    [theme=dark] .colab-df-convert {\n",
              "      background-color: #3B4455;\n",
              "      fill: #D2E3FC;\n",
              "    }\n",
              "\n",
              "    [theme=dark] .colab-df-convert:hover {\n",
              "      background-color: #434B5C;\n",
              "      box-shadow: 0px 1px 3px 1px rgba(0, 0, 0, 0.15);\n",
              "      filter: drop-shadow(0px 1px 2px rgba(0, 0, 0, 0.3));\n",
              "      fill: #FFFFFF;\n",
              "    }\n",
              "  </style>\n",
              "\n",
              "    <script>\n",
              "      const buttonEl =\n",
              "        document.querySelector('#df-4dcdd88a-9837-4137-9e64-037e8f852583 button.colab-df-convert');\n",
              "      buttonEl.style.display =\n",
              "        google.colab.kernel.accessAllowed ? 'block' : 'none';\n",
              "\n",
              "      async function convertToInteractive(key) {\n",
              "        const element = document.querySelector('#df-4dcdd88a-9837-4137-9e64-037e8f852583');\n",
              "        const dataTable =\n",
              "          await google.colab.kernel.invokeFunction('convertToInteractive',\n",
              "                                                    [key], {});\n",
              "        if (!dataTable) return;\n",
              "\n",
              "        const docLinkHtml = 'Like what you see? Visit the ' +\n",
              "          '<a target=\"_blank\" href=https://colab.research.google.com/notebooks/data_table.ipynb>data table notebook</a>'\n",
              "          + ' to learn more about interactive tables.';\n",
              "        element.innerHTML = '';\n",
              "        dataTable['output_type'] = 'display_data';\n",
              "        await google.colab.output.renderOutput(dataTable, element);\n",
              "        const docLink = document.createElement('div');\n",
              "        docLink.innerHTML = docLinkHtml;\n",
              "        element.appendChild(docLink);\n",
              "      }\n",
              "    </script>\n",
              "  </div>\n",
              "\n",
              "\n",
              "<div id=\"df-db0ec2ad-c7cc-49a5-a4e3-ebd83d27eed2\">\n",
              "  <button class=\"colab-df-quickchart\" onclick=\"quickchart('df-db0ec2ad-c7cc-49a5-a4e3-ebd83d27eed2')\"\n",
              "            title=\"Suggest charts\"\n",
              "            style=\"display:none;\">\n",
              "\n",
              "<svg xmlns=\"http://www.w3.org/2000/svg\" height=\"24px\"viewBox=\"0 0 24 24\"\n",
              "     width=\"24px\">\n",
              "    <g>\n",
              "        <path d=\"M19 3H5c-1.1 0-2 .9-2 2v14c0 1.1.9 2 2 2h14c1.1 0 2-.9 2-2V5c0-1.1-.9-2-2-2zM9 17H7v-7h2v7zm4 0h-2V7h2v10zm4 0h-2v-4h2v4z\"/>\n",
              "    </g>\n",
              "</svg>\n",
              "  </button>\n",
              "\n",
              "<style>\n",
              "  .colab-df-quickchart {\n",
              "      --bg-color: #E8F0FE;\n",
              "      --fill-color: #1967D2;\n",
              "      --hover-bg-color: #E2EBFA;\n",
              "      --hover-fill-color: #174EA6;\n",
              "      --disabled-fill-color: #AAA;\n",
              "      --disabled-bg-color: #DDD;\n",
              "  }\n",
              "\n",
              "  [theme=dark] .colab-df-quickchart {\n",
              "      --bg-color: #3B4455;\n",
              "      --fill-color: #D2E3FC;\n",
              "      --hover-bg-color: #434B5C;\n",
              "      --hover-fill-color: #FFFFFF;\n",
              "      --disabled-bg-color: #3B4455;\n",
              "      --disabled-fill-color: #666;\n",
              "  }\n",
              "\n",
              "  .colab-df-quickchart {\n",
              "    background-color: var(--bg-color);\n",
              "    border: none;\n",
              "    border-radius: 50%;\n",
              "    cursor: pointer;\n",
              "    display: none;\n",
              "    fill: var(--fill-color);\n",
              "    height: 32px;\n",
              "    padding: 0;\n",
              "    width: 32px;\n",
              "  }\n",
              "\n",
              "  .colab-df-quickchart:hover {\n",
              "    background-color: var(--hover-bg-color);\n",
              "    box-shadow: 0 1px 2px rgba(60, 64, 67, 0.3), 0 1px 3px 1px rgba(60, 64, 67, 0.15);\n",
              "    fill: var(--button-hover-fill-color);\n",
              "  }\n",
              "\n",
              "  .colab-df-quickchart-complete:disabled,\n",
              "  .colab-df-quickchart-complete:disabled:hover {\n",
              "    background-color: var(--disabled-bg-color);\n",
              "    fill: var(--disabled-fill-color);\n",
              "    box-shadow: none;\n",
              "  }\n",
              "\n",
              "  .colab-df-spinner {\n",
              "    border: 2px solid var(--fill-color);\n",
              "    border-color: transparent;\n",
              "    border-bottom-color: var(--fill-color);\n",
              "    animation:\n",
              "      spin 1s steps(1) infinite;\n",
              "  }\n",
              "\n",
              "  @keyframes spin {\n",
              "    0% {\n",
              "      border-color: transparent;\n",
              "      border-bottom-color: var(--fill-color);\n",
              "      border-left-color: var(--fill-color);\n",
              "    }\n",
              "    20% {\n",
              "      border-color: transparent;\n",
              "      border-left-color: var(--fill-color);\n",
              "      border-top-color: var(--fill-color);\n",
              "    }\n",
              "    30% {\n",
              "      border-color: transparent;\n",
              "      border-left-color: var(--fill-color);\n",
              "      border-top-color: var(--fill-color);\n",
              "      border-right-color: var(--fill-color);\n",
              "    }\n",
              "    40% {\n",
              "      border-color: transparent;\n",
              "      border-right-color: var(--fill-color);\n",
              "      border-top-color: var(--fill-color);\n",
              "    }\n",
              "    60% {\n",
              "      border-color: transparent;\n",
              "      border-right-color: var(--fill-color);\n",
              "    }\n",
              "    80% {\n",
              "      border-color: transparent;\n",
              "      border-right-color: var(--fill-color);\n",
              "      border-bottom-color: var(--fill-color);\n",
              "    }\n",
              "    90% {\n",
              "      border-color: transparent;\n",
              "      border-bottom-color: var(--fill-color);\n",
              "    }\n",
              "  }\n",
              "</style>\n",
              "\n",
              "  <script>\n",
              "    async function quickchart(key) {\n",
              "      const quickchartButtonEl =\n",
              "        document.querySelector('#' + key + ' button');\n",
              "      quickchartButtonEl.disabled = true;  // To prevent multiple clicks.\n",
              "      quickchartButtonEl.classList.add('colab-df-spinner');\n",
              "      try {\n",
              "        const charts = await google.colab.kernel.invokeFunction(\n",
              "            'suggestCharts', [key], {});\n",
              "      } catch (error) {\n",
              "        console.error('Error during call to suggestCharts:', error);\n",
              "      }\n",
              "      quickchartButtonEl.classList.remove('colab-df-spinner');\n",
              "      quickchartButtonEl.classList.add('colab-df-quickchart-complete');\n",
              "    }\n",
              "    (() => {\n",
              "      let quickchartButtonEl =\n",
              "        document.querySelector('#df-db0ec2ad-c7cc-49a5-a4e3-ebd83d27eed2 button');\n",
              "      quickchartButtonEl.style.display =\n",
              "        google.colab.kernel.accessAllowed ? 'block' : 'none';\n",
              "    })();\n",
              "  </script>\n",
              "</div>\n",
              "\n",
              "    </div>\n",
              "  </div>\n"
            ],
            "application/vnd.google.colaboratory.intrinsic+json": {
              "type": "dataframe",
              "variable_name": "X_train",
              "summary": "{\n  \"name\": \"X_train\",\n  \"rows\": 160,\n  \"fields\": [\n    {\n      \"column\": \"Imput 1\",\n      \"properties\": {\n        \"dtype\": \"number\",\n        \"std\": 1.0057974493808426,\n        \"min\": -1.147871667007814,\n        \"max\": 1.2176729913663755,\n        \"num_unique_values\": 160,\n        \"samples\": [\n          -1.1264288475431996,\n          0.8459279504338282,\n          -0.9701661191849408\n        ],\n        \"semantic_type\": \"\",\n        \"description\": \"\"\n      }\n    },\n    {\n      \"column\": \"Imput 2\",\n      \"properties\": {\n        \"dtype\": \"number\",\n        \"std\": 1.0265581254072802,\n        \"min\": -3.214553345504064,\n        \"max\": 2.9216544063496968,\n        \"num_unique_values\": 160,\n        \"samples\": [\n          -0.5847655595194606,\n          1.328836742080167,\n          0.3352580503977748\n        ],\n        \"semantic_type\": \"\",\n        \"description\": \"\"\n      }\n    }\n  ]\n}"
            }
          },
          "metadata": {},
          "execution_count": 15
        }
      ]
    },
    {
      "cell_type": "code",
      "source": [
        "def hardlim(n_output): # hardline funciones de activacion\n",
        "  # Devuelve 1 si la entrada es mayor o igual a 0, y 0 en caso contrario.\n",
        "  # devuelve las salidas de las predicciones\n",
        "\n",
        "  return np.where(n_output >= 0, 1, 0)\n",
        "    # np.where(condicion, valor si es verdadero o valor si es falso) se asigna a...\n",
        "    # n_output >= 0 : condicion que genera un booleano que al cumplirse pasa a ser True\n",
        "    # (condicion, 1, 0) True = 1 False = 0\n",
        "  #return 1 if n_output >= 0 else 0"
      ],
      "metadata": {
        "id": "0nBSqW1mZKZ3"
      },
      "execution_count": null,
      "outputs": []
    },
    {
      "cell_type": "markdown",
      "source": [
        "hardlim limita las predichas a 0 y 1"
      ],
      "metadata": {
        "id": "za-eaN1jfj5t"
      }
    },
    {
      "cell_type": "code",
      "source": [
        "a = hardlim(n_output)\n",
        "Y_predict = a"
      ],
      "metadata": {
        "id": "obf18DlRdGO1"
      },
      "execution_count": null,
      "outputs": []
    },
    {
      "cell_type": "code",
      "source": [
        "a"
      ],
      "metadata": {
        "colab": {
          "base_uri": "https://localhost:8080/"
        },
        "id": "fSScmj6xzWH0",
        "outputId": "fa315704-fe31-4b84-adaf-72f25596ac57"
      },
      "execution_count": null,
      "outputs": [
        {
          "output_type": "execute_result",
          "data": {
            "text/plain": [
              "array([1, 1, 1, 1, 1, 1, 1, 1, 1, 0, 0, 0, 1, 1, 1, 1, 1, 1, 1, 1, 1, 1,\n",
              "       1, 1, 1, 1, 0, 1, 1, 1, 0, 1, 1, 1, 1, 0, 1, 1, 1, 1, 1, 0, 1, 1,\n",
              "       0, 0, 1, 1, 1, 1, 1, 1, 1, 1, 1, 1, 1, 1, 1, 0, 1, 0, 1, 1, 1, 1,\n",
              "       0, 1, 1, 1, 0, 0, 1, 1, 1, 0, 1, 1, 1, 1, 1, 0, 1, 1, 1, 0, 0, 1,\n",
              "       0, 1, 1, 1, 1, 1, 1, 1, 1, 0, 1, 1, 1, 1, 1, 1, 1, 0, 1, 1, 1, 1,\n",
              "       1, 1, 0, 1, 1, 0, 1, 1, 1, 0, 1, 1, 1, 1, 0, 1, 1, 1, 1, 0, 1, 0,\n",
              "       1, 1, 1, 0, 1, 0, 1, 1, 1, 1, 0, 1, 0, 0, 1, 1, 1, 1, 0, 1, 1, 1,\n",
              "       1, 1, 1, 1, 1, 0])"
            ]
          },
          "metadata": {},
          "execution_count": 27
        }
      ]
    },
    {
      "cell_type": "code",
      "source": [
        "entrena_y = list(Y_train)\n",
        "\n",
        "print(entrena_y)"
      ],
      "metadata": {
        "colab": {
          "base_uri": "https://localhost:8080/"
        },
        "id": "yInni4690KD7",
        "outputId": "1099bcf7-9f39-4aed-83b4-d5b9f919cec4"
      },
      "execution_count": null,
      "outputs": [
        {
          "output_type": "stream",
          "name": "stdout",
          "text": [
            "[0, 0, 1, 0, 1, 1, 1, 0, 1, 0, 0, 0, 1, 0, 1, 0, 1, 0, 0, 1, 0, 1, 1, 1, 0, 1, 1, 0, 1, 1, 0, 1, 0, 0, 1, 0, 0, 1, 0, 0, 0, 0, 0, 1, 0, 0, 0, 0, 0, 0, 1, 0, 1, 0, 0, 0, 0, 1, 1, 0, 1, 0, 0, 1, 1, 1, 0, 1, 1, 1, 0, 1, 0, 1, 0, 0, 1, 1, 1, 0, 0, 0, 0, 1, 1, 0, 0, 1, 0, 1, 1, 0, 0, 1, 0, 1, 0, 1, 1, 1, 0, 1, 1, 1, 1, 0, 1, 0, 1, 1, 1, 0, 0, 0, 1, 0, 0, 0, 1, 0, 0, 1, 1, 0, 0, 1, 0, 0, 1, 0, 1, 1, 0, 1, 1, 0, 0, 1, 0, 1, 0, 0, 0, 1, 0, 0, 1, 1, 1, 1, 0, 1, 1, 0, 1, 1, 1, 0, 0, 0]\n"
          ]
        }
      ]
    },
    {
      "cell_type": "code",
      "source": [
        "error = Y_train - Y_predict # error = real - predicho\n",
        "error_abs = abs(error).sum() # abs : valor absoluto \"quita el menos y deja todos los valores positivos\n",
        "      # sumatoria del error en magnitude del real - el predicho\n",
        "\n",
        "error_abs/len(X_train) # len(X_train) calcula la cantidad de los datos de train\n",
        "        # hace un promedio del error"
      ],
      "metadata": {
        "colab": {
          "base_uri": "https://localhost:8080/"
        },
        "id": "XHI2-dS6drcd",
        "outputId": "f41f3ae1-204c-4a12-800e-fa34c0459ed3"
      },
      "execution_count": null,
      "outputs": [
        {
          "output_type": "execute_result",
          "data": {
            "text/plain": [
              "0.375"
            ]
          },
          "metadata": {},
          "execution_count": 29
        }
      ]
    },
    {
      "cell_type": "code",
      "source": [
        "for epoch in range(epochs):\n",
        "  for xi, yi in zip(X_train, Y_train):\n",
        "    n_ouptput = bias + np.dot(X_train, weights)\n",
        "    a = hardlim(n_output) # salida de la neurona\n",
        "        # predicciones \"0s y 1s\"\n",
        "\n",
        "    Y_predict = a # la salida de la neurona es la prediccion\n",
        "\n",
        "    # error = t-a t: targets a : prediccion\n",
        "    error = Y_train - Y_predict\n",
        "\n",
        "    weigths = weights + np.dot(X_train.T, error)\n",
        "    bias = bias + (error)"
      ],
      "metadata": {
        "id": "UVofBPQUh1PX",
        "colab": {
          "base_uri": "https://localhost:8080/"
        },
        "outputId": "63aa02a7-9e9a-4fba-bb33-b585280a37b1"
      },
      "execution_count": null,
      "outputs": [
        {
          "output_type": "error",
          "ename": "NameError",
          "evalue": "name 'epochs' is not defined",
          "traceback": [
            "\u001b[0;31m---------------------------------------------------------------------------\u001b[0m",
            "\u001b[0;31mNameError\u001b[0m                                 Traceback (most recent call last)",
            "\u001b[0;32m<ipython-input-1-527e317ac7fc>\u001b[0m in \u001b[0;36m<cell line: 1>\u001b[0;34m()\u001b[0m\n\u001b[0;32m----> 1\u001b[0;31m \u001b[0;32mfor\u001b[0m \u001b[0mepoch\u001b[0m \u001b[0;32min\u001b[0m \u001b[0mrange\u001b[0m\u001b[0;34m(\u001b[0m\u001b[0mepochs\u001b[0m\u001b[0;34m)\u001b[0m\u001b[0;34m:\u001b[0m\u001b[0;34m\u001b[0m\u001b[0;34m\u001b[0m\u001b[0m\n\u001b[0m\u001b[1;32m      2\u001b[0m   \u001b[0;32mfor\u001b[0m \u001b[0mxi\u001b[0m\u001b[0;34m,\u001b[0m \u001b[0myi\u001b[0m \u001b[0;32min\u001b[0m \u001b[0mzip\u001b[0m\u001b[0;34m(\u001b[0m\u001b[0mX_train\u001b[0m\u001b[0;34m,\u001b[0m \u001b[0mY_train\u001b[0m\u001b[0;34m)\u001b[0m\u001b[0;34m:\u001b[0m\u001b[0;34m\u001b[0m\u001b[0;34m\u001b[0m\u001b[0m\n\u001b[1;32m      3\u001b[0m     \u001b[0mn_ouptput\u001b[0m \u001b[0;34m=\u001b[0m \u001b[0mbias\u001b[0m \u001b[0;34m+\u001b[0m \u001b[0mnp\u001b[0m\u001b[0;34m.\u001b[0m\u001b[0mdot\u001b[0m\u001b[0;34m(\u001b[0m\u001b[0mX_train\u001b[0m\u001b[0;34m,\u001b[0m \u001b[0mweights\u001b[0m\u001b[0;34m)\u001b[0m\u001b[0;34m\u001b[0m\u001b[0;34m\u001b[0m\u001b[0m\n\u001b[1;32m      4\u001b[0m     \u001b[0ma\u001b[0m \u001b[0;34m=\u001b[0m \u001b[0mhardlim\u001b[0m\u001b[0;34m(\u001b[0m\u001b[0mn_output\u001b[0m\u001b[0;34m)\u001b[0m \u001b[0;31m# salida de la neurona\u001b[0m\u001b[0;34m\u001b[0m\u001b[0;34m\u001b[0m\u001b[0m\n\u001b[1;32m      5\u001b[0m         \u001b[0;31m# predicciones \"0s y 1s\"\u001b[0m\u001b[0;34m\u001b[0m\u001b[0;34m\u001b[0m\u001b[0m\n",
            "\u001b[0;31mNameError\u001b[0m: name 'epochs' is not defined"
          ]
        }
      ]
    },
    {
      "cell_type": "code",
      "source": [
        "print(epoch) # ?"
      ],
      "metadata": {
        "colab": {
          "base_uri": "https://localhost:8080/"
        },
        "id": "jaUFUeb1Mqhp",
        "outputId": "5aaef437-6ad2-48da-9edd-c1a4275d8980"
      },
      "execution_count": null,
      "outputs": [
        {
          "output_type": "stream",
          "name": "stdout",
          "text": [
            "99\n"
          ]
        }
      ]
    }
  ]
}
{
  "nbformat": 4,
  "nbformat_minor": 0,
  "metadata": {
    "colab": {
      "provenance": [],
      "authorship_tag": "ABX9TyP2PIB6knXWkrCpHSKfQJ66",
      "include_colab_link": true
    },
    "kernelspec": {
      "name": "python3",
      "display_name": "Python 3"
    },
    "language_info": {
      "name": "python"
    }
  },
  "cells": [
    {
      "cell_type": "markdown",
      "metadata": {
        "id": "view-in-github",
        "colab_type": "text"
      },
      "source": [
        "<a href=\"https://colab.research.google.com/github/Liam-Nova/BIT_IA_Bootcamp/blob/main/S1_C3_NumeroPrimo.ipynb\" target=\"_parent\"><img src=\"https://colab.research.google.com/assets/colab-badge.svg\" alt=\"Open In Colab\"/></a>"
      ]
    },
    {
      "cell_type": "markdown",
      "source": [
        " # Número Primo\n",
        " diseñar una función **es_primo(numero)** toma un numero como entrada y determina si es número primo.\n",
        " Parámetros: numero(int): El número que queremos verificar si es primo. return: bool: true si el número es primo, False si no lo es.\n",
        " DEFINICION\n",
        "\n",
        "\n",
        "*   Un\n",
        "*   Elemento de la lista\n",
        "\n"
      ],
      "metadata": {
        "id": "2xMsR3fy7zT-"
      }
    },
    {
      "cell_type": "code",
      "source": [
        "def es_primo(numero):\n",
        "    if numero < 2:\n",
        "      return False\n",
        "      # range(inicio, fin, paso)\n",
        "    for i in range(2, int(numero**0.5)+1):\n",
        "      # número % i\n",
        "      #i = 0 si es entero entonces es divisible,\n",
        "      #i = 1 si es décimal no es divisible\n",
        "        if numero % i == 0:\n",
        "\n",
        "          return False\n",
        "    return True\n",
        "\n"
      ],
      "metadata": {
        "id": "tTDQjOXp8eoS"
      },
      "execution_count": 31,
      "outputs": []
    },
    {
      "cell_type": "code",
      "source": [
        "try:\n",
        "  numero = int(input(\"ingrese un numero: \"))\n",
        "\n",
        "except ValueError:\n",
        "  print(\"el valor ingresado no es entero\")\n"
      ],
      "metadata": {
        "colab": {
          "base_uri": "https://localhost:8080/"
        },
        "id": "xGYmWu9zKYuK",
        "outputId": "cf31f5f3-2e9c-40b0-d4b2-3487da700a2a"
      },
      "execution_count": 30,
      "outputs": [
        {
          "name": "stdout",
          "output_type": "stream",
          "text": [
            "ingrese un numero: 6\n"
          ]
        }
      ]
    },
    {
      "cell_type": "code",
      "source": [
        "try:\n",
        "  numero = int(input(\"ingrese un numero: \"))\n",
        "  P = es_primo(numero)\n",
        "  if P == True:\n",
        "    print(f\"el numero {numero} es primo\")\n",
        "  else:\n",
        "    print(f\"el numero {numero} no es primo\")\n",
        "\n",
        "except ValueError:\n",
        "  # el mensaje programado\n",
        "  print(\"el valor ingresado no es entero\")"
      ],
      "metadata": {
        "colab": {
          "base_uri": "https://localhost:8080/"
        },
        "id": "s1kEQfoeNc1V",
        "outputId": "2e4abd36-ef04-472d-c7f5-e4ef965221c7"
      },
      "execution_count": 36,
      "outputs": [
        {
          "output_type": "stream",
          "name": "stdout",
          "text": [
            "ingrese un numero: 10\n",
            "el numero 10 no es primo\n"
          ]
        }
      ]
    },
    {
      "cell_type": "code",
      "source": [
        "numero = 10\n",
        "for i in range(2, numero):\n",
        "      # número % i\n",
        "      #i = 0 si es entero entonces es divisible,\n",
        "      #i = 1 si es décimal no es divisible\n",
        "        if numero % i == 0:\n",
        "          print(\"en la iteracion \"+ str(i) +\" es divisible\")\n",
        "        else:\n",
        "          print(\"en la iteracion \"+ str(i) +\" no es divisible\")\n"
      ],
      "metadata": {
        "colab": {
          "base_uri": "https://localhost:8080/"
        },
        "id": "a3s8QgDB9MeE",
        "outputId": "3bf7ee73-ae0e-4679-e484-2a4775c1c99e"
      },
      "execution_count": 13,
      "outputs": [
        {
          "output_type": "stream",
          "name": "stdout",
          "text": [
            "en la iteracion 2 es divisible\n",
            "en la iteracion 3 no es divisible\n",
            "en la iteracion 4 no es divisible\n",
            "en la iteracion 5 es divisible\n",
            "en la iteracion 6 no es divisible\n",
            "en la iteracion 7 no es divisible\n",
            "en la iteracion 8 no es divisible\n",
            "en la iteracion 9 no es divisible\n"
          ]
        }
      ]
    },
    {
      "cell_type": "code",
      "source": [
        "numero = 10\n",
        "\n",
        "j=0\n",
        "for i in range(2, int(numero**0.5)+1):\n",
        "      # número % i\n",
        "      #i = 0 si es entero entonces es divisible,\n",
        "      #i = 1 si es décimal no es divisible\n",
        "        resultado = numero / i\n",
        "        if numero % i == 0:\n",
        "          j=j+1\n",
        "          print(\"-->\")\n",
        "          print(\"entre al i==0 a la condicion\" + str(j))\n",
        "          print(\"en la iteracion \"+ str(i) +\" el resultado es \"+str(resultado)+ \" es divisible\")\n",
        "        else:\n",
        "          print(\"--->\")\n",
        "          print(\"en la iteracion \"+ str(i) +\" el resultado es \"+str(resultado)+ \" es no divisible\")"
      ],
      "metadata": {
        "colab": {
          "base_uri": "https://localhost:8080/"
        },
        "id": "-MlV-TQpBKCY",
        "outputId": "bdb7003c-bb76-42ca-bf61-29ea65cdfaa2"
      },
      "execution_count": 23,
      "outputs": [
        {
          "output_type": "stream",
          "name": "stdout",
          "text": [
            "-->\n",
            "entre al i==0 a la condicion1\n",
            "en la iteracion 2 el resultado es 5.0 es divisible\n",
            "--->\n",
            "en la iteracion 3 el resultado es 3.3333333333333335 es no divisible\n"
          ]
        }
      ]
    },
    {
      "cell_type": "code",
      "source": [
        "def es_primo(numero):\n",
        "    if numero < 2:\n",
        "      return False\n",
        "      # range(inicio, fin, paso)\n",
        "\n",
        "    for i in range(2, numero):\n",
        "      # número % i\n",
        "      #i = 0 si es entero entonces es divisible,\n",
        "      #i = 1 si es décimal no es divisible\n",
        "        if numero % i == 0:\n",
        "          print(\"entre \")\n",
        "          return False\n",
        "    return True"
      ],
      "metadata": {
        "id": "rk-C1ilYE4Ft"
      },
      "execution_count": 15,
      "outputs": []
    },
    {
      "cell_type": "code",
      "source": [
        "es_primo(31)"
      ],
      "metadata": {
        "colab": {
          "base_uri": "https://localhost:8080/"
        },
        "id": "OuZy5txXFDhn",
        "outputId": "f7641081-49ac-4eb6-f528-e01fcf2e84fc"
      },
      "execution_count": 16,
      "outputs": [
        {
          "output_type": "execute_result",
          "data": {
            "text/plain": [
              "True"
            ]
          },
          "metadata": {},
          "execution_count": 16
        }
      ]
    },
    {
      "cell_type": "code",
      "source": [],
      "metadata": {
        "id": "lLHszXkRNOe3"
      },
      "execution_count": null,
      "outputs": []
    }
  ]
}
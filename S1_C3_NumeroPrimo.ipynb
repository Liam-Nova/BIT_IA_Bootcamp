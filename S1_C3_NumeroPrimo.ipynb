{
  "nbformat": 4,
  "nbformat_minor": 0,
  "metadata": {
    "colab": {
      "provenance": [],
      "authorship_tag": "ABX9TyNDI4/nUptLIhvxeJErc0BP",
      "include_colab_link": true
    },
    "kernelspec": {
      "name": "python3",
      "display_name": "Python 3"
    },
    "language_info": {
      "name": "python"
    }
  },
  "cells": [
    {
      "cell_type": "markdown",
      "metadata": {
        "id": "view-in-github",
        "colab_type": "text"
      },
      "source": [
        "<a href=\"https://colab.research.google.com/github/Liam-Nova/BIT_IA_Bootcamp/blob/main/S1_C3_NumeroPrimo.ipynb\" target=\"_parent\"><img src=\"https://colab.research.google.com/assets/colab-badge.svg\" alt=\"Open In Colab\"/></a>"
      ]
    },
    {
      "cell_type": "markdown",
      "source": [
        " # Número Primo\n",
        "\n",
        "Diseñar una función toma un número como entrada y determina si es un número primo.\n",
        "DEFINICIÓN: Un número primo es aquel que solo tiene dos divisores: 1 y él mismo.  Si el número es divisible por cualquier otro número aparte de 1 y él mismo, no es primo.\n",
        "Parámetros: numero (int): El número que queremos verificar si es primo.\n",
        "Return: bool: True si el número es primo, False si no lo es.\n"
      ],
      "metadata": {
        "id": "2xMsR3fy7zT-"
      }
    },
    {
      "cell_type": "code",
      "source": [
        "numero = int(input(\"ingrese un numero: \"))\n",
        "for i in range(2, int(numero**0.5)+1):\n",
        "  print(i)"
      ],
      "metadata": {
        "colab": {
          "base_uri": "https://localhost:8080/"
        },
        "id": "GI_4rFNzA0tg",
        "outputId": "2b216310-c560-4514-f201-d4680cc71bf6"
      },
      "execution_count": 23,
      "outputs": [
        {
          "output_type": "stream",
          "name": "stdout",
          "text": [
            "ingrese un numero: 9\n",
            "2\n",
            "3\n"
          ]
        }
      ]
    },
    {
      "cell_type": "code",
      "source": [
        "def es_primo(numero):\n",
        "    if numero < 2:\n",
        "      return False\n",
        "      # range(inicio, fin, paso)\n",
        "    for i in range(2, int(numero**0.5)+1):\n",
        "        if numero % i == 0:\n",
        "      # número % i me da el residuo de la division\n",
        "      #i = 0 si es entero entonces es divisible,\n",
        "      #i = 1 si es décimal no es divisible\n",
        "\n",
        "\n",
        "          return False\n",
        "    return True\n",
        "\n"
      ],
      "metadata": {
        "id": "tTDQjOXp8eoS"
      },
      "execution_count": 8,
      "outputs": []
    },
    {
      "cell_type": "markdown",
      "source": [
        "for i in range(2, int(numero**0.5)+1):\n",
        "* la variable **i** recorre los valores de **range**\n",
        "* **range** (star, end) genera un rango desde el 2 hasta...\n",
        "  * raiz cuadrada de numero = numero**0.5\n",
        "  * le sumamos uno\n",
        "  * int el el metodo para convertir este numero a entero\n",
        "* el **%** en el **if** me da el valor del *residuo** de la division\n",
        "  * si exixte algun valos que de residuo de 0 entonces imprime **False**"
      ],
      "metadata": {
        "id": "1nPUWJKRtxri"
      }
    },
    {
      "cell_type": "code",
      "source": [
        "try:\n",
        "  numero = int(input(\"ingrese un numero: \"))\n",
        "\n",
        "except ValueError:\n",
        "  print(\"el valor ingresado no es entero\")\n"
      ],
      "metadata": {
        "colab": {
          "base_uri": "https://localhost:8080/"
        },
        "id": "xGYmWu9zKYuK",
        "outputId": "28a99b87-c032-4f24-9cda-713b10db0aa6"
      },
      "execution_count": 15,
      "outputs": [
        {
          "output_type": "stream",
          "name": "stdout",
          "text": [
            "ingrese un numero: jh\n",
            "el valor ingresado no es entero\n"
          ]
        }
      ]
    },
    {
      "cell_type": "markdown",
      "source": [
        "try except: metodo para saltar el error y permitir que el codigo continue\n",
        "* try es donde posiblemente se presente el erro\n",
        "* except muestra que se hace cuando hay algun erro, en este caso imprime un mensaje"
      ],
      "metadata": {
        "id": "KHXbGHUbwVBZ"
      }
    },
    {
      "cell_type": "code",
      "source": [
        "try:\n",
        "  numero = int(input(\"ingrese un numero: \")) # definimos numero\n",
        "  P = es_primo(numero) # p = funcion de es_primo\n",
        "  if P == True: # resultado de la funcion\n",
        "    print(f\"el numero {numero} es primo\")\n",
        "  else: # resultado del if\n",
        "    print(f\"el numero {numero} no es primo\")\n",
        "\n",
        "except ValueError: # si el dato no era un numero\n",
        "  # el mensaje programado\n",
        "  print(\"el valor ingresado no es entero\")"
      ],
      "metadata": {
        "colab": {
          "base_uri": "https://localhost:8080/"
        },
        "id": "s1kEQfoeNc1V",
        "outputId": "127b45a9-edd8-45a5-dbbb-610a8aa1a206"
      },
      "execution_count": 21,
      "outputs": [
        {
          "output_type": "stream",
          "name": "stdout",
          "text": [
            "ingrese un numero: 9\n",
            "el numero 9 no es primo\n"
          ]
        }
      ]
    },
    {
      "cell_type": "code",
      "source": [
        "numero = 10\n",
        "for i in range(2, numero):\n",
        "      # número % i\n",
        "      #i = 0 si es entero entonces es divisible,\n",
        "      #i = 1 si es décimal no es divisible\n",
        "        if numero % i == 0:\n",
        "          print(\"en la iteracion \"+ str(i) +\" es divisible\")\n",
        "        else:\n",
        "          print(\"en la iteracion \"+ str(i) +\" no es divisible\")\n"
      ],
      "metadata": {
        "colab": {
          "base_uri": "https://localhost:8080/"
        },
        "id": "a3s8QgDB9MeE",
        "outputId": "d558eada-db3b-4eb6-a382-ada75998976a"
      },
      "execution_count": null,
      "outputs": [
        {
          "output_type": "stream",
          "name": "stdout",
          "text": [
            "en la iteracion 2 es divisible\n",
            "en la iteracion 3 no es divisible\n",
            "en la iteracion 4 no es divisible\n",
            "en la iteracion 5 es divisible\n",
            "en la iteracion 6 no es divisible\n",
            "en la iteracion 7 no es divisible\n",
            "en la iteracion 8 no es divisible\n",
            "en la iteracion 9 no es divisible\n"
          ]
        }
      ]
    },
    {
      "cell_type": "code",
      "source": [
        "numero = 120\n",
        "\n",
        "j=0 # variable usada en este caso para almacenar datos\n",
        "for i in range(2, int(numero**0.5)+1):\n",
        "      # número % i\n",
        "      #i = 0 si es entero entonces es divisible,\n",
        "      #i = 1 si es décimal no es divisible\n",
        "        resultado = numero / i\n",
        "        if numero % i == 0:\n",
        "          j=j+1 # usado como un contador de cada iteracion\n",
        "          print(\"-->\") # separar cada iteracion con estilo\n",
        "          print(\"entre al i==0 a la condicion \" + str(j))\n",
        "          print(\"en la iteracion \"+ str(i) +\" el resultado es \"+str(resultado)+ \" es divisible\")\n",
        "        else:\n",
        "          print(\"--->\")\n",
        "          print(\"en la iteracion \"+ str(i) +\" el resultado es \"+str(resultado)+ \" es no divisible\")"
      ],
      "metadata": {
        "colab": {
          "base_uri": "https://localhost:8080/"
        },
        "id": "-MlV-TQpBKCY",
        "outputId": "02b53a81-2f25-4780-faf6-985f5295de4d"
      },
      "execution_count": 27,
      "outputs": [
        {
          "output_type": "stream",
          "name": "stdout",
          "text": [
            "-->\n",
            "entre al i==0 a la condicion 1\n",
            "en la iteracion 2 el resultado es 60.0 es divisible\n",
            "-->\n",
            "entre al i==0 a la condicion 2\n",
            "en la iteracion 3 el resultado es 40.0 es divisible\n",
            "-->\n",
            "entre al i==0 a la condicion 3\n",
            "en la iteracion 4 el resultado es 30.0 es divisible\n",
            "-->\n",
            "entre al i==0 a la condicion 4\n",
            "en la iteracion 5 el resultado es 24.0 es divisible\n",
            "-->\n",
            "entre al i==0 a la condicion 5\n",
            "en la iteracion 6 el resultado es 20.0 es divisible\n",
            "--->\n",
            "en la iteracion 7 el resultado es 17.142857142857142 es no divisible\n",
            "-->\n",
            "entre al i==0 a la condicion 6\n",
            "en la iteracion 8 el resultado es 15.0 es divisible\n",
            "--->\n",
            "en la iteracion 9 el resultado es 13.333333333333334 es no divisible\n",
            "-->\n",
            "entre al i==0 a la condicion 7\n",
            "en la iteracion 10 el resultado es 12.0 es divisible\n"
          ]
        }
      ]
    },
    {
      "cell_type": "code",
      "source": [
        "def es_primo(numero):\n",
        "    if numero < 2:\n",
        "      return False\n",
        "      # range(inicio, fin, paso)\n",
        "\n",
        "    for i in range(2, numero):\n",
        "\n",
        "      #i = 0 si es entero entonces es divisible,\n",
        "      #i = 1 si es décimal no es divisible\n",
        "        if numero % i == 0:\n",
        "          print(\"entre \"+ str(i) + \" a la condicion \" + str(numero) + \" es divisible\")\n",
        "          print(f\"el numero {numero} no es primo\")\n",
        "\n",
        "          return False\n",
        "    return True"
      ],
      "metadata": {
        "id": "rk-C1ilYE4Ft"
      },
      "execution_count": 41,
      "outputs": []
    },
    {
      "cell_type": "code",
      "source": [
        "es_primo(int(input(\"ingrese un numero: \")))"
      ],
      "metadata": {
        "colab": {
          "base_uri": "https://localhost:8080/"
        },
        "id": "OuZy5txXFDhn",
        "outputId": "1c0ae7bf-e87a-48e1-b2c6-080cb9745d74"
      },
      "execution_count": 42,
      "outputs": [
        {
          "output_type": "stream",
          "name": "stdout",
          "text": [
            "ingrese un numero: 9\n",
            "entre 3 a la condicion 9 es divisible\n",
            "el numero 9 no es primo\n"
          ]
        },
        {
          "output_type": "execute_result",
          "data": {
            "text/plain": [
              "False"
            ]
          },
          "metadata": {},
          "execution_count": 42
        }
      ]
    }
  ]
}
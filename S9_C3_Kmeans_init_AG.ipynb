{
  "nbformat": 4,
  "nbformat_minor": 0,
  "metadata": {
    "colab": {
      "provenance": [],
      "authorship_tag": "ABX9TyNP/KaTScEgB7zeBdFOdLVU",
      "include_colab_link": true
    },
    "kernelspec": {
      "name": "python3",
      "display_name": "Python 3"
    },
    "language_info": {
      "name": "python"
    }
  },
  "cells": [
    {
      "cell_type": "markdown",
      "metadata": {
        "id": "view-in-github",
        "colab_type": "text"
      },
      "source": [
        "<a href=\"https://colab.research.google.com/github/Liam-Nova/BIT_IA_Bootcamp/blob/main/S9_C3_Kmeans_init_AG.ipynb\" target=\"_parent\"><img src=\"https://colab.research.google.com/assets/colab-badge.svg\" alt=\"Open In Colab\"/></a>"
      ]
    },
    {
      "cell_type": "code",
      "execution_count": null,
      "metadata": {
        "id": "clIYRejcJF97"
      },
      "outputs": [],
      "source": [
        "! pip install deap > null"
      ]
    },
    {
      "cell_type": "code",
      "source": [
        "# Genetic TSP implementation:\n",
        "import random\n",
        "import json\n",
        "import numpy as np\n",
        "import matplotlib.pyplot as plt\n",
        "# deep es la experta en algoritmo gnenetico\n",
        "from deap import algorithms\n",
        "from deap import creator # metodo\n",
        "from deap import base\n",
        "from deap import tools"
      ],
      "metadata": {
        "id": "bjCMrQv4JoST"
      },
      "execution_count": null,
      "outputs": []
    },
    {
      "cell_type": "code",
      "source": [
        "import matplotlib.pyplot as plt\n",
        "from sklearn.cluster import KMeans\n",
        "from sklearn.datasets import make_blobs\n",
        "X,y = make_blobs(n_samples = 250, n_features=2, centers=3, cluster_std=0.9, shuffle=True, random_state=231)\n",
        "plt.scatter(X[:,0], X[:,1], s=20, marker='o')"
      ],
      "metadata": {
        "colab": {
          "base_uri": "https://localhost:8080/",
          "height": 448
        },
        "id": "tJ2fntG-XySy",
        "outputId": "c4bc3cde-676b-4b8f-c7f1-7370b82f00e6"
      },
      "execution_count": null,
      "outputs": [
        {
          "output_type": "execute_result",
          "data": {
            "text/plain": [
              "<matplotlib.collections.PathCollection at 0x7d290e92d9f0>"
            ]
          },
          "metadata": {},
          "execution_count": 9
        },
        {
          "output_type": "display_data",
          "data": {
            "text/plain": [
              "<Figure size 640x480 with 1 Axes>"
            ],
            "image/png": "[encoded data removed]"
          },
          "metadata": {}
        }
      ]
    },
    {
      "cell_type": "code",
      "source": [
        "size_chromosome = X.shape[0]\n",
        "K = 2\n",
        "W = [random.randint(1, K ) for _ in range(size_chromosome) ]"
      ],
      "metadata": {
        "id": "zfQOMRAIcuSd"
      },
      "execution_count": null,
      "outputs": []
    },
    {
      "cell_type": "code",
      "source": [
        "X.shape"
      ],
      "metadata": {
        "colab": {
          "base_uri": "https://localhost:8080/"
        },
        "id": "xc-MlOU5X5HY",
        "outputId": "9b30cce4-fa75-428f-a14d-af5ab11f7688"
      },
      "execution_count": null,
      "outputs": [
        {
          "output_type": "execute_result",
          "data": {
            "text/plain": [
              "(250, 2)"
            ]
          },
          "metadata": {},
          "execution_count": 11
        }
      ]
    },
    {
      "cell_type": "markdown",
      "source": [
        "Parte 1. Definir el problema\n",
        "* Como vamos a medir/determinar que la posicion de los centroides es la adecuada?"
      ],
      "metadata": {
        "id": "nOqIGL-_J7uP"
      }
    },
    {
      "cell_type": "code",
      "source": [
        "# Fitness funtion\n",
        "\n",
        "#midiendo la dispersion de los datos respecto a los centroides\n",
        "#imputs: centroides, datos"
      ],
      "metadata": {
        "id": "HaSR2MMkL_Ek"
      },
      "execution_count": null,
      "outputs": []
    },
    {
      "cell_type": "code",
      "source": [
        "# Agrupar índices de datos según los clústeres a los que pertenecen.\n",
        "def decode(W, K):\n",
        "  cluster_book = {}\n",
        "  for cluster in range(1, K+1):\n",
        "    cluster_book[cluster]  = []\n",
        "  for index in range(len(W)):\n",
        "    cluster_book[W[index]].append(index)\n",
        "  return cluster_book\n",
        "def computeCentroids(features,\n",
        "                     k,\n",
        "                     cluster_book):\n",
        "  return features[cluster_book[k]].sum(axis=0) / features[cluster_book[k]].shape[0]\n",
        "\n",
        "def S(features , k, cluster_book):\n",
        "  # calculate the within distance for the cluster K\n",
        "  if X[cluster_book[k]].shape[0] == 0:\n",
        "    return 999 # chage this to avoid empty clusterings\n",
        "  else:\n",
        "    return ((features[cluster_book[k]] -   computeCentroids(features, k, cluster_book ))**2).sum(axis=0).sum()\n",
        "\n",
        "def Total_S(W, K, cluster_book, features):\n",
        "  X = features.copy()\n",
        "  # Calculate the total distance within distance from the cluster\n",
        "  acum = 0\n",
        "  for k in range(1,K+1):\n",
        "    acum += S(X ,k, cluster_book)\n",
        "  return acum\n"
      ],
      "metadata": {
        "id": "5B-TI6XyZdfy"
      },
      "execution_count": null,
      "outputs": []
    },
    {
      "cell_type": "code",
      "source": [
        "def fitness(W, K, features):\n",
        "  cluster_book = decode(W, K)\n",
        "  return Total_S(W,K, cluster_book, X)"
      ],
      "metadata": {
        "id": "UD0-unOkRiSr"
      },
      "execution_count": null,
      "outputs": []
    },
    {
      "cell_type": "code",
      "source": [
        "# Caja de herramnioentas\n",
        "toolbox = base.Toolbox()"
      ],
      "metadata": {
        "id": "uuGRPYsGL_o3"
      },
      "execution_count": null,
      "outputs": []
    },
    {
      "cell_type": "code",
      "source": [
        "size_cromosoma = 6\n",
        "K = 3\n",
        "\n",
        "creator.create(\"FitnessMin\", base.Fitness, weights=(-1.0,))\n",
        "creator.create(\"Individual\", list, fitness=creator.FitnessMin)"
      ],
      "metadata": {
        "colab": {
          "base_uri": "https://localhost:8080/"
        },
        "id": "si3XzvsON0ch",
        "outputId": "e257db8e-3e7c-41a8-a121-115139bd4adc"
      },
      "execution_count": null,
      "outputs": [
        {
          "output_type": "stream",
          "name": "stderr",
          "text": [
            "/usr/local/lib/python3.10/dist-packages/deap/creator.py:185: RuntimeWarning: A class named 'FitnessMin' has already been created and it will be overwritten. Consider deleting previous creation of that class or rename it.\n",
            "  warnings.warn(\"A class named '{0}' has already been created and it \"\n",
            "/usr/local/lib/python3.10/dist-packages/deap/creator.py:185: RuntimeWarning: A class named 'Individual' has already been created and it will be overwritten. Consider deleting previous creation of that class or rename it.\n",
            "  warnings.warn(\"A class named '{0}' has already been created and it \"\n"
          ]
        }
      ]
    },
    {
      "cell_type": "code",
      "source": [
        "toolbox.create(\"cluster_id\", random.randint, 1, K) # Alelos\n",
        "# crea los individuos\n",
        "toolbox.register(\"individuo\", tools.initRepeat, creator.Individual, toolbox.cluster_id, n=size_cromosoma)\n",
        "# crea la poblacion agrupando los individuos\n",
        "toolbox.register(\"population\", tools.initRepeat, list, toolbox.individuo)\n",
        "\n",
        "toolbox.register(\"evaluacion\", lambda w: fitness(XXXX))\n",
        "toolbox.register(\"mutate\", tools.mutFlipBit, indpb=0.05)\n",
        "toolbox.register(\"select\", tools.selTournament, tournsize=3)\n"
      ],
      "metadata": {
        "id": "wBHHBnBCOSDV",
        "collapsed": true
      },
      "execution_count": null,
      "outputs": []
    },
    {
      "cell_type": "code",
      "source": [
        "def main():\n",
        "    random.seed(101)\n",
        "    CXPB, MUTPB, NGEN = 0.95, 0.05, 10\n",
        "    pop = toolbox.population() # genereme la poblacion\n",
        "    #MU, LAMBDA = len(pop), len(pop) 3 Pertenece al otro algoritmo\n",
        "    hof = tools.HallOfFame(1) # Mantiene a los mejores individuos en cada generacion 1\n",
        "\n",
        "    logbook = tools.Logbook()\n",
        "    return pop, logbook\n",
        "\n",
        "if __name__ == \"__main__\":\n",
        "    best, log  = main()\n",
        "    print(\"\\n\",'--'*50)\n",
        "    print(f\"The fitness {best[0].fitness.values} and he better path is : \\n\",)\n",
        "    #print(capitals[best[0]])\n",
        "    print(\"--\"*50)"
      ],
      "metadata": {
        "id": "uhDqo3ykM9sW"
      },
      "execution_count": null,
      "outputs": []
    },
    {
      "cell_type": "code",
      "source": [
        "\"\"\"def main():\n",
        "    random.seed(101)\n",
        "    CXPB, MUTPB, NGEN = 0.95, 0.05, 10\n",
        "    pop = toolbox.population() # genereme la poblacion\n",
        "    #MU, LAMBDA = len(pop), len(pop) 3 Pertenece al otro algoritmo\n",
        "    hof = tools.HallOfFame(1) # Mantiene a los mejores individuos en cada generacion 1\n",
        "    stats = tools.Statistics(lambda ind: ind.fitness.values)\n",
        "    # Para cada poblacion registre las estadísticas\n",
        "    stats.register(\"avg\", np.mean)\n",
        "    stats.register(\"std\", np.std)\n",
        "    stats.register(\"min\", np.min)\n",
        "    stats.register(\"max\", np.max)\n",
        "    logbook = tools.Logbook()\n",
        "    pop, logbook = algorithms.eaSimple(pop, toolbox, CXPB, MUTPB, NGEN)\n",
        "    #pop, logbook = algorithms.eaMuPlusLambda(pop,toolbox, MU, LAMBDA, CXPB, MUTPB, NGEN,\n",
        "                                            #stats = stats, halloffame=hof)\n",
        "    return pop, logbook\n",
        "\n",
        "if __name__ == \"__main__\":\n",
        "    best, log  = main()\n",
        "    print(\"\\n\",'--'*50)\n",
        "    print(f\"The fitness {best[0].fitness.values} and he better path is : \\n\",)\n",
        "    #print(capitals[best[0]])\n",
        "    print(\"--\"*50)\n",
        "\"\"\""
      ],
      "metadata": {
        "id": "J4Vqn8ESK3-q"
      },
      "execution_count": null,
      "outputs": []
    }
  ]
}
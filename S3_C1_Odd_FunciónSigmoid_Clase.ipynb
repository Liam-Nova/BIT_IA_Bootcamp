{
  "nbformat": 4,
  "nbformat_minor": 0,
  "metadata": {
    "colab": {
      "provenance": [],
      "include_colab_link": true
    },
    "kernelspec": {
      "name": "python3",
      "display_name": "Python 3"
    },
    "language_info": {
      "name": "python"
    }
  },
  "cells": [
    {
      "cell_type": "markdown",
      "metadata": {
        "id": "view-in-github",
        "colab_type": "text"
      },
      "source": [
        "<a href=\"https://colab.research.google.com/github/Liam-Nova/BIT_IA_Bootcamp/blob/main/S3_C1_Odd_Funci%C3%B3nSigmoid_Clase.ipynb\" target=\"_parent\"><img src=\"https://colab.research.google.com/assets/colab-badge.svg\" alt=\"Open In Colab\"/></a>"
      ]
    },
    {
      "cell_type": "markdown",
      "source": [
        "# Actividad 1: Cálculo manual de los Odds\n",
        "\n",
        "1. Define una serie de probabilidades p (por ejemplo, 0.1, 0.5, 0.7).\n",
        "\n",
        "2. Determine las excpciones\n",
        "\n",
        "3. Calcula con una funcion de python los odds asociados a cada probabilidad usando la fórmula: $ Odds = \\frac{p}{1-p}$\n",
        "\n"
      ],
      "metadata": {
        "id": "i2_XBwyf9IN7"
      }
    },
    {
      "cell_type": "code",
      "source": [
        "def calculate_odds(probabilidad):\n",
        "  try: # maneja excepciones, donde se puede haber un error para permitir continuar la ejecucion\n",
        "    if probabilidad <= 0 or probabilidad >= 1:\n",
        "      raise ValueError(\"La probabilidad debe estar entre 0 y 1\")\n",
        "# raise es usado para permitir datos ingresados que sean erroneos\n",
        "    return probabilidad / ( 1- probabilidad)\n",
        "  except ValueError as e:\n",
        "    print(f\"Error: {e}\")\n",
        "    return None"
      ],
      "metadata": {
        "id": "YWjti3J1toP5"
      },
      "execution_count": null,
      "outputs": []
    },
    {
      "cell_type": "code",
      "source": [
        "\n",
        "# para definir un vector se incluyen datos en [ dato1, dato_2,.... dato_n]\n",
        "p = [-0.5, 0.2, 0.4, 0.5, 0.6, 0.8, 1]\n",
        "for prob in p:\n",
        "\n",
        "  odds = calculate_odds(prob)\n",
        "  print(f\"Probabilidad: {prob}, Odds: {odds}\")\n",
        "  print(\"--->>\")"
      ],
      "metadata": {
        "id": "UDfvNN_0tcek"
      },
      "execution_count": null,
      "outputs": []
    },
    {
      "cell_type": "markdown",
      "source": [
        "# Actividad 2: Visualización de la Relación entre Probabilidad y Odds\n",
        "\n",
        "\n",
        "1. Crea un conjunto de probabilidades desde 0 hasta 1.\n",
        "2. Calcula los odds para cada probabilidad.\n",
        "3. Grafica la relación entre las probabilidades y los odds."
      ],
      "metadata": {
        "id": "eYMheO7N6WjP"
      }
    },
    {
      "cell_type": "markdown",
      "source": [
        "**Q1.1.** ¿Cómo se comportan los odds cuando la probabilidad es cercana a 0? ¿Y cuando es cercana a 1?\n"
      ],
      "metadata": {
        "id": "xD4TjgWF6OLP"
      }
    },
    {
      "cell_type": "markdown",
      "source": [
        "**Q1.2**¿Qué significa un odds mayor que 1 o menor que 1?"
      ],
      "metadata": {
        "id": "_1YrmfST6TU_"
      }
    },
    {
      "cell_type": "code",
      "source": [
        "import numpy as np\n",
        "\n",
        "# linespace(star, end, Number of space)\n",
        "probabilidades = np.linspace(0, 1, 11) #cuantos numeros quieroque me genere de el inicio y el fin\n",
        "\n",
        "probabilidades"
      ],
      "metadata": {
        "id": "G2WvSzLp6j_Y",
        "colab": {
          "base_uri": "https://localhost:8080/"
        },
        "outputId": "e5a48df6-dc0d-45dd-ba46-e91c421409b9"
      },
      "execution_count": null,
      "outputs": [
        {
          "output_type": "execute_result",
          "data": {
            "text/plain": [
              "array([0. , 0.1, 0.2, 0.3, 0.4, 0.5, 0.6, 0.7, 0.8, 0.9, 1. ])"
            ]
          },
          "metadata": {},
          "execution_count": 25
        }
      ]
    },
    {
      "cell_type": "code",
      "source": [
        "import numpy as np\n",
        "\n",
        "# linespace(star, end, Number of space)\n",
        "probabilidades = np.linspace(0.01,0.99, 99)\n",
        "probabilidades"
      ],
      "metadata": {
        "colab": {
          "base_uri": "https://localhost:8080/"
        },
        "id": "W7YT4s5fwfBU",
        "outputId": "4498ffef-d6f6-41e4-8599-0cd81149fa14"
      },
      "execution_count": null,
      "outputs": [
        {
          "output_type": "execute_result",
          "data": {
            "text/plain": [
              "array([0.01, 0.02, 0.03, 0.04, 0.05, 0.06, 0.07, 0.08, 0.09, 0.1 , 0.11,\n",
              "       0.12, 0.13, 0.14, 0.15, 0.16, 0.17, 0.18, 0.19, 0.2 , 0.21, 0.22,\n",
              "       0.23, 0.24, 0.25, 0.26, 0.27, 0.28, 0.29, 0.3 , 0.31, 0.32, 0.33,\n",
              "       0.34, 0.35, 0.36, 0.37, 0.38, 0.39, 0.4 , 0.41, 0.42, 0.43, 0.44,\n",
              "       0.45, 0.46, 0.47, 0.48, 0.49, 0.5 , 0.51, 0.52, 0.53, 0.54, 0.55,\n",
              "       0.56, 0.57, 0.58, 0.59, 0.6 , 0.61, 0.62, 0.63, 0.64, 0.65, 0.66,\n",
              "       0.67, 0.68, 0.69, 0.7 , 0.71, 0.72, 0.73, 0.74, 0.75, 0.76, 0.77,\n",
              "       0.78, 0.79, 0.8 , 0.81, 0.82, 0.83, 0.84, 0.85, 0.86, 0.87, 0.88,\n",
              "       0.89, 0.9 , 0.91, 0.92, 0.93, 0.94, 0.95, 0.96, 0.97, 0.98, 0.99])"
            ]
          },
          "metadata": {},
          "execution_count": 29
        }
      ]
    },
    {
      "cell_type": "code",
      "source": [
        "import numpy as np\n",
        "import matplotlib.pyplot as plt\n",
        "p = np.linspace(0.01, 0.99, 99)\n",
        "p\n",
        "\n",
        "odds = [i/(1-i) for i in p]\n",
        "# Creating the plot\n",
        "plt.figure(figsize=(5,3))\n",
        "plt.plot(p, odds)\n",
        "plt.xlabel('p')\n",
        "plt.ylabel('Odds')\n",
        "plt.title('Odds as a function of p')\n",
        "\n",
        "# Display the plot\n",
        "plt.show()"
      ],
      "metadata": {
        "colab": {
          "base_uri": "https://localhost:8080/",
          "height": 333
        },
        "id": "0DfYSa9z0bFD",
        "outputId": "7f32cd0e-5f9a-416d-9fb5-916a8f9a450f"
      },
      "execution_count": null,
      "outputs": [
        {
          "output_type": "display_data",
          "data": {
            "text/plain": [
              "<Figure size 500x300 with 1 Axes>"
            ],
            "image/png": "[encoded data removed]"
          },
          "metadata": {}
        }
      ]
    },
    {
      "cell_type": "markdown",
      "source": [
        "Q1.1. ¿Cómo se comportan los odds cuando la probabilidad es cercana a 0? ¿Y cuando es cercana a 1?\n",
        "\n",
        "Para probabilidads entre ( y aprox .0.6) es menos probable que suceda. Para prob superiores a 0.6 empieza Un crecimiento exponencial\n",
        "\n",
        "Q1.2¿Qué significa un odds mayor que 1 o menor que 1?\n",
        "\n",
        "menor que uno no puede ser porque no hay prob. negativas Mayor no puede ser porque una indeterminación p=1"
      ],
      "metadata": {
        "id": "UjKq_DTJ6u5g"
      }
    },
    {
      "cell_type": "markdown",
      "source": [
        "# Actividad 3: Implementación de la Función Sigmoide\n",
        "\n",
        "1. Implementa la función sigmoide en Python. La función sigmoide está definida por la fórmula:\n",
        "\n",
        "$ 𝜎 (𝑥) = \\frac{1}{1+e^(-x)}$\n",
        "\n",
        "2. Prueba con los siguiente [-10, -5, 0, 5, 10]\n",
        "\n",
        "\n"
      ],
      "metadata": {
        "id": "yDMs4_987Nr4"
      }
    },
    {
      "cell_type": "code",
      "source": [
        "import numpy as np\n",
        "\n",
        "# Definición de la función sigmoide\n",
        "def sigmoid(x):\n",
        "    return 1 / (1 + np.exp(-x))\n",
        "\n",
        "# Lista de valores a probar\n",
        "x_values = [-10, -5, 0, 5, 10]\n",
        "\n",
        "# Aplicar la función sigmoide a cada valor\n",
        "sigmoid_values = [sigmoid(x) for x in x_values]\n",
        "\n",
        "# Imprimir los resultados\n",
        "for x, sig_val in zip(x_values, sigmoid_values):\n",
        "    print(f\"Sigmoide({x}) = {sig_val}\")"
      ],
      "metadata": {
        "id": "1vzS4_0s8Feq",
        "colab": {
          "base_uri": "https://localhost:8080/"
        },
        "outputId": "de1e4122-f1d5-4090-930d-460d49c739ed"
      },
      "execution_count": null,
      "outputs": [
        {
          "output_type": "stream",
          "name": "stdout",
          "text": [
            "Sigmoide(-10) = 4.5397868702434395e-05\n",
            "Sigmoide(-5) = 0.0066928509242848554\n",
            "Sigmoide(0) = 0.5\n",
            "Sigmoide(5) = 0.9933071490757153\n",
            "Sigmoide(10) = 0.9999546021312976\n"
          ]
        }
      ]
    },
    {
      "cell_type": "markdown",
      "source": [
        "# Actividad 4: Visualización de la Función Sigmoide\n",
        "\n",
        "1. Crea un conjunto de valores de entrada que varíen entre -10 y 10.\n",
        "2. Aplica la función sigmoide a cada valor de entrada.\n",
        "3. Visualiza la relación entre los valores de entrada y los valores de salida utilizando una gráfica."
      ],
      "metadata": {
        "id": "_zU82uQS8Qkx"
      }
    },
    {
      "cell_type": "markdown",
      "source": [
        "**Q 3**\n",
        "* ¿Qué ocurre con la función sigmoide cuando la entrada es un número negativo grande?\n",
        "*¿Qué forma tiene la curva de la función sigmoide?\n",
        "* ¿Qué valores de entrada producen salidas cercanas a 0 o 1?\n",
        "* ¿Cómo cambia la pendiente de la curva en torno a x=0?"
      ],
      "metadata": {
        "id": "Ia8z3OBo8J25"
      }
    },
    {
      "cell_type": "code",
      "source": [
        "import numpy as np\n",
        "import matplotlib.pyplot as plt\n",
        "\n",
        "# Definición de la función sigmoide\n",
        "def sigmoid(x):\n",
        "    return 1 / (1 + np.exp(-x))\n",
        "\n",
        "# Crear un conjunto de valores de entrada que varíen entre -10 y 10\n",
        "x_values = np.linspace(-10, 10, 100)\n",
        "\n",
        "# Aplicar la función sigmoide a cada valor de entrada\n",
        "sigmoid_values = sigmoid(x_values)\n",
        "\n",
        "# Visualizar la relación entre los valores de entrada y los valores de salida\n",
        "plt.plot(x_values, sigmoid_values)\n",
        "plt.xlabel(\"Valores de entrada (x)\")\n",
        "plt.ylabel(\"Valores de salida (sigmoide(x))\")\n",
        "plt.title(\"Función Sigmoide\")\n",
        "plt.grid(True)\n",
        "plt.show()"
      ],
      "metadata": {
        "colab": {
          "base_uri": "https://localhost:8080/",
          "height": 472
        },
        "id": "zGMJegl5F5LU",
        "outputId": "fe316a90-9b66-44ea-d188-88941ce09f64"
      },
      "execution_count": null,
      "outputs": [
        {
          "output_type": "display_data",
          "data": {
            "text/plain": [
              "<Figure size 640x480 with 1 Axes>"
            ],
            "image/png": "[encoded data removed]"
          },
          "metadata": {}
        }
      ]
    },
    {
      "cell_type": "markdown",
      "source": [
        "**Q 3**\n",
        "* ¿Qué ocurre con la función sigmoide cuando la entrada es un número negativo grande?\n",
        "Rta: Tiende a cero\"0\"\n",
        "*¿Qué forma tiene la curva de la función sigmoide?\n",
        "Rta: tiene forma de S alargada ( forma sigmaidea)  \n",
        "* ¿Qué valores de entrada producen salidas cercanas a 0 o 1?\n",
        "Rta: Salidas cercanas a 0, para entradas negativas grandas\n",
        "Salidas cercanas a 1, para entradas positivas grandes\n",
        "* ¿Cómo cambia la función en torno a x=0?\n",
        "Rta: En X=0 se presenta la intersección es decir la sigmoide es ="
      ],
      "metadata": {
        "id": "u836N3UdG18j"
      }
    },
    {
      "cell_type": "markdown",
      "source": [
        "# Actividad 5: Aplicación de la Función Sigmoide en Clasificación Binaria\n",
        "\n",
        "1. Supongamos que tienes un modelo de clasificación binaria en el que la salida del modelo es una combinación lineal de algunas características. La salida lineal puede ser cualquier número real.\n",
        "2. Aplica la función sigmoide a la salida lineal para convertirla en una probabilidad entre 0 y 1.\n",
        "3. Usa la probabilidad para tomar una decisión binaria: si la probabilidad es mayor que 0.5, predice la clase 1, de lo contrario, predice la clase 0."
      ],
      "metadata": {
        "id": "r7QElL3E8og6"
      }
    },
    {
      "cell_type": "markdown",
      "source": [
        "**Q 4**\n",
        "* ¿Cómo cambian las predicciones cuando varían los valores de 𝑋?\n",
        "* ¿Por qué la función sigmoide es útil para convertir una salida lineal en una probabilidad?"
      ],
      "metadata": {
        "id": "0txp5q-P81PC"
      }
    }
  ]
}
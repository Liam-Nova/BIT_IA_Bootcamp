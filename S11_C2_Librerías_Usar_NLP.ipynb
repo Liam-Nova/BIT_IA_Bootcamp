{
  "nbformat": 4,
  "nbformat_minor": 0,
  "metadata": {
    "colab": {
      "provenance": [],
      "mount_file_id": "1XSRwaOm4gM0s6Cr8fjb9M0xHxT8Ulkhl",
      "authorship_tag": "ABX9TyNsl8lmdLiIK/6Hb+VgCnYZ",
      "include_colab_link": true
    },
    "kernelspec": {
      "name": "python3",
      "display_name": "Python 3"
    },
    "language_info": {
      "name": "python"
    }
  },
  "cells": [
    {
      "cell_type": "markdown",
      "metadata": {
        "id": "view-in-github",
        "colab_type": "text"
      },
      "source": [
        "<a href=\"https://colab.research.google.com/github/Liam-Nova/BIT_IA_Bootcamp/blob/main/S11_C2_Librer%C3%ADas_Usar_NLP.ipynb\" target=\"_parent\"><img src=\"https://colab.research.google.com/assets/colab-badge.svg\" alt=\"Open In Colab\"/></a>"
      ]
    },
    {
      "cell_type": "markdown",
      "source": [
        "1. Extraer texto de páginas web"
      ],
      "metadata": {
        "id": "fsxs31YRjP3D"
      }
    },
    {
      "cell_type": "code",
      "source": [
        "import re\n",
        "import requests\n",
        "from bs4 import BeautifulSoup"
      ],
      "metadata": {
        "id": "3d5dvCdZi35E"
      },
      "execution_count": null,
      "outputs": []
    },
    {
      "cell_type": "code",
      "source": [
        "url = \"https://www.semana.com/\"\n",
        "# Solicitud al url\n",
        "req = requests.get(url)\n",
        "htmlReq = req.text\n",
        "soup = BeautifulSoup(htmlReq, 'html.parser') # dar formato al texto cargado de un html\n",
        "text = soup.get_text()\n",
        "text"
      ],
      "metadata": {
        "colab": {
          "base_uri": "https://localhost:8080/",
          "height": 226
        },
        "id": "L-SfRdLKidg9",
        "outputId": "9e7356f7-1df7-4a3e-ddcd-a547d2aa1237"
      },
      "execution_count": null,
      "outputs": [
        {
          "output_type": "execute_result",
          "data": {
            "text/plain": [
              "'Semana.com -  Últimas Noticias de Colombia y el Mundo\\n\\nMiércoles, 11 de diciembre de 2024 - ISSN 2745-2794Miércoles, 11 de diciembre de 2024 - ISSN 2745-2794Últimas NoticiasSemana TVSemana PlayEconomíaImpresaNaciónPolíticaGaleríasEspecialesMásTecnologíaMundoCómoTurismoLoteríasVehículosDeportesGenteActualidadSaludOpiniónCulturaImpresaSostenibleVideos4 PatasMejor ColombiaForos SemanaCocinaMujeresEmprendimientosContenido en colaboraciónVida ModernaFinanzas PersonalesConfidencialesEducaciónSemana RuralEmpleosMiércoles, 11 de diciembre de 2024 ISSN 2745-2794Semana TVSemana PlayEconomíaTecnologíaNaciónMundoPolíticaCómoTurismoLoteríasDeportesVehículosGenteActualidadSaludOpiniónCulturaImpresaSostenibleVideos4 PatasMejor ColombiaForos SemanaCocinaEspecialesMujeresEmprendimientosContenido en ColaboraciónVida ModernaFinanzas PersonalesConfidencialesEducaciónSemana RuralEmpleosSuscribirseIniciar SesiónSíguenos:FacebookTwitterInstagramYoutubeSuscribirse Alias Pichi, el ‘Pablo Escobar’ de Bucaramanga, ya se encuentra en BogotáNación Hace 1 horaEncapuchados habrían intentado tomarse auditorio de la Universidad Nacional donde se realizaban grados; fueron expulsadosLos asistentes a la ceremonia, indignados por la presencia de los encapuchados, les gritaron para que se retiraran del lugar.Nación Hace 21 minutosAlias Pichi, el ‘Pablo Escobar’ de Bucaramanga, ya se encuentra en BogotáNación Millonaria estafa en Medellín: hombre habría engañado a 57 personas y vendido sus carrosNación “Tiene hasta el lunes para salir del país, hp”, amenazaron al nuevo abogado de Nicolás Petro Nación Revelan extraño detalle que tenía el cuerpo de Catalina Leyva, joven hallada muerta tras salir de entrevista de trabajo en BogotáEl papá de la joven contó un detalle desconocido que fue encontrado durante la necropsia al cadáver.Nación Alias Chupeta quedó libre en Estados Unidos tras 16 años en prisión. La impresionante vida del hombre de las “mil caras” El antiguo capo del narcotráfico, quien fue líder del cartel del Norte del Valle, había sido condenado a 20 años de prisión hace unos años.NACIÓN Se conocen los últimos chats de WhatsApp de Catalina Leyva, antes de ser hallada muerta en Bogotá: “Tenía toda la conversación”Economía Salario mínimo 2025: qué pasará con la reducción de la jornada laboral a 44 horas semanalesBarranquilla La subintendente Sandra Marín denuncia el acoso sexual que ha sufrido en la Policía: “El coronel tiene mucho poder”Judicial Hace 1 horaLegalizan la captura de alias Pichi, el conocido ‘Pablo Escobar’ de BucaramangaPOLÍTICA Hace 3 horasNuevo encontrón entre Gustavo Petro y Carlos Fernando Galán por aumento de tarifa en el pasaje de TransMilenioEl alcalde examina el aumento de la tarifa de TransMilenio por el posible incumplimiento del Gobierno nacional en el giro de unos recursos. Gustavo Petro tiene otra versión. NACIÓN Harold Echeverry, feminicida de la niña Michelle Dayana, hizo aterradora confesión: “Esta parte de la lengua no la tengo”Nación Hace 1 horaTribunal Arbitral Internacional exoneró al consorcio CCC Ituango del colapso de la galería auxiliar de desviación en HidroituangoNación SEMANA revela en exclusiva detalles de cumbre criminal en Bogotá: estuvo presente alias Niño Guerrero, máximo cabecilla del Tren de AraguaNACIÓN Así va la competencia de los precandidatos presidenciales para el 2026 en Google. Aquí, algunos de los más buscadosLEYES Hace 1 horaAprobada conciliación del Acto Legislativo que reforma el Sistema General de Participaciones, pero siguen los riesgos fiscalesLa mayoría votó para que se acogiera el texto de Cámara. Ley de Competencias sigue siendo la exigencia para aplicar lo aprobado y continúan las preocupaciones por la plata que se necesitará para cumplir la ley. Opinión Antioquia la grandeJudicial Olmedo López, Sneyder Pinilla, Luis Eduardo López, Pedro Rodríguez y Luis Carlos Barreto, fueron llamados a juicio por el saqueo en la UNGRDEmpresas Sura responde ante negativa del Gobierno para salir del sistema de salud: piden urgente aumento de UPC para 2025Regiones Hace 3 horasEstos son los años de cárcel que podría pagar El Maniako, reconocido ‘influencer’ capturado en Bucaramanga Confidenciales Gustavo Petro y sus elogios a la serie ‘Cien años de soledad’: “Producción colombiana de la mejor calidad”Restaurante Elcielo, del colombiano Juan Manuel Barrientos, gana la Estrella Michelin 2024Claudia Cabrera, exalcaldesa de Policarpa, denuncia reclutamiento de menores en Nariño en el marco del Día de los Derechos HumanosDestituyen a la directora del Sena en Córdoba por polémico video que mostraría direccionamiento de contratosCarlos Caicedo pone sobre la mesa nuevo plan electoral para la izquierda en 2026 ¿Cuál será el recaudo luego de la ‘peluqueada’ a la ley de financiamiento que llegó al Congreso? Ministro Guevara confirmó la cifraParlamento Europeo se quejó con presidentes del Congreso por el manejo que el país le está dando a la propiedad intelectualTrump se burla de Justin Trudeau llamándolo “gobernador” del “estado” de CanadáMinistro del Interior, Juan Fernando Cristo, confirmó las fechas en las que se llevarán a cabo las sesiones extra en el CongresoMiguel Polo Polo se enfrenta Iván Cepeda por  denuncia de injuria: “Te espero en la Corte Suprema”“Hoy vamos con la reforma a la salud”, informó el presidente de la Cámara, Jaime Raúl SalamancaReforma tributaria: debate del proyecto de ley de financiamiento comienza este miércoles en el CongresoÁngela María Buitrago, ministra de Justicia, habla de su participación en el trámite de la reforma del sectorMiguel Uribe cuestiona al presidente Petro por respuesta sobre la posesión de Nicolás Maduro: “No se confunda”Partidos independientes y grupos de ciudadanos anuncian unión de cara a las elecciones del 2026: “Una propuesta alternativa” Leer másNaciónNación Hace pocos segundosJaime Andrés Beltrán, alcalde de Bucaramanga, agradece la petición de mantener fuera de la región a alias PichiEl peligroso delincuente será recluido en una cárcel de Bogotá.Nación Hace 34 minutosFuerte temblor en Colombia: sismo sacudió a Ituango, Antioquia, en la noche de este martes, 10 de diciembreNación Hace 3 horasVideo de la ‘estampida humana’ que generó peleas y caos en la tradicional Noche de Velitas, en Villa de LeyvaLa noche estuvo marcada por momentos de angustia.Nación Hace 2 horasAparatoso accidente en la vía Mosquera-Bogotá provocó la muerte de un ciclistaNACIÓN Hace 5 horasAsí regirá el pico y placa en Bogotá este miércoles, 11 de diciembreTurismoTurismo Hace 5 horasEste es el pesebre más dulce de Colombia: fue elaborado con panelitas, crispetas, arequipe y obleasEsta ilustración está compuesto por más de 800 figuras hechas a mano y tiene 700 libras de dulce.Como Hace 5 horas¿Es clave hablar inglés en la entrevista para la visa de turismo a EE. UU.? Exdiplomático respondeTurismo Planes imperdibles en Caracolí, Antioquia: una joya entre ríos, bosques húmedos y tropicalesTurismo Cuatro pueblos de Boyacá para visitar en diciembre de 2024; destacan por sus atractivos coloniales y tradicionesTurismo Lo que revela la psicología sobre tener el carro sucio: más allá de la limpiezaEste detalle puede reflejar mucho acerca de su vida  emocionalTurismo Así es Cuéllar, el pueblo medieval que sorprende en Segovia con sus iglesias, que también son murallaTurismo ¿Los colombianos necesitan visa para hacer escala en los Estados Unidos?Turismo Disfrute del Carnaval de Venecia 2025: estos son algunos consejos que debe tener en cuenta Vida Moderna Especia para mejorar la memoria: beneficios de antienvejecimiento y protección hepática, según la ciencia“Los niños necesitan frustrarse”: la prestigiosa psicóloga Gloria Isaza explica por qué hace daño la obsesión por hacer felices a los hijosCientíficos de Barcelona desvelan el mecanismo molecular del autismo: “Abriendo nuevas vías para explorar futuras terapias”Ya poco suena el 1º de diciembre el Día Mundial de lucha contra el Sida. Ha bajado la enfermedad, pero no hay que bajar la guardiaLa pornografía y su incidencia en el incremento de las violaciones grupales y otros tipos de violencia sexualColombia, el país del mundo con mayores dificultades para acceder a una cita médica; preocupante informe de The EconomistAsí puede evitar el cáncer de pulmón, el segundo más frecuente en ColombiaLa violencia llegó al vientre: las graves secuelas que dejó la operación Orión en los niños que estaban por nacer en la Comuna 13Leer másPolíticaPolítica Hace 10 minutosPaloma Valencia le pidió al presidente Gustavo Petro que rectifique afirmaciones en contra de su familia por caso CoosaludLa congresista dijo que su familia nunca se ha aprovechado de las arcas del Estado. Además, lanzó mensajes cifrados haciendo referencia a que su familia no tiene escándalos como los del mandatario.POLÍTICA Hace 5 horasAuditora de la campaña Petro Presidente pidió al CNE dos meses para radicar dictamen pericial sobre la contienda; contadora guardó silencioPolítica Hace 5 horasComisiones primeras del Congreso aprueban proyecto de jurisdicción agraria ruralEl texto promovido por el Ministerio de Agricultura será estudiado por las plenarias en medio de advertencias de los ambientalistas sobre los riesgos de ese articulado para la sostenibilidad del país.Bogotá Hace 5 horasLa Uaesp confirmó la terminación unilateral del contrato de concesión de cementerios distritales, ¿qué pasará ahora?Política Excanciller Álvaro Leyva propuso una Comisión Universal de la Verdad al gobierno de Palestina: “Se inicia un trabajo”EconomíaEconomía Hace 50 minutosLey de financiamiento amenazaría la industria del carbón, asegura la Asociación Colombiana de MineríaLa ACM argumentó el peligró de la iniciativa presentada por el gobierno Petro.Finanzas Hace 2 horas¿Puede recibir un aumento en su sueldo si gana más del salario mínimo?Economía Hace 32 minutosRevelador estudio sobre la ley de financiamiento le toma la temperatura política al proyecto que busca recaudar $9,8 billones Economía Dólar cierra el mercado con precio a la baja este 10 de diciembre: se cotizó en $4.371Control y vigilancia Hace 4 horasSuperIndustria fue a hacer control de precios y la empresa farmacéutica Eli Lilly no lo permitió, por lo que fue multada Los argumentos que alega la entidad de control llevaron a que le aplique a la compañía una sanción de 635 millones de pesos.Economía Hace 4 horasDólar en casas de cambio para este 10 de diciembre en Colombia: así se mueve la divisaComercio Crece la competencia en electrodomésticos. Esta firma china pasó de fabricar para otros a usar su propia marcaREFORMA TRIBUTARIA Ley de financiamiento de Gustavo Petro sí va, comisiones económicas citaron a sesión para anunciar el inicio del debateMundoMundo Hace 2 horasInforme policial revela que Luigi Mangione, quien disparó contra alto ejecutivo en EE.UU., se consideraba un ‘héroe’Mangione es el principal sospechoso del asesinato de Brian Thompson. Mundo Hace 4 horasUn padre y su hijo confiesan ante la justicia alemana que quisieron chantajear a la familia del campeón Michael SchumacherMUNDO Presidenta de Perú plantea pena de muerte para violadores de niñosLa mandataria expresó su indignación por el asesinato de una niña cuyo cuerpo fue hallado el domingo.SALUD La OMS mantiene como alto el riesgo para la salud pública de la nueva variante de mpoxHasta la fecha, siete países fuera de África han detectado el clado Ib.DeportesDeportes Hace 40 minutosAmérica oficializa “fichaje” previo a la final con Nacional: esta es la curiosa historiaEl cuadro escarlata es tendencia en redes sociales luego de hacer pública una acción que se llevó la atención de los aficionados y la prensa. Numerosos comentarios aplauden a la mecha a tan solo horas de la final con Nacional.Deportes Hace 16 minutosUnión Magdalena interfiere en las aspiraciones de Llaneros: así fue la final de ida en el Torneo BetPlayMiles de personas asistieron al estadio Sierra Nevada de Santa Marta para apoyar a Unión Magdalena contra Llaneros. Vibrante, físico y con varias llegadas fue el compromiso.Deportes Hace 2 horasDan la cara en Millonarios tras eliminación: sensible pronunciamiento de ‘referente’Deportes Hace 2 horasJhon Durán descrestó a toda Europa: video del golazo con Aston Villa ante Leipzig por Champions Contenido en colaboración Los Clásicos junto a Inter Rapidísimo lanzaron una gran historia de NavidadConozca el nuevo condominio morros, en Cartagena: el arte de vivir frente al marDescubra Explora: un lujoso proyecto inmobiliario que promete rentabilidad con enfoque sostenibleEsta Navidad sorprenda a sus hijos con el smartwatch que lo tiene todoEste es el mejor vino del 2024, según el prestigioso ranking de Wine Spectator“Somos el Amazon del bienestar”: director de CompensarUn ecosistema digital que revoluciona la experiencia del cliente El regalo ideal para esta Navidad: bicicletas para todos los gustos y presupuestosLa inspiradora historia de Camilo, el niño que encendió la Navidad en ChiquinquiráLeer másLos Clásicos junto a Inter Rapidísimo lanzaron una gran historia de Navidad Opinión Por: Jorge Humberto BoteroEscopeta regadoraPor: Alejandra CarvajalPetro se identifica con Maduro y con Bashar al AsadPor: Marc EichmannRemedios a la podredumbre políticaPor: Enrique GómezSirva o no sirvaPor: Brigadier general (r) Pablo Federico Przychodny JaramilloPetro lo logróPor: Fernando RuizEl traje nuevo del emperadorPor: Salud Hernández-MoraLa corrupción rodea a PetroPor: Aurelio Suárez Montoya“Los nadies” reciben de Petro un vil aguinaldo energéticoPor: María Andrea NietoCorrupción totalPor: Diana Saray GiraldoUn símbolo que nos una y no que nos dividaVer todasMejor ColombiaEmprendimiento Más que proveedores. Así mejora Compensar la productividad de sus aliadosCon los programas Compras Inclusivas y Desarrollo de Proveedores, la caja de compensación acompaña a sus proveedores para que sean productivos y competitivos en diferentes sectores económicos. Opinión El futuro de Colombia está en la autonomía de las regionesEl gobernador de Risaralda y vicepresidente de la Federación Nacional de Departamentos, Juan Diego Patiño, explica la importancia de las regalías en la autonomía regional y el progreso de los territorios. Regiones Vuelve el Tren Navideño de Boyacá: así se vive este viaje lleno de magiaMedioambiente Farallones de Cali: el corazón ecológico que abastece de agua al Valle del CaucaTecnologíaTecnología Hace 1 horaIgnorar los mensajes de su ex será peor que responderlos, esta nueva función de WhatsApp le dará dolor de cabezaLa nueva función podría complicar las vidas de quienes intentan ignorar a sus ex.Tecnología Hace 1 horaCientíficos se sorprenden con hallazgo del cráter más grande de la Luna: “Nuestro trabajo desafía muchas de las ideas existentes”Científicos descubren en el cráter más grande de la Luna evidencias que desafían teorías sobre su formación.Tecnología Hace 4 horasYa no habrá vuelta atrás: WhatsApp bloqueará su cuenta si descarga una de las siguientes aplicacionesTECNOLOGÍA Hace 4 horasEl invento que promete reemplazar las regletas y transformar la forma de conectar dispositivos Especiales Semana Manifestaciones en Georgia y Corea del Sur, y ataque aéreo israelí, entre las fotos destacadas de la semana del 1 al 6 de diciembreNavidad en Colombia: el arte de regalar y compartirEspecial Región Caribe: crece el optimismo y la competitividadAsí es como los clientes de Lulo bank pueden llevar su tarjeta digital a todas partesVea en SEMANA las espectaculares imágenes que dejan los hechos más importantes acontecidos en el mundo¿Cómo impulsa Colombia el desarrollo y la competitividad en su sistema de salud?Una labor que no para: así funcionan las titánicas tareas de mantenimiento del Metro de MedellínEstas son las imágenes que fueron protagonistas durante la semana del 17 al 22 de noviembreHerramientas digitales para impulsar los negociosEspecial infraestructura: los proyectos que jalonarán el desarrollo de ColombiaEspecial oferta académica, ¿qué tanto se han superado las brechas digitales?Historias que inspiran y emocionan El poder de Linkin Park en BogotáNo se pierda las imágenes que le dieron la vuelta al mundo los últimos días: esta es una selección SEMANAInclementes inundaciones, voraces incendios y la celebración por una contundente victoria electoral, las postales que deja la semanaConozca el ‘ranking’ de las 1.000 pymes más grandes de Colombia Donald Trump llega de nuevo a la presidencia de Estados Unidos COP 16: Colombia y las oportunidades de la biodiversidadEstas son las imágenes más impactantes de la última semana de octubreMotor de la economía colombiana: estas son las empresas que construyen paísVer todos Foros Semana Así será la Unidad Clínica de Inteligencia Artificial con la que LaCardio busca transformar la salud en ColombiaForo digital ‘Riesgos financieros’: evite caer en fraudes este fin de añoDavivienda y la nueva Cédula Cafetera: una apuesta renovada para el agro colombiano. ¿De qué se trata?Conozca el primer MBA en Ingeniería del país y la regiónForo VIH: estos son los avances y desafíos que enfrentan las personas que viven con esta condición en Colombia¿Fin de la epidemia de VIH? Así avanza el mundo en la meta de erradicarlo para el año 2030¿Cómo combatir el estigma hacia el VIH? Propuestas para frenar la discriminaciónLa región centro del país no se detiene: destaca en turismo y producción de café, pero enfrenta retos y desafíos en otros temasCasos de VIH aumentan en Colombia: ¿Cómo está el panorama de pacientes en el país y la región?Tratamiento y prevención del VIH: ¿cómo estamos hoy?Leer másCómoCómo Hace 3 horasCalendario lunar de diciembre: estos son los mejores días para sembrar plantasCon estos trucos podrá lograr sembrar de una forma segura en el crecimiento de las plantas. Como Hace 5 horas¿Es clave hablar inglés en la entrevista para la visa de turismo a EE. UU.? Exdiplomático respondeEl exfuncionario también aseguró que las redes sociales no son revisadas antes de la entrevista. Turismo Lo que revela la psicología sobre tener el carro sucio: más allá de la limpiezaCÓMO Cuál es el truco más efectivo para atraer el dinero a pocos días de que se acabe el 2024Últimas noticias de Colombia y el Mundo HoyCopyright © 2024Publicaciones Semana S.ANIT 860.509.265 -1ISSN 2745-2794Síganos en redesNuestras marcas:Nuestras marcas:Semana PlayEconomíaArcadiaJet setSohoFucsiaEl País4 PatasSostenibleFinanzas PersonalesForos SemanaSemana RuralAcerca de nosotros:Acerca de nosotros:Términos de usoPolítica de Tratamiento de DatosTérminos suscripcionesAviso de privacidadPolítica de Riesgos C/STPolítica SAGRILAFTCertificación ISSNTyC Plan de GobiernoPara notificaciones judicialese-mail: juridica@semana.comProtección del consumidorContáctenos:Contáctenos:Canales de servicio al clienteHorarios de atenciónLunes a viernes: 7:00 a.m. a 7:00 p.m.Sábados: 8:00 a.m. a 5:00 p.m.Trabaje con nosotrosPaute con nosotrosTodas las marcas registradas son propiedad de la compañía respectiva o de PUBLICACIONES SEMANA S.A.Se prohíbe la reproducción total o parcial de cualquiera de los contenidos que aquí aparezca, así como su traducción a cualquier idioma sin autorización escrita por su titular.Todas las marcas registradas son propiedad de la compañía respectiva o de PUBLICACIONES SEMANA S.A. Se prohíbe la reproducción total o parcial de cualquiera de los aquí aparezca, aquí aparezca, así como su traducción a cualquier idioma sin idioma sin autorización escrita por su titular.Síganos en redesTodas las marcas registradas son propiedad de la compañía respectiva o de PUBLICACIONES SEMANA S.A. Se prohíbe la reproducción total o parcial de cualquiera de los contenidos que aquí aparezca, así como su traducción a cualquier idioma sin autorización escrita por su titular.'"
            ],
            "application/vnd.google.colaboratory.intrinsic+json": {
              "type": "string"
            }
          },
          "metadata": {},
          "execution_count": 18
        }
      ]
    },
    {
      "cell_type": "markdown",
      "source": [
        "2. Usar la libreria de limpieza"
      ],
      "metadata": {
        "id": "V46SWGJPjXAK"
      }
    },
    {
      "cell_type": "code",
      "source": [
        "from google.colab import drive\n",
        "drive.mount('/content/drive')"
      ],
      "metadata": {
        "colab": {
          "base_uri": "https://localhost:8080/"
        },
        "id": "JTHjvG01jztY",
        "outputId": "c4a2b70a-cc3b-4f16-cfa9-7bcd3976e231"
      },
      "execution_count": null,
      "outputs": [
        {
          "output_type": "stream",
          "name": "stdout",
          "text": [
            "Drive already mounted at /content/drive; to attempt to forcibly remount, call drive.mount(\"/content/drive\", force_remount=True).\n"
          ]
        }
      ]
    },
    {
      "cell_type": "code",
      "source": [
        "import sys\n",
        "\n",
        "sys.path\n"
      ],
      "metadata": {
        "colab": {
          "base_uri": "https://localhost:8080/"
        },
        "id": "HZSPE5xZjckR",
        "outputId": "ca9a02ea-59ea-4fb0-ad3c-be0de74f4d18"
      },
      "execution_count": null,
      "outputs": [
        {
          "output_type": "execute_result",
          "data": {
            "text/plain": [
              "['/content',\n",
              " '/env/python',\n",
              " '/usr/lib/python310.zip',\n",
              " '/usr/lib/python3.10',\n",
              " '/usr/lib/python3.10/lib-dynload',\n",
              " '',\n",
              " '/usr/local/lib/python3.10/dist-packages',\n",
              " '/usr/lib/python3/dist-packages',\n",
              " '/usr/local/lib/python3.10/dist-packages/IPython/extensions',\n",
              " '/usr/local/lib/python3.10/dist-packages/setuptools/_vendor',\n",
              " '/root/.ipython',\n",
              " '/content/drive/MyDrive/Colab Notebooks/BIT_Bootcam_IA/DataSET/',\n",
              " '/content/drive/MyDrive/Colab Notebooks/BIT_Bootcam_IA/DataSET/',\n",
              " '/content/drive/MyDrive/Colab Notebooks/BIT_Bootcam_IA/DataSET/']"
            ]
          },
          "metadata": {},
          "execution_count": 26
        }
      ]
    },
    {
      "cell_type": "code",
      "execution_count": null,
      "metadata": {
        "colab": {
          "base_uri": "https://localhost:8080/"
        },
        "id": "3GIVUEoJhyDM",
        "outputId": "f8cdca8c-748d-43a2-8b71-8c85826484a6"
      },
      "outputs": [
        {
          "output_type": "execute_result",
          "data": {
            "text/plain": [
              "['/content',\n",
              " '/env/python',\n",
              " '/usr/lib/python310.zip',\n",
              " '/usr/lib/python3.10',\n",
              " '/usr/lib/python3.10/lib-dynload',\n",
              " '',\n",
              " '/usr/local/lib/python3.10/dist-packages',\n",
              " '/usr/lib/python3/dist-packages',\n",
              " '/usr/local/lib/python3.10/dist-packages/IPython/extensions',\n",
              " '/usr/local/lib/python3.10/dist-packages/setuptools/_vendor',\n",
              " '/root/.ipython',\n",
              " '/content/drive/MyDrive/Colab Notebooks/BIT_Bootcam_IA/DataSET/',\n",
              " '/content/drive/MyDrive/Colab Notebooks/BIT_Bootcam_IA/DataSET/',\n",
              " '/content/drive/MyDrive/Colab Notebooks/BIT_Bootcam_IA/DataSET/',\n",
              " '/content/drive/MyDrive/Colab Notebooks/BIT_Bootcam_IA/DataSET/']"
            ]
          },
          "metadata": {},
          "execution_count": 27
        }
      ],
      "source": [
        "folderPath = '/content/drive/MyDrive/Colab Notebooks/BIT_Bootcam_IA/DataSET/'\n",
        "sys.path.append(folderPath)\n",
        "sys.path"
      ]
    },
    {
      "cell_type": "markdown",
      "source": [],
      "metadata": {
        "id": "xxMJm6MHmZCC"
      }
    },
    {
      "cell_type": "code",
      "source": [
        "import libJuli1 as lJ"
      ],
      "metadata": {
        "id": "IzCWsHh5jnqw"
      },
      "execution_count": null,
      "outputs": []
    },
    {
      "cell_type": "markdown",
      "source": [],
      "metadata": {
        "id": "vpj8izy0maxc"
      }
    },
    {
      "cell_type": "code",
      "source": [
        "with  open(\"semana.txt\", \"w\") as f:\n",
        "  f.write(text)"
      ],
      "metadata": {
        "id": "qjvLQ8s1l7hh"
      },
      "execution_count": null,
      "outputs": []
    },
    {
      "cell_type": "code",
      "source": [
        "lJ.clean_text(folderPath + 'semana.txt')"
      ],
      "metadata": {
        "colab": {
          "base_uri": "https://localhost:8080/",
          "height": 226
        },
        "id": "Kj6kjak8kyDc",
        "outputId": "f5bec503-98aa-4bf3-c983-562f54143f03"
      },
      "execution_count": null,
      "outputs": [
        {
          "output_type": "execute_result",
          "data": {
            "text/plain": [
              "'Semana.com - Últimas Noticias de Colombia y el Mundo Miércoles, 11 de diciembre de 2024 - ISSN 2745-2794Miércoles, 11 de diciembre de 2024 - ISSN 2745-2794Últimas NoticiasSemana TVSemana PlayEconomíaImpresaNaciónPolíticaGaleríasEspecialesMásTecnologíaMundoCómoTurismoLoteríasVehículosDeportesGenteActualidadSaludOpiniónCulturaImpresaSostenibleVideos4 PatasMejor ColombiaForos SemanaCocinaMujeresEmprendimientosContenido en colaboraciónVida ModernaFinanzas PersonalesConfidencialesEducaciónSemana RuralEmpleosMiércoles, 11 de diciembre de 2024 ISSN 2745-2794Semana TVSemana PlayEconomíaTecnologíaNaciónMundoPolíticaCómoTurismoLoteríasDeportesVehículosGenteActualidadSaludOpiniónCulturaImpresaSostenibleVideos4 PatasMejor ColombiaForos SemanaCocinaEspecialesMujeresEmprendimientosContenido en ColaboraciónVida ModernaFinanzas PersonalesConfidencialesEducaciónSemana RuralEmpleosSuscribirseIniciar SesiónSíguenos:FacebookTwitterInstagramYoutubeSuscribirse Alias Pichi, el ‘Pablo Escobar’ de Bucaramanga, ya se encuentra en BogotáNación Hace 1 horaEncapuchados habrían intentado tomarse auditorio de la Universidad Nacional donde se realizaban grados; fueron expulsadosLos asistentes a la ceremonia, indignados por la presencia de los encapuchados, les gritaron para que se retiraran del lugar.Nación Hace 19 minutosAlias Pichi, el ‘Pablo Escobar’ de Bucaramanga, ya se encuentra en BogotáNación Millonaria estafa en Medellín: hombre habría engañado a 57 personas y vendido sus carrosNación “Tiene hasta el lunes para salir del país, hp”, amenazaron al nuevo abogado de Nicolás Petro Nación Revelan extraño detalle que tenía el cuerpo de Catalina Leyva, joven hallada muerta tras salir de entrevista de trabajo en BogotáEl papá de la joven contó un detalle desconocido que fue encontrado durante la necropsia al cadáver.Nación Alias Chupeta quedó libre en Estados Unidos tras 16 años en prisión. La impresionante vida del hombre de las “mil caras” El antiguo capo del narcotráfico, quien fue líder del cartel del Norte del Valle, había sido condenado a 20 años de prisión hace unos años.NACIÓN Se conocen los últimos chats de WhatsApp de Catalina Leyva, antes de ser hallada muerta en Bogotá: “Tenía toda la conversación”Economía Salario mínimo 2025: qué pasará con la reducción de la jornada laboral a 44 horas semanalesBarranquilla La subintendente Sandra Marín denuncia el acoso sexual que ha sufrido en la Policía: “El coronel tiene mucho poder”Judicial Hace 1 horaLegalizan la captura de alias Pichi, el conocido ‘Pablo Escobar’ de BucaramangaPOLÍTICA Hace 3 horasNuevo encontrón entre Gustavo Petro y Carlos Fernando Galán por aumento de tarifa en el pasaje de TransMilenioEl alcalde examina el aumento de la tarifa de TransMilenio por el posible incumplimiento del Gobierno nacional en el giro de unos recursos. Gustavo Petro tiene otra versión. NACIÓN Harold Echeverry, feminicida de la niña Michelle Dayana, hizo aterradora confesión: “Esta parte de la lengua no la tengo”Nación Hace 1 horaTribunal Arbitral Internacional exoneró al consorcio CCC Ituango del colapso de la galería auxiliar de desviación en HidroituangoNación SEMANA revela en exclusiva detalles de cumbre criminal en Bogotá: estuvo presente alias Niño Guerrero, máximo cabecilla del Tren de AraguaNACIÓN Así va la competencia de los precandidatos presidenciales para el 2026 en Google. Aquí, algunos de los más buscadosLEYES Hace 1 horaAprobada conciliación del Acto Legislativo que reforma el Sistema General de Participaciones, pero siguen los riesgos fiscalesLa mayoría votó para que se acogiera el texto de Cámara. Ley de Competencias sigue siendo la exigencia para aplicar lo aprobado y continúan las preocupaciones por la plata que se necesitará para cumplir la ley. Opinión Antioquia la grandeJudicial Olmedo López, Sneyder Pinilla, Luis Eduardo López, Pedro Rodríguez y Luis Carlos Barreto, fueron llamados a juicio por el saqueo en la UNGRDEmpresas Sura responde ante negativa del Gobierno para salir del sistema de salud: piden urgente aumento de UPC para 2025Regiones Hace 3 horasEstos son los años de cárcel que podría pagar El Maniako, reconocido ‘influencer’ capturado en Bucaramanga Confidenciales Gustavo Petro y sus elogios a la serie ‘Cien años de soledad’: “Producción colombiana de la mejor calidad”Restaurante Elcielo, del colombiano Juan Manuel Barrientos, gana la Estrella Michelin 2024Claudia Cabrera, exalcaldesa de Policarpa, denuncia reclutamiento de menores en Nariño en el marco del Día de los Derechos HumanosDestituyen a la directora del Sena en Córdoba por polémico video que mostraría direccionamiento de contratosCarlos Caicedo pone sobre la mesa nuevo plan electoral para la izquierda en 2026 ¿Cuál será el recaudo luego de la ‘peluqueada’ a la ley de financiamiento que llegó al Congreso? Ministro Guevara confirmó la cifraParlamento Europeo se quejó con presidentes del Congreso por el manejo que el país le está dando a la propiedad intelectualTrump se burla de Justin Trudeau llamándolo “gobernador” del “estado” de CanadáMinistro del Interior, Juan Fernando Cristo, confirmó las fechas en las que se llevarán a cabo las sesiones extra en el CongresoMiguel Polo Polo se enfrenta Iván Cepeda por denuncia de injuria: “Te espero en la Corte Suprema”“Hoy vamos con la reforma a la salud”, informó el presidente de la Cámara, Jaime Raúl SalamancaReforma tributaria: debate del proyecto de ley de financiamiento comienza este miércoles en el CongresoÁngela María Buitrago, ministra de Justicia, habla de su participación en el trámite de la reforma del sectorMiguel Uribe cuestiona al presidente Petro por respuesta sobre la posesión de Nicolás Maduro: “No se confunda”Partidos independientes y grupos de ciudadanos anuncian unión de cara a las elecciones del 2026: “Una propuesta alternativa” Leer másNaciónNación Hace 32 minutosFuerte temblor en Colombia: sismo sacudió a Ituango, Antioquia, en la noche de este martes, 10 de diciembreLas autoridades locales no han reportado emergencias ni daños materiales hasta el momento.Nación Hace 3 horasVideo de la ‘estampida humana’ que generó peleas y caos en la tradicional Noche de Velitas, en Villa de LeyvaNación Hace 2 horasAparatoso accidente en la vía Mosquera-Bogotá provocó la muerte de un ciclistaLa víctima fue atropellada por una tractomula cuando intentaba adelantar a otro ciclista. NACIÓN Hace 5 horasAsí regirá el pico y placa en Bogotá este miércoles, 11 de diciembreNación Insólito: disidencias de las Farc inauguraron puente vehicular en el CaucaTurismoTurismo Hace 5 horasEste es el pesebre más dulce de Colombia: fue elaborado con panelitas, crispetas, arequipe y obleasEsta ilustración está compuesto por más de 800 figuras hechas a mano y tiene 700 libras de dulce.Como Hace 5 horas¿Es clave hablar inglés en la entrevista para la visa de turismo a EE. UU.? Exdiplomático respondeTurismo Planes imperdibles en Caracolí, Antioquia: una joya entre ríos, bosques húmedos y tropicalesTurismo Cuatro pueblos de Boyacá para visitar en diciembre de 2024; destacan por sus atractivos coloniales y tradicionesTurismo Lo que revela la psicología sobre tener el carro sucio: más allá de la limpiezaEste detalle puede reflejar mucho acerca de su vida emocionalTurismo Así es Cuéllar, el pueblo medieval que sorprende en Segovia con sus iglesias, que también son murallaTurismo ¿Los colombianos necesitan visa para hacer escala en los Estados Unidos?Turismo Disfrute del Carnaval de Venecia 2025: estos son algunos consejos que debe tener en cuenta Vida Moderna Especia para mejorar la memoria: beneficios de antienvejecimiento y protección hepática, según la ciencia“Los niños necesitan frustrarse”: la prestigiosa psicóloga Gloria Isaza explica por qué hace daño la obsesión por hacer felices a los hijosCientíficos de Barcelona desvelan el mecanismo molecular del autismo: “Abriendo nuevas vías para explorar futuras terapias”Ya poco suena el 1º de diciembre el Día Mundial de lucha contra el Sida. Ha bajado la enfermedad, pero no hay que bajar la guardiaLa pornografía y su incidencia en el incremento de las violaciones grupales y otros tipos de violencia sexualColombia, el país del mundo con mayores dificultades para acceder a una cita médica; preocupante informe de The EconomistAsí puede evitar el cáncer de pulmón, el segundo más frecuente en ColombiaLa violencia llegó al vientre: las graves secuelas que dejó la operación Orión en los niños que estaban por nacer en la Comuna 13Leer másPolíticaPolítica Hace 8 minutosPaloma Valencia le pidió al presidente Gustavo Petro que rectifique afirmaciones en contra de su familia por caso CoosaludLa congresista dijo que su familia nunca se ha aprovechado de las arcas del Estado. Además, lanzó mensajes cifrados haciendo referencia a que su familia no tiene escándalos como los del mandatario.POLÍTICA Hace 5 horasAuditora de la campaña Petro Presidente pidió al CNE dos meses para radicar dictamen pericial sobre la contienda; contadora guardó silencioPolítica Hace 5 horasComisiones primeras del Congreso aprueban proyecto de jurisdicción agraria ruralEl texto promovido por el Ministerio de Agricultura será estudiado por las plenarias en medio de advertencias de los ambientalistas sobre los riesgos de ese articulado para la sostenibilidad del país.Bogotá Hace 5 horasLa Uaesp confirmó la terminación unilateral del contrato de concesión de cementerios distritales, ¿qué pasará ahora?Política Excanciller Álvaro Leyva propuso una Comisión Universal de la Verdad al gobierno de Palestina: “Se inicia un trabajo”EconomíaEconomía Hace 48 minutosLey de financiamiento amenazaría la industria del carbón, asegura la Asociación Colombiana de MineríaLa ACM argumentó el peligró de la iniciativa presentada por el gobierno Petro.Finanzas Hace 2 horas¿Puede recibir un aumento en su sueldo si gana más del salario mínimo?Economía Hace 30 minutosRevelador estudio sobre la ley de financiamiento le toma la temperatura política al proyecto que busca recaudar $9,8 billones Economía Dólar cierra el mercado con precio a la baja este 10 de diciembre: se cotizó en $4.371Control y vigilancia Hace 4 horasSuperIndustria fue a hacer control de precios y la empresa farmacéutica Eli Lilly no lo permitió, por lo que fue multada Los argumentos que alega la entidad de control llevaron a que le aplique a la compañía una sanción de 635 millones de pesos.Economía Hace 4 horasDólar en casas de cambio para este 10 de diciembre en Colombia: así se mueve la divisaComercio Crece la competencia en electrodomésticos. Esta firma china pasó de fabricar para otros a usar su propia marcaREFORMA TRIBUTARIA Ley de financiamiento de Gustavo Petro sí va, comisiones económicas citaron a sesión para anunciar el inicio del debateMundoMundo Hace 2 horasInforme policial revela que Luigi Mangione, quien disparó contra alto ejecutivo en EE.UU., se consideraba un ‘héroe’Mangione es el principal sospechoso del asesinato de Brian Thompson. Mundo Hace 4 horasUn padre y su hijo confiesan ante la justicia alemana que quisieron chantajear a la familia del campeón Michael SchumacherMUNDO Presidenta de Perú plantea pena de muerte para violadores de niñosLa mandataria expresó su indignación por el asesinato de una niña cuyo cuerpo fue hallado el domingo.SALUD La OMS mantiene como alto el riesgo para la salud pública de la nueva variante de mpoxHasta la fecha, siete países fuera de África han detectado el clado Ib.DeportesDeportes Hace 38 minutosAmérica oficializa “fichaje” previo a la final con Nacional: esta es la curiosa historiaEl cuadro escarlata es tendencia en redes sociales luego de hacer pública una acción que se llevó la atención de los aficionados y la prensa. Numerosos comentarios aplauden a la mecha a tan solo horas de la final con Nacional.Deportes Hace 14 minutosUnión Magdalena interfiere en las aspiraciones de Llaneros: así fue la final de ida en el Torneo BetPlayMiles de personas asistieron al estadio Sierra Nevada de Santa Marta para apoyar a Unión Magdalena contra Llaneros. Vibrante, físico y con varias llegadas fue el compromiso.Deportes Hace 2 horasDan la cara en Millonarios tras eliminación: sensible pronunciamiento de ‘referente’Deportes Hace 1 horaJhon Durán descrestó a toda Europa: video del golazo con Aston Villa ante Leipzig por Champions Contenido en colaboración Los Clásicos junto a Inter Rapidísimo lanzaron una gran historia de NavidadConozca el nuevo condominio morros, en Cartagena: el arte de vivir frente al marEl regalo ideal para esta Navidad: bicicletas para todos los gustos y presupuestosDescubra Explora: un lujoso proyecto inmobiliario que promete rentabilidad con enfoque sostenibleUn ecosistema digital que revoluciona la experiencia del cliente La inspiradora historia de Camilo, el niño que encendió la Navidad en Chiquinquirá“Somos el Amazon del bienestar”: director de CompensarEste es el mejor vino del 2024, según el prestigioso ranking de Wine SpectatorEsta Navidad sorprenda a sus hijos con el smartwatch que lo tiene todoLeer másLos Clásicos junto a Inter Rapidísimo lanzaron una gran historia de Navidad Opinión Por: Jorge Humberto BoteroEscopeta regadoraPor: Alejandra CarvajalPetro se identifica con Maduro y con Bashar al AsadPor: Marc EichmannRemedios a la podredumbre políticaPor: Enrique GómezSirva o no sirvaPor: Brigadier general (r) Pablo Federico Przychodny JaramilloPetro lo logróPor: Fernando RuizEl traje nuevo del emperadorPor: Salud Hernández-MoraLa corrupción rodea a PetroPor: Aurelio Suárez Montoya“Los nadies” reciben de Petro un vil aguinaldo energéticoPor: María Andrea NietoCorrupción totalPor: Diana Saray GiraldoUn símbolo que nos una y no que nos dividaVer todasMejor ColombiaEmprendimiento Más que proveedores. Así mejora Compensar la productividad de sus aliadosCon los programas Compras Inclusivas y Desarrollo de Proveedores, la caja de compensación acompaña a sus proveedores para que sean productivos y competitivos en diferentes sectores económicos. Opinión El futuro de Colombia está en la autonomía de las regionesEl gobernador de Risaralda y vicepresidente de la Federación Nacional de Departamentos, Juan Diego Patiño, explica la importancia de las regalías en la autonomía regional y el progreso de los territorios. Regiones Vuelve el Tren Navideño de Boyacá: así se vive este viaje lleno de magiaMedioambiente Farallones de Cali: el corazón ecológico que abastece de agua al Valle del CaucaTecnologíaTecnología Hace 1 horaIgnorar los mensajes de su ex será peor que responderlos, esta nueva función de WhatsApp le dará dolor de cabezaLa nueva función podría complicar las vidas de quienes intentan ignorar a sus ex.Tecnología Hace 1 horaCientíficos se sorprenden con hallazgo del cráter más grande de la Luna: “Nuestro trabajo desafía muchas de las ideas existentes”Científicos descubren en el cráter más grande de la Luna evidencias que desafían teorías sobre su formación.Tecnología Hace 4 horasYa no habrá vuelta atrás: WhatsApp bloqueará su cuenta si descarga una de las siguientes aplicacionesTECNOLOGÍA Hace 4 horasEl invento que promete reemplazar las regletas y transformar la forma de conectar dispositivos Especiales Semana Manifestaciones en Georgia y Corea del Sur, y ataque aéreo israelí, entre las fotos destacadas de la semana del 1 al 6 de diciembreNavidad en Colombia: el arte de regalar y compartirEspecial Región Caribe: crece el optimismo y la competitividadAsí es como los clientes de Lulo bank pueden llevar su tarjeta digital a todas partesVea en SEMANA las espectaculares imágenes que dejan los hechos más importantes acontecidos en el mundo¿Cómo impulsa Colombia el desarrollo y la competitividad en su sistema de salud?Una labor que no para: así funcionan las titánicas tareas de mantenimiento del Metro de MedellínEstas son las imágenes que fueron protagonistas durante la semana del 17 al 22 de noviembreHerramientas digitales para impulsar los negociosEspecial infraestructura: los proyectos que jalonarán el desarrollo de ColombiaEspecial oferta académica, ¿qué tanto se han superado las brechas digitales?Historias que inspiran y emocionan El poder de Linkin Park en BogotáNo se pierda las imágenes que le dieron la vuelta al mundo los últimos días: esta es una selección SEMANAInclementes inundaciones, voraces incendios y la celebración por una contundente victoria electoral, las postales que deja la semanaConozca el ‘ranking’ de las 1.000 pymes más grandes de Colombia Donald Trump llega de nuevo a la presidencia de Estados Unidos COP 16: Colombia y las oportunidades de la biodiversidadEstas son las imágenes más impactantes de la última semana de octubreMotor de la economía colombiana: estas son las empresas que construyen paísVer todos Foros Semana Así será la Unidad Clínica de Inteligencia Artificial con la que LaCardio busca transformar la salud en ColombiaForo digital ‘Riesgos financieros’: evite caer en fraudes este fin de añoDavivienda y la nueva Cédula Cafetera: una apuesta renovada para el agro colombiano. ¿De qué se trata?Conozca el primer MBA en Ingeniería del país y la regiónForo VIH: estos son los avances y desafíos que enfrentan las personas que viven con esta condición en Colombia¿Fin de la epidemia de VIH? Así avanza el mundo en la meta de erradicarlo para el año 2030¿Cómo combatir el estigma hacia el VIH? Propuestas para frenar la discriminaciónLa región centro del país no se detiene: destaca en turismo y producción de café, pero enfrenta retos y desafíos en otros temasCasos de VIH aumentan en Colombia: ¿Cómo está el panorama de pacientes en el país y la región?Tratamiento y prevención del VIH: ¿cómo estamos hoy?Leer másCómoCómo Hace 3 horasCalendario lunar de diciembre: estos son los mejores días para sembrar plantasCon estos trucos podrá lograr sembrar de una forma segura en el crecimiento de las plantas. Como Hace 5 horas¿Es clave hablar inglés en la entrevista para la visa de turismo a EE. UU.? Exdiplomático respondeEl exfuncionario también aseguró que las redes sociales no son revisadas antes de la entrevista. Turismo Lo que revela la psicología sobre tener el carro sucio: más allá de la limpiezaCÓMO Cuál es el truco más efectivo para atraer el dinero a pocos días de que se acabe el 2024Últimas noticias de Colombia y el Mundo HoyCopyright © 2024Publicaciones Semana S.ANIT 860.509.265 -1ISSN 2745-2794Síganos en redesNuestras marcas:Nuestras marcas:Semana PlayEconomíaArcadiaJet setSohoFucsiaEl País4 PatasSostenibleFinanzas PersonalesForos SemanaSemana RuralAcerca de nosotros:Acerca de nosotros:Términos de usoPolítica de Tratamiento de DatosTérminos suscripcionesAviso de privacidadPolítica de Riesgos C/STPolítica SAGRILAFTCertificación ISSNTyC Plan de GobiernoPara notificaciones judicialese-mail: juridica@semana.comProtección del consumidorContáctenos:Contáctenos:Canales de servicio al clienteHorarios de atenciónLunes a viernes: 7:00 a.m. a 7:00 p.m.Sábados: 8:00 a.m. a 5:00 p.m.Trabaje con nosotrosPaute con nosotrosTodas las marcas registradas son propiedad de la compañía respectiva o de PUBLICACIONES SEMANA S.A.Se prohíbe la reproducción total o parcial de cualquiera de los contenidos que aquí aparezca, así como su traducción a cualquier idioma sin autorización escrita por su titular.Todas las marcas registradas son propiedad de la compañía respectiva o de PUBLICACIONES SEMANA S.A. Se prohíbe la reproducción total o parcial de cualquiera de los aquí aparezca, aquí aparezca, así como su traducción a cualquier idioma sin idioma sin autorización escrita por su titular.Síganos en redesTodas las marcas registradas son propiedad de la compañía respectiva o de PUBLICACIONES SEMANA S.A. Se prohíbe la reproducción total o parcial de cualquiera de los contenidos que aquí aparezca, así como su traducción a cualquier idioma sin autorización escrita por su titular.'"
            ],
            "application/vnd.google.colaboratory.intrinsic+json": {
              "type": "string"
            }
          },
          "metadata": {},
          "execution_count": 30
        }
      ]
    }
  ]
}
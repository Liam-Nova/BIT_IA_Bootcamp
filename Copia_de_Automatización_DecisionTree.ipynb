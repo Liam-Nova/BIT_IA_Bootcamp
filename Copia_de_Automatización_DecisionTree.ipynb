{
  "nbformat": 4,
  "nbformat_minor": 0,
  "metadata": {
    "colab": {
      "provenance": [],
      "collapsed_sections": [
        "uhAt_VmhpS_Q",
        "vbFUWLyWkzCv"
      ],
      "include_colab_link": true
    },
    "kernelspec": {
      "name": "python3",
      "display_name": "Python 3"
    },
    "language_info": {
      "name": "python"
    }
  },
  "cells": [
    {
      "cell_type": "markdown",
      "metadata": {
        "id": "view-in-github",
        "colab_type": "text"
      },
      "source": [
        "<a href=\"https://colab.research.google.com/github/Liam-Nova/BIT_IA_Bootcamp/blob/main/Copia_de_Automatizaci%C3%B3n_DecisionTree.ipynb\" target=\"_parent\"><img src=\"https://colab.research.google.com/assets/colab-badge.svg\" alt=\"Open In Colab\"/></a>"
      ]
    },
    {
      "cell_type": "markdown",
      "source": [
        "# Árbol de Decisión - Evaluación del riesgo de ataque cardíaco"
      ],
      "metadata": {
        "id": "C_xllnmmHa-4"
      }
    },
    {
      "cell_type": "code",
      "source": [
        "!pip install category_encoders"
      ],
      "metadata": {
        "colab": {
          "base_uri": "https://localhost:8080/"
        },
        "id": "g8TxqzMjGEDa",
        "outputId": "e0b9d359-1bb4-4b87-8f92-ac25b4a45332"
      },
      "execution_count": null,
      "outputs": [
        {
          "output_type": "stream",
          "name": "stdout",
          "text": [
            "Collecting category_encoders\n",
            "  Downloading category_encoders-2.6.4-py2.py3-none-any.whl.metadata (8.0 kB)\n",
            "Requirement already satisfied: numpy>=1.14.0 in /usr/local/lib/python3.10/dist-packages (from category_encoders) (1.26.4)\n",
            "Requirement already satisfied: scikit-learn>=0.20.0 in /usr/local/lib/python3.10/dist-packages (from category_encoders) (1.6.0)\n",
            "Requirement already satisfied: scipy>=1.0.0 in /usr/local/lib/python3.10/dist-packages (from category_encoders) (1.13.1)\n",
            "Requirement already satisfied: statsmodels>=0.9.0 in /usr/local/lib/python3.10/dist-packages (from category_encoders) (0.14.4)\n",
            "Requirement already satisfied: pandas>=1.0.5 in /usr/local/lib/python3.10/dist-packages (from category_encoders) (2.2.2)\n",
            "Requirement already satisfied: patsy>=0.5.1 in /usr/local/lib/python3.10/dist-packages (from category_encoders) (1.0.1)\n",
            "Requirement already satisfied: python-dateutil>=2.8.2 in /usr/local/lib/python3.10/dist-packages (from pandas>=1.0.5->category_encoders) (2.8.2)\n",
            "Requirement already satisfied: pytz>=2020.1 in /usr/local/lib/python3.10/dist-packages (from pandas>=1.0.5->category_encoders) (2024.2)\n",
            "Requirement already satisfied: tzdata>=2022.7 in /usr/local/lib/python3.10/dist-packages (from pandas>=1.0.5->category_encoders) (2024.2)\n",
            "Requirement already satisfied: joblib>=1.2.0 in /usr/local/lib/python3.10/dist-packages (from scikit-learn>=0.20.0->category_encoders) (1.4.2)\n",
            "Requirement already satisfied: threadpoolctl>=3.1.0 in /usr/local/lib/python3.10/dist-packages (from scikit-learn>=0.20.0->category_encoders) (3.5.0)\n",
            "Requirement already satisfied: packaging>=21.3 in /usr/local/lib/python3.10/dist-packages (from statsmodels>=0.9.0->category_encoders) (24.2)\n",
            "Requirement already satisfied: six>=1.5 in /usr/local/lib/python3.10/dist-packages (from python-dateutil>=2.8.2->pandas>=1.0.5->category_encoders) (1.17.0)\n",
            "Downloading category_encoders-2.6.4-py2.py3-none-any.whl (82 kB)\n",
            "\u001b[2K   \u001b[90m━━━━━━━━━━━━━━━━━━━━━━━━━━━━━━━━━━━━━━━━\u001b[0m \u001b[32m82.0/82.0 kB\u001b[0m \u001b[31m2.3 MB/s\u001b[0m eta \u001b[36m0:00:00\u001b[0m\n",
            "\u001b[?25hInstalling collected packages: category_encoders\n",
            "Successfully installed category_encoders-2.6.4\n"
          ]
        }
      ]
    },
    {
      "cell_type": "code",
      "source": [
        "import category_encoders as ce\n",
        "from sklearn.preprocessing import OneHotEncoder\n",
        "import numpy as np\n",
        "import pandas as pd"
      ],
      "metadata": {
        "id": "yPYdqK8DLKvn"
      },
      "execution_count": null,
      "outputs": []
    },
    {
      "cell_type": "code",
      "source": [
        "## Importar las librerías necesarias\n",
        "import pandas as pd\n",
        "from sklearn.model_selection import train_test_split #  **sklearn** libreria usada para machine learning\n",
        "from sklearn.tree import DecisionTreeRegressor\n",
        "from sklearn import tree\n",
        "import matplotlib.pyplot as plt\n",
        "\n",
        "from sklearn.metrics import mean_squared_error, mean_absolute_error, r2_score\n",
        "from sklearn.model_selection import GridSearchCV\n",
        "\n",
        "from sklearn.utils.class_weight import compute_class_weight\n",
        "\n",
        "from sklearn.preprocessing import LabelEncoder\n",
        "\n",
        "import string"
      ],
      "metadata": {
        "id": "tWakw6wUEecm"
      },
      "execution_count": null,
      "outputs": []
    },
    {
      "cell_type": "code",
      "source": [
        "from google.colab import drive # Conectanonos con google drive\n",
        "drive.mount('/content/drive')\n",
        "import os    # la librería necesaria para la ruta de la carpeta\n",
        "os.chdir('/content/drive/MyDrive/Colab Notebooks/PROYECTO BOOTCAM/PARTE (2 o 3). Eliminar Outliers')\n",
        "#mostar lista de archivos\n",
        "os.listdir()"
      ],
      "metadata": {
        "id": "VPWCyZqNEnj3",
        "colab": {
          "base_uri": "https://localhost:8080/"
        },
        "outputId": "fde3a25e-326e-41f3-dc65-0248cd2328de"
      },
      "execution_count": null,
      "outputs": [
        {
          "output_type": "stream",
          "name": "stdout",
          "text": [
            "Mounted at /content/drive\n"
          ]
        },
        {
          "output_type": "execute_result",
          "data": {
            "text/plain": [
              "['Eliminación_Outliers',\n",
              " 'Bankruptcy',\n",
              " 'VENTA_medianNul_Obj_bi_PCA_log.csv',\n",
              " 'VENTA_dropNul_Obj_OHE_PCA_log.csv',\n",
              " 'VENTA_modeNul_Obj_bi_PCA_log.csv',\n",
              " 'VENTA_meanNul_Obj_OHE_PCA_log.csv',\n",
              " 'VENTA_meanNul_Obj_bi_PCA_log.csv',\n",
              " 'VENTA_medianNul_Obj_OHE_PCA_log.csv',\n",
              " 'VENTA_dropNul_Obj_bi_PCA_log.csv',\n",
              " 'VENTA_modeNul_Obj_OHE_PCA_log.csv',\n",
              " 'VENTA_medianNul_Obj_bi_VIF_log.csv',\n",
              " 'VENTA_dropNul_Obj_OHE_VIF_log.csv',\n",
              " 'VENTA_modeNul_Obj_bi_VIF_log.csv',\n",
              " 'VENTA_meanNul_Obj_OHE_VIF_log.csv',\n",
              " 'VENTA_meanNul_Obj_bi_VIF_log.csv',\n",
              " 'VENTA_medianNul_Obj_OHE_VIF_log.csv',\n",
              " 'VENTA_dropNul_Obj_bi_VIF_log.csv',\n",
              " 'VENTA_modeNul_Obj_OHE_VIF_log.csv',\n",
              " 'Eliminación_Outliers_VENTA',\n",
              " 'Copia de test.csv',\n",
              " 'test.csv']"
            ]
          },
          "metadata": {},
          "execution_count": 2
        }
      ]
    },
    {
      "cell_type": "markdown",
      "source": [],
      "metadata": {
        "id": "Kn1xRvGp2uI-"
      }
    },
    {
      "cell_type": "markdown",
      "source": [
        "# Funciones"
      ],
      "metadata": {
        "id": "uhAt_VmhpS_Q"
      }
    },
    {
      "cell_type": "code",
      "source": [
        "\n",
        "def guardar_csv(kaggle, random):\n",
        "    # Generar un nombre de archivo único basado en el método y el identificador random\n",
        "    name_archivo = f\"{archivo.split('.')[0]}_DecisionTreeClassifier_R{random}.csv\"\n",
        "    file_path = os.path.join(carpeta, name_archivo)\n",
        "\n",
        "    # Guardar el DataFrame en el archivo especificado\n",
        "    kaggle.to_csv(file_path, index=False)\n",
        "    print(f\"Archivo guardado como: {file_path}\")\n",
        "\n",
        "    # Listar archivos en el directorio\n",
        "    return os.listdir(carpeta)"
      ],
      "metadata": {
        "id": "zKfyBnLekqps"
      },
      "execution_count": null,
      "outputs": []
    },
    {
      "cell_type": "markdown",
      "source": [
        "# Oculto para medición"
      ],
      "metadata": {
        "id": "vbFUWLyWkzCv"
      }
    },
    {
      "cell_type": "code",
      "source": [
        "\"\"\"\n",
        "plt.figure(figsize=(5,3))\n",
        "tree.plot_tree(modelo_C45, feature_names=atributos, class_names=target_names, filled=True)\n",
        "plt.title(\"Árbol de Decisión - evento de bancarrota\")\n",
        "plt.show()\n",
        "\"\"\""
      ],
      "metadata": {
        "colab": {
          "base_uri": "https://localhost:8080/",
          "height": 36
        },
        "id": "SXs6iyp-SAIR",
        "outputId": "fd2c038c-c878-473c-aa7d-df6d16981609"
      },
      "execution_count": null,
      "outputs": [
        {
          "output_type": "execute_result",
          "data": {
            "text/plain": [
              "'\\nplt.figure(figsize=(5,3))\\ntree.plot_tree(modelo_C45, feature_names=atributos, class_names=target_names, filled=True)\\nplt.title(\"Árbol de Decisión - evento de bancarrota\")\\nplt.show()\\n'"
            ],
            "application/vnd.google.colaboratory.intrinsic+json": {
              "type": "string"
            }
          },
          "metadata": {},
          "execution_count": 8
        }
      ]
    },
    {
      "cell_type": "code",
      "source": [
        "\"\"\"\n",
        "columns = ['params', 'mean_test_score', 'rank_test_score']\n",
        "#rank_test_score es el ranking del puntaje obtenido en conjunto de parámetrso del experimento x\n",
        "results = pd.DataFrame(validator.cv_results_)[columns]\n",
        "results.sort_values(by='rank_test_score')\n",
        "\"\"\""
      ],
      "metadata": {
        "colab": {
          "base_uri": "https://localhost:8080/",
          "height": 55
        },
        "id": "p_Wo1bdaBjxT",
        "outputId": "881060c3-0cb1-4ce6-d94f-64ab6835c6c0"
      },
      "execution_count": null,
      "outputs": [
        {
          "output_type": "execute_result",
          "data": {
            "text/plain": [
              "\"\\ncolumns = ['params', 'mean_test_score', 'rank_test_score']\\n#rank_test_score es el ranking del puntaje obtenido en conjunto de parámetrso del experimento x\\nresults = pd.DataFrame(validator.cv_results_)[columns]\\nresults.sort_values(by='rank_test_score')\\n\""
            ],
            "application/vnd.google.colaboratory.intrinsic+json": {
              "type": "string"
            }
          },
          "metadata": {},
          "execution_count": 9
        }
      ]
    },
    {
      "cell_type": "code",
      "source": [
        "\"\"\"\n",
        "import time\n",
        "start_time = time.time()\n",
        "# Crear el modelo de árbol de decisión\n",
        "model= DecisionTreeClassifier()\n",
        "validator = GridSearchCV(model, params, cv=5)\n",
        "validator.fit(X_train, y_train)\n",
        "# Punto de fin\n",
        "end_time = time.time()\n",
        "\n",
        "# Calcular el tiempo de ejecución\n",
        "execution_time = end_time - start_time\n",
        "print(f\"Tiempo de ejecución: {execution_time} segundos\")\n",
        "\"\"\""
      ],
      "metadata": {
        "id": "d2adp4JrD_qh",
        "colab": {
          "base_uri": "https://localhost:8080/",
          "height": 55
        },
        "outputId": "81b4e1f5-c8b3-4e2d-c5ec-3a6a6fc45bae"
      },
      "execution_count": null,
      "outputs": [
        {
          "output_type": "execute_result",
          "data": {
            "text/plain": [
              "'\\nimport time\\nstart_time = time.time()\\n# Crear el modelo de árbol de decisión\\nmodel= DecisionTreeClassifier()\\nvalidator = GridSearchCV(model, params, cv=5)\\nvalidator.fit(X_train, y_train)\\n# Punto de fin\\nend_time = time.time()\\n\\n# Calcular el tiempo de ejecución\\nexecution_time = end_time - start_time\\nprint(f\"Tiempo de ejecución: {execution_time} segundos\")\\n'"
            ],
            "application/vnd.google.colaboratory.intrinsic+json": {
              "type": "string"
            }
          },
          "metadata": {},
          "execution_count": 10
        }
      ]
    },
    {
      "cell_type": "code",
      "source": [
        "\"\"\"\n",
        "    if 'Sector' in df_test.columns:\n",
        "            # Si 'Sector' está en df_test, imprimir el conteo de valores únicos\n",
        "            print(df_test['Sector'].value_counts())\n",
        "        else:\n",
        "            # Si 'Sector' no está en df_test, imprimir información general del DataFrame\n",
        "            print(\"La columna 'Sector' no está en df_test.\")\n",
        "            print(df_test.info())\n",
        "\"\"\""
      ],
      "metadata": {
        "id": "FGpcYYI2AthS",
        "colab": {
          "base_uri": "https://localhost:8080/",
          "height": 55
        },
        "outputId": "9b2b273d-cfe3-499c-ca9b-48c5cf0b7fae"
      },
      "execution_count": null,
      "outputs": [
        {
          "output_type": "execute_result",
          "data": {
            "text/plain": [
              "'\\n    if \\'Sector\\' in df_test.columns:\\n            # Si \\'Sector\\' está en df_test, imprimir el conteo de valores únicos\\n            print(df_test[\\'Sector\\'].value_counts())\\n        else:\\n            # Si \\'Sector\\' no está en df_test, imprimir información general del DataFrame\\n            print(\"La columna \\'Sector\\' no está en df_test.\")\\n            print(df_test.info())\\n'"
            ],
            "application/vnd.google.colaboratory.intrinsic+json": {
              "type": "string"
            }
          },
          "metadata": {},
          "execution_count": 11
        }
      ]
    },
    {
      "cell_type": "markdown",
      "source": [
        "# Funciones"
      ],
      "metadata": {
        "id": "7KNxS1GeMdmc"
      }
    },
    {
      "cell_type": "code",
      "source": [
        "# no es flexible pero reduce mucho las columnas generadas\n",
        "def binary(df, columObject):\n",
        "    # Crear el codificador BinaryEncoder\n",
        "    binary_encoder = ce.BinaryEncoder(cols=columObject)\n",
        "    # Aplicar el codificador al DataFrame\n",
        "    df_encoded = binary_encoder.fit_transform(df)\n",
        "    return df_encoded\n",
        "\n",
        "def onehot(df, columObject):\n",
        "    # Crear el codificador OneHotEncoder\n",
        "    encoder = OneHotEncoder(sparse_output=False)  # Usa sparse=False para obtener una matriz densa\n",
        "\n",
        "    # Realizamos la transformación de las columnas seleccionadas\n",
        "    encoded_array = encoder.fit_transform(df[columObject])  # Ajustamos el método fit_transform sobre el DataFrame y no sobre la lista de columnas\n",
        "\n",
        "    # Crear un DataFrame con los resultados\n",
        "    encoded_df = pd.DataFrame(\n",
        "        encoded_array,\n",
        "        columns=encoder.get_feature_names_out(columObject)  # Usamos las columnas originales para crear nombres adecuados\n",
        "    )\n",
        "\n",
        "    # Eliminar las columnas originales del DataFrame\n",
        "    dfTrans = df.drop(columObject, axis=1)\n",
        "\n",
        "    # Concatenar el DataFrame original sin las columnas originales con las columnas codificadas\n",
        "    df_final = pd.concat([dfTrans, encoded_df], axis=1)\n",
        "    return df_final\n",
        "\n",
        "def DataMode(df):\n",
        "    # Asegurarse de que solo se aplica a columnas numéricas\n",
        "    num_cols = df.select_dtypes(include=['number']).columns\n",
        "    df[num_cols] = df[num_cols].fillna(df[num_cols].mode().iloc[0])\n",
        "    return df\n"
      ],
      "metadata": {
        "id": "7I_Uxtc8MdTd"
      },
      "execution_count": null,
      "outputs": []
    },
    {
      "cell_type": "markdown",
      "metadata": {
        "id": "ct1X4F6QSIua"
      },
      "source": [
        "# Paso 4. comprensión y asignación de los datos\n",
        "________________________________________"
      ]
    },
    {
      "cell_type": "code",
      "source": [
        "# Mostrar lista de archivos\n",
        "os.listdir()\n"
      ],
      "metadata": {
        "colab": {
          "base_uri": "https://localhost:8080/"
        },
        "id": "VDdDmFskVbXn",
        "outputId": "41b03064-3eee-4a0c-8bd9-77b18c57455b"
      },
      "execution_count": null,
      "outputs": [
        {
          "output_type": "execute_result",
          "data": {
            "text/plain": [
              "['Eliminación_Outliers',\n",
              " 'Bankruptcy',\n",
              " 'VENTA_medianNul_Obj_bi_PCA_log.csv',\n",
              " 'VENTA_dropNul_Obj_OHE_PCA_log.csv',\n",
              " 'VENTA_modeNul_Obj_bi_PCA_log.csv',\n",
              " 'VENTA_meanNul_Obj_OHE_PCA_log.csv',\n",
              " 'VENTA_meanNul_Obj_bi_PCA_log.csv',\n",
              " 'VENTA_medianNul_Obj_OHE_PCA_log.csv',\n",
              " 'VENTA_dropNul_Obj_bi_PCA_log.csv',\n",
              " 'VENTA_modeNul_Obj_OHE_PCA_log.csv',\n",
              " 'VENTA_medianNul_Obj_bi_VIF_log.csv',\n",
              " 'VENTA_dropNul_Obj_OHE_VIF_log.csv',\n",
              " 'VENTA_modeNul_Obj_bi_VIF_log.csv',\n",
              " 'VENTA_meanNul_Obj_OHE_VIF_log.csv',\n",
              " 'VENTA_meanNul_Obj_bi_VIF_log.csv',\n",
              " 'VENTA_medianNul_Obj_OHE_VIF_log.csv',\n",
              " 'VENTA_dropNul_Obj_bi_VIF_log.csv',\n",
              " 'VENTA_modeNul_Obj_OHE_VIF_log.csv',\n",
              " 'Eliminación_Outliers_VENTA',\n",
              " 'Copia de test.csv',\n",
              " 'test.csv']"
            ]
          },
          "metadata": {},
          "execution_count": 12
        }
      ]
    },
    {
      "cell_type": "code",
      "source": [
        "Archivos = ['VENTA_medianNul_Obj_bi_PCA_log.csv',\n",
        "            'VENTA_dropNul_Obj_OHE_PCA_log.csv',\n",
        "            'VENTA_modeNul_Obj_bi_PCA_log.csv',\n",
        "            'VENTA_meanNul_Obj_OHE_PCA_log.csv',\n",
        "            'VENTA_meanNul_Obj_bi_PCA_log.csv',\n",
        "            'VENTA_medianNul_Obj_OHE_PCA_log.csv',\n",
        "            'VENTA_dropNul_Obj_bi_PCA_log.csv',\n",
        "            'VENTA_modeNul_Obj_OHE_PCA_log.csv',\n",
        "            'VENTA_medianNul_Obj_bi_VIF_log.csv',\n",
        "            'VENTA_dropNul_Obj_OHE_VIF_log.csv',\n",
        "            'VENTA_modeNul_Obj_bi_VIF_log.csv',\n",
        "            'VENTA_meanNul_Obj_OHE_VIF_log.csv',\n",
        "            'VENTA_meanNul_Obj_bi_VIF_log.csv',\n",
        "            'VENTA_medianNul_Obj_OHE_VIF_log.csv',\n",
        "            'VENTA_dropNul_Obj_bi_VIF_log.csv',\n",
        "            'VENTA_modeNul_Obj_OHE_VIF_log.csv']"
      ],
      "metadata": {
        "id": "7btoP-GPAojD"
      },
      "execution_count": null,
      "outputs": []
    },
    {
      "cell_type": "code",
      "source": [
        "prueba = 0.1\n",
        "#prueba = tamaño_test()"
      ],
      "metadata": {
        "id": "47Irci2vqKK-"
      },
      "execution_count": null,
      "outputs": []
    },
    {
      "cell_type": "code",
      "source": [
        "randomicos = [42]\n",
        "#random = seleccionar_semilla()"
      ],
      "metadata": {
        "id": "KkObngzr8nl9"
      },
      "execution_count": null,
      "outputs": []
    },
    {
      "cell_type": "code",
      "source": [
        "# Atributo a Evaluar\n",
        "Target = 'VENTA'\n",
        "#Target = 'Risk'\n"
      ],
      "metadata": {
        "id": "3QHeHjuuFjbW"
      },
      "execution_count": null,
      "outputs": []
    },
    {
      "cell_type": "code",
      "source": [
        "test = pd.read_csv('test.csv')\n"
      ],
      "metadata": {
        "id": "ZATrNREkKTm2"
      },
      "execution_count": null,
      "outputs": []
    },
    {
      "cell_type": "code",
      "source": [
        "print(test.info())"
      ],
      "metadata": {
        "colab": {
          "base_uri": "https://localhost:8080/"
        },
        "collapsed": true,
        "id": "vSqAJOSlCzsB",
        "outputId": "0b412760-cf2e-4ade-c861-e369908debe9"
      },
      "execution_count": null,
      "outputs": [
        {
          "output_type": "stream",
          "name": "stdout",
          "text": [
            "<class 'pandas.core.frame.DataFrame'>\n",
            "RangeIndex: 2496 entries, 0 to 2495\n",
            "Data columns (total 65 columns):\n",
            " #   Column       Non-Null Count  Dtype  \n",
            "---  ------       --------------  -----  \n",
            " 0   Unnamed: 0   2496 non-null   int64  \n",
            " 1   index        2496 non-null   int64  \n",
            " 2   V1           2496 non-null   int64  \n",
            " 3   CORRELA_16   2496 non-null   object \n",
            " 4   CORRE_9      2496 non-null   object \n",
            " 5   IDOJ1        2495 non-null   float64\n",
            " 6   IDAIO        2495 non-null   float64\n",
            " 7   CIMREP       2496 non-null   float64\n",
            " 8   BRUTA        2496 non-null   float64\n",
            " 9   CONSUI       2496 non-null   float64\n",
            " 10  GAS          2496 non-null   float64\n",
            " 11  EMPAQUE      2496 non-null   float64\n",
            " 12  HONORA       2496 non-null   float64\n",
            " 13  COMISION     2496 non-null   float64\n",
            " 14  ARRIENDO     2496 non-null   float64\n",
            " 15  SEGURO       2496 non-null   float64\n",
            " 16  ASEO         2496 non-null   float64\n",
            " 17  ENERGIA      2496 non-null   float64\n",
            " 18  COMUNICA     2496 non-null   float64\n",
            " 19  PUBLICO      2496 non-null   float64\n",
            " 20  FLETES       2496 non-null   float64\n",
            " 21  PUBLICI      2496 non-null   float64\n",
            " 22  ADECUA       2496 non-null   float64\n",
            " 23  REGALA       2496 non-null   float64\n",
            " 24  OUTSOURCING  2496 non-null   float64\n",
            " 25  OTROS        2496 non-null   float64\n",
            " 26  SUELDOS      2496 non-null   float64\n",
            " 27  PRESTAC      2496 non-null   float64\n",
            " 28  AGREGA       2496 non-null   float64\n",
            " 29  PERREMUN     2496 non-null   float64\n",
            " 30  SOCIOS       2496 non-null   float64\n",
            " 31  PERSONOM     2496 non-null   float64\n",
            " 32  DIRECTO      2496 non-null   float64\n",
            " 33  AGENCIA      2496 non-null   float64\n",
            " 34  APRENDIZ     2496 non-null   float64\n",
            " 35  TOTPERSO     2496 non-null   float64\n",
            " 36  PROMUJ       2496 non-null   float64\n",
            " 37  PROHOM       2496 non-null   float64\n",
            " 38  PERMUJ       2496 non-null   float64\n",
            " 39  PERHOM       2496 non-null   float64\n",
            " 40  DIRMUJ       2496 non-null   float64\n",
            " 41  DIRHOM       2496 non-null   float64\n",
            " 42  AGEMUJ       2496 non-null   float64\n",
            " 43  AGEHOM       2496 non-null   float64\n",
            " 44  APRENMUJ     2496 non-null   float64\n",
            " 45  APRENHOM     2496 non-null   float64\n",
            " 46  TOTMUJ       2495 non-null   float64\n",
            " 47  TOTHOM       2496 non-null   float64\n",
            " 48  SUEPLAN      2496 non-null   float64\n",
            " 49  PREPLAN      2496 non-null   float64\n",
            " 50  REMPLAN      2496 non-null   float64\n",
            " 51  COTIZA       2496 non-null   float64\n",
            " 52  GASAGEN      2496 non-null   float64\n",
            " 53  REMTEMP      2496 non-null   float64\n",
            " 54  TOTREM       2496 non-null   float64\n",
            " 55  INVINI       2496 non-null   float64\n",
            " 56  INVFIN       2495 non-null   float64\n",
            " 57  ROTACION     2494 non-null   float64\n",
            " 58  INVPRO       2496 non-null   float64\n",
            " 59  CTO          2496 non-null   float64\n",
            " 60  CTOINS       2496 non-null   float64\n",
            " 61  VENTASNOP    2496 non-null   int64  \n",
            " 62  GASTOS       2496 non-null   float64\n",
            " 63  GASTOSNOP    2496 non-null   float64\n",
            " 64  GASTOPNOP    2496 non-null   float64\n",
            "dtypes: float64(59), int64(4), object(2)\n",
            "memory usage: 1.2+ MB\n",
            "None\n"
          ]
        }
      ]
    },
    {
      "cell_type": "code",
      "execution_count": null,
      "metadata": {
        "id": "bvUjp-qYrU3Z"
      },
      "outputs": [],
      "source": [
        "# Ubicación donde se almacenan los datos\n",
        "carpeta = '/content/drive/MyDrive/Colab Notebooks/Métodos de clasificación/supervisado/DecisionTreeClassifier'"
      ]
    },
    {
      "cell_type": "code",
      "source": [
        "Archivos = ['VENTA_medianNul_Obj_bi_PCA_log.csv']"
      ],
      "metadata": {
        "id": "lChrWj7NAfpb"
      },
      "execution_count": null,
      "outputs": []
    },
    {
      "cell_type": "markdown",
      "source": [
        "# Revisando"
      ],
      "metadata": {
        "id": "7DrxmPyAHw-g"
      }
    },
    {
      "cell_type": "code",
      "source": [
        "for archivo in Archivos:\n",
        "      df = pd.read_csv(archivo)\n",
        "      #df = pd.DataFrame(data)\n",
        "      #df= pd.read_csv(archivo)\n",
        "\n",
        "      X = df.drop(Target, axis=1)\n",
        "      y = df[Target]\n",
        "      atributos = X.columns\n",
        "      name_archivo = f\"{archivo.split('.')[0]}\"\n",
        "      print(name_archivo)\n",
        "\n",
        "      X_train, X_test, y_train, y_test = train_test_split(X, y, test_size=prueba, random_state=random)\n",
        "        # Selecion de parametros\n",
        "\n",
        "      params = {\n",
        "        'criterion': ['squared_error', 'absolute_error', 'friedman_mse', 'poisson'],\n",
        "        'max_depth': [None, 3, 5, 10, 20, 30],\n",
        "        'min_samples_split': [2, 5, 10, 15, 25, 35],\n",
        "        'min_samples_leaf': [1, 2, 5, 10],\n",
        "        'max_features': [None, 'sqrt', 'log2']}\n",
        "\n",
        "\n",
        "      # Este es el método de equilíbrio de pesos de DecisionTree\n",
        "      #class_weights = compute_class_weight(class_weight='balanced', classes=y.unique(), y=y)\n",
        "      #class_weights_dict = dict(zip(y.unique(), class_weights))\n",
        "\n",
        "\n",
        "      model= DecisionTreeRegressor()\n",
        "      #model= DecisionTreeClassifier(class_weight=class_weights_dict)\n",
        "      # hay que agregar class_weights_dict si los pesos estan desbalanceados\n",
        "      validator = GridSearchCV(model, params, cv=5, scoring='r2')\n",
        "      validator.fit(X_train, y_train)\n",
        "\n",
        "      print(\"Mejores hiperparámetros:\\n\", validator.best_params_)\n",
        "\n",
        "\n",
        "      modelo_C45 = DecisionTreeRegressor(**validator.best_params_, random_state=random)\n",
        "      #modelo_C45 = DecisionTreeClassifier(**validator.best_params_, class_weight=class_weights_dict, random_state=random)\n",
        "      # hay que agregar class_weights_dict si los pesos estan desbalanceados\n",
        "\n",
        "      # Entrenar el modelo\n",
        "      modelo_C45.fit(X_train, y_train)\n",
        "\n",
        "      # Realizar predicciones\n",
        "      y_pred = modelo_C45.predict(X_test)\n",
        "\n",
        "\n",
        "      # Evaluar el rendimiento del modelo\n",
        "      mse = mean_squared_error(y_test, y_pred)\n",
        "      mae = mean_absolute_error(y_test, y_pred)\n",
        "      r2 = r2_score(y_test, y_pred)\n",
        "      new_data = pd.DataFrame({'MSE': [mse], 'MAE': [mae], 'R2': [r2]})\n",
        "      new_data = new_data.dropna(how='all')  # Elimina filas completamente vacías\n",
        "\n",
        "      #if not new_data.empty:\n",
        "        #results = pd.concat([results, new_data], ignore_index=True)\n",
        "      print(new_data)\n",
        "\n",
        "\n",
        "      correla = ['CORRELA_16_0', 'CORRELA_16_1', 'CORRELA_16_2',\n",
        "                  'CORRELA_16_3', 'CORRELA_16_4']\n",
        "\n",
        "      df_test = test\n",
        "      df_test = df_test.drop(columns=['Unnamed: 0'])\n",
        "\n",
        "      df_test = DataMode(df_test)\n",
        "\n",
        "\n",
        "      df_test['IDOJ1'] = df_test['IDOJ1'].astype('int')\n",
        "      df_test['IDOJ1'] = df_test['IDOJ1'].astype('object')\n",
        "      df_test['IDAIO'] = (df_test['IDAIO'] > 2002.0).astype(int)\n",
        "\n",
        "      columObject = df_test.select_dtypes(include=['object']).columns\n",
        "\n",
        "      # Verificar si alguna de las columnas específicas está en X.columns\n",
        "      if any(col in atributos for col in correla):\n",
        "          # Aplicar codificación binaria\n",
        "          df_test = binary(df_test, columObject)\n",
        "          print(\"Se aplicó codificación binaria.\")\n",
        "      else:\n",
        "          # Aplicar OneHotEncoding\n",
        "          df_test = onehot(df_test, columObject)\n",
        "          print(\"Se aplicó OneHotEncoding.\")\n",
        "      df_test = df_test[atributos]\n",
        "\n",
        "      negative = ['BRUTA', 'AGREGA']\n",
        "\n",
        "      # Obtener las columnas a analizar (excluyendo las de 'negative')\n",
        "      columns_to_analyze = df_test.columns.difference(negative)\n",
        "\n",
        "      # Aplicar transformación logarítmica (log(x+1)) solo a las columnas seleccionadas en X\n",
        "      for col in columns_to_analyze:\n",
        "          df_test[col] = np.log1p(df_test[col])  # Sobrescribir los valores originales con la transformación logarítmica\n",
        "\n",
        "      y_pred_test = modelo_C45.predict(df_test)\n",
        "\n",
        "      kaggle = pd.concat([test['index'], pd.Series(y_pred_test, name='VENTA')], axis=1)\n",
        "\n",
        "      # Guardar el DataFrame con los métodos aplicados\n",
        "\n",
        "      nuevo_nombre = os.path.splitext(archivo)[0] + '_DecisionTreeRegressor.csv'\n",
        "\n",
        "      # Guardar el DataFrame con el nuevo nombre de archivo\n",
        "      kaggle.to_csv(f'{carpeta}/{nuevo_nombre}', index=False)\n",
        "      print(nuevo_nombre)\n",
        "      print(\"-----------------------------------------------------\")"
      ],
      "metadata": {
        "colab": {
          "base_uri": "https://localhost:8080/"
        },
        "collapsed": true,
        "id": "iaHPjaK6CIUb",
        "outputId": "eb00a954-1b71-4a8d-fb5d-d91fd36ab840"
      },
      "execution_count": null,
      "outputs": [
        {
          "output_type": "stream",
          "name": "stdout",
          "text": [
            "VENTA_medianNul_Obj_bi_PCA_log\n",
            "Mejores hiperparámetros:\n",
            " {'criterion': 'squared_error', 'max_depth': 3, 'max_features': None, 'min_samples_leaf': 1, 'min_samples_split': 2}\n",
            "            MSE           MAE        R2\n",
            "0  2.919510e+16  3.842234e+07  0.842075\n",
            "Se aplicó codificación binaria.\n",
            "VENTA_medianNul_Obj_bi_PCA_log_DecisionTreeRegressor.csv\n",
            "-----------------------------------------------------\n"
          ]
        },
        {
          "output_type": "stream",
          "name": "stderr",
          "text": [
            "/usr/local/lib/python3.10/dist-packages/sklearn/base.py:411: FutureWarning: The `_get_tags` method is deprecated in 1.6 and will be removed in 1.7. Please implement the `__sklearn_tags__` method.\n",
            "  warnings.warn(\n"
          ]
        },
        {
          "output_type": "stream",
          "name": "stdout",
          "text": [
            "VENTA_dropNul_Obj_OHE_PCA_log\n",
            "Mejores hiperparámetros:\n",
            " {'criterion': 'squared_error', 'max_depth': 3, 'max_features': None, 'min_samples_leaf': 1, 'min_samples_split': 2}\n",
            "            MSE           MAE        R2\n",
            "0  1.868491e+16  2.965708e+07  0.669835\n",
            "Se aplicó OneHotEncoding.\n",
            "VENTA_dropNul_Obj_OHE_PCA_log_DecisionTreeRegressor.csv\n",
            "-----------------------------------------------------\n",
            "VENTA_modeNul_Obj_bi_PCA_log\n",
            "Mejores hiperparámetros:\n",
            " {'criterion': 'squared_error', 'max_depth': 3, 'max_features': None, 'min_samples_leaf': 1, 'min_samples_split': 2}\n",
            "            MSE           MAE        R2\n",
            "0  2.919510e+16  3.842234e+07  0.842075\n",
            "Se aplicó codificación binaria.\n",
            "VENTA_modeNul_Obj_bi_PCA_log_DecisionTreeRegressor.csv\n",
            "-----------------------------------------------------\n"
          ]
        },
        {
          "output_type": "stream",
          "name": "stderr",
          "text": [
            "/usr/local/lib/python3.10/dist-packages/sklearn/base.py:411: FutureWarning: The `_get_tags` method is deprecated in 1.6 and will be removed in 1.7. Please implement the `__sklearn_tags__` method.\n",
            "  warnings.warn(\n"
          ]
        },
        {
          "output_type": "stream",
          "name": "stdout",
          "text": [
            "VENTA_meanNul_Obj_OHE_PCA_log\n",
            "Mejores hiperparámetros:\n",
            " {'criterion': 'squared_error', 'max_depth': 3, 'max_features': None, 'min_samples_leaf': 2, 'min_samples_split': 2}\n",
            "            MSE           MAE        R2\n",
            "0  2.919510e+16  3.842234e+07  0.842075\n",
            "Se aplicó OneHotEncoding.\n",
            "VENTA_meanNul_Obj_OHE_PCA_log_DecisionTreeRegressor.csv\n",
            "-----------------------------------------------------\n",
            "VENTA_meanNul_Obj_bi_PCA_log\n",
            "Mejores hiperparámetros:\n",
            " {'criterion': 'squared_error', 'max_depth': 3, 'max_features': None, 'min_samples_leaf': 2, 'min_samples_split': 2}\n",
            "            MSE           MAE        R2\n",
            "0  2.919510e+16  3.842234e+07  0.842075\n"
          ]
        },
        {
          "output_type": "stream",
          "name": "stderr",
          "text": [
            "/usr/local/lib/python3.10/dist-packages/sklearn/base.py:411: FutureWarning: The `_get_tags` method is deprecated in 1.6 and will be removed in 1.7. Please implement the `__sklearn_tags__` method.\n",
            "  warnings.warn(\n"
          ]
        },
        {
          "output_type": "stream",
          "name": "stdout",
          "text": [
            "Se aplicó codificación binaria.\n",
            "VENTA_meanNul_Obj_bi_PCA_log_DecisionTreeRegressor.csv\n",
            "-----------------------------------------------------\n",
            "VENTA_medianNul_Obj_OHE_PCA_log\n",
            "Mejores hiperparámetros:\n",
            " {'criterion': 'squared_error', 'max_depth': 3, 'max_features': None, 'min_samples_leaf': 2, 'min_samples_split': 2}\n",
            "            MSE           MAE        R2\n",
            "0  2.919510e+16  3.842234e+07  0.842075\n",
            "Se aplicó OneHotEncoding.\n",
            "VENTA_medianNul_Obj_OHE_PCA_log_DecisionTreeRegressor.csv\n",
            "-----------------------------------------------------\n",
            "VENTA_dropNul_Obj_bi_PCA_log\n",
            "Mejores hiperparámetros:\n",
            " {'criterion': 'squared_error', 'max_depth': 3, 'max_features': None, 'min_samples_leaf': 2, 'min_samples_split': 2}\n",
            "            MSE           MAE       R2\n",
            "0  1.897089e+16  3.229332e+07  0.62875\n"
          ]
        },
        {
          "output_type": "stream",
          "name": "stderr",
          "text": [
            "/usr/local/lib/python3.10/dist-packages/sklearn/base.py:411: FutureWarning: The `_get_tags` method is deprecated in 1.6 and will be removed in 1.7. Please implement the `__sklearn_tags__` method.\n",
            "  warnings.warn(\n"
          ]
        },
        {
          "output_type": "stream",
          "name": "stdout",
          "text": [
            "Se aplicó codificación binaria.\n",
            "VENTA_dropNul_Obj_bi_PCA_log_DecisionTreeRegressor.csv\n",
            "-----------------------------------------------------\n",
            "VENTA_modeNul_Obj_OHE_PCA_log\n",
            "Mejores hiperparámetros:\n",
            " {'criterion': 'squared_error', 'max_depth': 3, 'max_features': None, 'min_samples_leaf': 1, 'min_samples_split': 2}\n",
            "            MSE           MAE        R2\n",
            "0  2.919510e+16  3.842234e+07  0.842075\n",
            "Se aplicó OneHotEncoding.\n",
            "VENTA_modeNul_Obj_OHE_PCA_log_DecisionTreeRegressor.csv\n",
            "-----------------------------------------------------\n",
            "VENTA_medianNul_Obj_bi_VIF_log\n",
            "Mejores hiperparámetros:\n",
            " {'criterion': 'squared_error', 'max_depth': 3, 'max_features': None, 'min_samples_leaf': 1, 'min_samples_split': 2}\n",
            "            MSE           MAE        R2\n",
            "0  4.146164e+16  3.297875e+07  0.775722\n",
            "Se aplicó codificación binaria.\n",
            "VENTA_medianNul_Obj_bi_VIF_log_DecisionTreeRegressor.csv\n",
            "-----------------------------------------------------\n"
          ]
        },
        {
          "output_type": "stream",
          "name": "stderr",
          "text": [
            "/usr/local/lib/python3.10/dist-packages/sklearn/base.py:411: FutureWarning: The `_get_tags` method is deprecated in 1.6 and will be removed in 1.7. Please implement the `__sklearn_tags__` method.\n",
            "  warnings.warn(\n"
          ]
        },
        {
          "output_type": "stream",
          "name": "stdout",
          "text": [
            "VENTA_dropNul_Obj_OHE_VIF_log\n",
            "Mejores hiperparámetros:\n",
            " {'criterion': 'squared_error', 'max_depth': 3, 'max_features': None, 'min_samples_leaf': 2, 'min_samples_split': 2}\n",
            "            MSE           MAE        R2\n",
            "0  2.502188e+15  2.260868e+07  0.955786\n",
            "Se aplicó OneHotEncoding.\n",
            "VENTA_dropNul_Obj_OHE_VIF_log_DecisionTreeRegressor.csv\n",
            "-----------------------------------------------------\n",
            "VENTA_modeNul_Obj_bi_VIF_log\n",
            "Mejores hiperparámetros:\n",
            " {'criterion': 'squared_error', 'max_depth': 3, 'max_features': None, 'min_samples_leaf': 2, 'min_samples_split': 2}\n",
            "            MSE           MAE        R2\n",
            "0  3.974312e+15  2.633678e+07  0.978502\n",
            "Se aplicó codificación binaria.\n",
            "VENTA_modeNul_Obj_bi_VIF_log_DecisionTreeRegressor.csv\n",
            "-----------------------------------------------------\n"
          ]
        },
        {
          "output_type": "stream",
          "name": "stderr",
          "text": [
            "/usr/local/lib/python3.10/dist-packages/sklearn/base.py:411: FutureWarning: The `_get_tags` method is deprecated in 1.6 and will be removed in 1.7. Please implement the `__sklearn_tags__` method.\n",
            "  warnings.warn(\n"
          ]
        },
        {
          "output_type": "stream",
          "name": "stdout",
          "text": [
            "VENTA_meanNul_Obj_OHE_VIF_log\n",
            "Mejores hiperparámetros:\n",
            " {'criterion': 'squared_error', 'max_depth': 3, 'max_features': None, 'min_samples_leaf': 2, 'min_samples_split': 2}\n",
            "            MSE           MAE        R2\n",
            "0  7.127867e+15  2.788451e+07  0.961443\n",
            "Se aplicó OneHotEncoding.\n",
            "VENTA_meanNul_Obj_OHE_VIF_log_DecisionTreeRegressor.csv\n",
            "-----------------------------------------------------\n",
            "VENTA_meanNul_Obj_bi_VIF_log\n",
            "Mejores hiperparámetros:\n",
            " {'criterion': 'squared_error', 'max_depth': 3, 'max_features': None, 'min_samples_leaf': 1, 'min_samples_split': 2}\n",
            "            MSE           MAE        R2\n",
            "0  4.146164e+16  3.297875e+07  0.775722\n",
            "Se aplicó codificación binaria.\n",
            "VENTA_meanNul_Obj_bi_VIF_log_DecisionTreeRegressor.csv\n",
            "-----------------------------------------------------\n"
          ]
        },
        {
          "output_type": "stream",
          "name": "stderr",
          "text": [
            "/usr/local/lib/python3.10/dist-packages/sklearn/base.py:411: FutureWarning: The `_get_tags` method is deprecated in 1.6 and will be removed in 1.7. Please implement the `__sklearn_tags__` method.\n",
            "  warnings.warn(\n"
          ]
        },
        {
          "output_type": "stream",
          "name": "stdout",
          "text": [
            "VENTA_medianNul_Obj_OHE_VIF_log\n",
            "Mejores hiperparámetros:\n",
            " {'criterion': 'squared_error', 'max_depth': 3, 'max_features': None, 'min_samples_leaf': 2, 'min_samples_split': 2}\n",
            "            MSE           MAE        R2\n",
            "0  7.127867e+15  2.788451e+07  0.961443\n",
            "Se aplicó OneHotEncoding.\n",
            "VENTA_medianNul_Obj_OHE_VIF_log_DecisionTreeRegressor.csv\n",
            "-----------------------------------------------------\n",
            "VENTA_dropNul_Obj_bi_VIF_log\n",
            "Mejores hiperparámetros:\n",
            " {'criterion': 'squared_error', 'max_depth': 3, 'max_features': None, 'min_samples_leaf': 1, 'min_samples_split': 2}\n",
            "            MSE           MAE        R2\n",
            "0  7.259589e+15  2.455938e+07  0.857934\n",
            "Se aplicó codificación binaria.\n",
            "VENTA_dropNul_Obj_bi_VIF_log_DecisionTreeRegressor.csv\n",
            "-----------------------------------------------------\n"
          ]
        },
        {
          "output_type": "stream",
          "name": "stderr",
          "text": [
            "/usr/local/lib/python3.10/dist-packages/sklearn/base.py:411: FutureWarning: The `_get_tags` method is deprecated in 1.6 and will be removed in 1.7. Please implement the `__sklearn_tags__` method.\n",
            "  warnings.warn(\n"
          ]
        },
        {
          "output_type": "stream",
          "name": "stdout",
          "text": [
            "VENTA_modeNul_Obj_OHE_VIF_log\n",
            "Mejores hiperparámetros:\n",
            " {'criterion': 'squared_error', 'max_depth': 3, 'max_features': None, 'min_samples_leaf': 2, 'min_samples_split': 2}\n",
            "            MSE           MAE        R2\n",
            "0  3.974312e+15  2.633678e+07  0.978502\n",
            "Se aplicó OneHotEncoding.\n",
            "VENTA_modeNul_Obj_OHE_VIF_log_DecisionTreeRegressor.csv\n",
            "-----------------------------------------------------\n"
          ]
        }
      ]
    }
  ]
}
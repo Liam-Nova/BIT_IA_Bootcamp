{
  "nbformat": 4,
  "nbformat_minor": 0,
  "metadata": {
    "colab": {
      "provenance": [],
      "authorship_tag": "ABX9TyPEI5LRgbN9GHhnCJPl7LA3",
      "include_colab_link": true
    },
    "kernelspec": {
      "name": "python3",
      "display_name": "Python 3"
    },
    "language_info": {
      "name": "python"
    }
  },
  "cells": [
    {
      "cell_type": "markdown",
      "metadata": {
        "id": "view-in-github",
        "colab_type": "text"
      },
      "source": [
        "<a href=\"https://colab.research.google.com/github/Liam-Nova/BIT_IA_Bootcamp/blob/main/S1_C4_EDA_marketing.ipynb\" target=\"_parent\"><img src=\"https://colab.research.google.com/assets/colab-badge.svg\" alt=\"Open In Colab\"/></a>"
      ]
    },
    {
      "cell_type": "markdown",
      "source": [
        "#EDA: Exploratory Data Analysis ( Análisis Exploratorio de Datos) Campañas de marketing\n",
        "\n"
      ],
      "metadata": {
        "id": "4OivzMCDtu__"
      }
    },
    {
      "cell_type": "markdown",
      "source": [
        "##caracteristicas o columnas\n",
        "* AcceptedCmp1: 1 if customer accepted the offer in the 1st campaign, 0 otherwise.\n",
        "* AcceptedCmp2: 1 if customer accepted the offer in the 2nd campaign, 0 otherwise.\n",
        "* AcceptedCmp3: 1 if customer accepted the offer in the 3rd campaign, 0 otherwise.\n",
        "* AcceptedCmp4: 1 if customer accepted the offer in the 4th campaign, 0 otherwise.\n",
        "* AcceptedCmp5: 1 if customer accepted the offer in the 5th campaign, 0 otherwise.\n",
        "* Response (target): 1 if customer accepted the offer in the last campaign, 0 otherwise.\n",
        "* Complain: 1 if customer complained in the last 2 years.\n",
        "* DtCustomer: Date of customer’s enrollment with the company.\n",
        "* Education: Customer’s level of education.\n",
        "* Marital: Customer’s marital status.\n",
        "* Kidhome: Number of small children in customer’s household.\n",
        "* Teenhome: Number of teenagers in customer’s household.\n",
        "* Income: Customer’s yearly household income.\n",
        "* MntFishProducts: Amount spent on fish products in the last 2 years.\n",
        "* MntMeatProducts: Amount spent on meat products in the last 2 years.\n",
        "* MntFruits: Amount spent on fruit products in the last 2 years.\n",
        "* MntSweetProducts: Amount spent on sweet products in the last 2 years.\n",
        "* MntWines: Amount spent on wine products in the last 2 years.\n",
        "* MntGoldProds: Amount spent on gold products in the last 2 years.\n",
        "* NumDealsPurchases: Number of purchases made with a discount.\n",
        "* NumCatalogPurchases: Number of purchases made using a catalog.\n",
        "* NumStorePurchases: Number of purchases made directly in stores.\n",
        "* NumWebPurchases: Number of purchases made through the company’s website.\n",
        "* NumWebVisitsMonth: Number of visits to the company’s website in the last month.\n",
        "* Recency: Number of days since the last purchase.\n"
      ],
      "metadata": {
        "id": "RGxmZ7K2Wai8"
      }
    },
    {
      "cell_type": "code",
      "execution_count": null,
      "metadata": {
        "id": "vKl_o7KStZoD"
      },
      "outputs": [],
      "source": [
        "import pandas as pd #manejo de datos\n",
        "import numpy as np #manejo de operaciones entre datos y columnas\n",
        "import matplotlib.pyplot as plt #para el manejo de graficas\n",
        "import seaborn as sns #para el manejo de graficas \" mejora de matplotlib\""
      ]
    },
    {
      "cell_type": "markdown",
      "source": [
        "importar desde drive"
      ],
      "metadata": {
        "id": "bTAzcILkHckg"
      }
    },
    {
      "cell_type": "code",
      "source": [
        "from google.colab import drive # conectandonos con google drive\n",
        "drive.mount('/content/drive')\n",
        "import os # la libreria necesaria de la carpeta\n",
        "os.chdir('/content/drive/MyDrive/Colab Notebooks/BIT_Bootcam_IA/DataSET') # es el codigo que nos permite ingresar la ruta de la carpeta para conectarme a drive\n",
        "\n",
        "# muestra los archivos que hay en la ruta\n",
        "os.listdir()\n"
      ],
      "metadata": {
        "colab": {
          "base_uri": "https://localhost:8080/"
        },
        "id": "0C3c9kQ3H9SF",
        "outputId": "f93ca7dd-306a-4814-ef4a-801a4625cb87"
      },
      "execution_count": null,
      "outputs": [
        {
          "output_type": "stream",
          "name": "stdout",
          "text": [
            "Drive already mounted at /content/drive; to attempt to forcibly remount, call drive.mount(\"/content/drive\", force_remount=True).\n"
          ]
        },
        {
          "output_type": "execute_result",
          "data": {
            "text/plain": [
              "['marketing_campaign.csv',\n",
              " 'marketing_campaign.xlsx',\n",
              " 'marketing_extract_2X_Income.xlsx',\n",
              " 'linear_regression_model (1).pkl',\n",
              " 'poly_regression_model (1).pkl',\n",
              " 'auto-mpg.names',\n",
              " 'auto-mpg.data-original',\n",
              " 'auto-mpg.data',\n",
              " 'Index',\n",
              " 'mpg-limpios-procesados.xlsx',\n",
              " 'Classification_Tests.csv',\n",
              " 'heart_attack_risk_dataset.csv',\n",
              " 'generated_classification_data.csv']"
            ]
          },
          "metadata": {},
          "execution_count": 11
        }
      ]
    },
    {
      "cell_type": "code",
      "source": [
        "df = pd.read_excel('marketing_campaign.xlsx') # da valor a una variable al ejecutar un archivo xlsx\n",
        "# para .cvs pd.read_csv('/content/marketing_campaign.csv')"
      ],
      "metadata": {
        "id": "F0HjFfy3-wC8"
      },
      "execution_count": null,
      "outputs": []
    },
    {
      "cell_type": "code",
      "source": [
        "df.info() # .info indica la informacion clave sobre la tabla\n",
        "  # cantidad de columnas\n",
        "  # cantidad de filas\n",
        "  # nombre (ID) de cada columna\n",
        "  # si estan las celdas de cada columna completa o falta informacion\n",
        "  # el tipo de dato que maneja cada columna"
      ],
      "metadata": {
        "colab": {
          "base_uri": "https://localhost:8080/"
        },
        "id": "BkWPgiC3BsTm",
        "outputId": "ceca1988-b36e-42bb-b5f9-5fe9c033365f"
      },
      "execution_count": null,
      "outputs": [
        {
          "output_type": "stream",
          "name": "stdout",
          "text": [
            "<class 'pandas.core.frame.DataFrame'>\n",
            "RangeIndex: 2240 entries, 0 to 2239\n",
            "Data columns (total 29 columns):\n",
            " #   Column               Non-Null Count  Dtype  \n",
            "---  ------               --------------  -----  \n",
            " 0   ID                   2240 non-null   int64  \n",
            " 1   Year_Birth           2240 non-null   int64  \n",
            " 2   Education            2240 non-null   object \n",
            " 3   Marital_Status       2240 non-null   object \n",
            " 4   Income               2216 non-null   float64\n",
            " 5   Kidhome              2240 non-null   int64  \n",
            " 6   Teenhome             2240 non-null   int64  \n",
            " 7   Dt_Customer          2240 non-null   object \n",
            " 8   Recency              2240 non-null   int64  \n",
            " 9   MntWines             2240 non-null   int64  \n",
            " 10  MntFruits            2240 non-null   int64  \n",
            " 11  MntMeatProducts      2240 non-null   int64  \n",
            " 12  MntFishProducts      2240 non-null   int64  \n",
            " 13  MntSweetProducts     2240 non-null   int64  \n",
            " 14  MntGoldProds         2240 non-null   int64  \n",
            " 15  NumDealsPurchases    2240 non-null   int64  \n",
            " 16  NumWebPurchases      2240 non-null   int64  \n",
            " 17  NumCatalogPurchases  2240 non-null   int64  \n",
            " 18  NumStorePurchases    2240 non-null   int64  \n",
            " 19  NumWebVisitsMonth    2240 non-null   int64  \n",
            " 20  AcceptedCmp3         2240 non-null   int64  \n",
            " 21  AcceptedCmp4         2240 non-null   int64  \n",
            " 22  AcceptedCmp5         2240 non-null   int64  \n",
            " 23  AcceptedCmp1         2240 non-null   int64  \n",
            " 24  AcceptedCmp2         2240 non-null   int64  \n",
            " 25  Complain             2240 non-null   int64  \n",
            " 26  Z_CostContact        2240 non-null   int64  \n",
            " 27  Z_Revenue            2240 non-null   int64  \n",
            " 28  Response             2240 non-null   int64  \n",
            "dtypes: float64(1), int64(25), object(3)\n",
            "memory usage: 507.6+ KB\n"
          ]
        }
      ]
    },
    {
      "cell_type": "code",
      "source": [
        "df.describe()\n",
        "# describe me entrega un resumen solo de los atributos numericos\n",
        "# count= numero de registros\n",
        "# mean= promedio\n",
        "# std= desviación : promedio de datos alejados con relacion a la media\n",
        "# min= dato minimo\n",
        "# max= dato maximo\n"
      ],
      "metadata": {
        "colab": {
          "base_uri": "https://localhost:8080/",
          "height": 349
        },
        "id": "RnlyTXpQDWcs",
        "outputId": "9f796bc1-6c70-46cc-c9ce-0a0a6a21364b"
      },
      "execution_count": null,
      "outputs": [
        {
          "output_type": "execute_result",
          "data": {
            "text/plain": [
              "                 ID   Year_Birth         Income      Kidhome     Teenhome  \\\n",
              "count   2240.000000  2240.000000    2216.000000  2240.000000  2240.000000   \n",
              "mean    5592.159821  1968.805804   52247.251354     0.444196     0.506250   \n",
              "std     3246.662198    11.984069   25173.076661     0.538398     0.544538   \n",
              "min        0.000000  1893.000000    1730.000000     0.000000     0.000000   \n",
              "25%     2828.250000  1959.000000   35303.000000     0.000000     0.000000   \n",
              "50%     5458.500000  1970.000000   51381.500000     0.000000     0.000000   \n",
              "75%     8427.750000  1977.000000   68522.000000     1.000000     1.000000   \n",
              "max    11191.000000  1996.000000  666666.000000     2.000000     2.000000   \n",
              "\n",
              "           Recency     MntWines    MntFruits  MntMeatProducts  \\\n",
              "count  2240.000000  2240.000000  2240.000000      2240.000000   \n",
              "mean     49.109375   303.935714    26.302232       166.950000   \n",
              "std      28.962453   336.597393    39.773434       225.715373   \n",
              "min       0.000000     0.000000     0.000000         0.000000   \n",
              "25%      24.000000    23.750000     1.000000        16.000000   \n",
              "50%      49.000000   173.500000     8.000000        67.000000   \n",
              "75%      74.000000   504.250000    33.000000       232.000000   \n",
              "max      99.000000  1493.000000   199.000000      1725.000000   \n",
              "\n",
              "       MntFishProducts  ...  NumWebVisitsMonth  AcceptedCmp3  AcceptedCmp4  \\\n",
              "count      2240.000000  ...        2240.000000   2240.000000   2240.000000   \n",
              "mean         37.525446  ...           5.316518      0.072768      0.074554   \n",
              "std          54.628979  ...           2.426645      0.259813      0.262728   \n",
              "min           0.000000  ...           0.000000      0.000000      0.000000   \n",
              "25%           3.000000  ...           3.000000      0.000000      0.000000   \n",
              "50%          12.000000  ...           6.000000      0.000000      0.000000   \n",
              "75%          50.000000  ...           7.000000      0.000000      0.000000   \n",
              "max         259.000000  ...          20.000000      1.000000      1.000000   \n",
              "\n",
              "       AcceptedCmp5  AcceptedCmp1  AcceptedCmp2     Complain  Z_CostContact  \\\n",
              "count   2240.000000   2240.000000   2240.000000  2240.000000         2240.0   \n",
              "mean       0.072768      0.064286      0.013393     0.009375            3.0   \n",
              "std        0.259813      0.245316      0.114976     0.096391            0.0   \n",
              "min        0.000000      0.000000      0.000000     0.000000            3.0   \n",
              "25%        0.000000      0.000000      0.000000     0.000000            3.0   \n",
              "50%        0.000000      0.000000      0.000000     0.000000            3.0   \n",
              "75%        0.000000      0.000000      0.000000     0.000000            3.0   \n",
              "max        1.000000      1.000000      1.000000     1.000000            3.0   \n",
              "\n",
              "       Z_Revenue     Response  \n",
              "count     2240.0  2240.000000  \n",
              "mean        11.0     0.149107  \n",
              "std          0.0     0.356274  \n",
              "min         11.0     0.000000  \n",
              "25%         11.0     0.000000  \n",
              "50%         11.0     0.000000  \n",
              "75%         11.0     0.000000  \n",
              "max         11.0     1.000000  \n",
              "\n",
              "[8 rows x 26 columns]"
            ],
            "text/html": [
              "\n",
              "  <div id=\"df-9b96960f-8002-458b-8465-f118fbc98360\" class=\"colab-df-container\">\n",
              "    <div>\n",
              "<style scoped>\n",
              "    .dataframe tbody tr th:only-of-type {\n",
              "        vertical-align: middle;\n",
              "    }\n",
              "\n",
              "    .dataframe tbody tr th {\n",
              "        vertical-align: top;\n",
              "    }\n",
              "\n",
              "    .dataframe thead th {\n",
              "        text-align: right;\n",
              "    }\n",
              "</style>\n",
              "<table border=\"1\" class=\"dataframe\">\n",
              "  <thead>\n",
              "    <tr style=\"text-align: right;\">\n",
              "      <th></th>\n",
              "      <th>ID</th>\n",
              "      <th>Year_Birth</th>\n",
              "      <th>Income</th>\n",
              "      <th>Kidhome</th>\n",
              "      <th>Teenhome</th>\n",
              "      <th>Recency</th>\n",
              "      <th>MntWines</th>\n",
              "      <th>MntFruits</th>\n",
              "      <th>MntMeatProducts</th>\n",
              "      <th>MntFishProducts</th>\n",
              "      <th>...</th>\n",
              "      <th>NumWebVisitsMonth</th>\n",
              "      <th>AcceptedCmp3</th>\n",
              "      <th>AcceptedCmp4</th>\n",
              "      <th>AcceptedCmp5</th>\n",
              "      <th>AcceptedCmp1</th>\n",
              "      <th>AcceptedCmp2</th>\n",
              "      <th>Complain</th>\n",
              "      <th>Z_CostContact</th>\n",
              "      <th>Z_Revenue</th>\n",
              "      <th>Response</th>\n",
              "    </tr>\n",
              "  </thead>\n",
              "  <tbody>\n",
              "    <tr>\n",
              "      <th>count</th>\n",
              "      <td>2240.000000</td>\n",
              "      <td>2240.000000</td>\n",
              "      <td>2216.000000</td>\n",
              "      <td>2240.000000</td>\n",
              "      <td>2240.000000</td>\n",
              "      <td>2240.000000</td>\n",
              "      <td>2240.000000</td>\n",
              "      <td>2240.000000</td>\n",
              "      <td>2240.000000</td>\n",
              "      <td>2240.000000</td>\n",
              "      <td>...</td>\n",
              "      <td>2240.000000</td>\n",
              "      <td>2240.000000</td>\n",
              "      <td>2240.000000</td>\n",
              "      <td>2240.000000</td>\n",
              "      <td>2240.000000</td>\n",
              "      <td>2240.000000</td>\n",
              "      <td>2240.000000</td>\n",
              "      <td>2240.0</td>\n",
              "      <td>2240.0</td>\n",
              "      <td>2240.000000</td>\n",
              "    </tr>\n",
              "    <tr>\n",
              "      <th>mean</th>\n",
              "      <td>5592.159821</td>\n",
              "      <td>1968.805804</td>\n",
              "      <td>52247.251354</td>\n",
              "      <td>0.444196</td>\n",
              "      <td>0.506250</td>\n",
              "      <td>49.109375</td>\n",
              "      <td>303.935714</td>\n",
              "      <td>26.302232</td>\n",
              "      <td>166.950000</td>\n",
              "      <td>37.525446</td>\n",
              "      <td>...</td>\n",
              "      <td>5.316518</td>\n",
              "      <td>0.072768</td>\n",
              "      <td>0.074554</td>\n",
              "      <td>0.072768</td>\n",
              "      <td>0.064286</td>\n",
              "      <td>0.013393</td>\n",
              "      <td>0.009375</td>\n",
              "      <td>3.0</td>\n",
              "      <td>11.0</td>\n",
              "      <td>0.149107</td>\n",
              "    </tr>\n",
              "    <tr>\n",
              "      <th>std</th>\n",
              "      <td>3246.662198</td>\n",
              "      <td>11.984069</td>\n",
              "      <td>25173.076661</td>\n",
              "      <td>0.538398</td>\n",
              "      <td>0.544538</td>\n",
              "      <td>28.962453</td>\n",
              "      <td>336.597393</td>\n",
              "      <td>39.773434</td>\n",
              "      <td>225.715373</td>\n",
              "      <td>54.628979</td>\n",
              "      <td>...</td>\n",
              "      <td>2.426645</td>\n",
              "      <td>0.259813</td>\n",
              "      <td>0.262728</td>\n",
              "      <td>0.259813</td>\n",
              "      <td>0.245316</td>\n",
              "      <td>0.114976</td>\n",
              "      <td>0.096391</td>\n",
              "      <td>0.0</td>\n",
              "      <td>0.0</td>\n",
              "      <td>0.356274</td>\n",
              "    </tr>\n",
              "    <tr>\n",
              "      <th>min</th>\n",
              "      <td>0.000000</td>\n",
              "      <td>1893.000000</td>\n",
              "      <td>1730.000000</td>\n",
              "      <td>0.000000</td>\n",
              "      <td>0.000000</td>\n",
              "      <td>0.000000</td>\n",
              "      <td>0.000000</td>\n",
              "      <td>0.000000</td>\n",
              "      <td>0.000000</td>\n",
              "      <td>0.000000</td>\n",
              "      <td>...</td>\n",
              "      <td>0.000000</td>\n",
              "      <td>0.000000</td>\n",
              "      <td>0.000000</td>\n",
              "      <td>0.000000</td>\n",
              "      <td>0.000000</td>\n",
              "      <td>0.000000</td>\n",
              "      <td>0.000000</td>\n",
              "      <td>3.0</td>\n",
              "      <td>11.0</td>\n",
              "      <td>0.000000</td>\n",
              "    </tr>\n",
              "    <tr>\n",
              "      <th>25%</th>\n",
              "      <td>2828.250000</td>\n",
              "      <td>1959.000000</td>\n",
              "      <td>35303.000000</td>\n",
              "      <td>0.000000</td>\n",
              "      <td>0.000000</td>\n",
              "      <td>24.000000</td>\n",
              "      <td>23.750000</td>\n",
              "      <td>1.000000</td>\n",
              "      <td>16.000000</td>\n",
              "      <td>3.000000</td>\n",
              "      <td>...</td>\n",
              "      <td>3.000000</td>\n",
              "      <td>0.000000</td>\n",
              "      <td>0.000000</td>\n",
              "      <td>0.000000</td>\n",
              "      <td>0.000000</td>\n",
              "      <td>0.000000</td>\n",
              "      <td>0.000000</td>\n",
              "      <td>3.0</td>\n",
              "      <td>11.0</td>\n",
              "      <td>0.000000</td>\n",
              "    </tr>\n",
              "    <tr>\n",
              "      <th>50%</th>\n",
              "      <td>5458.500000</td>\n",
              "      <td>1970.000000</td>\n",
              "      <td>51381.500000</td>\n",
              "      <td>0.000000</td>\n",
              "      <td>0.000000</td>\n",
              "      <td>49.000000</td>\n",
              "      <td>173.500000</td>\n",
              "      <td>8.000000</td>\n",
              "      <td>67.000000</td>\n",
              "      <td>12.000000</td>\n",
              "      <td>...</td>\n",
              "      <td>6.000000</td>\n",
              "      <td>0.000000</td>\n",
              "      <td>0.000000</td>\n",
              "      <td>0.000000</td>\n",
              "      <td>0.000000</td>\n",
              "      <td>0.000000</td>\n",
              "      <td>0.000000</td>\n",
              "      <td>3.0</td>\n",
              "      <td>11.0</td>\n",
              "      <td>0.000000</td>\n",
              "    </tr>\n",
              "    <tr>\n",
              "      <th>75%</th>\n",
              "      <td>8427.750000</td>\n",
              "      <td>1977.000000</td>\n",
              "      <td>68522.000000</td>\n",
              "      <td>1.000000</td>\n",
              "      <td>1.000000</td>\n",
              "      <td>74.000000</td>\n",
              "      <td>504.250000</td>\n",
              "      <td>33.000000</td>\n",
              "      <td>232.000000</td>\n",
              "      <td>50.000000</td>\n",
              "      <td>...</td>\n",
              "      <td>7.000000</td>\n",
              "      <td>0.000000</td>\n",
              "      <td>0.000000</td>\n",
              "      <td>0.000000</td>\n",
              "      <td>0.000000</td>\n",
              "      <td>0.000000</td>\n",
              "      <td>0.000000</td>\n",
              "      <td>3.0</td>\n",
              "      <td>11.0</td>\n",
              "      <td>0.000000</td>\n",
              "    </tr>\n",
              "    <tr>\n",
              "      <th>max</th>\n",
              "      <td>11191.000000</td>\n",
              "      <td>1996.000000</td>\n",
              "      <td>666666.000000</td>\n",
              "      <td>2.000000</td>\n",
              "      <td>2.000000</td>\n",
              "      <td>99.000000</td>\n",
              "      <td>1493.000000</td>\n",
              "      <td>199.000000</td>\n",
              "      <td>1725.000000</td>\n",
              "      <td>259.000000</td>\n",
              "      <td>...</td>\n",
              "      <td>20.000000</td>\n",
              "      <td>1.000000</td>\n",
              "      <td>1.000000</td>\n",
              "      <td>1.000000</td>\n",
              "      <td>1.000000</td>\n",
              "      <td>1.000000</td>\n",
              "      <td>1.000000</td>\n",
              "      <td>3.0</td>\n",
              "      <td>11.0</td>\n",
              "      <td>1.000000</td>\n",
              "    </tr>\n",
              "  </tbody>\n",
              "</table>\n",
              "<p>8 rows × 26 columns</p>\n",
              "</div>\n",
              "    <div class=\"colab-df-buttons\">\n",
              "\n",
              "  <div class=\"colab-df-container\">\n",
              "    <button class=\"colab-df-convert\" onclick=\"convertToInteractive('df-9b96960f-8002-458b-8465-f118fbc98360')\"\n",
              "            title=\"Convert this dataframe to an interactive table.\"\n",
              "            style=\"display:none;\">\n",
              "\n",
              "  <svg xmlns=\"http://www.w3.org/2000/svg\" height=\"24px\" viewBox=\"0 -960 960 960\">\n",
              "    <path d=\"M120-120v-720h720v720H120Zm60-500h600v-160H180v160Zm220 220h160v-160H400v160Zm0 220h160v-160H400v160ZM180-400h160v-160H180v160Zm440 0h160v-160H620v160ZM180-180h160v-160H180v160Zm440 0h160v-160H620v160Z\"/>\n",
              "  </svg>\n",
              "    </button>\n",
              "\n",
              "  <style>\n",
              "    .colab-df-container {\n",
              "      display:flex;\n",
              "      gap: 12px;\n",
              "    }\n",
              "\n",
              "    .colab-df-convert {\n",
              "      background-color: #E8F0FE;\n",
              "      border: none;\n",
              "      border-radius: 50%;\n",
              "      cursor: pointer;\n",
              "      display: none;\n",
              "      fill: #1967D2;\n",
              "      height: 32px;\n",
              "      padding: 0 0 0 0;\n",
              "      width: 32px;\n",
              "    }\n",
              "\n",
              "    .colab-df-convert:hover {\n",
              "      background-color: #E2EBFA;\n",
              "      box-shadow: 0px 1px 2px rgba(60, 64, 67, 0.3), 0px 1px 3px 1px rgba(60, 64, 67, 0.15);\n",
              "      fill: #174EA6;\n",
              "    }\n",
              "\n",
              "    .colab-df-buttons div {\n",
              "      margin-bottom: 4px;\n",
              "    }\n",
              "\n",
              "    [theme=dark] .colab-df-convert {\n",
              "      background-color: #3B4455;\n",
              "      fill: #D2E3FC;\n",
              "    }\n",
              "\n",
              "    [theme=dark] .colab-df-convert:hover {\n",
              "      background-color: #434B5C;\n",
              "      box-shadow: 0px 1px 3px 1px rgba(0, 0, 0, 0.15);\n",
              "      filter: drop-shadow(0px 1px 2px rgba(0, 0, 0, 0.3));\n",
              "      fill: #FFFFFF;\n",
              "    }\n",
              "  </style>\n",
              "\n",
              "    <script>\n",
              "      const buttonEl =\n",
              "        document.querySelector('#df-9b96960f-8002-458b-8465-f118fbc98360 button.colab-df-convert');\n",
              "      buttonEl.style.display =\n",
              "        google.colab.kernel.accessAllowed ? 'block' : 'none';\n",
              "\n",
              "      async function convertToInteractive(key) {\n",
              "        const element = document.querySelector('#df-9b96960f-8002-458b-8465-f118fbc98360');\n",
              "        const dataTable =\n",
              "          await google.colab.kernel.invokeFunction('convertToInteractive',\n",
              "                                                    [key], {});\n",
              "        if (!dataTable) return;\n",
              "\n",
              "        const docLinkHtml = 'Like what you see? Visit the ' +\n",
              "          '<a target=\"_blank\" href=https://colab.research.google.com/notebooks/data_table.ipynb>data table notebook</a>'\n",
              "          + ' to learn more about interactive tables.';\n",
              "        element.innerHTML = '';\n",
              "        dataTable['output_type'] = 'display_data';\n",
              "        await google.colab.output.renderOutput(dataTable, element);\n",
              "        const docLink = document.createElement('div');\n",
              "        docLink.innerHTML = docLinkHtml;\n",
              "        element.appendChild(docLink);\n",
              "      }\n",
              "    </script>\n",
              "  </div>\n",
              "\n",
              "\n",
              "<div id=\"df-c5c72d8a-ca29-4114-94da-0f48a91d0db0\">\n",
              "  <button class=\"colab-df-quickchart\" onclick=\"quickchart('df-c5c72d8a-ca29-4114-94da-0f48a91d0db0')\"\n",
              "            title=\"Suggest charts\"\n",
              "            style=\"display:none;\">\n",
              "\n",
              "<svg xmlns=\"http://www.w3.org/2000/svg\" height=\"24px\"viewBox=\"0 0 24 24\"\n",
              "     width=\"24px\">\n",
              "    <g>\n",
              "        <path d=\"M19 3H5c-1.1 0-2 .9-2 2v14c0 1.1.9 2 2 2h14c1.1 0 2-.9 2-2V5c0-1.1-.9-2-2-2zM9 17H7v-7h2v7zm4 0h-2V7h2v10zm4 0h-2v-4h2v4z\"/>\n",
              "    </g>\n",
              "</svg>\n",
              "  </button>\n",
              "\n",
              "<style>\n",
              "  .colab-df-quickchart {\n",
              "      --bg-color: #E8F0FE;\n",
              "      --fill-color: #1967D2;\n",
              "      --hover-bg-color: #E2EBFA;\n",
              "      --hover-fill-color: #174EA6;\n",
              "      --disabled-fill-color: #AAA;\n",
              "      --disabled-bg-color: #DDD;\n",
              "  }\n",
              "\n",
              "  [theme=dark] .colab-df-quickchart {\n",
              "      --bg-color: #3B4455;\n",
              "      --fill-color: #D2E3FC;\n",
              "      --hover-bg-color: #434B5C;\n",
              "      --hover-fill-color: #FFFFFF;\n",
              "      --disabled-bg-color: #3B4455;\n",
              "      --disabled-fill-color: #666;\n",
              "  }\n",
              "\n",
              "  .colab-df-quickchart {\n",
              "    background-color: var(--bg-color);\n",
              "    border: none;\n",
              "    border-radius: 50%;\n",
              "    cursor: pointer;\n",
              "    display: none;\n",
              "    fill: var(--fill-color);\n",
              "    height: 32px;\n",
              "    padding: 0;\n",
              "    width: 32px;\n",
              "  }\n",
              "\n",
              "  .colab-df-quickchart:hover {\n",
              "    background-color: var(--hover-bg-color);\n",
              "    box-shadow: 0 1px 2px rgba(60, 64, 67, 0.3), 0 1px 3px 1px rgba(60, 64, 67, 0.15);\n",
              "    fill: var(--button-hover-fill-color);\n",
              "  }\n",
              "\n",
              "  .colab-df-quickchart-complete:disabled,\n",
              "  .colab-df-quickchart-complete:disabled:hover {\n",
              "    background-color: var(--disabled-bg-color);\n",
              "    fill: var(--disabled-fill-color);\n",
              "    box-shadow: none;\n",
              "  }\n",
              "\n",
              "  .colab-df-spinner {\n",
              "    border: 2px solid var(--fill-color);\n",
              "    border-color: transparent;\n",
              "    border-bottom-color: var(--fill-color);\n",
              "    animation:\n",
              "      spin 1s steps(1) infinite;\n",
              "  }\n",
              "\n",
              "  @keyframes spin {\n",
              "    0% {\n",
              "      border-color: transparent;\n",
              "      border-bottom-color: var(--fill-color);\n",
              "      border-left-color: var(--fill-color);\n",
              "    }\n",
              "    20% {\n",
              "      border-color: transparent;\n",
              "      border-left-color: var(--fill-color);\n",
              "      border-top-color: var(--fill-color);\n",
              "    }\n",
              "    30% {\n",
              "      border-color: transparent;\n",
              "      border-left-color: var(--fill-color);\n",
              "      border-top-color: var(--fill-color);\n",
              "      border-right-color: var(--fill-color);\n",
              "    }\n",
              "    40% {\n",
              "      border-color: transparent;\n",
              "      border-right-color: var(--fill-color);\n",
              "      border-top-color: var(--fill-color);\n",
              "    }\n",
              "    60% {\n",
              "      border-color: transparent;\n",
              "      border-right-color: var(--fill-color);\n",
              "    }\n",
              "    80% {\n",
              "      border-color: transparent;\n",
              "      border-right-color: var(--fill-color);\n",
              "      border-bottom-color: var(--fill-color);\n",
              "    }\n",
              "    90% {\n",
              "      border-color: transparent;\n",
              "      border-bottom-color: var(--fill-color);\n",
              "    }\n",
              "  }\n",
              "</style>\n",
              "\n",
              "  <script>\n",
              "    async function quickchart(key) {\n",
              "      const quickchartButtonEl =\n",
              "        document.querySelector('#' + key + ' button');\n",
              "      quickchartButtonEl.disabled = true;  // To prevent multiple clicks.\n",
              "      quickchartButtonEl.classList.add('colab-df-spinner');\n",
              "      try {\n",
              "        const charts = await google.colab.kernel.invokeFunction(\n",
              "            'suggestCharts', [key], {});\n",
              "      } catch (error) {\n",
              "        console.error('Error during call to suggestCharts:', error);\n",
              "      }\n",
              "      quickchartButtonEl.classList.remove('colab-df-spinner');\n",
              "      quickchartButtonEl.classList.add('colab-df-quickchart-complete');\n",
              "    }\n",
              "    (() => {\n",
              "      let quickchartButtonEl =\n",
              "        document.querySelector('#df-c5c72d8a-ca29-4114-94da-0f48a91d0db0 button');\n",
              "      quickchartButtonEl.style.display =\n",
              "        google.colab.kernel.accessAllowed ? 'block' : 'none';\n",
              "    })();\n",
              "  </script>\n",
              "</div>\n",
              "\n",
              "    </div>\n",
              "  </div>\n"
            ],
            "application/vnd.google.colaboratory.intrinsic+json": {
              "type": "dataframe"
            }
          },
          "metadata": {},
          "execution_count": 14
        }
      ]
    },
    {
      "cell_type": "code",
      "source": [
        "# Que tamaño tiene el data set\n",
        "df.shape\n",
        "# (filas\"X\", colum,nas\"Y\")"
      ],
      "metadata": {
        "colab": {
          "base_uri": "https://localhost:8080/"
        },
        "id": "dkLW_DqbE4FI",
        "outputId": "524c45ab-5575-460f-af79-01528dba5d46"
      },
      "execution_count": null,
      "outputs": [
        {
          "output_type": "execute_result",
          "data": {
            "text/plain": [
              "(2240, 29)"
            ]
          },
          "metadata": {},
          "execution_count": 15
        }
      ]
    },
    {
      "cell_type": "code",
      "source": [
        "# Que tipo de etiquetas de educación\n",
        "print(df['Education'].unique())\n",
        "\n",
        "## Observa: que hay 5 categorias en educación\n",
        "## Un atributo categorico tiene clases finitas, siempre sera del tipo object"
      ],
      "metadata": {
        "colab": {
          "base_uri": "https://localhost:8080/"
        },
        "id": "gY_kqx4eFCmX",
        "outputId": "3cc8e3da-ee42-4c01-f50a-9f67ef683fed"
      },
      "execution_count": null,
      "outputs": [
        {
          "output_type": "stream",
          "name": "stdout",
          "text": [
            "['Graduation' 'PhD' 'Master' 'Basic' '2n Cycle']\n"
          ]
        }
      ]
    },
    {
      "cell_type": "code",
      "source": [
        "# Que categorias de estado civil tenemos\n",
        "print(df['Marital_Status'].unique()) # muestra los valores unicos de una columna\n",
        "\n",
        "## Observa: para esta civil hay 8 categorías\n",
        "## YOLO: You Onli Live Once"
      ],
      "metadata": {
        "colab": {
          "base_uri": "https://localhost:8080/"
        },
        "id": "bHOwkpf4FzjV",
        "outputId": "27441097-7099-4509-9f6b-1c78dd0a7d1f"
      },
      "execution_count": null,
      "outputs": [
        {
          "output_type": "stream",
          "name": "stdout",
          "text": [
            "['Single' 'Together' 'Married' 'Divorced' 'Widow' 'Alone' 'Absurd' 'YOLO']\n"
          ]
        }
      ]
    },
    {
      "cell_type": "code",
      "source": [
        "# Que edad tienen los clientes\n",
        "\n",
        "# tengo el atributo año de nacimiento: Year_Birth\n",
        "# Debo crear un nuevo atributo calculado\n",
        "from datetime import date #se usa para trabajar con fechas, útil cuando necesitas manipular o comparar fechas en tus programas.\n",
        "current_year = date.today().year\n",
        "print(current_year)\n",
        "df['Age'] = current_year - df['Year_Birth']\n",
        " # esta caracteristica ['Age'] no existia en df\n",
        "  # la agregamos al darle valoa en df"
      ],
      "metadata": {
        "colab": {
          "base_uri": "https://localhost:8080/"
        },
        "id": "1wqNPH-PHSn4",
        "outputId": "c95ba5bd-2dc9-46ec-b0e1-582398bdf626"
      },
      "execution_count": null,
      "outputs": [
        {
          "output_type": "stream",
          "name": "stdout",
          "text": [
            "2024\n"
          ]
        }
      ]
    },
    {
      "cell_type": "code",
      "source": [
        "df['Age'].head(4)"
      ],
      "metadata": {
        "colab": {
          "base_uri": "https://localhost:8080/",
          "height": 209
        },
        "id": "llJGnWE4HLTP",
        "outputId": "6195feb5-926b-4af1-d7e9-3bbdf8a77e4c"
      },
      "execution_count": null,
      "outputs": [
        {
          "output_type": "execute_result",
          "data": {
            "text/plain": [
              "0    67\n",
              "1    70\n",
              "2    59\n",
              "3    40\n",
              "Name: Age, dtype: int64"
            ],
            "text/html": [
              "<div>\n",
              "<style scoped>\n",
              "    .dataframe tbody tr th:only-of-type {\n",
              "        vertical-align: middle;\n",
              "    }\n",
              "\n",
              "    .dataframe tbody tr th {\n",
              "        vertical-align: top;\n",
              "    }\n",
              "\n",
              "    .dataframe thead th {\n",
              "        text-align: right;\n",
              "    }\n",
              "</style>\n",
              "<table border=\"1\" class=\"dataframe\">\n",
              "  <thead>\n",
              "    <tr style=\"text-align: right;\">\n",
              "      <th></th>\n",
              "      <th>Age</th>\n",
              "    </tr>\n",
              "  </thead>\n",
              "  <tbody>\n",
              "    <tr>\n",
              "      <th>0</th>\n",
              "      <td>67</td>\n",
              "    </tr>\n",
              "    <tr>\n",
              "      <th>1</th>\n",
              "      <td>70</td>\n",
              "    </tr>\n",
              "    <tr>\n",
              "      <th>2</th>\n",
              "      <td>59</td>\n",
              "    </tr>\n",
              "    <tr>\n",
              "      <th>3</th>\n",
              "      <td>40</td>\n",
              "    </tr>\n",
              "  </tbody>\n",
              "</table>\n",
              "</div><br><label><b>dtype:</b> int64</label>"
            ]
          },
          "metadata": {},
          "execution_count": 26
        }
      ]
    },
    {
      "cell_type": "code",
      "source": [
        "#shape entrega numero de registros y atributos\n",
        "df.shape"
      ],
      "metadata": {
        "colab": {
          "base_uri": "https://localhost:8080/"
        },
        "id": "yHx8nUOKJEA9",
        "outputId": "c6e4e1bc-7c23-44b4-8553-b8788659decc"
      },
      "execution_count": null,
      "outputs": [
        {
          "output_type": "execute_result",
          "data": {
            "text/plain": [
              "(2240, 30)"
            ]
          },
          "metadata": {},
          "execution_count": 23
        }
      ]
    },
    {
      "cell_type": "code",
      "source": [
        "df.info() # muetra ['Age']"
      ],
      "metadata": {
        "colab": {
          "base_uri": "https://localhost:8080/"
        },
        "id": "Rph1QruqJh_b",
        "outputId": "e3f5f81b-6875-4af4-b061-9ef4947cbe01"
      },
      "execution_count": null,
      "outputs": [
        {
          "output_type": "stream",
          "name": "stdout",
          "text": [
            "<class 'pandas.core.frame.DataFrame'>\n",
            "RangeIndex: 2240 entries, 0 to 2239\n",
            "Data columns (total 30 columns):\n",
            " #   Column               Non-Null Count  Dtype  \n",
            "---  ------               --------------  -----  \n",
            " 0   ID                   2240 non-null   int64  \n",
            " 1   Year_Birth           2240 non-null   int64  \n",
            " 2   Education            2240 non-null   object \n",
            " 3   Marital_Status       2240 non-null   object \n",
            " 4   Income               2216 non-null   float64\n",
            " 5   Kidhome              2240 non-null   int64  \n",
            " 6   Teenhome             2240 non-null   int64  \n",
            " 7   Dt_Customer          2240 non-null   object \n",
            " 8   Recency              2240 non-null   int64  \n",
            " 9   MntWines             2240 non-null   int64  \n",
            " 10  MntFruits            2240 non-null   int64  \n",
            " 11  MntMeatProducts      2240 non-null   int64  \n",
            " 12  MntFishProducts      2240 non-null   int64  \n",
            " 13  MntSweetProducts     2240 non-null   int64  \n",
            " 14  MntGoldProds         2240 non-null   int64  \n",
            " 15  NumDealsPurchases    2240 non-null   int64  \n",
            " 16  NumWebPurchases      2240 non-null   int64  \n",
            " 17  NumCatalogPurchases  2240 non-null   int64  \n",
            " 18  NumStorePurchases    2240 non-null   int64  \n",
            " 19  NumWebVisitsMonth    2240 non-null   int64  \n",
            " 20  AcceptedCmp3         2240 non-null   int64  \n",
            " 21  AcceptedCmp4         2240 non-null   int64  \n",
            " 22  AcceptedCmp5         2240 non-null   int64  \n",
            " 23  AcceptedCmp1         2240 non-null   int64  \n",
            " 24  AcceptedCmp2         2240 non-null   int64  \n",
            " 25  Complain             2240 non-null   int64  \n",
            " 26  Z_CostContact        2240 non-null   int64  \n",
            " 27  Z_Revenue            2240 non-null   int64  \n",
            " 28  Response             2240 non-null   int64  \n",
            " 29  Age                  2240 non-null   int64  \n",
            "dtypes: float64(1), int64(26), object(3)\n",
            "memory usage: 525.1+ KB\n"
          ]
        }
      ]
    },
    {
      "cell_type": "code",
      "source": [
        "df['Income'].hist() # funcion numpy muestra un histograma"
      ],
      "metadata": {
        "colab": {
          "base_uri": "https://localhost:8080/",
          "height": 447
        },
        "id": "lE_QIK9VKq4V",
        "outputId": "0be8b0f6-3c30-45bb-8b5b-2ca5a56877c6"
      },
      "execution_count": null,
      "outputs": [
        {
          "output_type": "execute_result",
          "data": {
            "text/plain": [
              "<Axes: >"
            ]
          },
          "metadata": {},
          "execution_count": 26
        },
        {
          "output_type": "display_data",
          "data": {
            "text/plain": [
              "<Figure size 640x480 with 1 Axes>"
            ],
            "image/png": "[encoded data removed]"
          },
          "metadata": {}
        }
      ]
    },
    {
      "cell_type": "code",
      "source": [
        "df.boxplot(column=\"Income\", by=\"Education\")\n",
        "  # .boxplot diagrama de cajas\n",
        "    # mediana (linea dentro de la caja)\n",
        "    # Q1 y Q3 primer y cuarto cuartil  ( bordes/lineas fuera de la caja)\n",
        "    # outliers valores atipicos (puntos o circulos)\n",
        "    # el rectangulo representa la mitad de los datos mayormente concentrados"
      ],
      "metadata": {
        "colab": {
          "base_uri": "https://localhost:8080/",
          "height": 495
        },
        "id": "PcvgJ0XbLMeH",
        "outputId": "178729ca-e789-4ce2-cacb-d1177aca8f4c"
      },
      "execution_count": null,
      "outputs": [
        {
          "output_type": "execute_result",
          "data": {
            "text/plain": [
              "<Axes: title={'center': 'Income'}, xlabel='Education'>"
            ]
          },
          "metadata": {},
          "execution_count": 31
        },
        {
          "output_type": "display_data",
          "data": {
            "text/plain": [
              "<Figure size 640x480 with 1 Axes>"
            ],
            "image/png": "[encoded data removed]"
          },
          "metadata": {}
        }
      ]
    },
    {
      "cell_type": "markdown",
      "source": [
        "# Observación\n",
        "* En los clientes el máximo ingreso son de 10000 USD anuales, menos para quienes tienen educacion básica\n",
        "*\n"
      ],
      "metadata": {
        "id": "5QHK6Xr7MBZQ"
      }
    },
    {
      "cell_type": "code",
      "source": [
        "df.boxplot(column=\"Kidhome\", by=\"Education\")\n",
        "  # column=\"\" es la columna de interes(Y)\n",
        "  # by=\"\" es el atributo categorico(X)\n"
      ],
      "metadata": {
        "colab": {
          "base_uri": "https://localhost:8080/",
          "height": 495
        },
        "id": "8s1Q_3ruM8gl",
        "outputId": "f1c036fa-c917-48a4-bf0b-89f35ad5b7a0"
      },
      "execution_count": null,
      "outputs": [
        {
          "output_type": "execute_result",
          "data": {
            "text/plain": [
              "<Axes: title={'center': 'Kidhome'}, xlabel='Education'>"
            ]
          },
          "metadata": {},
          "execution_count": 33
        },
        {
          "output_type": "display_data",
          "data": {
            "text/plain": [
              "<Figure size 640x480 with 1 Axes>"
            ],
            "image/png": "[encoded data removed]"
          },
          "metadata": {}
        }
      ]
    },
    {
      "source": [
        "# Correct the column name to \"Marital_Status\"\n",
        "df.boxplot(column=\"Income\", by=\"Marital_Status\")"
      ],
      "cell_type": "code",
      "metadata": {
        "colab": {
          "base_uri": "https://localhost:8080/",
          "height": 495
        },
        "id": "dKu19eV3Nluk",
        "outputId": "23faa62a-7df1-490e-d3d6-ebbb1ae7aa21"
      },
      "execution_count": null,
      "outputs": [
        {
          "output_type": "execute_result",
          "data": {
            "text/plain": [
              "<Axes: title={'center': 'Income'}, xlabel='Marital_Status'>"
            ]
          },
          "metadata": {},
          "execution_count": 35
        },
        {
          "output_type": "display_data",
          "data": {
            "text/plain": [
              "<Figure size 640x480 with 1 Axes>"
            ],
            "image/png": "[encoded data removed]"
          },
          "metadata": {}
        }
      ]
    },
    {
      "cell_type": "code",
      "source": [
        "# plt.figure(figsize=(1,1)) no sirve ?\n",
        "\n",
        "df.boxplot(column=\"Income\", by=\"Age\")"
      ],
      "metadata": {
        "colab": {
          "base_uri": "https://localhost:8080/",
          "height": 515
        },
        "id": "5ALJGGikQ4w4",
        "outputId": "3f66f6c0-42f3-42ef-a90e-dedd88a38312"
      },
      "execution_count": null,
      "outputs": [
        {
          "output_type": "execute_result",
          "data": {
            "text/plain": [
              "<Axes: title={'center': 'Income'}, xlabel='Age'>"
            ]
          },
          "metadata": {},
          "execution_count": 34
        },
        {
          "output_type": "display_data",
          "data": {
            "text/plain": [
              "<Figure size 100x100 with 0 Axes>"
            ]
          },
          "metadata": {}
        },
        {
          "output_type": "display_data",
          "data": {
            "text/plain": [
              "<Figure size 640x480 with 1 Axes>"
            ],
            "image/png": "[encoded data removed]"
          },
          "metadata": {}
        }
      ]
    },
    {
      "cell_type": "code",
      "source": [
        "# lambda me da condiciones - cun atributo condicionalpara crear otro -registro-\n",
        "## para sacar otras categorias\n",
        "### youth\n",
        "### middle aged\n",
        "### old\n",
        "df['Age_Group'] = df['Age'].apply(lambda x: 'Children' if x <= 16\n",
        "                                  else ('Youth' if 17 <= x <= 30\n",
        "                                  else ('Middle Aged' if 30 < x <=  45\n",
        "                                  else 'Old'\n",
        "    )\n",
        "))"
      ],
      "metadata": {
        "id": "QkNd8ok8REA_"
      },
      "execution_count": null,
      "outputs": []
    },
    {
      "cell_type": "markdown",
      "source": [
        "se esta creando una nueva categoria dentro de df con los datos de Age, usando\n",
        "lambda para declarar una funcion en este caso x, se definen unas categorias o en este las caso condiciones para agrupar las edades en determinado tipo de poblacion. estos datos ya clasificados se agrupan para dar valor a la nueva categoria\n"
      ],
      "metadata": {
        "id": "GXtKNA0tP6gd"
      }
    },
    {
      "cell_type": "code",
      "source": [
        "df.info()\n"
      ],
      "metadata": {
        "colab": {
          "base_uri": "https://localhost:8080/"
        },
        "id": "zojQNdfiR6tx",
        "outputId": "e6d8fd89-3004-41fa-84ac-88892d6f12cd"
      },
      "execution_count": null,
      "outputs": [
        {
          "output_type": "stream",
          "name": "stdout",
          "text": [
            "<class 'pandas.core.frame.DataFrame'>\n",
            "RangeIndex: 2240 entries, 0 to 2239\n",
            "Data columns (total 31 columns):\n",
            " #   Column               Non-Null Count  Dtype  \n",
            "---  ------               --------------  -----  \n",
            " 0   ID                   2240 non-null   int64  \n",
            " 1   Year_Birth           2240 non-null   int64  \n",
            " 2   Education            2240 non-null   object \n",
            " 3   Marital_Status       2240 non-null   object \n",
            " 4   Income               2216 non-null   float64\n",
            " 5   Kidhome              2240 non-null   int64  \n",
            " 6   Teenhome             2240 non-null   int64  \n",
            " 7   Dt_Customer          2240 non-null   object \n",
            " 8   Recency              2240 non-null   int64  \n",
            " 9   MntWines             2240 non-null   int64  \n",
            " 10  MntFruits            2240 non-null   int64  \n",
            " 11  MntMeatProducts      2240 non-null   int64  \n",
            " 12  MntFishProducts      2240 non-null   int64  \n",
            " 13  MntSweetProducts     2240 non-null   int64  \n",
            " 14  MntGoldProds         2240 non-null   int64  \n",
            " 15  NumDealsPurchases    2240 non-null   int64  \n",
            " 16  NumWebPurchases      2240 non-null   int64  \n",
            " 17  NumCatalogPurchases  2240 non-null   int64  \n",
            " 18  NumStorePurchases    2240 non-null   int64  \n",
            " 19  NumWebVisitsMonth    2240 non-null   int64  \n",
            " 20  AcceptedCmp3         2240 non-null   int64  \n",
            " 21  AcceptedCmp4         2240 non-null   int64  \n",
            " 22  AcceptedCmp5         2240 non-null   int64  \n",
            " 23  AcceptedCmp1         2240 non-null   int64  \n",
            " 24  AcceptedCmp2         2240 non-null   int64  \n",
            " 25  Complain             2240 non-null   int64  \n",
            " 26  Z_CostContact        2240 non-null   int64  \n",
            " 27  Z_Revenue            2240 non-null   int64  \n",
            " 28  Response             2240 non-null   int64  \n",
            " 29  Age                  2240 non-null   int64  \n",
            " 30  Age_Group            2240 non-null   object \n",
            "dtypes: float64(1), int64(26), object(4)\n",
            "memory usage: 542.6+ KB\n"
          ]
        }
      ]
    },
    {
      "cell_type": "code",
      "source": [
        "#el codigo column debe tener datos numericos para generar graficas\n",
        "df.boxplot(column=\"Kidhome\", by=\"Age_Group\")\n"
      ],
      "metadata": {
        "colab": {
          "base_uri": "https://localhost:8080/",
          "height": 495
        },
        "id": "CFAZErQxSARW",
        "outputId": "038076a5-fdfe-4450-f6d6-c34d7cac5ddf"
      },
      "execution_count": null,
      "outputs": [
        {
          "output_type": "execute_result",
          "data": {
            "text/plain": [
              "<Axes: title={'center': 'Kidhome'}, xlabel='Age_Group'>"
            ]
          },
          "metadata": {},
          "execution_count": 39
        },
        {
          "output_type": "display_data",
          "data": {
            "text/plain": [
              "<Figure size 640x480 with 1 Axes>"
            ],
            "image/png": "[encoded data removed]"
          },
          "metadata": {}
        }
      ]
    },
    {
      "cell_type": "markdown",
      "source": [
        "cantidad de compras de cada **cliente** en los ultimos dos años"
      ],
      "metadata": {
        "id": "2h7nqjHCVlYC"
      }
    },
    {
      "cell_type": "code",
      "source": [
        "df['MntTotal'] = df['MntWines'] + df['MntFruits'] + df['MntMeatProducts'] + df['MntFishProducts'] + df['MntSweetProducts'] + df['MntGoldProds']\n",
        "# df['MntTotal'] es una nueva categoria agregada a df"
      ],
      "metadata": {
        "id": "JC7ZuKONTOVF"
      },
      "execution_count": null,
      "outputs": []
    },
    {
      "cell_type": "code",
      "source": [
        "df[['MntTotal','MntWines','MntFruits','MntMeatProducts','MntFishProducts','MntSweetProducts','MntGoldProds']]\n"
      ],
      "metadata": {
        "colab": {
          "base_uri": "https://localhost:8080/",
          "height": 424
        },
        "id": "C1aCfiwvYnIv",
        "outputId": "3aacb963-1656-48de-9e7c-b5acfcbeea01"
      },
      "execution_count": null,
      "outputs": [
        {
          "output_type": "execute_result",
          "data": {
            "text/plain": [
              "      MntTotal  MntWines  MntFruits  MntMeatProducts  MntFishProducts  \\\n",
              "0         1617       635         88              546              172   \n",
              "1           27        11          1                6                2   \n",
              "2          776       426         49              127              111   \n",
              "3           53        11          4               20               10   \n",
              "4          422       173         43              118               46   \n",
              "...        ...       ...        ...              ...              ...   \n",
              "2235      1341       709         43              182               42   \n",
              "2236       444       406          0               30                0   \n",
              "2237      1241       908         48              217               32   \n",
              "2238       843       428         30              214               80   \n",
              "2239       172        84          3               61                2   \n",
              "\n",
              "      MntSweetProducts  MntGoldProds  \n",
              "0                   88            88  \n",
              "1                    1             6  \n",
              "2                   21            42  \n",
              "3                    3             5  \n",
              "4                   27            15  \n",
              "...                ...           ...  \n",
              "2235               118           247  \n",
              "2236                 0             8  \n",
              "2237                12            24  \n",
              "2238                30            61  \n",
              "2239                 1            21  \n",
              "\n",
              "[2240 rows x 7 columns]"
            ],
            "text/html": [
              "\n",
              "  <div id=\"df-e26aa034-3a44-4978-8721-58ae1d623ce5\" class=\"colab-df-container\">\n",
              "    <div>\n",
              "<style scoped>\n",
              "    .dataframe tbody tr th:only-of-type {\n",
              "        vertical-align: middle;\n",
              "    }\n",
              "\n",
              "    .dataframe tbody tr th {\n",
              "        vertical-align: top;\n",
              "    }\n",
              "\n",
              "    .dataframe thead th {\n",
              "        text-align: right;\n",
              "    }\n",
              "</style>\n",
              "<table border=\"1\" class=\"dataframe\">\n",
              "  <thead>\n",
              "    <tr style=\"text-align: right;\">\n",
              "      <th></th>\n",
              "      <th>MntTotal</th>\n",
              "      <th>MntWines</th>\n",
              "      <th>MntFruits</th>\n",
              "      <th>MntMeatProducts</th>\n",
              "      <th>MntFishProducts</th>\n",
              "      <th>MntSweetProducts</th>\n",
              "      <th>MntGoldProds</th>\n",
              "    </tr>\n",
              "  </thead>\n",
              "  <tbody>\n",
              "    <tr>\n",
              "      <th>0</th>\n",
              "      <td>1617</td>\n",
              "      <td>635</td>\n",
              "      <td>88</td>\n",
              "      <td>546</td>\n",
              "      <td>172</td>\n",
              "      <td>88</td>\n",
              "      <td>88</td>\n",
              "    </tr>\n",
              "    <tr>\n",
              "      <th>1</th>\n",
              "      <td>27</td>\n",
              "      <td>11</td>\n",
              "      <td>1</td>\n",
              "      <td>6</td>\n",
              "      <td>2</td>\n",
              "      <td>1</td>\n",
              "      <td>6</td>\n",
              "    </tr>\n",
              "    <tr>\n",
              "      <th>2</th>\n",
              "      <td>776</td>\n",
              "      <td>426</td>\n",
              "      <td>49</td>\n",
              "      <td>127</td>\n",
              "      <td>111</td>\n",
              "      <td>21</td>\n",
              "      <td>42</td>\n",
              "    </tr>\n",
              "    <tr>\n",
              "      <th>3</th>\n",
              "      <td>53</td>\n",
              "      <td>11</td>\n",
              "      <td>4</td>\n",
              "      <td>20</td>\n",
              "      <td>10</td>\n",
              "      <td>3</td>\n",
              "      <td>5</td>\n",
              "    </tr>\n",
              "    <tr>\n",
              "      <th>4</th>\n",
              "      <td>422</td>\n",
              "      <td>173</td>\n",
              "      <td>43</td>\n",
              "      <td>118</td>\n",
              "      <td>46</td>\n",
              "      <td>27</td>\n",
              "      <td>15</td>\n",
              "    </tr>\n",
              "    <tr>\n",
              "      <th>...</th>\n",
              "      <td>...</td>\n",
              "      <td>...</td>\n",
              "      <td>...</td>\n",
              "      <td>...</td>\n",
              "      <td>...</td>\n",
              "      <td>...</td>\n",
              "      <td>...</td>\n",
              "    </tr>\n",
              "    <tr>\n",
              "      <th>2235</th>\n",
              "      <td>1341</td>\n",
              "      <td>709</td>\n",
              "      <td>43</td>\n",
              "      <td>182</td>\n",
              "      <td>42</td>\n",
              "      <td>118</td>\n",
              "      <td>247</td>\n",
              "    </tr>\n",
              "    <tr>\n",
              "      <th>2236</th>\n",
              "      <td>444</td>\n",
              "      <td>406</td>\n",
              "      <td>0</td>\n",
              "      <td>30</td>\n",
              "      <td>0</td>\n",
              "      <td>0</td>\n",
              "      <td>8</td>\n",
              "    </tr>\n",
              "    <tr>\n",
              "      <th>2237</th>\n",
              "      <td>1241</td>\n",
              "      <td>908</td>\n",
              "      <td>48</td>\n",
              "      <td>217</td>\n",
              "      <td>32</td>\n",
              "      <td>12</td>\n",
              "      <td>24</td>\n",
              "    </tr>\n",
              "    <tr>\n",
              "      <th>2238</th>\n",
              "      <td>843</td>\n",
              "      <td>428</td>\n",
              "      <td>30</td>\n",
              "      <td>214</td>\n",
              "      <td>80</td>\n",
              "      <td>30</td>\n",
              "      <td>61</td>\n",
              "    </tr>\n",
              "    <tr>\n",
              "      <th>2239</th>\n",
              "      <td>172</td>\n",
              "      <td>84</td>\n",
              "      <td>3</td>\n",
              "      <td>61</td>\n",
              "      <td>2</td>\n",
              "      <td>1</td>\n",
              "      <td>21</td>\n",
              "    </tr>\n",
              "  </tbody>\n",
              "</table>\n",
              "<p>2240 rows × 7 columns</p>\n",
              "</div>\n",
              "    <div class=\"colab-df-buttons\">\n",
              "\n",
              "  <div class=\"colab-df-container\">\n",
              "    <button class=\"colab-df-convert\" onclick=\"convertToInteractive('df-e26aa034-3a44-4978-8721-58ae1d623ce5')\"\n",
              "            title=\"Convert this dataframe to an interactive table.\"\n",
              "            style=\"display:none;\">\n",
              "\n",
              "  <svg xmlns=\"http://www.w3.org/2000/svg\" height=\"24px\" viewBox=\"0 -960 960 960\">\n",
              "    <path d=\"M120-120v-720h720v720H120Zm60-500h600v-160H180v160Zm220 220h160v-160H400v160Zm0 220h160v-160H400v160ZM180-400h160v-160H180v160Zm440 0h160v-160H620v160ZM180-180h160v-160H180v160Zm440 0h160v-160H620v160Z\"/>\n",
              "  </svg>\n",
              "    </button>\n",
              "\n",
              "  <style>\n",
              "    .colab-df-container {\n",
              "      display:flex;\n",
              "      gap: 12px;\n",
              "    }\n",
              "\n",
              "    .colab-df-convert {\n",
              "      background-color: #E8F0FE;\n",
              "      border: none;\n",
              "      border-radius: 50%;\n",
              "      cursor: pointer;\n",
              "      display: none;\n",
              "      fill: #1967D2;\n",
              "      height: 32px;\n",
              "      padding: 0 0 0 0;\n",
              "      width: 32px;\n",
              "    }\n",
              "\n",
              "    .colab-df-convert:hover {\n",
              "      background-color: #E2EBFA;\n",
              "      box-shadow: 0px 1px 2px rgba(60, 64, 67, 0.3), 0px 1px 3px 1px rgba(60, 64, 67, 0.15);\n",
              "      fill: #174EA6;\n",
              "    }\n",
              "\n",
              "    .colab-df-buttons div {\n",
              "      margin-bottom: 4px;\n",
              "    }\n",
              "\n",
              "    [theme=dark] .colab-df-convert {\n",
              "      background-color: #3B4455;\n",
              "      fill: #D2E3FC;\n",
              "    }\n",
              "\n",
              "    [theme=dark] .colab-df-convert:hover {\n",
              "      background-color: #434B5C;\n",
              "      box-shadow: 0px 1px 3px 1px rgba(0, 0, 0, 0.15);\n",
              "      filter: drop-shadow(0px 1px 2px rgba(0, 0, 0, 0.3));\n",
              "      fill: #FFFFFF;\n",
              "    }\n",
              "  </style>\n",
              "\n",
              "    <script>\n",
              "      const buttonEl =\n",
              "        document.querySelector('#df-e26aa034-3a44-4978-8721-58ae1d623ce5 button.colab-df-convert');\n",
              "      buttonEl.style.display =\n",
              "        google.colab.kernel.accessAllowed ? 'block' : 'none';\n",
              "\n",
              "      async function convertToInteractive(key) {\n",
              "        const element = document.querySelector('#df-e26aa034-3a44-4978-8721-58ae1d623ce5');\n",
              "        const dataTable =\n",
              "          await google.colab.kernel.invokeFunction('convertToInteractive',\n",
              "                                                    [key], {});\n",
              "        if (!dataTable) return;\n",
              "\n",
              "        const docLinkHtml = 'Like what you see? Visit the ' +\n",
              "          '<a target=\"_blank\" href=https://colab.research.google.com/notebooks/data_table.ipynb>data table notebook</a>'\n",
              "          + ' to learn more about interactive tables.';\n",
              "        element.innerHTML = '';\n",
              "        dataTable['output_type'] = 'display_data';\n",
              "        await google.colab.output.renderOutput(dataTable, element);\n",
              "        const docLink = document.createElement('div');\n",
              "        docLink.innerHTML = docLinkHtml;\n",
              "        element.appendChild(docLink);\n",
              "      }\n",
              "    </script>\n",
              "  </div>\n",
              "\n",
              "\n",
              "<div id=\"df-be676279-28c5-49ef-9aab-533236ca91ce\">\n",
              "  <button class=\"colab-df-quickchart\" onclick=\"quickchart('df-be676279-28c5-49ef-9aab-533236ca91ce')\"\n",
              "            title=\"Suggest charts\"\n",
              "            style=\"display:none;\">\n",
              "\n",
              "<svg xmlns=\"http://www.w3.org/2000/svg\" height=\"24px\"viewBox=\"0 0 24 24\"\n",
              "     width=\"24px\">\n",
              "    <g>\n",
              "        <path d=\"M19 3H5c-1.1 0-2 .9-2 2v14c0 1.1.9 2 2 2h14c1.1 0 2-.9 2-2V5c0-1.1-.9-2-2-2zM9 17H7v-7h2v7zm4 0h-2V7h2v10zm4 0h-2v-4h2v4z\"/>\n",
              "    </g>\n",
              "</svg>\n",
              "  </button>\n",
              "\n",
              "<style>\n",
              "  .colab-df-quickchart {\n",
              "      --bg-color: #E8F0FE;\n",
              "      --fill-color: #1967D2;\n",
              "      --hover-bg-color: #E2EBFA;\n",
              "      --hover-fill-color: #174EA6;\n",
              "      --disabled-fill-color: #AAA;\n",
              "      --disabled-bg-color: #DDD;\n",
              "  }\n",
              "\n",
              "  [theme=dark] .colab-df-quickchart {\n",
              "      --bg-color: #3B4455;\n",
              "      --fill-color: #D2E3FC;\n",
              "      --hover-bg-color: #434B5C;\n",
              "      --hover-fill-color: #FFFFFF;\n",
              "      --disabled-bg-color: #3B4455;\n",
              "      --disabled-fill-color: #666;\n",
              "  }\n",
              "\n",
              "  .colab-df-quickchart {\n",
              "    background-color: var(--bg-color);\n",
              "    border: none;\n",
              "    border-radius: 50%;\n",
              "    cursor: pointer;\n",
              "    display: none;\n",
              "    fill: var(--fill-color);\n",
              "    height: 32px;\n",
              "    padding: 0;\n",
              "    width: 32px;\n",
              "  }\n",
              "\n",
              "  .colab-df-quickchart:hover {\n",
              "    background-color: var(--hover-bg-color);\n",
              "    box-shadow: 0 1px 2px rgba(60, 64, 67, 0.3), 0 1px 3px 1px rgba(60, 64, 67, 0.15);\n",
              "    fill: var(--button-hover-fill-color);\n",
              "  }\n",
              "\n",
              "  .colab-df-quickchart-complete:disabled,\n",
              "  .colab-df-quickchart-complete:disabled:hover {\n",
              "    background-color: var(--disabled-bg-color);\n",
              "    fill: var(--disabled-fill-color);\n",
              "    box-shadow: none;\n",
              "  }\n",
              "\n",
              "  .colab-df-spinner {\n",
              "    border: 2px solid var(--fill-color);\n",
              "    border-color: transparent;\n",
              "    border-bottom-color: var(--fill-color);\n",
              "    animation:\n",
              "      spin 1s steps(1) infinite;\n",
              "  }\n",
              "\n",
              "  @keyframes spin {\n",
              "    0% {\n",
              "      border-color: transparent;\n",
              "      border-bottom-color: var(--fill-color);\n",
              "      border-left-color: var(--fill-color);\n",
              "    }\n",
              "    20% {\n",
              "      border-color: transparent;\n",
              "      border-left-color: var(--fill-color);\n",
              "      border-top-color: var(--fill-color);\n",
              "    }\n",
              "    30% {\n",
              "      border-color: transparent;\n",
              "      border-left-color: var(--fill-color);\n",
              "      border-top-color: var(--fill-color);\n",
              "      border-right-color: var(--fill-color);\n",
              "    }\n",
              "    40% {\n",
              "      border-color: transparent;\n",
              "      border-right-color: var(--fill-color);\n",
              "      border-top-color: var(--fill-color);\n",
              "    }\n",
              "    60% {\n",
              "      border-color: transparent;\n",
              "      border-right-color: var(--fill-color);\n",
              "    }\n",
              "    80% {\n",
              "      border-color: transparent;\n",
              "      border-right-color: var(--fill-color);\n",
              "      border-bottom-color: var(--fill-color);\n",
              "    }\n",
              "    90% {\n",
              "      border-color: transparent;\n",
              "      border-bottom-color: var(--fill-color);\n",
              "    }\n",
              "  }\n",
              "</style>\n",
              "\n",
              "  <script>\n",
              "    async function quickchart(key) {\n",
              "      const quickchartButtonEl =\n",
              "        document.querySelector('#' + key + ' button');\n",
              "      quickchartButtonEl.disabled = true;  // To prevent multiple clicks.\n",
              "      quickchartButtonEl.classList.add('colab-df-spinner');\n",
              "      try {\n",
              "        const charts = await google.colab.kernel.invokeFunction(\n",
              "            'suggestCharts', [key], {});\n",
              "      } catch (error) {\n",
              "        console.error('Error during call to suggestCharts:', error);\n",
              "      }\n",
              "      quickchartButtonEl.classList.remove('colab-df-spinner');\n",
              "      quickchartButtonEl.classList.add('colab-df-quickchart-complete');\n",
              "    }\n",
              "    (() => {\n",
              "      let quickchartButtonEl =\n",
              "        document.querySelector('#df-be676279-28c5-49ef-9aab-533236ca91ce button');\n",
              "      quickchartButtonEl.style.display =\n",
              "        google.colab.kernel.accessAllowed ? 'block' : 'none';\n",
              "    })();\n",
              "  </script>\n",
              "</div>\n",
              "\n",
              "    </div>\n",
              "  </div>\n"
            ],
            "application/vnd.google.colaboratory.intrinsic+json": {
              "type": "dataframe",
              "summary": "{\n  \"name\": \"df[['MntTotal','MntWines','MntFruits','MntMeatProducts','MntFishProducts','MntSweetProducts','MntGoldProds']]\",\n  \"rows\": 2240,\n  \"fields\": [\n    {\n      \"column\": \"MntTotal\",\n      \"properties\": {\n        \"dtype\": \"number\",\n        \"std\": 602,\n        \"min\": 5,\n        \"max\": 2525,\n        \"num_unique_values\": 1054,\n        \"samples\": [\n          160,\n          1822,\n          1019\n        ],\n        \"semantic_type\": \"\",\n        \"description\": \"\"\n      }\n    },\n    {\n      \"column\": \"MntWines\",\n      \"properties\": {\n        \"dtype\": \"number\",\n        \"std\": 336,\n        \"min\": 0,\n        \"max\": 1493,\n        \"num_unique_values\": 776,\n        \"samples\": [\n          623,\n          581,\n          458\n        ],\n        \"semantic_type\": \"\",\n        \"description\": \"\"\n      }\n    },\n    {\n      \"column\": \"MntFruits\",\n      \"properties\": {\n        \"dtype\": \"number\",\n        \"std\": 39,\n        \"min\": 0,\n        \"max\": 199,\n        \"num_unique_values\": 158,\n        \"samples\": [\n          199,\n          172,\n          108\n        ],\n        \"semantic_type\": \"\",\n        \"description\": \"\"\n      }\n    },\n    {\n      \"column\": \"MntMeatProducts\",\n      \"properties\": {\n        \"dtype\": \"number\",\n        \"std\": 225,\n        \"min\": 0,\n        \"max\": 1725,\n        \"num_unique_values\": 558,\n        \"samples\": [\n          215,\n          984,\n          309\n        ],\n        \"semantic_type\": \"\",\n        \"description\": \"\"\n      }\n    },\n    {\n      \"column\": \"MntFishProducts\",\n      \"properties\": {\n        \"dtype\": \"number\",\n        \"std\": 54,\n        \"min\": 0,\n        \"max\": 259,\n        \"num_unique_values\": 182,\n        \"samples\": [\n          20,\n          110,\n          158\n        ],\n        \"semantic_type\": \"\",\n        \"description\": \"\"\n      }\n    },\n    {\n      \"column\": \"MntSweetProducts\",\n      \"properties\": {\n        \"dtype\": \"number\",\n        \"std\": 41,\n        \"min\": 0,\n        \"max\": 263,\n        \"num_unique_values\": 177,\n        \"samples\": [\n          263,\n          132,\n          157\n        ],\n        \"semantic_type\": \"\",\n        \"description\": \"\"\n      }\n    },\n    {\n      \"column\": \"MntGoldProds\",\n      \"properties\": {\n        \"dtype\": \"number\",\n        \"std\": 52,\n        \"min\": 0,\n        \"max\": 362,\n        \"num_unique_values\": 213,\n        \"samples\": [\n          13,\n          128,\n          172\n        ],\n        \"semantic_type\": \"\",\n        \"description\": \"\"\n      }\n    }\n  ]\n}"
            }
          },
          "metadata": {},
          "execution_count": 52
        }
      ]
    },
    {
      "cell_type": "code",
      "source": [
        "df.boxplot(column=\"MntTotal\", by=\"Age_Group\")\n"
      ],
      "metadata": {
        "colab": {
          "base_uri": "https://localhost:8080/",
          "height": 495
        },
        "id": "1VpiSVm5bT7p",
        "outputId": "a2b02890-3c8b-49f6-9b0e-e0728369be85"
      },
      "execution_count": null,
      "outputs": [
        {
          "output_type": "execute_result",
          "data": {
            "text/plain": [
              "<Axes: title={'center': 'MntTotal'}, xlabel='Age_Group'>"
            ]
          },
          "metadata": {},
          "execution_count": 53
        },
        {
          "output_type": "display_data",
          "data": {
            "text/plain": [
              "<Figure size 640x480 with 1 Axes>"
            ],
            "image/png": "[encoded data removed]"
          },
          "metadata": {}
        }
      ]
    }
  ]
}
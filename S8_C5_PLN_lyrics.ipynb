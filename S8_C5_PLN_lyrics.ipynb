{
  "nbformat": 4,
  "nbformat_minor": 0,
  "metadata": {
    "colab": {
      "provenance": [],
      "include_colab_link": true
    },
    "kernelspec": {
      "name": "python3",
      "display_name": "Python 3"
    },
    "language_info": {
      "name": "python"
    }
  },
  "cells": [
    {
      "cell_type": "markdown",
      "metadata": {
        "id": "view-in-github",
        "colab_type": "text"
      },
      "source": [
        "<a href=\"https://colab.research.google.com/github/Liam-Nova/BIT_IA_Bootcamp/blob/main/S8_C5_PLN_lyrics.ipynb\" target=\"_parent\"><img src=\"https://colab.research.google.com/assets/colab-badge.svg\" alt=\"Open In Colab\"/></a>"
      ]
    },
    {
      "cell_type": "code",
      "source": [
        "import pandas as pd"
      ],
      "metadata": {
        "id": "LN5uMSP3meBJ"
      },
      "execution_count": 1,
      "outputs": []
    },
    {
      "cell_type": "code",
      "source": [
        "# Sirve para trabajar con textos en español\n",
        "!python -m spacy download es_core_news_sm"
      ],
      "metadata": {
        "colab": {
          "base_uri": "https://localhost:8080/"
        },
        "id": "VL4OFsgeuF4y",
        "outputId": "e3895aeb-b0f3-4fc3-d737-b7e8207bf683"
      },
      "execution_count": 2,
      "outputs": [
        {
          "output_type": "stream",
          "name": "stdout",
          "text": [
            "Collecting es-core-news-sm==3.7.0\n",
            "  Downloading https://github.com/explosion/spacy-models/releases/download/es_core_news_sm-3.7.0/es_core_news_sm-3.7.0-py3-none-any.whl (12.9 MB)\n",
            "\u001b[2K     \u001b[90m━━━━━━━━━━━━━━━━━━━━━━━━━━━━━━━━━━━━━━━━\u001b[0m \u001b[32m12.9/12.9 MB\u001b[0m \u001b[31m80.7 MB/s\u001b[0m eta \u001b[36m0:00:00\u001b[0m\n",
            "\u001b[?25hRequirement already satisfied: spacy<3.8.0,>=3.7.0 in /usr/local/lib/python3.10/dist-packages (from es-core-news-sm==3.7.0) (3.7.5)\n",
            "Requirement already satisfied: spacy-legacy<3.1.0,>=3.0.11 in /usr/local/lib/python3.10/dist-packages (from spacy<3.8.0,>=3.7.0->es-core-news-sm==3.7.0) (3.0.12)\n",
            "Requirement already satisfied: spacy-loggers<2.0.0,>=1.0.0 in /usr/local/lib/python3.10/dist-packages (from spacy<3.8.0,>=3.7.0->es-core-news-sm==3.7.0) (1.0.5)\n",
            "Requirement already satisfied: murmurhash<1.1.0,>=0.28.0 in /usr/local/lib/python3.10/dist-packages (from spacy<3.8.0,>=3.7.0->es-core-news-sm==3.7.0) (1.0.10)\n",
            "Requirement already satisfied: cymem<2.1.0,>=2.0.2 in /usr/local/lib/python3.10/dist-packages (from spacy<3.8.0,>=3.7.0->es-core-news-sm==3.7.0) (2.0.8)\n",
            "Requirement already satisfied: preshed<3.1.0,>=3.0.2 in /usr/local/lib/python3.10/dist-packages (from spacy<3.8.0,>=3.7.0->es-core-news-sm==3.7.0) (3.0.9)\n",
            "Requirement already satisfied: thinc<8.3.0,>=8.2.2 in /usr/local/lib/python3.10/dist-packages (from spacy<3.8.0,>=3.7.0->es-core-news-sm==3.7.0) (8.2.5)\n",
            "Requirement already satisfied: wasabi<1.2.0,>=0.9.1 in /usr/local/lib/python3.10/dist-packages (from spacy<3.8.0,>=3.7.0->es-core-news-sm==3.7.0) (1.1.3)\n",
            "Requirement already satisfied: srsly<3.0.0,>=2.4.3 in /usr/local/lib/python3.10/dist-packages (from spacy<3.8.0,>=3.7.0->es-core-news-sm==3.7.0) (2.4.8)\n",
            "Requirement already satisfied: catalogue<2.1.0,>=2.0.6 in /usr/local/lib/python3.10/dist-packages (from spacy<3.8.0,>=3.7.0->es-core-news-sm==3.7.0) (2.0.10)\n",
            "Requirement already satisfied: weasel<0.5.0,>=0.1.0 in /usr/local/lib/python3.10/dist-packages (from spacy<3.8.0,>=3.7.0->es-core-news-sm==3.7.0) (0.4.1)\n",
            "Requirement already satisfied: typer<1.0.0,>=0.3.0 in /usr/local/lib/python3.10/dist-packages (from spacy<3.8.0,>=3.7.0->es-core-news-sm==3.7.0) (0.13.0)\n",
            "Requirement already satisfied: tqdm<5.0.0,>=4.38.0 in /usr/local/lib/python3.10/dist-packages (from spacy<3.8.0,>=3.7.0->es-core-news-sm==3.7.0) (4.66.6)\n",
            "Requirement already satisfied: requests<3.0.0,>=2.13.0 in /usr/local/lib/python3.10/dist-packages (from spacy<3.8.0,>=3.7.0->es-core-news-sm==3.7.0) (2.32.3)\n",
            "Requirement already satisfied: pydantic!=1.8,!=1.8.1,<3.0.0,>=1.7.4 in /usr/local/lib/python3.10/dist-packages (from spacy<3.8.0,>=3.7.0->es-core-news-sm==3.7.0) (2.9.2)\n",
            "Requirement already satisfied: jinja2 in /usr/local/lib/python3.10/dist-packages (from spacy<3.8.0,>=3.7.0->es-core-news-sm==3.7.0) (3.1.4)\n",
            "Requirement already satisfied: setuptools in /usr/local/lib/python3.10/dist-packages (from spacy<3.8.0,>=3.7.0->es-core-news-sm==3.7.0) (75.1.0)\n",
            "Requirement already satisfied: packaging>=20.0 in /usr/local/lib/python3.10/dist-packages (from spacy<3.8.0,>=3.7.0->es-core-news-sm==3.7.0) (24.2)\n",
            "Requirement already satisfied: langcodes<4.0.0,>=3.2.0 in /usr/local/lib/python3.10/dist-packages (from spacy<3.8.0,>=3.7.0->es-core-news-sm==3.7.0) (3.4.1)\n",
            "Requirement already satisfied: numpy>=1.19.0 in /usr/local/lib/python3.10/dist-packages (from spacy<3.8.0,>=3.7.0->es-core-news-sm==3.7.0) (1.26.4)\n",
            "Requirement already satisfied: language-data>=1.2 in /usr/local/lib/python3.10/dist-packages (from langcodes<4.0.0,>=3.2.0->spacy<3.8.0,>=3.7.0->es-core-news-sm==3.7.0) (1.2.0)\n",
            "Requirement already satisfied: annotated-types>=0.6.0 in /usr/local/lib/python3.10/dist-packages (from pydantic!=1.8,!=1.8.1,<3.0.0,>=1.7.4->spacy<3.8.0,>=3.7.0->es-core-news-sm==3.7.0) (0.7.0)\n",
            "Requirement already satisfied: pydantic-core==2.23.4 in /usr/local/lib/python3.10/dist-packages (from pydantic!=1.8,!=1.8.1,<3.0.0,>=1.7.4->spacy<3.8.0,>=3.7.0->es-core-news-sm==3.7.0) (2.23.4)\n",
            "Requirement already satisfied: typing-extensions>=4.6.1 in /usr/local/lib/python3.10/dist-packages (from pydantic!=1.8,!=1.8.1,<3.0.0,>=1.7.4->spacy<3.8.0,>=3.7.0->es-core-news-sm==3.7.0) (4.12.2)\n",
            "Requirement already satisfied: charset-normalizer<4,>=2 in /usr/local/lib/python3.10/dist-packages (from requests<3.0.0,>=2.13.0->spacy<3.8.0,>=3.7.0->es-core-news-sm==3.7.0) (3.4.0)\n",
            "Requirement already satisfied: idna<4,>=2.5 in /usr/local/lib/python3.10/dist-packages (from requests<3.0.0,>=2.13.0->spacy<3.8.0,>=3.7.0->es-core-news-sm==3.7.0) (3.10)\n",
            "Requirement already satisfied: urllib3<3,>=1.21.1 in /usr/local/lib/python3.10/dist-packages (from requests<3.0.0,>=2.13.0->spacy<3.8.0,>=3.7.0->es-core-news-sm==3.7.0) (2.2.3)\n",
            "Requirement already satisfied: certifi>=2017.4.17 in /usr/local/lib/python3.10/dist-packages (from requests<3.0.0,>=2.13.0->spacy<3.8.0,>=3.7.0->es-core-news-sm==3.7.0) (2024.8.30)\n",
            "Requirement already satisfied: blis<0.8.0,>=0.7.8 in /usr/local/lib/python3.10/dist-packages (from thinc<8.3.0,>=8.2.2->spacy<3.8.0,>=3.7.0->es-core-news-sm==3.7.0) (0.7.11)\n",
            "Requirement already satisfied: confection<1.0.0,>=0.0.1 in /usr/local/lib/python3.10/dist-packages (from thinc<8.3.0,>=8.2.2->spacy<3.8.0,>=3.7.0->es-core-news-sm==3.7.0) (0.1.5)\n",
            "Requirement already satisfied: click>=8.0.0 in /usr/local/lib/python3.10/dist-packages (from typer<1.0.0,>=0.3.0->spacy<3.8.0,>=3.7.0->es-core-news-sm==3.7.0) (8.1.7)\n",
            "Requirement already satisfied: shellingham>=1.3.0 in /usr/local/lib/python3.10/dist-packages (from typer<1.0.0,>=0.3.0->spacy<3.8.0,>=3.7.0->es-core-news-sm==3.7.0) (1.5.4)\n",
            "Requirement already satisfied: rich>=10.11.0 in /usr/local/lib/python3.10/dist-packages (from typer<1.0.0,>=0.3.0->spacy<3.8.0,>=3.7.0->es-core-news-sm==3.7.0) (13.9.4)\n",
            "Requirement already satisfied: cloudpathlib<1.0.0,>=0.7.0 in /usr/local/lib/python3.10/dist-packages (from weasel<0.5.0,>=0.1.0->spacy<3.8.0,>=3.7.0->es-core-news-sm==3.7.0) (0.20.0)\n",
            "Requirement already satisfied: smart-open<8.0.0,>=5.2.1 in /usr/local/lib/python3.10/dist-packages (from weasel<0.5.0,>=0.1.0->spacy<3.8.0,>=3.7.0->es-core-news-sm==3.7.0) (7.0.5)\n",
            "Requirement already satisfied: MarkupSafe>=2.0 in /usr/local/lib/python3.10/dist-packages (from jinja2->spacy<3.8.0,>=3.7.0->es-core-news-sm==3.7.0) (3.0.2)\n",
            "Requirement already satisfied: marisa-trie>=0.7.7 in /usr/local/lib/python3.10/dist-packages (from language-data>=1.2->langcodes<4.0.0,>=3.2.0->spacy<3.8.0,>=3.7.0->es-core-news-sm==3.7.0) (1.2.1)\n",
            "Requirement already satisfied: markdown-it-py>=2.2.0 in /usr/local/lib/python3.10/dist-packages (from rich>=10.11.0->typer<1.0.0,>=0.3.0->spacy<3.8.0,>=3.7.0->es-core-news-sm==3.7.0) (3.0.0)\n",
            "Requirement already satisfied: pygments<3.0.0,>=2.13.0 in /usr/local/lib/python3.10/dist-packages (from rich>=10.11.0->typer<1.0.0,>=0.3.0->spacy<3.8.0,>=3.7.0->es-core-news-sm==3.7.0) (2.18.0)\n",
            "Requirement already satisfied: wrapt in /usr/local/lib/python3.10/dist-packages (from smart-open<8.0.0,>=5.2.1->weasel<0.5.0,>=0.1.0->spacy<3.8.0,>=3.7.0->es-core-news-sm==3.7.0) (1.16.0)\n",
            "Requirement already satisfied: mdurl~=0.1 in /usr/local/lib/python3.10/dist-packages (from markdown-it-py>=2.2.0->rich>=10.11.0->typer<1.0.0,>=0.3.0->spacy<3.8.0,>=3.7.0->es-core-news-sm==3.7.0) (0.1.2)\n",
            "\u001b[38;5;2m✔ Download and installation successful\u001b[0m\n",
            "You can now load the package via spacy.load('es_core_news_sm')\n",
            "\u001b[38;5;3m⚠ Restart to reload dependencies\u001b[0m\n",
            "If you are in a Jupyter or Colab notebook, you may need to restart Python in\n",
            "order to load all the package's dependencies. You can do this by selecting the\n",
            "'Restart kernel' or 'Restart runtime' option.\n"
          ]
        }
      ]
    },
    {
      "cell_type": "markdown",
      "source": [
        "# MiniReto: Agrupar las letras de las canciones por género"
      ],
      "metadata": {
        "id": "AMXbiQg7m4TV"
      }
    },
    {
      "cell_type": "code",
      "execution_count": 60,
      "metadata": {
        "colab": {
          "base_uri": "https://localhost:8080/"
        },
        "id": "In-13cw2ilkE",
        "outputId": "d713271d-0e08-4d1b-be0f-7ed4d7b8c657"
      },
      "outputs": [
        {
          "output_type": "stream",
          "name": "stdout",
          "text": [
            "<class 'pandas.core.frame.DataFrame'>\n",
            "RangeIndex: 208 entries, 0 to 207\n",
            "Data columns (total 2 columns):\n",
            " #   Column  Non-Null Count  Dtype \n",
            "---  ------  --------------  ----- \n",
            " 0   lyrics  208 non-null    object\n",
            " 1   label   208 non-null    object\n",
            "dtypes: object(2)\n",
            "memory usage: 3.4+ KB\n"
          ]
        }
      ],
      "source": [
        "url  = \"https://raw.githubusercontent.com/it-ces/Datasets/main/lyrics-label.txt\"\n",
        "df = pd.read_csv(url)\n",
        "df.info()"
      ]
    },
    {
      "cell_type": "code",
      "source": [
        "df['label'].unique()"
      ],
      "metadata": {
        "colab": {
          "base_uri": "https://localhost:8080/"
        },
        "id": "rr1hzfW9mwNA",
        "outputId": "7ec684ed-2884-441a-de85-d7b5c7755185"
      },
      "execution_count": 61,
      "outputs": [
        {
          "output_type": "execute_result",
          "data": {
            "text/plain": [
              "array(['Vallenato', 'Ranchera'], dtype=object)"
            ]
          },
          "metadata": {},
          "execution_count": 61
        }
      ]
    },
    {
      "cell_type": "markdown",
      "source": [
        "# Pruebas individuales\n",
        "\n",
        "* Bajar Texto a minuscula\n",
        "* Eliminar saltor de línea (\\n)\n",
        "* Eliminar conectores\n",
        "* Eliminar palabras específicas (bis)"
      ],
      "metadata": {
        "id": "e5IBKD8pn3dU"
      }
    },
    {
      "cell_type": "code",
      "source": [
        "df['lyrics'][0]"
      ],
      "metadata": {
        "colab": {
          "base_uri": "https://localhost:8080/",
          "height": 192
        },
        "id": "FWTPWk77o0cv",
        "outputId": "d3cc083f-7f67-4648-8ebe-79d5ea86d82c"
      },
      "execution_count": 62,
      "outputs": [
        {
          "output_type": "execute_result",
          "data": {
            "text/plain": [
              "'Oye morenita te vas a quedar muy sola\\nporque anoche dijo el radio\\nque abrieron el Liceo\\nComo es estudiante\\nya se va Escalona\\npero de recuerdo te dejó un paseo (bis)\\n\\nQue te habla...\"de aquel inmenso amor\"\\nQue llevo... \"dentro del corazón\"\\ny dice...\"todo lo que yo siento\"\\nque es pura...\"pasión y sentimiento\"\\ncantando con el lenguaje grato\\nque tiene la tierra ´e Pedro Castro (bis)\\n\\nAdiós morenita me voy por la madrugada\\nno quiero que me llores\\nporque me da dolor,\\npaso por valencia\\ncojo la sabana,\\nCaracolicito y llegó a Fundación (bis)\\n\\nY entonces...\"me tengo que meter\"\\nen un diablo...\"al que le llaman tren\"\\nay, que sale...\"por toá la zona pasa\"\\ny de tarde... \"se mete a Santa Marta\",\\nque sale por to´a la zona pasa\\ny de tarde se mete a Santa Marta (bis).\\n\\nEse orgullo que tú tienes no es muy bueno\\nte juro que que más tarde te vas a arrepentir,\\nyo sólo he querido dejarte un recuerdo\\nporque en Santa Marta me puedo morir.\\n\\nY entonces... \"me tienes que llorar\"\\ny de ñapa...\"te tienes que poner\"\\ntraje negro... \"aunque no gustes de él\"\\ny entonces te vas a arrepentir\\nde lo mucho que me hiciste sufrir (bis).\\n'"
            ],
            "application/vnd.google.colaboratory.intrinsic+json": {
              "type": "string"
            }
          },
          "metadata": {},
          "execution_count": 62
        }
      ]
    },
    {
      "cell_type": "code",
      "source": [
        "texto_prueba = \" Liceo\\nComo es estudiante\\nya se va Escalona\\npero de recuerdo te dejó un paseo (bis)\\n\\nQue te habla...\""
      ],
      "metadata": {
        "id": "cQJSZ2Fpppyl"
      },
      "execution_count": 63,
      "outputs": []
    },
    {
      "cell_type": "code",
      "source": [
        "import re\n",
        "# elimina (bis) y (\\n)"
      ],
      "metadata": {
        "id": "bwd2Xt_8usUM"
      },
      "execution_count": 64,
      "outputs": []
    },
    {
      "cell_type": "code",
      "source": [
        "texto_minus = texto_prueba.lower() # .lower para hacer las letras minusculas\n",
        "texto_procesado = re.sub('\\n', ' ', texto_minus) # remplaza un salto de linea por un espacio\n",
        "# Eliminar los espacios dobles\n",
        "#texto_procesado = re.sub('\\s+', ' ', texto_procesado)\n",
        "texto_procesado = re.sub('  ', ' ', re.sub('\\n', ' ', texto_minus))\n",
        "texto_procesado = re.sub(r\"\\s*\\(bis\\)\", '', texto_procesado)\n",
        "\n",
        "texto_procesado"
      ],
      "metadata": {
        "colab": {
          "base_uri": "https://localhost:8080/",
          "height": 36
        },
        "id": "5h4SMfvJvFiw",
        "outputId": "37bdff16-050e-4d8f-b22d-6b3ea3d59042"
      },
      "execution_count": 65,
      "outputs": [
        {
          "output_type": "execute_result",
          "data": {
            "text/plain": [
              "' liceo como es estudiante ya se va escalona pero de recuerdo te dejó un paseo que te habla...'"
            ],
            "application/vnd.google.colaboratory.intrinsic+json": {
              "type": "string"
            }
          },
          "metadata": {},
          "execution_count": 65
        }
      ]
    },
    {
      "cell_type": "code",
      "source": [
        "def pre_clean(texto_prueba):\n",
        "  texto_minus = texto_prueba.lower() # .lower para hacer las letras minusculas\n",
        "  texto_procesado = re.sub('\\n', ' ', texto_minus) # remplaza un salto de linea por un espacio\n",
        "  # Eliminar los espacios dobles\n",
        "  #texto_procesado = re.sub('\\s+', ' ', texto_procesado)\n",
        "  texto_procesado = re.sub('  ', ' ', re.sub('\\n', ' ', texto_minus))\n",
        "  texto_procesado = re.sub(r\"\\s*\\(bis\\)\", '', texto_procesado)\n",
        "  return texto_procesado"
      ],
      "metadata": {
        "id": "RCJkTda-zZh7"
      },
      "execution_count": 66,
      "outputs": []
    },
    {
      "cell_type": "code",
      "source": [
        "import spacy\n",
        "from nltk.stem import WordNetLemmatizer\n",
        "from nltk.corpus import stopwords\n",
        "import nltk"
      ],
      "metadata": {
        "id": "LIrtuZsp0TKA"
      },
      "execution_count": 67,
      "outputs": []
    },
    {
      "cell_type": "code",
      "source": [
        "nlp = spacy.load('es_core_news_sm')"
      ],
      "metadata": {
        "id": "V_XZ3Gty1kwr"
      },
      "execution_count": 68,
      "outputs": []
    },
    {
      "cell_type": "code",
      "source": [
        "def clean_text(text):\n",
        "  text = nlp(text)\n",
        "  text = ' '.join([token.lemma_ for token in text if not token.is_stop and not token.is_punct])\n",
        "  return text\n"
      ],
      "metadata": {
        "id": "isgba6r00J9q"
      },
      "execution_count": 69,
      "outputs": []
    },
    {
      "cell_type": "code",
      "source": [
        "clean_text(texto_procesado)"
      ],
      "metadata": {
        "colab": {
          "base_uri": "https://localhost:8080/",
          "height": 36
        },
        "id": "UMQeIcRs1yeu",
        "outputId": "76ecd519-2a62-45a7-be44-0a3e1bf1d3b7"
      },
      "execution_count": 70,
      "outputs": [
        {
          "output_type": "execute_result",
          "data": {
            "text/plain": [
              "'  liceo estudiante escalonar recuerdo paseo'"
            ],
            "application/vnd.google.colaboratory.intrinsic+json": {
              "type": "string"
            }
          },
          "metadata": {},
          "execution_count": 70
        }
      ]
    },
    {
      "cell_type": "code",
      "source": [
        "clean_text(texto_prueba)"
      ],
      "metadata": {
        "colab": {
          "base_uri": "https://localhost:8080/",
          "height": 36
        },
        "id": "PBbHy_kk2DMK",
        "outputId": "add914c3-44c4-4c25-c167-339f73305d9c"
      },
      "execution_count": 71,
      "outputs": [
        {
          "output_type": "execute_result",
          "data": {
            "text/plain": [
              "'  Liceo \\n estudiante \\n Escalona \\n recuerdo paseo bis \\n\\n'"
            ],
            "application/vnd.google.colaboratory.intrinsic+json": {
              "type": "string"
            }
          },
          "metadata": {},
          "execution_count": 71
        }
      ]
    },
    {
      "cell_type": "code",
      "source": [
        "df['lyrics'][0]"
      ],
      "metadata": {
        "colab": {
          "base_uri": "https://localhost:8080/",
          "height": 192
        },
        "id": "ij4o15u74GpD",
        "outputId": "739eb70f-d9ff-409e-d006-97d91e057ad0"
      },
      "execution_count": 72,
      "outputs": [
        {
          "output_type": "execute_result",
          "data": {
            "text/plain": [
              "'Oye morenita te vas a quedar muy sola\\nporque anoche dijo el radio\\nque abrieron el Liceo\\nComo es estudiante\\nya se va Escalona\\npero de recuerdo te dejó un paseo (bis)\\n\\nQue te habla...\"de aquel inmenso amor\"\\nQue llevo... \"dentro del corazón\"\\ny dice...\"todo lo que yo siento\"\\nque es pura...\"pasión y sentimiento\"\\ncantando con el lenguaje grato\\nque tiene la tierra ´e Pedro Castro (bis)\\n\\nAdiós morenita me voy por la madrugada\\nno quiero que me llores\\nporque me da dolor,\\npaso por valencia\\ncojo la sabana,\\nCaracolicito y llegó a Fundación (bis)\\n\\nY entonces...\"me tengo que meter\"\\nen un diablo...\"al que le llaman tren\"\\nay, que sale...\"por toá la zona pasa\"\\ny de tarde... \"se mete a Santa Marta\",\\nque sale por to´a la zona pasa\\ny de tarde se mete a Santa Marta (bis).\\n\\nEse orgullo que tú tienes no es muy bueno\\nte juro que que más tarde te vas a arrepentir,\\nyo sólo he querido dejarte un recuerdo\\nporque en Santa Marta me puedo morir.\\n\\nY entonces... \"me tienes que llorar\"\\ny de ñapa...\"te tienes que poner\"\\ntraje negro... \"aunque no gustes de él\"\\ny entonces te vas a arrepentir\\nde lo mucho que me hiciste sufrir (bis).\\n'"
            ],
            "application/vnd.google.colaboratory.intrinsic+json": {
              "type": "string"
            }
          },
          "metadata": {},
          "execution_count": 72
        }
      ]
    },
    {
      "cell_type": "code",
      "source": [
        "texend = clean_text(df['lyrics'][0])\n",
        "testores = pre_clean(texend)\n",
        "testores"
      ],
      "metadata": {
        "colab": {
          "base_uri": "https://localhost:8080/",
          "height": 123
        },
        "id": "E5yeyOnw2R3S",
        "outputId": "40ad14e3-890c-4af1-839a-6974a6c6a29e"
      },
      "execution_count": 73,
      "outputs": [
        {
          "output_type": "execute_result",
          "data": {
            "text/plain": [
              "'oye morenitar ir quedar  anoche radio  abrir liceo  estudiante  escalona  recuerdo paseo bis  \"de inmenso amor  llevar corazón  \"todo sentir  puro \"pasión sentimiento  cantar lenguaje grato  tierra ´ pedro castro bis  adiós morenita madrugada  querer llorser  dolor  paso valencia  cojo sabana  caracolicito fundación bis  \"me meter  diablo \"al llamar trar  ay salir \"por toá zona pasar  meter santa marta  salir to´a zona pasar  meter santa marta bis  orgullo tener  jurar ir arrepentir  querer dejar tú recuerdo  santa marta morir  tener llorar  ñapa \"te tener  traje negro gust  ir arrepentir  hiciste sufrir bis '"
            ],
            "application/vnd.google.colaboratory.intrinsic+json": {
              "type": "string"
            }
          },
          "metadata": {},
          "execution_count": 73
        }
      ]
    },
    {
      "cell_type": "code",
      "source": [
        "testores = pre_clean(df['lyrics'][0])\n",
        "texend = clean_text(testores)\n",
        "texend"
      ],
      "metadata": {
        "colab": {
          "base_uri": "https://localhost:8080/",
          "height": 123
        },
        "id": "xsYRXRyt24Nm",
        "outputId": "2b244d5b-9e75-41e8-d396-e7037434f9fe"
      },
      "execution_count": 74,
      "outputs": [
        {
          "output_type": "execute_result",
          "data": {
            "text/plain": [
              "'oir morenita ir quedar anoche radio abrir liceo estudiante escalonar recuerdo paseo \"de inmenso amor llevar corazón \"todo sentir puro \"pasión sentimiento cantar lenguaje grato tierra ´ pedro castro adiós morenita madrugada querer llores dolor paso valencia cojo sabana caracolicito fundación \"me meter diablo \"al llamar trar ay salir \"por toá zona pasar meter santa marta salir to´a zona pasar meter santa marta orgullo tener jurar ir arrepentir querer dejar tú recuerdo santa marta morir tener llorar ñapa \"te tener traje negro gust ir arrepentir hiciste sufrir'"
            ],
            "application/vnd.google.colaboratory.intrinsic+json": {
              "type": "string"
            }
          },
          "metadata": {},
          "execution_count": 74
        }
      ]
    },
    {
      "cell_type": "markdown",
      "source": [
        "# PARTE 1. Limpieza de la columna 'lyrics'"
      ],
      "metadata": {
        "id": "mpmeFdPf4PIm"
      }
    },
    {
      "cell_type": "code",
      "source": [
        "df['lyrics_clean'] = df['lyrics'].apply(lambda x: clean_text(pre_clean(x)))"
      ],
      "metadata": {
        "id": "LpJHUHN_6njC"
      },
      "execution_count": null,
      "outputs": []
    },
    {
      "cell_type": "code",
      "source": [
        "df['lyrics'][53]"
      ],
      "metadata": {
        "colab": {
          "base_uri": "https://localhost:8080/",
          "height": 123
        },
        "id": "svYTYenM53x4",
        "outputId": "4017c11a-d445-47e6-c2ed-4184c3f9cb76"
      },
      "execution_count": 80,
      "outputs": [
        {
          "output_type": "execute_result",
          "data": {
            "text/plain": [
              "'Anhelos tengo de verte vida mía\\nAnhelos de sentirte cerca de mí\\nAnhelos de besarte noche y día\\n\\nY es que mi amor solo existe para ti\\nTú fuiste la ilusión de un hombre joven\\nSin experiencia en las reglas del amor\\nQue como un tonto cayó bajo tus redes\\nTendidas con engaño y con traición\\n\\nSi los anhelos se cumplen\\nSe curarán las heridas\\nDe un alma triste y sentida\\nQue es por tu causa que sufre\\n\\nSi los anhelos se cumplen\\nSe curarán las heridas\\nDe un alma triste y sentida\\nQue es por tu causa que sufre\\n\\nSi los anhelos se cumplen\\nSe curarán las heridas\\nDe un alma triste y sentida\\nQue es por tu causa que sufre\\n'"
            ],
            "application/vnd.google.colaboratory.intrinsic+json": {
              "type": "string"
            }
          },
          "metadata": {},
          "execution_count": 80
        }
      ]
    },
    {
      "cell_type": "code",
      "source": [
        "df['lyrics_clean'][53]\n"
      ],
      "metadata": {
        "colab": {
          "base_uri": "https://localhost:8080/",
          "height": 88
        },
        "id": "Eol4oDU34Wf5",
        "outputId": "56919c98-9e9f-4c0b-905e-781508b86655"
      },
      "execution_count": 81,
      "outputs": [
        {
          "output_type": "execute_result",
          "data": {
            "text/plain": [
              "'anhelo verte vida anhelo sentirte cerca anhelo besarte noche amor fuistir ilusión hombre joven experiencia regla amor tonto caer red tendido engaño traición anhelo cumplir curar herida alma triste sentido causa sufrir anhelo cumplir curar herida alma triste sentido causa sufrir anhelo cumplir curar herida alma triste sentido causa sufrir'"
            ],
            "application/vnd.google.colaboratory.intrinsic+json": {
              "type": "string"
            }
          },
          "metadata": {},
          "execution_count": 81
        }
      ]
    },
    {
      "cell_type": "code",
      "source": [
        "from sklearn.feature_extraction.text import TfidfVectorizer\n",
        "vectorizer = TfidfVectorizer()\n",
        "X = vectorizer.fit_transform(df['lyrics_clean']).toarray()"
      ],
      "metadata": {
        "id": "XfB6mv0N6ypx"
      },
      "execution_count": 85,
      "outputs": []
    },
    {
      "cell_type": "code",
      "source": [
        "from sklearn.cluster import KMeans\n",
        "import matplotlib.pyplot as plt"
      ],
      "metadata": {
        "id": "fj1FZ0_t77q3"
      },
      "execution_count": 86,
      "outputs": []
    },
    {
      "cell_type": "code",
      "source": [
        "km = KMeans(n_clusters=5,\n",
        "            init = 'random',\n",
        "            n_init = 12,\n",
        "            max_iter = 300,\n",
        "            tol = 1e-04,\n",
        "            random_state =(0) )\n",
        "y_km = km.fit_predict(X)\n",
        "\n",
        "plt.scatter(X[y_km == 0, 0], X[y_km == 0, 1], s = 40, c = 'red', label = 'Cluster 1')\n",
        "plt.scatter(X[y_km == 1, 0], X[y_km == 1, 1], s = 40, c = 'blue', label = 'Cluster 2')\n",
        "plt.scatter(X[y_km == 2, 0], X[y_km == 2, 1], s = 40, c = 'green', label = 'Cluster 3')\n",
        "plt.scatter(km.cluster_centers_[:, 0], km.cluster_centers_[:, 1], s = 100, c = 'yellow', label = 'Centroides')\n",
        "plt.title('Clusters de canciones')\n",
        "plt.xlabel('X')\n",
        "plt.ylabel('Y')\n",
        "plt.legend()\n",
        "plt.show()"
      ],
      "metadata": {
        "colab": {
          "base_uri": "https://localhost:8080/",
          "height": 472
        },
        "id": "LheiYJFg8DOs",
        "outputId": "114b0a83-512d-4b80-f3aa-61e5e8fab057"
      },
      "execution_count": 88,
      "outputs": [
        {
          "output_type": "display_data",
          "data": {
            "text/plain": [
              "<Figure size 640x480 with 1 Axes>"
            ],
            "image/png": "[encoded data removed]"
          },
          "metadata": {}
        }
      ]
    }
  ]
}
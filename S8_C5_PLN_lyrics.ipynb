{
  "nbformat": 4,
  "nbformat_minor": 0,
  "metadata": {
    "colab": {
      "provenance": [],
      "include_colab_link": true
    },
    "kernelspec": {
      "name": "python3",
      "display_name": "Python 3"
    },
    "language_info": {
      "name": "python"
    }
  },
  "cells": [
    {
      "cell_type": "markdown",
      "metadata": {
        "id": "view-in-github",
        "colab_type": "text"
      },
      "source": [
        "<a href=\"https://colab.research.google.com/github/Liam-Nova/BIT_IA_Bootcamp/blob/main/S8_C5_PLN_lyrics.ipynb\" target=\"_parent\"><img src=\"https://colab.research.google.com/assets/colab-badge.svg\" alt=\"Open In Colab\"/></a>"
      ]
    },
    {
      "cell_type": "code",
      "source": [
        "import pandas as pd"
      ],
      "metadata": {
        "id": "LN5uMSP3meBJ"
      },
      "execution_count": null,
      "outputs": []
    },
    {
      "cell_type": "code",
      "source": [
        "# Sirve para trabajar con textos en español\n",
        "!python -m spacy download es_core_news_sm"
      ],
      "metadata": {
        "colab": {
          "base_uri": "https://localhost:8080/"
        },
        "id": "VL4OFsgeuF4y",
        "outputId": "94defa6f-d4df-49ca-e639-3aa76d0afbfc"
      },
      "execution_count": null,
      "outputs": [
        {
          "output_type": "stream",
          "name": "stdout",
          "text": [
            "Collecting es-core-news-sm==3.7.0\n",
            "  Downloading https://github.com/explosion/spacy-models/releases/download/es_core_news_sm-3.7.0/es_core_news_sm-3.7.0-py3-none-any.whl (12.9 MB)\n",
            "\u001b[2K     \u001b[90m━━━━━━━━━━━━━━━━━━━━━━━━━━━━━━━━━━━━━━━━\u001b[0m \u001b[32m12.9/12.9 MB\u001b[0m \u001b[31m44.2 MB/s\u001b[0m eta \u001b[36m0:00:00\u001b[0m\n",
            "\u001b[?25hRequirement already satisfied: spacy<3.8.0,>=3.7.0 in /usr/local/lib/python3.10/dist-packages (from es-core-news-sm==3.7.0) (3.7.5)\n",
            "Requirement already satisfied: spacy-legacy<3.1.0,>=3.0.11 in /usr/local/lib/python3.10/dist-packages (from spacy<3.8.0,>=3.7.0->es-core-news-sm==3.7.0) (3.0.12)\n",
            "Requirement already satisfied: spacy-loggers<2.0.0,>=1.0.0 in /usr/local/lib/python3.10/dist-packages (from spacy<3.8.0,>=3.7.0->es-core-news-sm==3.7.0) (1.0.5)\n",
            "Requirement already satisfied: murmurhash<1.1.0,>=0.28.0 in /usr/local/lib/python3.10/dist-packages (from spacy<3.8.0,>=3.7.0->es-core-news-sm==3.7.0) (1.0.10)\n",
            "Requirement already satisfied: cymem<2.1.0,>=2.0.2 in /usr/local/lib/python3.10/dist-packages (from spacy<3.8.0,>=3.7.0->es-core-news-sm==3.7.0) (2.0.8)\n",
            "Requirement already satisfied: preshed<3.1.0,>=3.0.2 in /usr/local/lib/python3.10/dist-packages (from spacy<3.8.0,>=3.7.0->es-core-news-sm==3.7.0) (3.0.9)\n",
            "Requirement already satisfied: thinc<8.3.0,>=8.2.2 in /usr/local/lib/python3.10/dist-packages (from spacy<3.8.0,>=3.7.0->es-core-news-sm==3.7.0) (8.2.5)\n",
            "Requirement already satisfied: wasabi<1.2.0,>=0.9.1 in /usr/local/lib/python3.10/dist-packages (from spacy<3.8.0,>=3.7.0->es-core-news-sm==3.7.0) (1.1.3)\n",
            "Requirement already satisfied: srsly<3.0.0,>=2.4.3 in /usr/local/lib/python3.10/dist-packages (from spacy<3.8.0,>=3.7.0->es-core-news-sm==3.7.0) (2.4.8)\n",
            "Requirement already satisfied: catalogue<2.1.0,>=2.0.6 in /usr/local/lib/python3.10/dist-packages (from spacy<3.8.0,>=3.7.0->es-core-news-sm==3.7.0) (2.0.10)\n",
            "Requirement already satisfied: weasel<0.5.0,>=0.1.0 in /usr/local/lib/python3.10/dist-packages (from spacy<3.8.0,>=3.7.0->es-core-news-sm==3.7.0) (0.4.1)\n",
            "Requirement already satisfied: typer<1.0.0,>=0.3.0 in /usr/local/lib/python3.10/dist-packages (from spacy<3.8.0,>=3.7.0->es-core-news-sm==3.7.0) (0.13.0)\n",
            "Requirement already satisfied: tqdm<5.0.0,>=4.38.0 in /usr/local/lib/python3.10/dist-packages (from spacy<3.8.0,>=3.7.0->es-core-news-sm==3.7.0) (4.66.6)\n",
            "Requirement already satisfied: requests<3.0.0,>=2.13.0 in /usr/local/lib/python3.10/dist-packages (from spacy<3.8.0,>=3.7.0->es-core-news-sm==3.7.0) (2.32.3)\n",
            "Requirement already satisfied: pydantic!=1.8,!=1.8.1,<3.0.0,>=1.7.4 in /usr/local/lib/python3.10/dist-packages (from spacy<3.8.0,>=3.7.0->es-core-news-sm==3.7.0) (2.9.2)\n",
            "Requirement already satisfied: jinja2 in /usr/local/lib/python3.10/dist-packages (from spacy<3.8.0,>=3.7.0->es-core-news-sm==3.7.0) (3.1.4)\n",
            "Requirement already satisfied: setuptools in /usr/local/lib/python3.10/dist-packages (from spacy<3.8.0,>=3.7.0->es-core-news-sm==3.7.0) (75.1.0)\n",
            "Requirement already satisfied: packaging>=20.0 in /usr/local/lib/python3.10/dist-packages (from spacy<3.8.0,>=3.7.0->es-core-news-sm==3.7.0) (24.2)\n",
            "Requirement already satisfied: langcodes<4.0.0,>=3.2.0 in /usr/local/lib/python3.10/dist-packages (from spacy<3.8.0,>=3.7.0->es-core-news-sm==3.7.0) (3.4.1)\n",
            "Requirement already satisfied: numpy>=1.19.0 in /usr/local/lib/python3.10/dist-packages (from spacy<3.8.0,>=3.7.0->es-core-news-sm==3.7.0) (1.26.4)\n",
            "Requirement already satisfied: language-data>=1.2 in /usr/local/lib/python3.10/dist-packages (from langcodes<4.0.0,>=3.2.0->spacy<3.8.0,>=3.7.0->es-core-news-sm==3.7.0) (1.2.0)\n",
            "Requirement already satisfied: annotated-types>=0.6.0 in /usr/local/lib/python3.10/dist-packages (from pydantic!=1.8,!=1.8.1,<3.0.0,>=1.7.4->spacy<3.8.0,>=3.7.0->es-core-news-sm==3.7.0) (0.7.0)\n",
            "Requirement already satisfied: pydantic-core==2.23.4 in /usr/local/lib/python3.10/dist-packages (from pydantic!=1.8,!=1.8.1,<3.0.0,>=1.7.4->spacy<3.8.0,>=3.7.0->es-core-news-sm==3.7.0) (2.23.4)\n",
            "Requirement already satisfied: typing-extensions>=4.6.1 in /usr/local/lib/python3.10/dist-packages (from pydantic!=1.8,!=1.8.1,<3.0.0,>=1.7.4->spacy<3.8.0,>=3.7.0->es-core-news-sm==3.7.0) (4.12.2)\n",
            "Requirement already satisfied: charset-normalizer<4,>=2 in /usr/local/lib/python3.10/dist-packages (from requests<3.0.0,>=2.13.0->spacy<3.8.0,>=3.7.0->es-core-news-sm==3.7.0) (3.4.0)\n",
            "Requirement already satisfied: idna<4,>=2.5 in /usr/local/lib/python3.10/dist-packages (from requests<3.0.0,>=2.13.0->spacy<3.8.0,>=3.7.0->es-core-news-sm==3.7.0) (3.10)\n",
            "Requirement already satisfied: urllib3<3,>=1.21.1 in /usr/local/lib/python3.10/dist-packages (from requests<3.0.0,>=2.13.0->spacy<3.8.0,>=3.7.0->es-core-news-sm==3.7.0) (2.2.3)\n",
            "Requirement already satisfied: certifi>=2017.4.17 in /usr/local/lib/python3.10/dist-packages (from requests<3.0.0,>=2.13.0->spacy<3.8.0,>=3.7.0->es-core-news-sm==3.7.0) (2024.8.30)\n",
            "Requirement already satisfied: blis<0.8.0,>=0.7.8 in /usr/local/lib/python3.10/dist-packages (from thinc<8.3.0,>=8.2.2->spacy<3.8.0,>=3.7.0->es-core-news-sm==3.7.0) (0.7.11)\n",
            "Requirement already satisfied: confection<1.0.0,>=0.0.1 in /usr/local/lib/python3.10/dist-packages (from thinc<8.3.0,>=8.2.2->spacy<3.8.0,>=3.7.0->es-core-news-sm==3.7.0) (0.1.5)\n",
            "Requirement already satisfied: click>=8.0.0 in /usr/local/lib/python3.10/dist-packages (from typer<1.0.0,>=0.3.0->spacy<3.8.0,>=3.7.0->es-core-news-sm==3.7.0) (8.1.7)\n",
            "Requirement already satisfied: shellingham>=1.3.0 in /usr/local/lib/python3.10/dist-packages (from typer<1.0.0,>=0.3.0->spacy<3.8.0,>=3.7.0->es-core-news-sm==3.7.0) (1.5.4)\n",
            "Requirement already satisfied: rich>=10.11.0 in /usr/local/lib/python3.10/dist-packages (from typer<1.0.0,>=0.3.0->spacy<3.8.0,>=3.7.0->es-core-news-sm==3.7.0) (13.9.4)\n",
            "Requirement already satisfied: cloudpathlib<1.0.0,>=0.7.0 in /usr/local/lib/python3.10/dist-packages (from weasel<0.5.0,>=0.1.0->spacy<3.8.0,>=3.7.0->es-core-news-sm==3.7.0) (0.20.0)\n",
            "Requirement already satisfied: smart-open<8.0.0,>=5.2.1 in /usr/local/lib/python3.10/dist-packages (from weasel<0.5.0,>=0.1.0->spacy<3.8.0,>=3.7.0->es-core-news-sm==3.7.0) (7.0.5)\n",
            "Requirement already satisfied: MarkupSafe>=2.0 in /usr/local/lib/python3.10/dist-packages (from jinja2->spacy<3.8.0,>=3.7.0->es-core-news-sm==3.7.0) (3.0.2)\n",
            "Requirement already satisfied: marisa-trie>=0.7.7 in /usr/local/lib/python3.10/dist-packages (from language-data>=1.2->langcodes<4.0.0,>=3.2.0->spacy<3.8.0,>=3.7.0->es-core-news-sm==3.7.0) (1.2.1)\n",
            "Requirement already satisfied: markdown-it-py>=2.2.0 in /usr/local/lib/python3.10/dist-packages (from rich>=10.11.0->typer<1.0.0,>=0.3.0->spacy<3.8.0,>=3.7.0->es-core-news-sm==3.7.0) (3.0.0)\n",
            "Requirement already satisfied: pygments<3.0.0,>=2.13.0 in /usr/local/lib/python3.10/dist-packages (from rich>=10.11.0->typer<1.0.0,>=0.3.0->spacy<3.8.0,>=3.7.0->es-core-news-sm==3.7.0) (2.18.0)\n",
            "Requirement already satisfied: wrapt in /usr/local/lib/python3.10/dist-packages (from smart-open<8.0.0,>=5.2.1->weasel<0.5.0,>=0.1.0->spacy<3.8.0,>=3.7.0->es-core-news-sm==3.7.0) (1.16.0)\n",
            "Requirement already satisfied: mdurl~=0.1 in /usr/local/lib/python3.10/dist-packages (from markdown-it-py>=2.2.0->rich>=10.11.0->typer<1.0.0,>=0.3.0->spacy<3.8.0,>=3.7.0->es-core-news-sm==3.7.0) (0.1.2)\n",
            "\u001b[38;5;2m✔ Download and installation successful\u001b[0m\n",
            "You can now load the package via spacy.load('es_core_news_sm')\n",
            "\u001b[38;5;3m⚠ Restart to reload dependencies\u001b[0m\n",
            "If you are in a Jupyter or Colab notebook, you may need to restart Python in\n",
            "order to load all the package's dependencies. You can do this by selecting the\n",
            "'Restart kernel' or 'Restart runtime' option.\n"
          ]
        }
      ]
    },
    {
      "cell_type": "code",
      "source": [
        "import re\n",
        "import spacy\n",
        "from nltk.stem import WordNetLemmatizer\n",
        "from nltk.corpus import stopwords\n",
        "import nltk"
      ],
      "metadata": {
        "id": "wU1fUThY_izh"
      },
      "execution_count": null,
      "outputs": []
    },
    {
      "cell_type": "code",
      "source": [
        "texto_prueba = \" Liceo\\nComo es estudiante\\nya se va Escalona\\npero de recuerdo te dejó un paseo (bis)\\n\\nQue te habla...\""
      ],
      "metadata": {
        "id": "L3fnO0FP_mbi"
      },
      "execution_count": null,
      "outputs": []
    },
    {
      "cell_type": "code",
      "source": [
        "texto_minus = texto_prueba.lower() # .lower para hacer las letras minusculas\n",
        "texto_procesado = re.sub('\\n', ' ', texto_minus) # remplaza un salto de linea por un espacio\n",
        "# Eliminar los espacios dobles\n",
        "#texto_procesado = re.sub('\\s+', ' ', texto_procesado)\n",
        "texto_procesado = re.sub('  ', ' ', re.sub('\\n', ' ', texto_minus))\n",
        "texto_procesado = re.sub(r\"\\s*\\(bis\\)\", '', texto_procesado)\n",
        "\n",
        "texto_procesado"
      ],
      "metadata": {
        "colab": {
          "base_uri": "https://localhost:8080/",
          "height": 36
        },
        "id": "XzqnIlPt_y5n",
        "outputId": "2a26e8d7-9352-4829-c86e-8b359335b0a2"
      },
      "execution_count": null,
      "outputs": [
        {
          "output_type": "execute_result",
          "data": {
            "text/plain": [
              "' liceo como es estudiante ya se va escalona pero de recuerdo te dejó un paseo que te habla...'"
            ],
            "application/vnd.google.colaboratory.intrinsic+json": {
              "type": "string"
            }
          },
          "metadata": {},
          "execution_count": 5
        }
      ]
    },
    {
      "cell_type": "code",
      "source": [
        "def pre_clean(texto_prueba):\n",
        "  texto_minus = texto_prueba.lower() # .lower para hacer las letras minusculas\n",
        "  #texto_procesado = re.sub('\\n', ' ', texto_minus) # remplaza un salto de linea por un espacio\n",
        "  # Eliminar los espacios dobles\n",
        "  #texto_procesado = re.sub('\\s+', ' ', texto_procesado)\n",
        "  texto_procesado = re.sub('  ', ' ', re.sub('\\n', ' ', texto_minus))\n",
        "  texto_procesado = re.sub(r\"\\s*\\(bis\\)\", '', texto_procesado)\n",
        "  return texto_procesado"
      ],
      "metadata": {
        "id": "uE4p1r89AK4m"
      },
      "execution_count": null,
      "outputs": []
    },
    {
      "cell_type": "code",
      "source": [
        "nlp = spacy.load('es_core_news_sm')"
      ],
      "metadata": {
        "id": "wgJ2qtJnAQIF"
      },
      "execution_count": null,
      "outputs": []
    },
    {
      "cell_type": "code",
      "source": [
        "def clean_text(text):\n",
        "  text = nlp(text)\n",
        "  text = ' '.join([token.lemma_ for token in text if not token.is_stop and not token.is_punct])\n",
        "  return text\n"
      ],
      "metadata": {
        "id": "ldq6wtS2AZoF"
      },
      "execution_count": null,
      "outputs": []
    },
    {
      "cell_type": "markdown",
      "source": [
        "# MiniReto: Agrupar las letras de las canciones por género"
      ],
      "metadata": {
        "id": "AMXbiQg7m4TV"
      }
    },
    {
      "cell_type": "code",
      "execution_count": null,
      "metadata": {
        "colab": {
          "base_uri": "https://localhost:8080/"
        },
        "id": "In-13cw2ilkE",
        "outputId": "20e46c19-7d3f-45fa-a041-923e2b28de86"
      },
      "outputs": [
        {
          "output_type": "stream",
          "name": "stdout",
          "text": [
            "<class 'pandas.core.frame.DataFrame'>\n",
            "RangeIndex: 208 entries, 0 to 207\n",
            "Data columns (total 2 columns):\n",
            " #   Column  Non-Null Count  Dtype \n",
            "---  ------  --------------  ----- \n",
            " 0   lyrics  208 non-null    object\n",
            " 1   label   208 non-null    object\n",
            "dtypes: object(2)\n",
            "memory usage: 3.4+ KB\n"
          ]
        }
      ],
      "source": [
        "url  = \"https://raw.githubusercontent.com/it-ces/Datasets/main/lyrics-label.txt\"\n",
        "df = pd.read_csv(url)\n",
        "df.info()"
      ]
    },
    {
      "cell_type": "code",
      "source": [
        "df['label'].unique()"
      ],
      "metadata": {
        "colab": {
          "base_uri": "https://localhost:8080/"
        },
        "id": "rr1hzfW9mwNA",
        "outputId": "ff5d4a5f-4986-4911-801d-991203c948af"
      },
      "execution_count": null,
      "outputs": [
        {
          "output_type": "execute_result",
          "data": {
            "text/plain": [
              "array(['Vallenato', 'Ranchera'], dtype=object)"
            ]
          },
          "metadata": {},
          "execution_count": 10
        }
      ]
    },
    {
      "cell_type": "markdown",
      "source": [
        "# Pruebas individuales\n",
        "\n",
        "* Bajar Texto a minuscula\n",
        "* Eliminar saltor de línea (\\n)\n",
        "* Eliminar conectores\n",
        "* Eliminar palabras específicas (bis)"
      ],
      "metadata": {
        "id": "e5IBKD8pn3dU"
      }
    },
    {
      "cell_type": "code",
      "source": [
        "df['lyrics'][0]"
      ],
      "metadata": {
        "colab": {
          "base_uri": "https://localhost:8080/",
          "height": 110
        },
        "id": "FWTPWk77o0cv",
        "outputId": "7ef95515-2624-49e4-8c66-7c80e3e4cfc5"
      },
      "execution_count": null,
      "outputs": [
        {
          "output_type": "execute_result",
          "data": {
            "text/plain": [
              "'Oye morenita te vas a quedar muy sola\\nporque anoche dijo el radio\\nque abrieron el Liceo\\nComo es estudiante\\nya se va Escalona\\npero de recuerdo te dejó un paseo (bis)\\n\\nQue te habla...\"de aquel inmenso amor\"\\nQue llevo... \"dentro del corazón\"\\ny dice...\"todo lo que yo siento\"\\nque es pura...\"pasión y sentimiento\"\\ncantando con el lenguaje grato\\nque tiene la tierra ´e Pedro Castro (bis)\\n\\nAdiós morenita me voy por la madrugada\\nno quiero que me llores\\nporque me da dolor,\\npaso por valencia\\ncojo la sabana,\\nCaracolicito y llegó a Fundación (bis)\\n\\nY entonces...\"me tengo que meter\"\\nen un diablo...\"al que le llaman tren\"\\nay, que sale...\"por toá la zona pasa\"\\ny de tarde... \"se mete a Santa Marta\",\\nque sale por to´a la zona pasa\\ny de tarde se mete a Santa Marta (bis).\\n\\nEse orgullo que tú tienes no es muy bueno\\nte juro que que más tarde te vas a arrepentir,\\nyo sólo he querido dejarte un recuerdo\\nporque en Santa Marta me puedo morir.\\n\\nY entonces... \"me tienes que llorar\"\\ny de ñapa...\"te tienes que poner\"\\ntraje negro... \"aunque no gustes de él\"\\ny entonces te vas a arrepentir\\nde lo mucho que me hiciste sufrir (bis).\\n'"
            ],
            "application/vnd.google.colaboratory.intrinsic+json": {
              "type": "string"
            }
          },
          "metadata": {},
          "execution_count": 11
        }
      ]
    },
    {
      "cell_type": "code",
      "source": [
        "texend = clean_text(df['lyrics'][0])\n",
        "testores = pre_clean(texend)\n",
        "testores"
      ],
      "metadata": {
        "colab": {
          "base_uri": "https://localhost:8080/",
          "height": 73
        },
        "id": "E5yeyOnw2R3S",
        "outputId": "a0bf857c-f78a-4391-c60b-e4239688972f"
      },
      "execution_count": null,
      "outputs": [
        {
          "output_type": "execute_result",
          "data": {
            "text/plain": [
              "'oye morenitar ir quedar  anoche radio  abrir liceo  estudiante  escalona  recuerdo paseo bis  \"de inmenso amor  llevar corazón  \"todo sentir  puro \"pasión sentimiento  cantar lenguaje grato  tierra ´ pedro castro bis  adiós morenita madrugada  querer llorser  dolor  paso valencia  cojo sabana  caracolicito fundación bis  \"me meter  diablo \"al llamar trar  ay salir \"por toá zona pasar  meter santa marta  salir to´a zona pasar  meter santa marta bis  orgullo tener  jurar ir arrepentir  querer dejar tú recuerdo  santa marta morir  tener llorar  ñapa \"te tener  traje negro gust  ir arrepentir  hiciste sufrir bis '"
            ],
            "application/vnd.google.colaboratory.intrinsic+json": {
              "type": "string"
            }
          },
          "metadata": {},
          "execution_count": 12
        }
      ]
    },
    {
      "cell_type": "code",
      "source": [
        "testores = pre_clean(df['lyrics'][0])\n",
        "texend = clean_text(testores)\n",
        "texend"
      ],
      "metadata": {
        "colab": {
          "base_uri": "https://localhost:8080/",
          "height": 73
        },
        "id": "xsYRXRyt24Nm",
        "outputId": "32543de1-36df-4c1d-bed6-35c877fa375f"
      },
      "execution_count": null,
      "outputs": [
        {
          "output_type": "execute_result",
          "data": {
            "text/plain": [
              "'oir morenita ir quedar anoche radio abrir liceo estudiante escalonar recuerdo paseo \"de inmenso amor llevar corazón \"todo sentir puro \"pasión sentimiento cantar lenguaje grato tierra ´ pedro castro adiós morenita madrugada querer llores dolor paso valencia cojo sabana caracolicito fundación \"me meter diablo \"al llamar trar ay salir \"por toá zona pasar meter santa marta salir to´a zona pasar meter santa marta orgullo tener jurar ir arrepentir querer dejar tú recuerdo santa marta morir tener llorar ñapa \"te tener traje negro gust ir arrepentir hiciste sufrir'"
            ],
            "application/vnd.google.colaboratory.intrinsic+json": {
              "type": "string"
            }
          },
          "metadata": {},
          "execution_count": 13
        }
      ]
    },
    {
      "cell_type": "markdown",
      "source": [
        "# PARTE 1. Limpieza de la columna 'lyrics'"
      ],
      "metadata": {
        "id": "mpmeFdPf4PIm"
      }
    },
    {
      "cell_type": "code",
      "source": [
        "df['lyrics_clean'] = df['lyrics'].apply(lambda x: clean_text(pre_clean(x)))"
      ],
      "metadata": {
        "id": "LpJHUHN_6njC"
      },
      "execution_count": null,
      "outputs": []
    },
    {
      "cell_type": "code",
      "source": [
        "df['lyrics'][68]"
      ],
      "metadata": {
        "colab": {
          "base_uri": "https://localhost:8080/",
          "height": 110
        },
        "id": "svYTYenM53x4",
        "outputId": "6806a410-4209-4eaf-cb79-abb9bd082492"
      },
      "execution_count": null,
      "outputs": [
        {
          "output_type": "execute_result",
          "data": {
            "text/plain": [
              "'tanto como yo te he prometido\\nque soy tuyo sólo tuyo maye\\ny no quiere creer en mis promesas\\nsabes que tu eres todo mi idilio\\nque mi amor es perdurable maye\\ny me hieres con tu indiferencia\\n\\n\\nhasta cuando piensas martirizarme\\ncon el maltrato de tu rebeldía (bis)\\nyo te seguiré adorando y te seguiré esperando\\nhasta lograr en la vida las aspiraciones mías..\\n\\nPero espera que el tiempo te lo dirá\\ny saldrás de la duda que tienes tu (bis)\\nyo te doy un amor con sinceridad\\ny sigues todavía con tu ingratitud (bis)\\n\\nI I\\n\\npiensa que yo te sigo esperando\\nhasta que tu te decidas maye\\ny te probaré que soy sincero\\ntodo lo que te digo en mi canto\\nte lo probaré con hechos maye\\nporque tu eres todo mi desvelo\\n\\npor mi palabra de honor te lo juro\\ndoy mi palabra de honor que te quiero (bis)\\nya te lo he dicho mil veces que soy tuyo sólo tuyo\\ny si tu no te dedices yo me quedaré soltero..\\n\\nmi palabra es sagrada como la luz\\nque ilumina el pecebre del niño Dios (bis)\\ncuando dejes la duda que tienes tu\\nvas a ver lo feliz que somos los dos (bis)\\n'"
            ],
            "application/vnd.google.colaboratory.intrinsic+json": {
              "type": "string"
            }
          },
          "metadata": {},
          "execution_count": 15
        }
      ]
    },
    {
      "cell_type": "code",
      "source": [
        "df['lyrics_clean'][68]\n"
      ],
      "metadata": {
        "colab": {
          "base_uri": "https://localhost:8080/",
          "height": 73
        },
        "id": "Eol4oDU34Wf5",
        "outputId": "a097a348-8605-495c-97bd-8a2743ce9b54"
      },
      "execution_count": null,
      "outputs": [
        {
          "output_type": "execute_result",
          "data": {
            "text/plain": [
              "'prometer maye creer promesa idilio amor perdurable maye hier indiferencia   pensar martirizar yo maltrato rebeldía seguir adorar seguir esperar lograr vida aspiración esperar tiempo decir saldrás duda tener dar amor sinceridad sigues  ingratitud i i pensar seguir esperar decir maye probar sincero decir canto probar hecho maye desvelo palabra honor jurar dar palabra honor querer mil dedicser quedar soltero palabra sagrar luz iluminar pecebre niño dio dej duda tener va feliz'"
            ],
            "application/vnd.google.colaboratory.intrinsic+json": {
              "type": "string"
            }
          },
          "metadata": {},
          "execution_count": 16
        }
      ]
    },
    {
      "cell_type": "code",
      "source": [
        "from sklearn.cluster import KMeans\n",
        "import matplotlib.pyplot as plt"
      ],
      "metadata": {
        "id": "piLL7QQMv7gT"
      },
      "execution_count": null,
      "outputs": []
    },
    {
      "cell_type": "code",
      "source": [
        "X"
      ],
      "metadata": {
        "colab": {
          "base_uri": "https://localhost:8080/"
        },
        "id": "Sll2pl_hwEaX",
        "outputId": "cd173320-59d5-455f-9ef3-8c9c8fc3869b"
      },
      "execution_count": null,
      "outputs": [
        {
          "output_type": "execute_result",
          "data": {
            "text/plain": [
              "array([[0., 0., 0., ..., 0., 0., 0.],\n",
              "       [0., 0., 0., ..., 0., 0., 0.],\n",
              "       [0., 0., 0., ..., 0., 0., 0.],\n",
              "       ...,\n",
              "       [0., 0., 0., ..., 0., 0., 0.],\n",
              "       [0., 0., 0., ..., 0., 0., 0.],\n",
              "       [0., 0., 0., ..., 0., 0., 0.]])"
            ]
          },
          "metadata": {},
          "execution_count": 27
        }
      ]
    },
    {
      "cell_type": "code",
      "source": [
        "km = KMeans(n_clusters=5,\n",
        "            init = 'random',\n",
        "            n_init = 12,\n",
        "            max_iter = 300,\n",
        "            tol = 1e-04,\n",
        "            random_state =(0) )\n",
        "y_km = km.fit_predict(X)\n",
        "\n",
        "plt.scatter(X[y_km == 0, 0], X[y_km == 0, 1], s = 40, c = 'red', label = 'Cluster 1')\n",
        "plt.scatter(X[y_km == 1, 0], X[y_km == 1, 1], s = 40, c = 'blue', label = 'Cluster 2')\n",
        "plt.scatter(X[y_km == 2, 0], X[y_km == 2, 1], s = 40, c = 'green', label = 'Cluster 3')\n",
        "plt.scatter(km.cluster_centers_[:, 0], km.cluster_centers_[:, 1], s = 100, c = 'yellow', label = 'Centroides')\n",
        "plt.title('Clusters de canciones')\n",
        "plt.xlabel('X')\n",
        "plt.ylabel('Y')\n",
        "plt.legend()\n",
        "plt.show()"
      ],
      "metadata": {
        "colab": {
          "base_uri": "https://localhost:8080/",
          "height": 472
        },
        "id": "LheiYJFg8DOs",
        "outputId": "e4676054-ce14-412b-c91c-a8327b9c12a9"
      },
      "execution_count": null,
      "outputs": [
        {
          "output_type": "display_data",
          "data": {
            "text/plain": [
              "<Figure size 640x480 with 1 Axes>"
            ],
            "image/png": "[encoded data removed]"
          },
          "metadata": {}
        }
      ]
    },
    {
      "cell_type": "code",
      "source": [
        "from sklearn.feature_extraction.text import TfidfVectorizer\n",
        "vectorizer = TfidfVectorizer()\n",
        "X = vectorizer.fit_transform(df['lyrics_clean']).toarray()"
      ],
      "metadata": {
        "id": "XfB6mv0N6ypx"
      },
      "execution_count": null,
      "outputs": []
    },
    {
      "cell_type": "code",
      "source": [
        "X"
      ],
      "metadata": {
        "colab": {
          "base_uri": "https://localhost:8080/"
        },
        "id": "IHeFgPhmvV5N",
        "outputId": "d0270106-4439-4de9-ea65-3863bd2e2889"
      },
      "execution_count": null,
      "outputs": [
        {
          "output_type": "execute_result",
          "data": {
            "text/plain": [
              "array([[0., 0., 0., ..., 0., 0., 0.],\n",
              "       [0., 0., 0., ..., 0., 0., 0.],\n",
              "       [0., 0., 0., ..., 0., 0., 0.],\n",
              "       ...,\n",
              "       [0., 0., 0., ..., 0., 0., 0.],\n",
              "       [0., 0., 0., ..., 0., 0., 0.],\n",
              "       [0., 0., 0., ..., 0., 0., 0.]])"
            ]
          },
          "metadata": {},
          "execution_count": 23
        }
      ]
    },
    {
      "cell_type": "code",
      "source": [
        "from sklearn.decomposition import PCA\n",
        "# Reduce dimensionality to tree!\n",
        "features = X.copy()\n",
        "pca = PCA(n_components=2, random_state=42)\n",
        "X_pca = pca.fit_transform(X)"
      ],
      "metadata": {
        "id": "Q2CJ_8T_tJWH"
      },
      "execution_count": null,
      "outputs": []
    },
    {
      "cell_type": "code",
      "source": [
        "X_pca"
      ],
      "metadata": {
        "colab": {
          "base_uri": "https://localhost:8080/"
        },
        "id": "hgEUhiCvwcmQ",
        "outputId": "e52b6ab0-6b5c-4139-bd15-f22432bff1fa"
      },
      "execution_count": null,
      "outputs": [
        {
          "output_type": "execute_result",
          "data": {
            "text/plain": [
              "array([[ 1.63570705e-02,  1.38425002e-02],\n",
              "       [-3.95109851e-02, -1.38695742e-01],\n",
              "       [ 7.08646929e-02, -9.66037590e-02],\n",
              "       [-6.26535453e-02, -3.18251803e-02],\n",
              "       [-3.91278671e-02, -1.35709023e-01],\n",
              "       [-5.38404815e-02, -7.54664910e-02],\n",
              "       [ 8.61489709e-02,  3.86622414e-02],\n",
              "       [-5.80316196e-03, -8.48691676e-02],\n",
              "       [ 7.89035650e-02, -5.52080976e-02],\n",
              "       [-1.29730757e-02, -8.79962327e-02],\n",
              "       [-2.32756632e-02, -5.91623997e-02],\n",
              "       [ 2.57957733e-02, -1.29865913e-01],\n",
              "       [-5.02827587e-02, -8.02961763e-02],\n",
              "       [-4.36105777e-02,  6.18675399e-02],\n",
              "       [-3.57155035e-02, -9.84003946e-02],\n",
              "       [-6.46410546e-02, -3.31368077e-02],\n",
              "       [ 2.62704043e-03, -2.06474798e-02],\n",
              "       [-1.05062659e-01,  1.30226497e-01],\n",
              "       [ 5.32049869e-03,  1.12783255e-01],\n",
              "       [-1.70260453e-02,  8.44048909e-02],\n",
              "       [-5.84010179e-02,  4.39211152e-02],\n",
              "       [ 1.41908861e-01, -1.90099982e-02],\n",
              "       [-9.13195717e-02,  7.11232800e-02],\n",
              "       [-6.81278267e-02, -1.02754559e-01],\n",
              "       [-1.20257455e-01,  1.15144848e-01],\n",
              "       [-4.86000874e-02,  6.67774504e-02],\n",
              "       [-2.21752991e-02,  5.98563674e-02],\n",
              "       [-4.39147743e-02, -5.20429952e-02],\n",
              "       [ 6.11554597e-01,  1.19544083e-01],\n",
              "       [-8.19090099e-02, -4.54648269e-02],\n",
              "       [-8.72754768e-02,  1.78316195e-01],\n",
              "       [-3.18329638e-02, -4.89065068e-03],\n",
              "       [-5.10317421e-02, -4.65511855e-02],\n",
              "       [-1.41704117e-02,  6.61190880e-02],\n",
              "       [-9.68018038e-02, -9.62318633e-03],\n",
              "       [-6.46843937e-02,  4.63135374e-02],\n",
              "       [-8.67912075e-02,  2.15305233e-02],\n",
              "       [-6.20639546e-02,  6.89179941e-02],\n",
              "       [-8.46870515e-02,  6.48745188e-02],\n",
              "       [-1.10088967e-01,  1.00657626e-01],\n",
              "       [ 1.25532773e-02,  1.66697962e-01],\n",
              "       [-4.96718128e-03,  1.46360912e-01],\n",
              "       [ 1.79457482e-01,  1.24355511e-01],\n",
              "       [-1.87015552e-02,  1.57913437e-01],\n",
              "       [ 9.21960088e-02, -6.04290113e-02],\n",
              "       [ 2.17178133e-02, -9.66333341e-02],\n",
              "       [-1.19743246e-01,  2.43995878e-01],\n",
              "       [-5.06623402e-02, -2.77363245e-02],\n",
              "       [-2.16423449e-02, -8.94199333e-02],\n",
              "       [-1.99010167e-02, -1.12378471e-01],\n",
              "       [-3.45755735e-02, -3.56761830e-02],\n",
              "       [-3.29089378e-03, -1.07132620e-01],\n",
              "       [-7.87965507e-02,  3.02345715e-02],\n",
              "       [-4.51301412e-02,  3.73112516e-02],\n",
              "       [ 9.96229586e-02, -2.02134473e-02],\n",
              "       [-2.98303725e-02, -8.14222501e-02],\n",
              "       [-7.93078775e-02,  5.17217194e-02],\n",
              "       [ 2.17668866e-01, -4.47307383e-02],\n",
              "       [ 6.52789366e-02,  4.06513842e-02],\n",
              "       [-5.24108943e-02,  7.15186309e-03],\n",
              "       [-3.41024751e-02, -1.59931364e-01],\n",
              "       [ 7.30388876e-02,  2.28533521e-02],\n",
              "       [-5.44193749e-03, -1.07493505e-01],\n",
              "       [-2.05319489e-02, -9.78097423e-02],\n",
              "       [-4.42837928e-02, -2.43613870e-02],\n",
              "       [ 2.72540257e-01, -2.56014283e-02],\n",
              "       [ 2.50026268e-02,  1.11119405e-01],\n",
              "       [-4.08013747e-02, -1.67570750e-02],\n",
              "       [-7.71695178e-02, -3.77402585e-02],\n",
              "       [-1.83061252e-02, -8.52630818e-02],\n",
              "       [ 1.31564215e-01,  6.14620829e-03],\n",
              "       [-1.44508439e-02, -9.07156823e-02],\n",
              "       [-7.78561042e-02,  5.29363348e-03],\n",
              "       [ 2.18505360e-01, -9.19190602e-02],\n",
              "       [ 4.28070124e-02, -1.16650403e-01],\n",
              "       [-4.54653182e-02, -4.32176789e-02],\n",
              "       [-5.94654951e-02,  6.79345340e-03],\n",
              "       [-5.29403406e-02,  5.42571235e-02],\n",
              "       [-2.85634287e-02, -8.97643550e-02],\n",
              "       [-7.01103979e-02,  1.26137852e-02],\n",
              "       [-1.16308409e-01,  4.20527735e-02],\n",
              "       [-6.09643100e-02, -4.10556001e-02],\n",
              "       [-9.88777689e-02,  5.97548015e-03],\n",
              "       [-7.43979277e-02,  1.04874244e-01],\n",
              "       [ 2.08395543e-01,  7.64374825e-02],\n",
              "       [-7.59182798e-02, -5.06535538e-02],\n",
              "       [-4.16304275e-02,  2.16668778e-02],\n",
              "       [-1.02684559e-01,  1.33813195e-02],\n",
              "       [-6.56762974e-02,  1.89451104e-02],\n",
              "       [ 8.98005148e-02,  1.37265756e-02],\n",
              "       [ 1.85672932e-02, -1.39123487e-01],\n",
              "       [-1.39151846e-02, -1.50201084e-01],\n",
              "       [ 4.71075293e-02, -5.55137146e-02],\n",
              "       [-3.94959669e-03, -1.85480532e-02],\n",
              "       [-2.09041041e-02, -1.50597470e-01],\n",
              "       [-3.72995793e-02, -1.36929320e-01],\n",
              "       [-2.87077832e-02, -2.50889962e-02],\n",
              "       [-7.59642247e-02, -5.81946883e-02],\n",
              "       [ 3.40347805e-01,  5.50556589e-02],\n",
              "       [-1.11885176e-01,  1.01806140e-02],\n",
              "       [-8.07816231e-02,  1.16313397e-02],\n",
              "       [ 1.45513402e-01,  8.77644627e-02],\n",
              "       [ 1.13965506e-03, -2.49767652e-02],\n",
              "       [-9.78023119e-02,  1.83974124e-01],\n",
              "       [-9.12338427e-02, -1.04805481e-01],\n",
              "       [ 5.17678542e-02, -7.66624906e-02],\n",
              "       [ 1.93076626e-02, -1.14735737e-01],\n",
              "       [-8.70966185e-02, -1.44697557e-02],\n",
              "       [ 7.81805112e-01,  1.12450679e-01],\n",
              "       [-7.73953397e-02,  7.90041077e-02],\n",
              "       [-5.25511940e-02, -2.75461555e-02],\n",
              "       [-5.74821732e-02, -1.80475435e-02],\n",
              "       [-3.71443092e-02,  2.94465405e-02],\n",
              "       [-8.35867998e-02,  4.90402504e-02],\n",
              "       [ 1.53320005e-01, -4.55749672e-02],\n",
              "       [ 5.89507551e-01,  3.60148871e-02],\n",
              "       [-9.56950744e-02, -1.09419517e-02],\n",
              "       [-1.40711080e-01,  4.78452554e-02],\n",
              "       [-1.51683628e-01,  1.08611824e-01],\n",
              "       [-1.51683628e-01,  1.08611824e-01],\n",
              "       [-8.59023448e-02, -4.47961836e-02],\n",
              "       [-8.69877149e-02,  5.88953506e-02],\n",
              "       [ 1.24794763e-01,  2.70791773e-01],\n",
              "       [-9.22562298e-02,  1.15222291e-01],\n",
              "       [ 1.22571128e-01,  8.67566642e-02],\n",
              "       [-4.24617775e-02, -1.65391608e-02],\n",
              "       [-2.18085877e-02, -1.30471361e-01],\n",
              "       [ 2.84426838e-01, -2.78805944e-02],\n",
              "       [-3.44270955e-02, -1.00013636e-01],\n",
              "       [ 2.12641991e-01,  8.19559823e-02],\n",
              "       [-3.12100004e-02, -6.33448732e-02],\n",
              "       [-5.45583187e-03, -1.08010757e-01],\n",
              "       [ 1.06719901e-01, -9.64799032e-02],\n",
              "       [-6.53936079e-02, -4.05381866e-02],\n",
              "       [-6.88362859e-02, -5.27871138e-02],\n",
              "       [-2.89018134e-02, -5.10701440e-02],\n",
              "       [ 5.17905038e-03, -8.74804775e-02],\n",
              "       [-1.28652725e-01,  6.23138059e-01],\n",
              "       [-1.28652725e-01,  6.23138059e-01],\n",
              "       [-8.27575432e-02, -4.98763120e-02],\n",
              "       [-1.00305132e-01,  3.40936437e-02],\n",
              "       [-5.55105189e-02,  8.22234066e-02],\n",
              "       [-4.15852750e-02, -1.18568576e-01],\n",
              "       [-6.57227118e-02,  5.09928669e-04],\n",
              "       [-5.75683354e-02, -6.85508212e-02],\n",
              "       [-2.38223086e-02,  2.96102816e-02],\n",
              "       [-4.26172060e-02, -6.26837696e-02],\n",
              "       [-4.04515282e-02, -2.37352433e-03],\n",
              "       [-5.41321926e-02, -2.06802073e-02],\n",
              "       [ 9.61044366e-03, -1.95447869e-01],\n",
              "       [-2.12107883e-02, -7.97488618e-02],\n",
              "       [ 1.22662599e-01, -7.66789317e-02],\n",
              "       [-6.84658015e-02, -3.03750653e-02],\n",
              "       [-5.71995480e-02,  5.03528731e-02],\n",
              "       [ 1.18582574e-01, -1.16947515e-02],\n",
              "       [ 1.18582574e-01, -1.16947515e-02],\n",
              "       [-9.38355830e-02,  7.90529466e-02],\n",
              "       [-2.21567954e-02,  2.88933998e-02],\n",
              "       [ 8.89356346e-03, -5.72617789e-02],\n",
              "       [-8.18330422e-02,  3.06628303e-02],\n",
              "       [ 3.70583284e-01,  1.10429677e-01],\n",
              "       [-4.76008922e-02, -1.07809631e-01],\n",
              "       [-3.00787994e-02, -9.44562515e-02],\n",
              "       [-9.32809081e-02,  4.62727690e-01],\n",
              "       [-7.11838408e-02,  1.46394327e-02],\n",
              "       [-3.77740137e-02, -7.32453352e-02],\n",
              "       [-1.86968024e-02, -1.24554326e-01],\n",
              "       [-2.22573017e-02, -4.74158272e-02],\n",
              "       [-7.21543108e-02,  8.04320350e-03],\n",
              "       [-1.77948958e-02, -9.95579646e-02],\n",
              "       [-5.99572492e-02, -3.31292030e-02],\n",
              "       [-5.47453652e-02,  4.12837108e-02],\n",
              "       [-2.89424011e-02,  6.69297846e-02],\n",
              "       [ 5.72709306e-04, -8.28349130e-02],\n",
              "       [-1.65970504e-02, -1.06934547e-01],\n",
              "       [-1.42045246e-01, -4.15913375e-02],\n",
              "       [-1.42045246e-01, -4.15913375e-02],\n",
              "       [-4.43931034e-02,  5.68069074e-02],\n",
              "       [-4.55051694e-02, -4.01404190e-02],\n",
              "       [-5.79155672e-02, -3.73410963e-02],\n",
              "       [-7.06324832e-02, -2.26114625e-01],\n",
              "       [-7.06324832e-02, -2.26114625e-01],\n",
              "       [ 4.60984262e-01, -2.77443759e-02],\n",
              "       [-2.47714364e-02, -9.51038277e-02],\n",
              "       [-5.42471739e-02,  3.58448323e-01],\n",
              "       [-5.42471739e-02,  3.58448323e-01],\n",
              "       [-8.61352918e-02,  1.23842454e-02],\n",
              "       [ 3.69685785e-01,  4.58375590e-02],\n",
              "       [-7.56721379e-02,  2.53871478e-02],\n",
              "       [-5.59389557e-02, -6.88391230e-02],\n",
              "       [-5.21087778e-03, -5.13673932e-02],\n",
              "       [-6.46890641e-02, -7.39945826e-03],\n",
              "       [-7.88680387e-02, -2.32745382e-02],\n",
              "       [-1.09809730e-01,  7.38415571e-03],\n",
              "       [-4.85128077e-02, -2.01535212e-03],\n",
              "       [-8.66737888e-03, -1.74557860e-01],\n",
              "       [ 4.82568090e-01,  3.26241322e-02],\n",
              "       [-2.60767730e-02,  5.02417690e-02],\n",
              "       [ 2.42715025e-01, -6.34022834e-02],\n",
              "       [ 3.25624270e-01,  5.84493745e-03],\n",
              "       [ 7.30492548e-02,  3.01285756e-01],\n",
              "       [-3.86836818e-02, -5.22546296e-02],\n",
              "       [-6.64030178e-02, -8.67056215e-03],\n",
              "       [ 7.43531914e-02,  9.16169502e-02],\n",
              "       [ 1.09707415e-01, -8.39974822e-02],\n",
              "       [-3.82034588e-02, -3.49499463e-02],\n",
              "       [ 1.24962914e-01, -7.26132197e-03],\n",
              "       [-3.69584146e-02, -1.29106010e-01]])"
            ]
          },
          "metadata": {},
          "execution_count": 25
        }
      ]
    },
    {
      "cell_type": "code",
      "source": [
        "km = KMeans(n_clusters = 3,\n",
        "             init='random',\n",
        "             n_init=12,\n",
        "             max_iter=300,\n",
        "             tol = 1e-04,\n",
        "            random_state=0)\n",
        "\n",
        "\n",
        "\n",
        "y_km = km.fit_predict(X)\n",
        "\n",
        "plt.scatter(X[y_km==0,0], X[y_km==0,1], s=40, c='lightgreen', marker='s', edgecolors='black', label = 'cluster1')\n",
        "plt.scatter(X[y_km==1,0], X[y_km==1,1], s=40, c='orange', marker='o', edgecolor='black', label='cluster2')\n",
        "plt.scatter(X[y_km==2,0], X[y_km==2,1], s=40, c='lightblue', marker='o', edgecolor='black', label='acluster3')\n",
        "plt.scatter(km.cluster_centers_[:,0], km.cluster_centers_[:,1], s=100, marker='*', c='red', edgecolor='black', label='centroids')\n",
        "plt.legend(scatterpoints=1)"
      ],
      "metadata": {
        "colab": {
          "base_uri": "https://localhost:8080/",
          "height": 448
        },
        "id": "07v68D55uNFB",
        "outputId": "5cdb3f79-2f29-4f88-e634-749c354c8acf"
      },
      "execution_count": null,
      "outputs": [
        {
          "output_type": "execute_result",
          "data": {
            "text/plain": [
              "<matplotlib.legend.Legend at 0x7f8a46bf7c70>"
            ]
          },
          "metadata": {},
          "execution_count": 26
        },
        {
          "output_type": "display_data",
          "data": {
            "text/plain": [
              "<Figure size 640x480 with 1 Axes>"
            ],
            "image/png": "[encoded data removed]"
          },
          "metadata": {}
        }
      ]
    }
  ]
}
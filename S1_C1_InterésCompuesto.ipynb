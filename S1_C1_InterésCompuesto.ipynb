{
  "nbformat": 4,
  "nbformat_minor": 0,
  "metadata": {
    "colab": {
      "provenance": [],
      "authorship_tag": "ABX9TyNaKNGOSgJ5G45fiB2Pqgm9",
      "include_colab_link": true
    },
    "kernelspec": {
      "name": "python3",
      "display_name": "Python 3"
    },
    "language_info": {
      "name": "python"
    }
  },
  "cells": [
    {
      "cell_type": "markdown",
      "metadata": {
        "id": "view-in-github",
        "colab_type": "text"
      },
      "source": [
        "<a href=\"https://colab.research.google.com/github/Liam-Nova/BIT_IA_Bootcamp/blob/main/S1_C1_Inter%C3%A9sCompuesto.ipynb\" target=\"_parent\"><img src=\"https://colab.research.google.com/assets/colab-badge.svg\" alt=\"Open In Colab\"/></a>"
      ]
    },
    {
      "cell_type": "code",
      "source": [],
      "metadata": {
        "id": "0r_coq5oa08s"
      },
      "execution_count": null,
      "outputs": []
    },
    {
      "cell_type": "markdown",
      "source": [],
      "metadata": {
        "id": "WEC8SIYsjNp9"
      }
    },
    {
      "cell_type": "markdown",
      "source": [
        "# **Semana 1. Clase 1**\n",
        "caso: indicadores financieros\n",
        "\n",
        "Reto : Tengo (P) $1.000.000  quiero duplicarlos(2*) \n",
        "¿Cuánto tiempo tardaré en duplicar mi dinero si la tasa de interés anual es del 8.5%, con una capitalización anual?\n",
        "\n"
      ],
      "metadata": {
        "id": "vlF_sdtga942"
      }
    },
    {
      "cell_type": "markdown",
      "source": [],
      "metadata": {
        "id": "Jnnpcrn83miu"
      }
    },
    {
      "cell_type": "code",
      "source": [
        "import math"
      ],
      "metadata": {
        "id": "ItKypJTla27B"
      },
      "execution_count": null,
      "outputs": []
    },
    {
      "cell_type": "code",
      "source": [
        "A = 2*P # valor futuro\n",
        "P = 1000000 # valor presente\n",
        "i = 0.085\n",
        "n = math.log(A/P) / (math.log(1+i))\n",
        "n = round(n,3)  # round es igual a redondear\n",
        "print(\"El tiempo para duplicar el capital es: \"+ str(n) + \" años\")"
      ],
      "metadata": {
        "id": "G76_T60Da3ID",
        "colab": {
          "base_uri": "https://localhost:8080/"
        },
        "outputId": "7b85ff2b-eade-4d23-fde2-763d896699b6"
      },
      "execution_count": null,
      "outputs": [
        {
          "output_type": "stream",
          "name": "stdout",
          "text": [
            "El tiempo para duplicar el capital es: 8.49653458052555 años\n"
          ]
        }
      ]
    },
    {
      "cell_type": "markdown",
      "source": [
        "periodos o tiempo de incrementar capital"
      ],
      "metadata": {
        "id": "NiddyasH0qID"
      }
    },
    {
      "cell_type": "code",
      "source": [
        "import math"
      ],
      "metadata": {
        "id": "TTZHpvsC0rqW"
      },
      "execution_count": null,
      "outputs": []
    },
    {
      "cell_type": "code",
      "source": [
        "def tiempo_incrementarCapital(P,A,i):\n",
        "  num = math.log(A/P)\n",
        "  deno = math.log(1+i)\n",
        "\n",
        "  N = num/deno\n",
        "  return N\n"
      ],
      "metadata": {
        "id": "i3KbsoQB0wW3"
      },
      "execution_count": null,
      "outputs": []
    },
    {
      "cell_type": "code",
      "source": [
        "tiempo_incrementarCapital(1,3,0.085)"
      ],
      "metadata": {
        "colab": {
          "base_uri": "https://localhost:8080/"
        },
        "id": "seyY5ult0zL-",
        "outputId": "c844834c-1ead-4859-a3b2-bf3d2bd49a8f"
      },
      "execution_count": null,
      "outputs": [
        {
          "output_type": "execute_result",
          "data": {
            "text/plain": [
              "13.466688696213557"
            ]
          },
          "metadata": {},
          "execution_count": 13
        }
      ]
    },
    {
      "cell_type": "markdown",
      "source": [
        "Construir una función\n",
        "\n",
        "\n",
        "*   Se usa para reutilizar el codgo\n",
        "*   Elemento de la lista\n",
        "\n"
      ],
      "metadata": {
        "id": "vSDWF327ta0h"
      }
    },
    {
      "cell_type": "code",
      "source": [],
      "metadata": {
        "id": "u0DZlYdI38cK"
      },
      "execution_count": null,
      "outputs": []
    },
    {
      "cell_type": "markdown",
      "source": [
        ":Actividad 3\n",
        "programar la funcion para calcular el valor futuro\n",
        "A=P(1+i)**n"
      ],
      "metadata": {
        "id": "5vClR8gK3sU2"
      }
    },
    {
      "cell_type": "code",
      "source": [
        "import math"
      ],
      "metadata": {
        "id": "yY2_Hgx64awy"
      },
      "execution_count": null,
      "outputs": []
    },
    {
      "cell_type": "code",
      "source": [
        "def ganancias (P,i,n):\n",
        "\n",
        "  A = P*((1+i)**n)\n",
        "\n",
        "  A = round(A,2)\n",
        "  return print(\"el valor futuro para el interes es \"+ str(A))"
      ],
      "metadata": {
        "id": "IO6XWDHv4faj"
      },
      "execution_count": null,
      "outputs": []
    },
    {
      "cell_type": "code",
      "source": [
        "ganancias (1000000,0.085,8)"
      ],
      "metadata": {
        "colab": {
          "base_uri": "https://localhost:8080/"
        },
        "id": "6qLjG4vk7rLv",
        "outputId": "ea33afc1-91c2-4175-eec9-aa281f83e38b"
      },
      "execution_count": null,
      "outputs": [
        {
          "output_type": "stream",
          "name": "stdout",
          "text": [
            "el valor futuro para el interes es 1920604.34\n"
          ]
        }
      ]
    },
    {
      "cell_type": "markdown",
      "source": [
        ":Actividad 4\n",
        "Programar la funcion para calculas el capital inicial P=A/(1+I)n"
      ],
      "metadata": {
        "id": "zG8U_Mst4FHV"
      }
    },
    {
      "cell_type": "code",
      "source": [
        "import math"
      ],
      "metadata": {
        "id": "pJ67ZRhr776s"
      },
      "execution_count": null,
      "outputs": []
    },
    {
      "cell_type": "code",
      "source": [
        "def ValorInicial (A,i,n):\n",
        "\n",
        "  P = A/(1+i)**n\n",
        "\n",
        "  P = round(P,0)\n",
        "  return print(\"el valor inicial para el interes es \"+ str(P))"
      ],
      "metadata": {
        "id": "epudsSA99FMd"
      },
      "execution_count": null,
      "outputs": []
    },
    {
      "cell_type": "code",
      "source": [
        "ValorInicial (40000000,0.085,8)"
      ],
      "metadata": {
        "colab": {
          "base_uri": "https://localhost:8080/"
        },
        "id": "leJXjgVY9ceC",
        "outputId": "31681ea6-cf31-4e2a-d7f5-8c8dd70fd4a9"
      },
      "execution_count": null,
      "outputs": [
        {
          "output_type": "stream",
          "name": "stdout",
          "text": [
            "el valor inicial para el interes es 20826778.0\n"
          ]
        }
      ]
    },
    {
      "cell_type": "markdown",
      "source": [
        "Actividad bonus:\n",
        "programar funcion para calcular el interes\n",
        "i = ((A/P)**(1/n)) -1"
      ],
      "metadata": {
        "id": "rrrh9cAS-sgf"
      }
    },
    {
      "cell_type": "code",
      "source": [
        "import math"
      ],
      "metadata": {
        "id": "c_uDaghn_aM1"
      },
      "execution_count": null,
      "outputs": []
    },
    {
      "cell_type": "code",
      "source": [
        "def Interes (P,A,n):\n",
        "\n",
        "  i = ((A/P)**(1/n))-1\n",
        "  i = round(i,2)\n",
        "  return print(\"el valor para el interes es \"+ str(i))"
      ],
      "metadata": {
        "id": "gDeG4hef_cd-"
      },
      "execution_count": null,
      "outputs": []
    },
    {
      "cell_type": "code",
      "source": [
        "Interes (1000000,2000000,8)"
      ],
      "metadata": {
        "colab": {
          "base_uri": "https://localhost:8080/"
        },
        "id": "gMTaKCaLBiHI",
        "outputId": "112e384d-518f-4951-ba75-f6f638e69606"
      },
      "execution_count": null,
      "outputs": [
        {
          "output_type": "stream",
          "name": "stdout",
          "text": [
            "el valor para el interes es 0.09\n"
          ]
        }
      ]
    },
    {
      "cell_type": "markdown",
      "source": [],
      "metadata": {
        "id": "6qZLLFQa9pBZ"
      }
    },
    {
      "cell_type": "markdown",
      "source": [
        "Actividad 5 V1.0\n",
        "Un código para seleccionar el parametro a calcular de la función de interés compuesto\n",
        "  seleccione el parametro a calcular\n",
        "\n",
        "\n",
        "\n",
        "1.   n: numero periodo\n",
        "2.   A: valor futuro\n",
        "3.   P: capital inicial\n",
        "4. cualquier otro numero : opcion no valida\n",
        "*texto en cursiva*"
      ],
      "metadata": {
        "id": "fF5AzLPa2TXh"
      }
    },
    {
      "cell_type": "code",
      "source": [
        "def tiempo_incrementarCapital(P,A,i):\n",
        "  n = math.log(A/P)/(math.log(1+i))\n",
        "  n = round(n,3)\n",
        "  return  print(\"El tiempo para duplicar el capital es: \" + str(n) + \" años\")\n",
        "tiempo_incrementarCapital(1000000,3,0.085)"
      ],
      "metadata": {
        "colab": {
          "base_uri": "https://localhost:8080/"
        },
        "id": "_kAPLLUv2cdo",
        "outputId": "c0b56241-5e40-46e3-883e-35cc82609413"
      },
      "execution_count": null,
      "outputs": [
        {
          "output_type": "stream",
          "name": "stdout",
          "text": [
            "El tiempo para duplicar el capital es: -155.883 años\n"
          ]
        }
      ]
    },
    {
      "cell_type": "code",
      "source": [
        "def valor_futuro(P,i,n):\n",
        "  A = P*(1+i)**n\n",
        "  A = round(A,2)\n",
        "  print(\"El valor futuro para el interes \" + str(i)+ \"es de \" + str(A))\n",
        "  return A"
      ],
      "metadata": {
        "id": "ipocCxYn2gT-"
      },
      "execution_count": null,
      "outputs": []
    },
    {
      "cell_type": "code",
      "source": [
        "def capital_Inicial(A,i,n):\n",
        "  P = A/((1+i)**n)\n",
        "  P = round(P,2)\n",
        "  print(\"El capital_Inicial para el interes \" + str(i) + \" es de \" + str(A))\n",
        "  return P"
      ],
      "metadata": {
        "id": "vP3w5wLH2jap"
      },
      "execution_count": null,
      "outputs": []
    },
    {
      "cell_type": "code",
      "source": [
        "capital_Inicial(40000000,0.085,8)"
      ],
      "metadata": {
        "colab": {
          "base_uri": "https://localhost:8080/"
        },
        "id": "qrYzR7qb917f",
        "outputId": "63a6c2c0-01ef-4c84-ab75-2e3be5034198"
      },
      "execution_count": null,
      "outputs": [
        {
          "output_type": "stream",
          "name": "stdout",
          "text": [
            "El capital_Inicial para el interes 0.085 es de 40000000\n"
          ]
        },
        {
          "output_type": "execute_result",
          "data": {
            "text/plain": [
              "20826777.91"
            ]
          },
          "metadata": {},
          "execution_count": 50
        }
      ]
    },
    {
      "cell_type": "code",
      "source": [
        "# MENSAJE DE INICIO INGRESAR OPCION\n",
        "print(\"Elige qué valor quieres calcular:\")\n",
        "print(\"1. Tiempo para duplicar la inversión\")\n",
        "print(\"2. Calcular el valor futuro\")\n",
        "print(\"3. Calcular el valor inicial\")\n",
        "opcion = int(input(\"Elige una opción: \"))\n",
        "## ESTRUCTURA DE SELECCION DE LA OPERACION\n",
        "if opcion == 1:\n",
        "  print(\"calculos los periodos de capitalizacion\")\n",
        "  tiempo_incrementarCapital(1,3,0.085)\n",
        "elif opcion == 2:\n",
        "  print(\"calculos el valor futuro\")\n",
        "  ganancias(1,3,0.085)\n",
        "elif opcion == 3:\n",
        "  print(\"calcular capital inicial\")\n",
        "  capital_Inicial(1,3,0.085)\n",
        "else:\n",
        "  print(\"opcion invalida\")"
      ],
      "metadata": {
        "colab": {
          "base_uri": "https://localhost:8080/"
        },
        "id": "ZvfSlR7G2mf0",
        "outputId": "9c573984-0aee-4dff-bd0b-771dbc94b908"
      },
      "execution_count": null,
      "outputs": [
        {
          "output_type": "stream",
          "name": "stdout",
          "text": [
            "Elige qué valor quieres calcular:\n",
            "1. Tiempo para duplicar la inversión\n",
            "2. Calcular el valor futuro\n",
            "3. Calcular el valor inicial\n",
            "Elige una opción: 3\n",
            "calcular capital inicial\n",
            "El capital_Inicial para el interes 3 es de 1\n"
          ]
        }
      ]
    },
    {
      "cell_type": "markdown",
      "source": [
        "Actividad 5 V20.\n"
      ],
      "metadata": {
        "id": "tx22nH-c2ZX2"
      }
    },
    {
      "cell_type": "code",
      "source": [
        "# MENSAJE DE INICIO INGRESAR OPCION\n",
        "print(\"Elige qué valor quieres calcular:\")\n",
        "print(\"1. Tiempo para duplicar la inversión\")\n",
        "print(\"2. Calcular el valor futuro\")\n",
        "print(\"3. Calcular el valor inicial\")\n",
        "opcion = int(input(\"Elige una opción: \"))\n",
        "## ESTRUCTURA DE SELECCION DE LA OPERACION\n",
        "if opcion == 1:\n",
        "  print(\"calculos los periodos de capitalizacion\")\n",
        "  P = float(input(\"Ingrese el capital inicial: \"))\n",
        "  A = float(input(\"Ingrese el valor futuro: \"))\n",
        "  i = float(input(\"Ingrese la tasa de interes: \"))\n",
        "  tiempo_incrementarCapital(P,A,i)\n",
        "elif opcion == 2:\n",
        "  print(\"calculos el valor futuro\")\n",
        "  P = float(input(\"Ingrese el capital inicial: \"))\n",
        "  i = float(input(\"Ingrese la tasa de interes: \"))\n",
        "  n = float(input(\"Ingrese el numero de periodos: \"))\n",
        "  ganancias(P,i,n)\n",
        "elif opcion == 3:\n",
        "  print(\"calcular capital inicial\")\n",
        "  A = float(input(\"Ingrese el valor futuro: \"))\n",
        "  i = float(input(\"Ingrese la tasa de interes: \"))\n",
        "  n = float(input(\"Ingrese el numero de periodos: \"))\n",
        "  capital_Inicial(A,i,n)\n",
        "else:\n",
        "  print(\"opcion invalida\")"
      ],
      "metadata": {
        "colab": {
          "base_uri": "https://localhost:8080/"
        },
        "id": "yvBl5RjX3bfN",
        "outputId": "d0f17ca9-5b4e-40a0-e768-0824719f6c94"
      },
      "execution_count": null,
      "outputs": [
        {
          "output_type": "stream",
          "name": "stdout",
          "text": [
            "Elige qué valor quieres calcular:\n",
            "1. Tiempo para duplicar la inversión\n",
            "2. Calcular el valor futuro\n",
            "3. Calcular el valor inicial\n",
            "Elige una opción: 3\n",
            "calcular capital inicial\n",
            "Ingrese el valor futuro: 3\n",
            "Ingrese la tasa de interes: 1\n",
            "Ingrese el numero de periodos: 8\n",
            "El capital_Inicial para el interes 1.0 es de 3.0\n"
          ]
        }
      ]
    },
    {
      "cell_type": "markdown",
      "source": [
        "**actividad bonus**\n",
        "graficar el valor del capital año a año definidos por el usuario usando la ecuacion de interes compuesto en rango de años acuacion de interes compuesto"
      ],
      "metadata": {
        "id": "mbPNTDN6A_Am"
      }
    },
    {
      "cell_type": "code",
      "source": [
        "from re import X\n",
        "#generar un vector de 20 años\n",
        "\n",
        "import numpy as np\n",
        "\n",
        "x = np.linspace(8,40,41)\n",
        "P =100\n",
        "i = 0.08\n",
        "n = x\n",
        "A = P*((1+i)**x)\n",
        "\n",
        "# linespace(punto de inicio, pinto de fin y el numero de elementos)\n"
      ],
      "metadata": {
        "id": "tFuJkPkvBNlC"
      },
      "execution_count": null,
      "outputs": []
    },
    {
      "cell_type": "code",
      "source": [
        "x"
      ],
      "metadata": {
        "colab": {
          "base_uri": "https://localhost:8080/"
        },
        "id": "-xDhZ9e4Ckpx",
        "outputId": "857262ac-0064-48da-9fc9-f2968ae59bc8"
      },
      "execution_count": null,
      "outputs": [
        {
          "output_type": "execute_result",
          "data": {
            "text/plain": [
              "array([ 8. ,  8.8,  9.6, 10.4, 11.2, 12. , 12.8, 13.6, 14.4, 15.2, 16. ,\n",
              "       16.8, 17.6, 18.4, 19.2, 20. , 20.8, 21.6, 22.4, 23.2, 24. , 24.8,\n",
              "       25.6, 26.4, 27.2, 28. , 28.8, 29.6, 30.4, 31.2, 32. , 32.8, 33.6,\n",
              "       34.4, 35.2, 36. , 36.8, 37.6, 38.4, 39.2, 40. ])"
            ]
          },
          "metadata": {},
          "execution_count": 45
        }
      ]
    },
    {
      "cell_type": "code",
      "source": [
        "A"
      ],
      "metadata": {
        "colab": {
          "base_uri": "https://localhost:8080/"
        },
        "id": "2OQyzHtwCnqP",
        "outputId": "a6686b1f-0bc8-4a97-ecaf-988bc20852cc"
      },
      "execution_count": null,
      "outputs": [
        {
          "output_type": "execute_result",
          "data": {
            "text/plain": [
              "array([ 185.09302103,  196.84711235,  209.34763194,  222.64198074,\n",
              "        236.78056987,  251.81701168,  267.80832316,  284.81514205,\n",
              "        302.90195684,  322.13735125,  342.59426433,  364.35026705,\n",
              "        387.4878564 ,  412.09476824,  438.26430997,  466.09571438,\n",
              "        495.6945159 ,  527.17295077,  560.65038266,  596.25375528,\n",
              "        634.11807372,  674.38691641,  717.21297953,  762.75865603,\n",
              "        811.19665142,  862.71063864,  917.49595455,  975.76034062,\n",
              "       1037.72473067, 1103.62408864, 1173.70829954, 1248.24311701,\n",
              "       1327.51117102, 1411.8130396 , 1501.46838859, 1596.81718379,\n",
              "       1698.22098009, 1806.06429245, 1920.75605396, 2042.73116646,\n",
              "       2172.45214968])"
            ]
          },
          "metadata": {},
          "execution_count": 46
        }
      ]
    },
    {
      "cell_type": "code",
      "source": [
        "import matplotlib.pyplot as plt\n",
        "\"plot(x,y)\"\n",
        "plt.figure(figsize=(5,3))\n",
        "plt.plot(x,A)"
      ],
      "metadata": {
        "colab": {
          "base_uri": "https://localhost:8080/",
          "height": 308
        },
        "id": "9KcuSnO8CpVe",
        "outputId": "e8b6f144-76f1-45d5-b16b-e002ac0dfa9d"
      },
      "execution_count": null,
      "outputs": [
        {
          "output_type": "execute_result",
          "data": {
            "text/plain": [
              "[<matplotlib.lines.Line2D at 0x783964bf6a40>]"
            ]
          },
          "metadata": {},
          "execution_count": 47
        },
        {
          "output_type": "display_data",
          "data": {
            "text/plain": [
              "<Figure size 500x300 with 1 Axes>"
            ],
            "image/png": "[encoded data removed]"
          },
          "metadata": {}
        }
      ]
    }
  ]
}
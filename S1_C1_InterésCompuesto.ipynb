{
  "nbformat": 4,
  "nbformat_minor": 0,
  "metadata": {
    "colab": {
      "provenance": [],
      "authorship_tag": "ABX9TyORWXPNHpv5mZpEHOnzjzZD",
      "include_colab_link": true
    },
    "kernelspec": {
      "name": "python3",
      "display_name": "Python 3"
    },
    "language_info": {
      "name": "python"
    }
  },
  "cells": [
    {
      "cell_type": "markdown",
      "metadata": {
        "id": "view-in-github",
        "colab_type": "text"
      },
      "source": [
        "<a href=\"https://colab.research.google.com/github/Liam-Nova/BIT_IA_Bootcamp/blob/main/S1_C1_Inter%C3%A9sCompuesto.ipynb\" target=\"_parent\"><img src=\"https://colab.research.google.com/assets/colab-badge.svg\" alt=\"Open In Colab\"/></a>"
      ]
    },
    {
      "cell_type": "code",
      "source": [],
      "metadata": {
        "id": "0r_coq5oa08s"
      },
      "execution_count": 20,
      "outputs": []
    },
    {
      "cell_type": "markdown",
      "source": [],
      "metadata": {
        "id": "WEC8SIYsjNp9"
      }
    },
    {
      "cell_type": "markdown",
      "source": [
        "# **Semana 1. Clase 1**\n",
        "caso: indicadores financieros\n",
        "\n",
        "Reto : Tengo (P) $1.000.000  quiero duplicarlos(2*) \n",
        "¿Cuánto tiempo tardaré en duplicar mi dinero si la tasa de interés anual es del 8.5%, con una capitalización anual?\n",
        "\n"
      ],
      "metadata": {
        "id": "vlF_sdtga942"
      }
    },
    {
      "cell_type": "markdown",
      "source": [],
      "metadata": {
        "id": "Jnnpcrn83miu"
      }
    },
    {
      "cell_type": "code",
      "source": [
        "import math"
      ],
      "metadata": {
        "id": "ItKypJTla27B"
      },
      "execution_count": 21,
      "outputs": []
    },
    {
      "cell_type": "markdown",
      "source": [
        "El código **import math** es una instrucción en Python que importa el módulo **math**, el cual incluye una variedad de **funciones matemáticas**. Este módulo te permite utilizar funciones avanzadas como raíces cuadradas, logaritmos, trigonometría y otras operaciones matemáticas comunes."
      ],
      "metadata": {
        "id": "6KmUWxGiQbJq"
      }
    },
    {
      "cell_type": "code",
      "source": [
        "P = 1000000 # valor presente\n",
        "A = 2*P # valor futuro\n",
        "i = 0.085\n",
        "n = math.log(A/P) / (math.log(1+i)) #está realizando una operación matemática usando logaritmos\n",
        "n = round(n,3)  # round es igual a redondear\n",
        "print(\"El tiempo para duplicar el capital es: \"+ str(n) + \" años\")"
      ],
      "metadata": {
        "id": "G76_T60Da3ID",
        "colab": {
          "base_uri": "https://localhost:8080/"
        },
        "outputId": "a3de6423-cbee-4ba9-9aad-2bc999532829"
      },
      "execution_count": 22,
      "outputs": [
        {
          "output_type": "stream",
          "name": "stdout",
          "text": [
            "El tiempo para duplicar el capital es: 8.497 años\n"
          ]
        }
      ]
    },
    {
      "cell_type": "markdown",
      "source": [
        "periodos o tiempo de incrementar capital"
      ],
      "metadata": {
        "id": "NiddyasH0qID"
      }
    },
    {
      "cell_type": "code",
      "source": [
        "import math"
      ],
      "metadata": {
        "id": "TTZHpvsC0rqW"
      },
      "execution_count": 23,
      "outputs": []
    },
    {
      "cell_type": "code",
      "source": [
        "def tiempo_incrementarCapital(P,A,i):\n",
        "  num = math.log(A/P)\n",
        "  deno = math.log(1+i)\n",
        "\n",
        "  N = num/deno\n",
        "  return N\n"
      ],
      "metadata": {
        "id": "i3KbsoQB0wW3"
      },
      "execution_count": 24,
      "outputs": []
    },
    {
      "cell_type": "code",
      "source": [
        "tiempo_incrementarCapital(1,3,0.085)"
      ],
      "metadata": {
        "colab": {
          "base_uri": "https://localhost:8080/"
        },
        "id": "seyY5ult0zL-",
        "outputId": "726007b6-c357-4965-fa2d-29ed717f1975"
      },
      "execution_count": 25,
      "outputs": [
        {
          "output_type": "execute_result",
          "data": {
            "text/plain": [
              "13.466688696213557"
            ]
          },
          "metadata": {},
          "execution_count": 25
        }
      ]
    },
    {
      "cell_type": "markdown",
      "source": [
        "Construir una función\n",
        "\n",
        "\n",
        "*   Se usa para reutilizar el codgo\n",
        "*   Elemento de la lista\n",
        "\n"
      ],
      "metadata": {
        "id": "vSDWF327ta0h"
      }
    },
    {
      "cell_type": "markdown",
      "source": [
        ":Actividad 3\n",
        "programar la funcion para calcular el valor futuro\n",
        "A=P(1+i)**n"
      ],
      "metadata": {
        "id": "5vClR8gK3sU2"
      }
    },
    {
      "cell_type": "code",
      "source": [
        "import math"
      ],
      "metadata": {
        "id": "yY2_Hgx64awy"
      },
      "execution_count": 26,
      "outputs": []
    },
    {
      "cell_type": "code",
      "source": [
        "def ganancias (P,i,n):\n",
        "\n",
        "  A = P*((1+i)**n)\n",
        "\n",
        "  A = round(A,2) # round define la cantidad de decimales, en este caso 2\n",
        "  return print(\"el valor futuro para el interes es \"+ str(A))"
      ],
      "metadata": {
        "id": "IO6XWDHv4faj"
      },
      "execution_count": 27,
      "outputs": []
    },
    {
      "cell_type": "code",
      "source": [
        "ganancias (1000000,0.085,8)"
      ],
      "metadata": {
        "colab": {
          "base_uri": "https://localhost:8080/"
        },
        "id": "6qLjG4vk7rLv",
        "outputId": "5431d748-53da-4cf8-b213-e3c1b74b8d5c"
      },
      "execution_count": 28,
      "outputs": [
        {
          "output_type": "stream",
          "name": "stdout",
          "text": [
            "el valor futuro para el interes es 1920604.34\n"
          ]
        }
      ]
    },
    {
      "cell_type": "markdown",
      "source": [
        ":Actividad 4\n",
        "Programar la funcion para calculas el capital inicial P=A/(1+I)n"
      ],
      "metadata": {
        "id": "zG8U_Mst4FHV"
      }
    },
    {
      "cell_type": "code",
      "source": [
        "import math"
      ],
      "metadata": {
        "id": "pJ67ZRhr776s"
      },
      "execution_count": 29,
      "outputs": []
    },
    {
      "cell_type": "code",
      "source": [
        "def ValorInicial (A,i,n):\n",
        "\n",
        "  P = A/(1+i)**n\n",
        "\n",
        "  P = round(P,0)\n",
        "  return print(\"el valor inicial para el interes es \"+ str(P))"
      ],
      "metadata": {
        "id": "epudsSA99FMd"
      },
      "execution_count": 30,
      "outputs": []
    },
    {
      "cell_type": "code",
      "source": [
        "ValorInicial (2000,0.1,3.23)"
      ],
      "metadata": {
        "colab": {
          "base_uri": "https://localhost:8080/"
        },
        "id": "leJXjgVY9ceC",
        "outputId": "81016dc5-02e2-43ca-e9dc-c2b55820a501"
      },
      "execution_count": 31,
      "outputs": [
        {
          "output_type": "stream",
          "name": "stdout",
          "text": [
            "el valor inicial para el interes es 1470.0\n"
          ]
        }
      ]
    },
    {
      "cell_type": "markdown",
      "source": [
        "Actividad bonus:\n",
        "programar funcion para calcular el interes\n",
        "i = ((A/P)**(1/n)) -1"
      ],
      "metadata": {
        "id": "rrrh9cAS-sgf"
      }
    },
    {
      "cell_type": "code",
      "source": [
        "import math"
      ],
      "metadata": {
        "id": "c_uDaghn_aM1"
      },
      "execution_count": 32,
      "outputs": []
    },
    {
      "cell_type": "code",
      "source": [
        "def Interes (P,A,n):\n",
        "\n",
        "  i = ((A/P)**(1/n))-1\n",
        "  i = round(i,2)\n",
        "  return print(\"el valor para el interes es \"+ str(i))"
      ],
      "metadata": {
        "id": "gDeG4hef_cd-"
      },
      "execution_count": 33,
      "outputs": []
    },
    {
      "cell_type": "code",
      "source": [
        "Interes (1000000,2000000,8)"
      ],
      "metadata": {
        "colab": {
          "base_uri": "https://localhost:8080/"
        },
        "id": "gMTaKCaLBiHI",
        "outputId": "bf701b65-3fe5-40be-ed3b-9b10d73629f7"
      },
      "execution_count": 34,
      "outputs": [
        {
          "output_type": "stream",
          "name": "stdout",
          "text": [
            "el valor para el interes es 0.09\n"
          ]
        }
      ]
    },
    {
      "cell_type": "markdown",
      "source": [],
      "metadata": {
        "id": "6qZLLFQa9pBZ"
      }
    },
    {
      "cell_type": "markdown",
      "source": [
        "Actividad 5 V1.0\n",
        "Un código para seleccionar el parametro a calcular de la función de interés compuesto\n",
        "  seleccione el parametro a calcular\n",
        "\n",
        "\n",
        "\n",
        "1.   n: numero periodo\n",
        "2.   A: valor futuro\n",
        "3.   P: capital inicial\n",
        "4. cualquier otro numero : opcion no valida\n",
        "*texto en cursiva*"
      ],
      "metadata": {
        "id": "fF5AzLPa2TXh"
      }
    },
    {
      "cell_type": "code",
      "source": [
        "def tiempo_incrementarCapital(P,A,i):\n",
        "  n = math.log(A/P)/(math.log(1+i))\n",
        "  n = round(n,3)\n",
        "  return  print(\"El tiempo para duplicar el capital es: \" + str(n) + \" años\")\n",
        "tiempo_incrementarCapital(1000000,3,0.085)"
      ],
      "metadata": {
        "colab": {
          "base_uri": "https://localhost:8080/"
        },
        "id": "_kAPLLUv2cdo",
        "outputId": "6ef6d713-40f8-49ac-cf5b-5bc31988bef4"
      },
      "execution_count": 35,
      "outputs": [
        {
          "output_type": "stream",
          "name": "stdout",
          "text": [
            "El tiempo para duplicar el capital es: -155.883 años\n"
          ]
        }
      ]
    },
    {
      "cell_type": "code",
      "source": [
        "def valor_futuro(P,i,n):\n",
        "  A = P*(1+i)**n\n",
        "  A = round(A,2)\n",
        "  print(\"El valor futuro para el interes \" + str(i)+ \"es de \" + str(A))\n",
        "  return A"
      ],
      "metadata": {
        "id": "ipocCxYn2gT-"
      },
      "execution_count": 36,
      "outputs": []
    },
    {
      "cell_type": "code",
      "source": [
        "valor_futuro(1000000,0.085,8)"
      ],
      "metadata": {
        "colab": {
          "base_uri": "https://localhost:8080/"
        },
        "id": "fdi9pfGldoc_",
        "outputId": "37a24c6b-b4ec-49b9-d964-ba720839ce95"
      },
      "execution_count": 37,
      "outputs": [
        {
          "output_type": "stream",
          "name": "stdout",
          "text": [
            "El valor futuro para el interes 0.085es de 1920604.34\n"
          ]
        },
        {
          "output_type": "execute_result",
          "data": {
            "text/plain": [
              "1920604.34"
            ]
          },
          "metadata": {},
          "execution_count": 37
        }
      ]
    },
    {
      "cell_type": "code",
      "source": [
        "def capital_Inicial(A,i,n):\n",
        "  P = A/((1+i)**n)\n",
        "  P = round(P,2)\n",
        "  print(\"El capital_Inicial para el interes \" + str(i) + \" es de \" + str(A))\n",
        "  return P"
      ],
      "metadata": {
        "id": "vP3w5wLH2jap"
      },
      "execution_count": 38,
      "outputs": []
    },
    {
      "cell_type": "code",
      "source": [
        "capital_Inicial(40000000,0.085,8)"
      ],
      "metadata": {
        "colab": {
          "base_uri": "https://localhost:8080/"
        },
        "id": "qrYzR7qb917f",
        "outputId": "a8cd5670-2974-4da7-a9df-f3450396620f"
      },
      "execution_count": 39,
      "outputs": [
        {
          "output_type": "stream",
          "name": "stdout",
          "text": [
            "El capital_Inicial para el interes 0.085 es de 40000000\n"
          ]
        },
        {
          "output_type": "execute_result",
          "data": {
            "text/plain": [
              "20826777.91"
            ]
          },
          "metadata": {},
          "execution_count": 39
        }
      ]
    },
    {
      "cell_type": "markdown",
      "source": [
        "(1,3,0.085) son los datos que se usan para definir la funcion correspondiente"
      ],
      "metadata": {
        "id": "vZTG2Ydze2n7"
      }
    },
    {
      "cell_type": "code",
      "source": [
        "# MENSAJE DE INICIO INGRESAR OPCION\n",
        "print(\"Elige qué valor quieres calcular:\")\n",
        "print(\"1. Tiempo para duplicar la inversión\")\n",
        "print(\"2. Calcular el valor futuro\")\n",
        "print(\"3. Calcular el valor inicial\")\n",
        "opcion = int(input(\"Elige una opción: \"))\n",
        "## ESTRUCTURA DE SELECCION DE LA OPERACION\n",
        "if opcion == 1:\n",
        "  print(\"calculos los periodos de capitalizacion\")\n",
        "  tiempo_incrementarCapital(1,3,0.085)\n",
        "elif opcion == 2:\n",
        "  print(\"calculos el valor futuro\")\n",
        "  ganancias(1,3,0.085)\n",
        "elif opcion == 3:\n",
        "  print(\"calcular capital inicial\")\n",
        "  capital_Inicial(1,3,0.085)\n",
        "else:\n",
        "  print(\"opcion invalida\")"
      ],
      "metadata": {
        "colab": {
          "base_uri": "https://localhost:8080/"
        },
        "id": "ZvfSlR7G2mf0",
        "outputId": "c6f8d012-4a95-4373-f180-042dd42bda81"
      },
      "execution_count": 40,
      "outputs": [
        {
          "output_type": "stream",
          "name": "stdout",
          "text": [
            "Elige qué valor quieres calcular:\n",
            "1. Tiempo para duplicar la inversión\n",
            "2. Calcular el valor futuro\n",
            "3. Calcular el valor inicial\n",
            "Elige una opción: 3\n",
            "calcular capital inicial\n",
            "El capital_Inicial para el interes 3 es de 1\n"
          ]
        }
      ]
    },
    {
      "cell_type": "markdown",
      "source": [
        "Actividad 5 V20.\n"
      ],
      "metadata": {
        "id": "tx22nH-c2ZX2"
      }
    },
    {
      "cell_type": "markdown",
      "source": [
        "* = es el valor que asigno a una variable\n",
        "* == es el metosdo de **comparacion** donde pregunto: es igual?"
      ],
      "metadata": {
        "id": "7h-X57shfkFX"
      }
    },
    {
      "cell_type": "code",
      "source": [
        "# MENSAJE DE INICIO INGRESAR OPCION\n",
        "print(\"Elige qué valor quieres calcular:\")\n",
        "print(\"1. Tiempo para duplicar la inversión\")\n",
        "print(\"2. Calcular el valor futuro\")\n",
        "print(\"3. Calcular el valor inicial\")\n",
        "opcion = int(input(\"Elige una opción: \"))\n",
        "## ESTRUCTURA DE SELECCION DE LA OPERACION\n",
        "if opcion == 1:\n",
        "  print(\"calculos los periodos de capitalizacion\")\n",
        "  P = float(input(\"Ingrese el capital inicial: \"))\n",
        "  A = float(input(\"Ingrese el valor futuro: \"))\n",
        "  i = float(input(\"Ingrese la tasa de interes: \"))\n",
        "  tiempo_incrementarCapital(P,A,i)\n",
        "elif opcion == 2:\n",
        "  print(\"calculos el valor futuro\")\n",
        "  P = float(input(\"Ingrese el capital inicial: \"))\n",
        "  i = float(input(\"Ingrese la tasa de interes: \"))\n",
        "  n = float(input(\"Ingrese el numero de periodos: \"))\n",
        "  ganancias(P,i,n)\n",
        "elif opcion == 3:\n",
        "  print(\"calcular capital inicial\")\n",
        "  A = float(input(\"Ingrese el valor futuro: \"))\n",
        "  i = float(input(\"Ingrese la tasa de interes: \"))\n",
        "  n = float(input(\"Ingrese el numero de periodos: \"))\n",
        "  capital_Inicial(A,i,n)\n",
        "else:\n",
        "  print(\"opcion invalida\")"
      ],
      "metadata": {
        "colab": {
          "base_uri": "https://localhost:8080/"
        },
        "id": "yvBl5RjX3bfN",
        "outputId": "40e6c822-876b-47a6-b949-2e12f4c1ad06"
      },
      "execution_count": 41,
      "outputs": [
        {
          "output_type": "stream",
          "name": "stdout",
          "text": [
            "Elige qué valor quieres calcular:\n",
            "1. Tiempo para duplicar la inversión\n",
            "2. Calcular el valor futuro\n",
            "3. Calcular el valor inicial\n",
            "Elige una opción: 23\n",
            "opcion invalida\n"
          ]
        }
      ]
    },
    {
      "cell_type": "markdown",
      "source": [
        "**actividad bonus**\n",
        "graficar el valor del capital año a año definidos por el usuario usando la ecuacion de interes compuesto en rango de años acuacion de interes compuesto"
      ],
      "metadata": {
        "id": "QrLUiF1kf0UP"
      }
    },
    {
      "cell_type": "code",
      "source": [
        "from re import X # ?\n",
        "\n",
        "\n",
        "#generar un vector de 20 años\n",
        "\n",
        "import numpy as np\n",
        "\n",
        "x = np.linspace(1,10,10) #  numpy.linspace(start, stop, numero de diviciones)\n",
        "P =100\n",
        "i = 0.08\n",
        "n = x\n",
        "A = P*((1+i)**n)\n",
        "\n",
        "# linespace(punto de inicio, pinto de fin y el numero de elementos)\n"
      ],
      "metadata": {
        "id": "tFuJkPkvBNlC"
      },
      "execution_count": 46,
      "outputs": []
    },
    {
      "cell_type": "code",
      "source": [
        "n"
      ],
      "metadata": {
        "colab": {
          "base_uri": "https://localhost:8080/"
        },
        "id": "BWZTxYeKjV1k",
        "outputId": "073d1fbf-0e85-45db-cb00-7c3d799fe285"
      },
      "execution_count": 47,
      "outputs": [
        {
          "output_type": "execute_result",
          "data": {
            "text/plain": [
              "array([ 1.,  2.,  3.,  4.,  5.,  6.,  7.,  8.,  9., 10.])"
            ]
          },
          "metadata": {},
          "execution_count": 47
        }
      ]
    },
    {
      "cell_type": "code",
      "source": [
        "A"
      ],
      "metadata": {
        "colab": {
          "base_uri": "https://localhost:8080/"
        },
        "id": "2OQyzHtwCnqP",
        "outputId": "3f38ea65-72b3-489a-f363-ccea61b067b6"
      },
      "execution_count": 48,
      "outputs": [
        {
          "output_type": "execute_result",
          "data": {
            "text/plain": [
              "array([108.        , 116.64      , 125.9712    , 136.048896  ,\n",
              "       146.93280768, 158.68743229, 171.38242688, 185.09302103,\n",
              "       199.90046271, 215.89249973])"
            ]
          },
          "metadata": {},
          "execution_count": 48
        }
      ]
    },
    {
      "cell_type": "code",
      "source": [
        "import matplotlib.pyplot as plt\n",
        "\"plot(x,y)\"\n",
        "plt.figure(figsize=(5,3))\n",
        "plt.plot(x,A)\n"
      ],
      "metadata": {
        "colab": {
          "base_uri": "https://localhost:8080/",
          "height": 312
        },
        "id": "9KcuSnO8CpVe",
        "outputId": "09c38a69-a0c2-4883-bfa0-df41da158676"
      },
      "execution_count": 52,
      "outputs": [
        {
          "output_type": "execute_result",
          "data": {
            "text/plain": [
              "[<matplotlib.lines.Line2D at 0x7b36cea3b4c0>]"
            ]
          },
          "metadata": {},
          "execution_count": 52
        },
        {
          "output_type": "display_data",
          "data": {
            "text/plain": [
              "<Figure size 500x300 with 1 Axes>"
            ],
            "image/png": "[encoded data removed]"
          },
          "metadata": {}
        }
      ]
    }
  ]
}
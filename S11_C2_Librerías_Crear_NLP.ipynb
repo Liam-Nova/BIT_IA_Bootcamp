{
  "nbformat": 4,
  "nbformat_minor": 0,
  "metadata": {
    "colab": {
      "provenance": [],
      "authorship_tag": "ABX9TyPCyrOChv8c7P1RZY52qqOB",
      "include_colab_link": true
    },
    "kernelspec": {
      "name": "python3",
      "display_name": "Python 3"
    },
    "language_info": {
      "name": "python"
    }
  },
  "cells": [
    {
      "cell_type": "markdown",
      "metadata": {
        "id": "view-in-github",
        "colab_type": "text"
      },
      "source": [
        "<a href=\"https://colab.research.google.com/github/Liam-Nova/BIT_IA_Bootcamp/blob/main/S11_C2_Librer%C3%ADas_Crear_NLP.ipynb\" target=\"_parent\"><img src=\"https://colab.research.google.com/assets/colab-badge.svg\" alt=\"Open In Colab\"/></a>"
      ]
    },
    {
      "cell_type": "markdown",
      "source": [
        "Paso 1 Conectarse a drive"
      ],
      "metadata": {
        "id": "Brar0XbNUWhz"
      }
    },
    {
      "cell_type": "code",
      "source": [
        "from google.colab import drive\n",
        "drive.mount('/content/drive')"
      ],
      "metadata": {
        "colab": {
          "base_uri": "https://localhost:8080/"
        },
        "id": "P1RtHI6fUTuq",
        "outputId": "81d58490-5c4a-4147-c0b5-47e703043d32"
      },
      "execution_count": null,
      "outputs": [
        {
          "output_type": "stream",
          "name": "stdout",
          "text": [
            "Drive already mounted at /content/drive; to attempt to forcibly remount, call drive.mount(\"/content/drive\", force_remount=True).\n"
          ]
        }
      ]
    },
    {
      "cell_type": "markdown",
      "source": [
        "Paso 2. Cargar el archivo plano"
      ],
      "metadata": {
        "id": "e62yKwesVJh5"
      }
    },
    {
      "cell_type": "code",
      "source": [
        "folderPath = '/content/drive/MyDrive/Colab Notebooks/BIT_Bootcam_IA/DataSET/'"
      ],
      "metadata": {
        "id": "sKXj22WhVXmn"
      },
      "execution_count": null,
      "outputs": []
    },
    {
      "cell_type": "markdown",
      "source": [
        "Prueba intermedia, limpiar los textos.\n",
        "vamos a hacer una funcion con re"
      ],
      "metadata": {
        "id": "Cua6ekMrWEKD"
      }
    },
    {
      "cell_type": "code",
      "source": [
        "import os    # la librería necesaria para la ruta de la carpeta\n",
        "os.chdir(folderPath)\n",
        "os.listdir()"
      ],
      "metadata": {
        "colab": {
          "base_uri": "https://localhost:8080/"
        },
        "id": "I8IwwJqZYg6S",
        "outputId": "5637bce7-259a-4134-e7d4-3d133c650865"
      },
      "execution_count": null,
      "outputs": [
        {
          "output_type": "execute_result",
          "data": {
            "text/plain": [
              "['book (1).txt',\n",
              " 'marketing_campaign.csv',\n",
              " 'marketing_campaign.xlsx',\n",
              " 'marketing_extract_2X_Income.xlsx',\n",
              " 'linear_regression_model (1).pkl',\n",
              " 'poly_regression_model (1).pkl',\n",
              " 'auto-mpg.names',\n",
              " 'auto-mpg.data-original',\n",
              " 'auto-mpg.data',\n",
              " 'Index',\n",
              " 'mpg-limpios-procesados.xlsx',\n",
              " 'Classification_Tests.csv',\n",
              " 'heart_attack_risk_dataset.csv',\n",
              " 'generated_classification_data.csv',\n",
              " 'Mall_Customers.csv',\n",
              " 'Police-Crime.csv',\n",
              " 'amazon_reviews.csv',\n",
              " 'twitter.csv',\n",
              " 'news.txt',\n",
              " 'libJuli1.py',\n",
              " '__pycache__']"
            ]
          },
          "metadata": {},
          "execution_count": 30
        }
      ]
    },
    {
      "cell_type": "code",
      "source": [
        "import re\n",
        "def clean_text(file):\n",
        "  text = open(file).read()\n",
        "  # re para limpiar html <caracteres>\n",
        "  text = re.sub(r'<.*?>', ' ', text)\n",
        "  # re para espacios en vblanco(\\s) (+repeticiones de anterior)(espacios\n",
        "  text = re.sub(r'\\s+', ' ', text)\n",
        "  return text"
      ],
      "metadata": {
        "id": "N20bUfjJWNUJ"
      },
      "execution_count": null,
      "outputs": []
    },
    {
      "cell_type": "code",
      "source": [
        "# Probar función\n",
        "cleanText = clean_text(folderPath + 'news.txt')\n",
        "cleanText"
      ],
      "metadata": {
        "colab": {
          "base_uri": "https://localhost:8080/",
          "height": 226
        },
        "id": "YwIJsCcZX82c",
        "outputId": "ea8de20e-e9a4-498a-c50d-f1ed473930b7"
      },
      "execution_count": null,
      "outputs": [
        {
          "output_type": "execute_result",
          "data": {
            "text/plain": [
              "'EL PAÍS: el periódico global____11 dic 2024|Actualizado 01:41 CET|Seleccione:- - -EspañaAméricaMéxicoColombiaChileArgentinaUS EspañolUS EnglishsuscríbeteHHOLAIniciar sesiónInternacionalOpiniónEspañaEconomíaSociedadMedio AmbienteCienciaSaludTecnologíaCulturaDeportesBabeliaEl País SemanalCinco DíasEl País Exprés11 dic 2024|Actualizado 01:41 CET|suscríbeteAvance Consulte la portada de EL PAÍS, Edición Nacional, del 11 de diciembreIsrael gana terreno en Siria tras la caída de El Asad: “Nos han amargado la alegría por la marcha del dictador”Antonio Pita|ShahdaLas tropas israelíes entran en el país árabe por primera vez en medio siglo para tratar de impedir que las autoridades usen las capacidades militares en su contraEn DirectoLa Unión Europea teme un “vacío de gobernanza” en Siria que derive en el “resurgimiento del extremismo”Mohamed el Bashir, elegido primer ministro del Gobierno de transición. La ONU pide el cese de los ataques israelíes en SiriaEn el interior de Saidnaya, el “matadero humano” de El AsadA. P.|Saidnaya (Siria)El PP y Junts se alían para intentar tumbar el impuesto sobre la producción eléctricaPablo Sempere / Ignacio Fariza / Elsa García de Blas|MadridLos populares calculan que dejarían de ingresarse 1.100 millones al añoEl PNV se cierra a negociar el impuesto sobre los beneficios extraordinarios de las energéticasEl Congreso rechazará la pretensión de Junts de discutir una “moción de confianza encubierta”Javier Casqueiro|MadridLa mayoría de la Mesa de la Cámara formada por PSOE y Sumar no la admitirá, con informes de los letrados, y el PP también la cuestionaEl comité de garantías de Más Madrid anula la destitución de Arenillas como miembro de la Mesa Regional del partidoJuan José Mateo / Eva Baroja|MadridEl órgano avala parcialmente a la exjefa de gabinete de Errejón, aunque la dirección de la formación asegura que nunca la cesó de ese puestoLuigi Mangione llega este martes al tribunal.REUTERSLuigi Mangione, un informático brillante y de una próspera familia: así es el sospechoso de matar al ejecutivo de UnitedHealthcareMaría Antonia Sánchez-Vallejo|Nueva YorkEl detenido dejó de comunicarse con allegados hace seis meses tras sufrir dolores en la espaldaLas palabras espóiler, dana, sérum, teletrabajar y tabulé entran en el ‘Diccionario de la lengua española’Manuel Morales|MadridLa RAE presenta las novedades de la actualización 23.8, entre las que están las expresiones unidad móvil, zona de confort y voto de castigoEl ‘padre’ del término dana: “Pensé que no iba a tener fortuna”Atalanta, 2; Real Madrid, 3El Madrid despierta sobre el filoDavid ÁlvarezMuy abajo en la tabla de la Champions, el equipo de Ancelotti derrota a los italianos, uno de los equipos más en forma de Europa, con goles de Mbappé, que se fue lesionado, Vinicius y Bellingham, de nuevo brillante y expansivoLa breve función de Kylian Mbappé: gol número 50 en Champions y otra lesiónBellingham celebra su gol, el tercero del Madrid al Atalanta.GETTYActualidadNEWSLETTER DIARIALa delegación del Partido Socialista, justo antes de la reunión.EFEMacron rompe la unidad en la izquierda y avanza hacia un acuerdo sin Mélenchon ni Le PenDaniel Verdú|ParísLos partidos políticos, a excepción de La Francia Insumisa y el Reagrupamiento Nacional, se reúnen con el jefe del Estado, que se compromete a nombrar un primer ministro en 48 horasEl coronel que condecoró a Aldama asegura que el empresario ayudó a la hija enferma de un agenteÓscar López-Fonseca|MadridEl alto mando reafirma que el directivo y Koldo García eran “colaboradores” de la Guardia CivilDavid Sánchez alega que su plaza se convocó cuando su hermano “había tocado fondo” en el PSOEÓscar López-Fonseca|MadridEl familiar del presidente del Gobierno se adhiere al escrito con el que la Fiscalía ha recurrido su imputación porque la jueza no concreta ni indicios ni delitos contra él y los otros acusadosEl pulso contra el drástico recorte de pesca en el Mediterráneo alarga las negociaciones en BruselasSilvia Ayuso|BruselasEspaña sigue negociando para intentar revertir el “radical” recorte propuesto por la Comisión, que estipula solo 27 días de pesca de arrastre al añoLa regulación del alquiler de temporada en Barcelona contempla limitarlo o incluso prohibirloClara Blanchar|BarcelonaEl Ayuntamiento aprueba el primer trámite de la normativa, cuyo texto alerta de la pérdida de vivienda, con los votos del PSC, comunes y ERCLos Reyes y el ministro Albares, el martes en Roma.EFEZarzuela y Exteriores rebajan a “malentendido” el malestar por la ausencia de los Reyes en Notre DameMaría Martín / Íñigo Domínguez|Madrid / RomaEl jefe de la Casa Real y Albares hablan en el avión que lleva a Felipe VI a Italia después de que el Gobierno se quejara de no haber sido informadoDetenido un hombre en Palma por asesinar a una mujer delante de su hija en un vehículoLucía Bohórquez|PalmaEl presunto asesino tenía una orden de alejamiento sobre su pareja por un episodio de malos tratosRohan Dennis llega al tribunal de Adelaide, en Australia, en marzo.EPEl ciclista Rohan Dennis se declara culpable de la muerte de su esposa, a quien atropelló hace un añoEl deportista australiano, que fue campeón mundial, permanecía en libertad bajo fianza acusado de homicidio por conducción temerariaStellantis y la china CATL invertirán 4.100 millones en la mayor planta de baterías de EspañaManu Granda|MadridEstá previsto que la gigafactoría comience su producción en 2026El Gobierno incrementa a 124,5 millones de euros las ayudas para la digitalización de los mediosQuino Petit|MadridLa mayor dotación consiste en 65 millones “para la transformación digital de los medios impresos”Más noticiasLa huelga del servicio de movimiento de aviones en Madrid-Barajas queda sin efectoLos nueve rectores andaluces usarán “todas las vías legales” para reclamar a la Junta casi 50 millonesLa jueza llama a declarar como imputado a Nacho Cano en el ‘caso Malinche’Absueltos 15 acusados de urdir una trama para amañar contratos en ayuntamientos de MadridEspacio Eco, un proyecto de Ecoembes¿Sabes por qué los yogures y los botes de salsa tienen los bordes redondeados?J. R._¿Sirve la IA para identificar a las personas por sus andares? Un experimento revive la controversiaManuel G. PascualEl viaje más largo de una ballena jorobada: un macho recorrió 13.000 kilómetros para aparearseMiguel Ángel CriadoPaul McCartney en Madrid: el lunes más hermoso de nuestras vidasCarlos Marcos|MadridEstas son las señales de peligro que los pacientes deben vigilar al tomar NolotilOriol Güell|BarcelonaEn plan pyme, un proyecto de BeeDigitalQué necesita una pequeña empresa para triunfar: estos son los servicios que conducen al éxitoOpiniónEDITORIALOtro órdago de PuigdemontLa proposición de Junts para que el presidente del Gobierno se someta a una cuestión de confianza necesitará el apoyo de PP y VoxLa quinta ola yihadista, un nuevo capítuloJavier MartínLos rebeldes que han derrocado a El Asad parecen alinearse con los intereses geopolíticos de Israel y Arabia Saudí en la guerra contra su enemigo común: IránMi mapa de miedos políticos: ‘Pedro y el lobo’Bernat Castany Prado‘TintaLibre’ reproduce las reflexiones de Bernat Castany sobre el miedo, sus distintas variables y cómo afecta a la sociedadRed de RedesComo Hello Kitty en la oficina con una motosierraNoelia RamírezLos memes más compartidos este año en mis grupos son los que se ríen de la decadencia de la cultura del trabajoGolpe a golpeDavid TruebaUn puño poderoso y autoritario golpea las puertas de la democracia sin que la ciudadanía lo reconozca como enemigoVIÑETAPeridisDestacamos Francisco Pedraña, en la peluquería que regenta en Paiporta.J. H.Volver a empezar: los negocios de la zona cero de la dana reabren con préstamos o donaciones familiaresLuis Enrique Velasco|PaiportaUn informe de la Cámara de Comercio de Valencia estima que dos terceras partes de los 8.106 locales afectados por la dana han sufrido daños directosEl funeral por las víctimas acaba con reproches e insultos de algunos familiares a MazónUna banqueta del canal de riego del Jarama.CARLOS ROSILLOEspaña elaborará el primer inventario de suelos radiactivos tras años de dilacionesManuel Planelles|MadridPese a haber al menos seis zonas afectadas por accidentes nucleares o actividades industriales, no existe un catálogo con planes de limpiezaLas advertencias sobre el uso de las armas nucleares marcan la entrega de los premios Nobel de 2024“Abrígate, que te vas a resfriar”: la ciencia da algo de razón al mito del frío y el catarroJavier YanesEspaña acorta distancias con los países desarrollados en las habilidades educativasIgnacio Zafra|ValenciaEl informe PISA de adultos sitúa a los españoles de 16 a 65 años en una posición similar a la que logran los alumnos de 15 al competir con otros paísesFortes denuncia coacciones del novio de Ayuso por llamarle “defraudador confeso”_EL PAÍS ExprésRenfe¿Tienes cinco minutos? Los seis temas que debes saber hoy para estar informado El conflicto en Siria, el funeral por las víctimas de la dana y las causas de los resfriados, entre las propuestas¿Qué es EL PAÍS Exprés?BBVASeis maneras de hablarse a uno mismoSeis maneras de hablarse a uno mismo\"No se puede guardar el arte en un cajón\"\"Para ser feliz necesitas un propósito\"CataluñaAdrià Targa: “La gent potser ha oblidat que la rima enganxa”Eduard OlestiDeu mesos escampant confeti per CatalunyaJordi PuntiBarcelona contará con una de las siete fábricas de inteligencia artificial de EuropaSergi Llanas|BarcelonaEspecial publicitatReceptes metropolitanes per garantir habitatge de qualitat a un preu assequibleM. E. En el mundoLula, operado de emergencia de una hemorragia cerebral tras una caída en octubre en su residenciaNaiara Galarraga Gortázar|São PauloEl presidente de Brasil, de 79 años, está despierto y estable, monitorizado en la UVI de un hospital de São PauloLa industria del automóvil europea teme 15.000 millones en multas por la venta de coches contaminantesManuel V. Gómez|BruselasEl presidente de la patronal de fabricantes asume que la UE ha perdido terreno frente a ChinaMilei, un año de guerra contra el Estado argentinoFederico Rivas Molina|Buenos AiresEl ultraderechista completa 12 de meses de mandato con la inflación bajo control, mientras impulsa una agenda que corroe la convivencia democráticaDos escándalos de corrupción ponen en cuestión el discurso anticasta de MileiBatalla por la herencia de Rupert MurdochMiguel Jiménez|WashingtonUn incendio forestal en Malibú se sale de control y provoca la evacuación de miles de personasLuis Pablo Beauregard|Los ÁngelesCinco DíasVER LA NEWSLETTERSuscriptores premiumLas rentabilidades de las letras caen a mínimos de dos años en la última subasta de 2024Gema EscribanoEl Tesoro coloca 2.582,4 millones a tres y nueve meses y los particulares aceleran la compra de deuda para asegurarse los mejores rendimientosSuscriptores premiumCarlos San Basilio, discreción gallega para impulsar la Bolsa españolaNuria Salobral|MadridNestea encuentra fabricante en España: la cervecera Damm comenzará a venderlo el 1 de eneroJ. G. R.|MadridEl grupo ya fabrica la bebida de té en su fábrica de Salem, en Valencia. Las primeras unidades llegarán al mercado el 1 de eneroESPECIAL PUBLICIDADEl banco que cuida el planeta y que recompensa a quien cuida su salud V. M. Cultura y artesCarta enviada por la hermana del soldado alemán Franz Koster.PATRIMONIO NACIONALPor qué miles de europeos escribieron a Alfonso XIII para encontrar soldados desaparecidos en la I Guerra MundialManuel Morales|MadridEl Palacio Real alberga 182.000 expedientes de familias desesperadas que recurrieron al rey español para localizar a seres queridos en el conflicto europeo. Patrimonio Nacional ultima un portal que permitirá el acceso El Museo del Prado acoge el prodigio de la escultura policromadaÁngeles García|MadridGinés García Millán, actor: “Siempre hay alguien que me baja los pies al suelo”Jesús Ruiz Mantilla|MadridEl archivo que concentra miles de archivos de literatura de todo el mundoMiguel Ángel García VegaESPECIAL PUBLICIDADUn exclusivo club del vino entre los mejores de Europaj. l. g.DeportesSalah, del Liverpool, anota el penalti ante el Girona.REUTERSGirona, 0; Liverpool, 1El Liverpool descabalga al GironaJordi Quixano|GironaEl equipo catalán, tan brioso en el césped como nulo en el remate, pierde por un penalti y se evapora en EuropaEl PSG sale del pozo y el Bayer rompe la imbatibilidad del InterDiego TorresEl Nàstic se querella contra un árbitro al que acusa de favorecer el ascenso del MálagaIrene Guevara / Jesús García Bueno|BarcelonaCarlos Sainz pone en marcha su nueva vida en WilliamsOriol PuigdemontSalvador Gomar, candidato a la presidencia de la RFEF: “Con una condena por prevaricar no me presentaría”Ladislao J. Moñino|Madrid_EL PAÍS GastroRecetasEl ComidistaRestaurantesBeberGuía Gastro 2025Costillar de carne de cordero.GETTY El cordero es como el cerdo: estos son los cortes para aprovechar todas las piezas de carnePaz ÁlvarezLa paletilla, la pierna y el costillar son las partes preferidas en el consumo doméstico, pero hay otras, más desconocidas, como el cuello o el jarrete ¿Cuál es la mejor marca de salmón ahumado?Mikel López IturriagaEl Invernadero de Madrid es el mejor restaurante de vegetales del mundo, según Green GuideMar Rocabert Maltas|ValenciaBegoña Rodrigo, del restaurante La Salita, se convierte en la mejor cocinera de verduras en una gala celebrada en ValenciaMenús cerrados y no devolver el dinero de las reservas: así se aprovechan algunos restaurantes de las cenas de NavidadMiguel Ángel MedinaESPECIAL PUBLICIDAD12 motivos para regalar(te) y brindar con un whisky premium estas fiestas_Pasatiempos en EL PAÍSCrucigrama para expertosCrucigrama MambrinoSudoku para expertosPalabra secretaOcio y estilo de vidaUn alto de la ruta El Bastón en la Caldera de Taburiente, en la isla de La Palma (Canarias).Ida PlazaA pie por La Palma, una de las maneras más originales de visitar la islaPaco NadalEn la isla de La Palma, dos senderos de Gran Recorrido permiten descubrir paisajes volcánicos, territorios montañosos y rincones naturales ‘Entrepreneurs’, la serie que une a los mejores personajes de Pantomima Full en un disparatado ‘coworking’ Héctor Llanos Martínez|MadridEl extraño ingreso de la Iglesia en el negocio multinacional del lujoRaquel PeláezEl director de cine italiano Federico Fellini imaginó un ‘fashion show’ surrealista en Roma, su película autobiográfica. Tres décadas después, la realidad supera a la ficción¿Es necesario contarle todo a la pareja? Cuando la calidad importa más que la cantidadCarolina Pinedo|MadridMantener un espacio personal en una relación sentimental es sano y evita malentendidos o conflictosESCAPARATE30 regalos originales para el amigo invisible por menos de 20 eurosDaniel MuelaLo mejor de la semanaSUSCRÍBETELos 10 pensadores más influyentes del mundoAna Mena: “Yo no tenía un plan B. Yo quería ir a por el plan A”Ana Fernández AbadLa narcoguerra que desangra a SinaloaPablo Ferri|CuliacánLa Complutense, una universidad en los huesosElisa Silió|MadridEn vídeoMás historias en PRISA VídeoMIRA EL CANAL EL PAÍSRSC‘Healthy Cities 2024’: millones de pasos en favor del medio ambienteCarmen GarijoHacia un abordaje de los trastornos mentales graves que garantice una recuperación plenaD. D.Bonos verdes para estimular una transición sostenibleM. E.__InternacionalTerror, masacre y vudú en el último episodio del cerco de las pandillas en HaitíSandrine ExilTaiwán acusa a China de ensayar un hipotético control naval del estrecho de FormosaNetanyahu declara ante un tribunal de Tel Aviv acusado de soborno, fraude y abuso de confianzaEspañaEl Congreso reconoce a las Constituyentes sin dejar a un lado la pelea partidistaPaula ChouzaUn fiscal ratifica ante el juez que vio a García Ortiz y su número dos hablando a solas durante el registro en la FiscalíaEncontronazo de PP y Vox por la comparecencia de Pedro Sánchez en la comisión de Begoña Gómez en la AsambleaEconomíaÓscar López garantiza que habrá una nueva licitación de Muface “antes de que acabe el año”EPEl PSOE y Sumar pactan que las empresas que deslocalicen tengan que devolver las ayudas públicasLa UE se inclina por mantener la exención fiscal al combustible para el transporte aéreo y marítimoSociedadAlarma en el primer hospital donde está confirmado el brote de ‘Klebsiella oxytoca’: “Los bebés están aislados”Beatriz GuillénLa propuesta sobre vivienda más apoyada por los jóvenes es eliminar el IVA de la compra de la primera vivienda planteada por VoxNo hay formación (oficial) para manejar las máquinas de protonterapia contra el cáncer donadas por Amancio OrtegaEducaciónAyuso recula y firmará el convenio para contratar a 1.091 profesores universitarios con las condiciones del ministerioElisa SilióPeligra la enseñanza de francés en los colegios madrileños que impartirán 1º y 2º de la ESO ante la poca demanda de estudiantesProfesores, alumnos y políticos se movilizan contra la asfixia de Ayuso a las universidades: “La uni no se vende, la uni se defiende”Clima y Medio AmbientePrimer ‘ranking’ de trenes de Europa: Renfe es el tercer operador más puntual pero debería bajar sus tarifas Miguel Ángel MedinaLlega el ‘carsharing’ para alquilar coches entre particulares: “En vez de tenerlo aparcado, está haciendo dinero”El Defensor del Pueblo ve “injustificados” los retrasos en las zonas de bajas emisiones y pide instalarlas yaCiencia y SaludJared Isaacman, un hombre de Elon Musk al frente de la NASA: ¿llega la revolución marciana?Rafael Clemente‘Los nuevos asesores científicos ministeriales: un puente firme entre la ciencia y las políticas públicas’, por Perla Wahnón, Eva Alcón y otros¿Cuándo debe acudir tu hija al ginecólogo por primera vez?TecnologíaLos 25 mejores calendarios de Adviento gratuitos y digitales de 2024Isabel RubioAlertas de lluvia, Errejón, Topuria y los pitos a Cucurella, de lo más buscado de Google en 2024Google presenta Willow, un chip cuántico que resuelve en 5 minutos una tarea que un superordenador tardaría cuatrillones de añosDeportesTadej Pogacar mantiene el suspense sobre la Vuelta a España de 2025Carlos ArribasEl Valencia - Real Madrid se disputará el 3 de eneroMundial de ajedrez | Ding crea una obra maestra, gana la 12ª partida e iguala el marcador a falta de solo dos asaltosCultura‘Madama Butterfly’ regresa al Liceu con un gran reparto y una sorpresa en el fosoPablo L. RodríguezGlobos de Oro 2025: ‘El brutalista’ y ‘Emilia Pérez’ dominan las nominaciones ‘Recuerdos secundarios’, por Enrique Vila-MatasTelevisión‘Ya es navidad en Netflix’, por Paloma RandoPaloma Rando‘Outlander’ vuelve a Escocia antes de su despedida: “Va a ser duro decir adiós”‘Itziar, Lalachus, y los señores’, por Jimina SabadúGenteBarry Keoghan denuncia el acoso tras su ruptura con Sabrina Carpenter: “He recibido mensajes que ninguna persona debería leer jamás”El País / Andrea Insa MarcoJamie Foxx revela dos años después el motivo por el que estuvo a punto de morirKerry Taylor, la experta en subastas de moda que se negó a vender la ropa interior de la reina Isabel IIPlaneta FuturoAliou Sané, activista: “El reto ahora es que la esperanza de los jóvenes senegaleses no se transforme en decepción”Beatriz LecumberriEl arte de los jóvenes africanos busca su lugar en las colecciones europeasEl País SemanalSamantha Hudson: “Puedes estar triste en Navidad y no sufrir: sentir la nostalgia no es padecerla”Tom C. AvendañoCuando los árboles tienen geometrías bellas, inquietantes o mostruosasS Moda46 regalos que son pura moda: esta es la ‘wishlist’ para acertar estas navidadesVictoria ZárateMagali Croset-Calisto, sexóloga: “Muchas mujeres ya no consideran que la falta de deseo sexual sea un problema”ICONEl espacio CUPRA City Garage ilumina la Navidad más original de MadridICON“Funcionó hasta que nos dimos cuenta de que nos odiábamos”: Frankie Goes To Hollywood, el grupo que rompió las reglas durante cinco minutosEl ViajeroCómo descubrir Flandes en biciCristina CandelLas maravillas de La Rioja argentinaIdeasQue no cunda el pesimismo. Diez ideas para afrontar el futuro IdeasJudith Butler, filósofa: “Si sacrificas a una minoría como las personas trans, operas dentro de una lógica fascista”NegociosValencia, Lorca, La Palma y Costa da Morte: cómo se reconstruye la economía de una zona asolada por una catástrofeEl País“Recoja sus cosas, está despedido”: la frase que un empresario tiene que pensarse ahora dos veces si no quiere meterse en un líoBabeliaConfucio (II): Entender China, una tarea urgenteJuan ArnauVideojuegos, códigos de venta y tiendas ‘online’El MotorLa estafa del billete: el nuevo timo para robar coches con el que puedes ganar 50 eurosANDREA GILCoches de segunda mano: ¿a partir de cuántos kilómetros son casi un timo?AjedrezVídeos de ajedrez | El sublime Spielmann, siempre al ataque directoLeontxo GarcíaLa siempreviva del peruano Esteban CanalEl ComidistaDoce libros de cocina y gastronomía para regalar en NavidadMònica EscuderoMenú semanal de El Comidista (9 a 15 de diciembre)TendenciasDentro de Heura, la empresa de carne vegetal líder en España: “Nacimos del activismo”Daniel Alonso ViñaDoris Sung, arquitecta: “Las fachadas de los edificios deben utilizarse para el bien común”Escaparate Boletín de recomendacionesLos periodistas de Escaparate seleccionan los mejores productos que puedes adquirir en internetLos mejores piensos para perros y gatos mayoresDaniel Muela¿Qué regalar a niños de 8 a 10 años? Ideas para acertar esta NavidadBeatriz Gámez Jareño20 regalos para embarazadas: opciones para todos los bolsillosLuis Campo YanguasAdiós al frío con estos leggings térmicos con forro polarBeatriz Gámez JareñoEl reto que mantendrá a toda la familia enganchadaDavid Rodríguez MaderaEl problema de Mbappé puede venir de más atrás: “Me parece bastante preocupante”Una americana flipa con lo que los españoles hacemos en el Mercadona: otros extranjeros lo confirmanMundial a España por aclamaciónLa gran sustitución: la IA y su oferta que el cine no podrá rechazarJohn Goodman y su impactante cambio físico tras perder 90 kilos para afrontar su nueva etapa como actorCinco curiosidades del concierto de Paul McCartney en MadridRecomendaciones EL PAÍSDescuentosEscaparateCursosCursos onlineIdiomas onlineEL PAÍS VinosDescuentosdescuentosSeleccionamos para ti las ofertas especiales de AliExpress en tecnología, moda, hogar y mucho másdescuentosTus vacaciones más baratas gracias al código de descuento válido para Barceló HotelesdescuentosUtiliza nuestro cupón de descuento válido en Amazon para tu próximo pedidodescuentosAprovecha los códigos descuento verificados de SamsungEscaparateescaparateLO MÁS VENDIDO EN ESCAPARATE: Almohada para rodillas que mejora el sueño. Tiene un 19% de descuento: SOLO 8,89€escaparateLámpara de lectura recargable 360º. Tiene un 42% de descuento: SOLO 10,17€escaparateCargador de coche de carga rápida con más de 20.000 valoraciones. Tiene un 33% de descuento: SOLO 9,99€escaparateLos auriculares inalámbricos bluetooth más vendidos con más de 13.000 valoraciones. SOLO 29,99€Cursoscursos¿Todavía buscas plaza para cursar un ciclo de FP? Te mostramos los mejores centros para que encuentres el que se adapte a ticursos¡Impulsa tu empresa con los mejores cursos de transformación digital y adáptate a las nuevas tendencias tecnológicas!cursos¡Conviértete en un experto en nutrición! Aprende a diseñar planes alimentarios saludables y equilibradoscursosFórmate en Sistemas Informáticos en Red y adquiere habilidades clave para una carrera en el sector tecnológicoCursos onlinecursosonlineDescubre el mejor curso en Recursos Humanos y desarrolla las habilidades clave para gestionar el talento en las organizacionescursosonlineEspecialízate en Logística con la formación que te preparará para enfrentar los desafíos del sectorcursosonline¡Explora los cursos de Técnico Superior en Imagen para el Diagnóstico y prepárate para destacar en el sector de la salud!cursosonlineAprende a transformar datos en decisiones estratégicas para tu empresa formándote en Business IntelligenceIdiomas onlinecursosinglesAprende idiomas con EL PAÍS con 15 minutos al díacursosinglesMejora tu inglés con 21 días gratis sin compromisocursosinglesPrueba a aprender italiano con lecciones personalizadascursosinglesAprende francés y obtén tu certificadoEL PAÍS VinoscoleccionesComo cada año EL PAÍS y Bodegas Riojanas preparan la mejor selección de vino de esta Navidadcolecciones Una oferta exclusiva para los lectores de EL PAÍS compuesta por 12 botellascoleccionesA un precio inigualablecoleccionesNo te quedes sin tu lote de vinos, ¡cómpralo ya!Lo más vistoNorman Foster: “España podría darle un par de lecciones al mundo sobre transporte público de calidad”Alemania, Francia, el Reino Unido y otros países europeos suspenden las solicitudes de asilo de los sirios tras la caída de El AsadEl hombre detrás del éxito televisivo de Silvia Pinal: “Se convirtió en la segunda Virgen de Guadalupe”Conflicto en Siria, en directo | La Unión Europea teme un “vacío de gobernanza” que derive en el “resurgimiento del extremismo” en SiriaFernando Alberca, pedagogo: “Hemos alimentado a los hijos con la idea de que si la vida es cómoda es feliz. Y esto es mentira”Más de 75 premios Nobel piden al Senado de Estados Unidos que no confirme a Robert Kennedy como secretario de SaludEncontronazo de PP y Vox por la comparecencia de Pedro Sánchez en la comisión de Begoña Gómez en la AsambleaGoogle presenta Willow, un chip cuántico que resuelve en 5 minutos una tarea que un superordenador tardaría cuatrillones de añosTrump rebaja su mensaje sobre deportaciones y venganza política en su primera entrevista tras las eleccionesTanques abandonados en Siria y centros comerciales saqueados: los rebeldes tratan de poner orden tras la caída del régimen___HOLAsuscríbete por 1€Mi actividadMi suscripciónMis datosMis newslettersDerechos y bajaExperiencias para mídesconectaralto contraste:BuscarSeleccione:- - -EspañaAméricaMéxicoColombiaChileArgentinaUS EspañolUS EnglishSi quieres seguir toda la actualidad sin límites, únete a EL PAÍS por 1€ el primer mesSUSCRÍBETE AHORAInternacionalOpiniónEditorialesTribunasViñetasCartas a la DirectoraDefensora del lectorEspañaAndalucíaCataluñaComunidad ValencianaGaliciaMadridPaís VascoEconomíaMercadosViviendaMis derechosFormaciónSociedadEducaciónClima y Medio AmbienteCienciaSaludTecnologíaCulturaDeportesFútbolBaloncestoTenisCiclismoFórmula 1MotociclismoGolfAtletismoAjedrezTelevisiónGente y Estilo de vidaEl País ExprésFotografíaVídeosCanal EL PAÍSPodcastsel país semanalideasNegociosBabeliaQuadernel viajeroplaneta futuros modaiconGastroEl ComidistaCinco DíasMotorMamas & PapasAmérica FuturaEscaparateExtrasCrucigramas y JuegosEL PAÍS +NewsletterÚltimas noticiasHemerotecaEspecialesServiciosDescuentosColeccionesEntradasSíguenos en: '"
            ],
            "application/vnd.google.colaboratory.intrinsic+json": {
              "type": "string"
            }
          },
          "metadata": {},
          "execution_count": 21
        }
      ]
    },
    {
      "cell_type": "markdown",
      "source": [
        "Paso 3. Crear el espacio para la libreria"
      ],
      "metadata": {
        "id": "3VKvJOH7ZgzZ"
      }
    },
    {
      "cell_type": "code",
      "source": [
        "!touch /content/drive/MyDrive/Colab\\ Notebooks/BIT_Bootcam_IA/DataSET/libJuli1.py"
      ],
      "metadata": {
        "id": "UfbA248tZtq_"
      },
      "execution_count": null,
      "outputs": []
    },
    {
      "cell_type": "markdown",
      "source": [
        "Paso 4. Ruta de la librería: incluir la ruta en las direcciones donde se carge lib"
      ],
      "metadata": {
        "id": "xx7fFcXUcyDZ"
      }
    },
    {
      "cell_type": "code",
      "source": [
        "import sys\n"
      ],
      "metadata": {
        "id": "IKgW5Reqc9Tf"
      },
      "execution_count": null,
      "outputs": []
    },
    {
      "cell_type": "code",
      "source": [
        "sys.path"
      ],
      "metadata": {
        "colab": {
          "base_uri": "https://localhost:8080/"
        },
        "id": "VR2PCmAFdBvC",
        "outputId": "6f4c709b-aa91-410e-ad43-695f15467715"
      },
      "execution_count": null,
      "outputs": [
        {
          "output_type": "execute_result",
          "data": {
            "text/plain": [
              "['/content',\n",
              " '/env/python',\n",
              " '/usr/lib/python310.zip',\n",
              " '/usr/lib/python3.10',\n",
              " '/usr/lib/python3.10/lib-dynload',\n",
              " '',\n",
              " '/usr/local/lib/python3.10/dist-packages',\n",
              " '/usr/lib/python3/dist-packages',\n",
              " '/usr/local/lib/python3.10/dist-packages/IPython/extensions',\n",
              " '/usr/local/lib/python3.10/dist-packages/setuptools/_vendor',\n",
              " '/root/.ipython']"
            ]
          },
          "metadata": {},
          "execution_count": 25
        }
      ]
    },
    {
      "cell_type": "code",
      "source": [
        "sys.path.append(folderPath)\n",
        "sys.path"
      ],
      "metadata": {
        "colab": {
          "base_uri": "https://localhost:8080/"
        },
        "id": "mrXovW7SdZc6",
        "outputId": "dcef965d-cec9-48ea-f92c-60345b1106d6"
      },
      "execution_count": null,
      "outputs": [
        {
          "output_type": "execute_result",
          "data": {
            "text/plain": [
              "['/content',\n",
              " '/env/python',\n",
              " '/usr/lib/python310.zip',\n",
              " '/usr/lib/python3.10',\n",
              " '/usr/lib/python3.10/lib-dynload',\n",
              " '',\n",
              " '/usr/local/lib/python3.10/dist-packages',\n",
              " '/usr/lib/python3/dist-packages',\n",
              " '/usr/local/lib/python3.10/dist-packages/IPython/extensions',\n",
              " '/usr/local/lib/python3.10/dist-packages/setuptools/_vendor',\n",
              " '/root/.ipython',\n",
              " '/content/drive/MyDrive/Colab Notebooks/BIT_Bootcam_IA/DataSET',\n",
              " '/content/drive/MyDrive/Colab Notebooks/BIT_Bootcam_IA/DataSET',\n",
              " '/content/drive/MyDrive/Colab Notebooks/BIT_Bootcam_IA/DataSET/']"
            ]
          },
          "metadata": {},
          "execution_count": 28
        }
      ]
    },
    {
      "cell_type": "code",
      "source": [
        "import libJuli1\n",
        "\n",
        "# Tarea 3\n",
        "# Imput = URL de html\n",
        "# Tokenize\n",
        "# Limpie stopWords español como en ingles\n",
        "# Me regrese la informacion necesaria para graficar la distribucion de NGRAMAS (BIgramas S10_C4)\n",
        "# Me regrese colocaciones"
      ],
      "metadata": {
        "id": "2JUCWgI4dyUk"
      },
      "execution_count": null,
      "outputs": []
    },
    {
      "cell_type": "code",
      "source": [
        "libJuli1.clean_text(folderPath + 'news.txt')"
      ],
      "metadata": {
        "colab": {
          "base_uri": "https://localhost:8080/",
          "height": 226
        },
        "id": "P8TrrNJteC0A",
        "outputId": "b8b77906-ba85-4228-b26e-caabb0e8211b"
      },
      "execution_count": null,
      "outputs": [
        {
          "output_type": "execute_result",
          "data": {
            "text/plain": [
              "'EL PAÍS: el periódico global____11 dic 2024|Actualizado 01:41 CET|Seleccione:- - -EspañaAméricaMéxicoColombiaChileArgentinaUS EspañolUS EnglishsuscríbeteHHOLAIniciar sesiónInternacionalOpiniónEspañaEconomíaSociedadMedio AmbienteCienciaSaludTecnologíaCulturaDeportesBabeliaEl País SemanalCinco DíasEl País Exprés11 dic 2024|Actualizado 01:41 CET|suscríbeteAvance Consulte la portada de EL PAÍS, Edición Nacional, del 11 de diciembreIsrael gana terreno en Siria tras la caída de El Asad: “Nos han amargado la alegría por la marcha del dictador”Antonio Pita|ShahdaLas tropas israelíes entran en el país árabe por primera vez en medio siglo para tratar de impedir que las autoridades usen las capacidades militares en su contraEn DirectoLa Unión Europea teme un “vacío de gobernanza” en Siria que derive en el “resurgimiento del extremismo”Mohamed el Bashir, elegido primer ministro del Gobierno de transición. La ONU pide el cese de los ataques israelíes en SiriaEn el interior de Saidnaya, el “matadero humano” de El AsadA. P.|Saidnaya (Siria)El PP y Junts se alían para intentar tumbar el impuesto sobre la producción eléctricaPablo Sempere / Ignacio Fariza / Elsa García de Blas|MadridLos populares calculan que dejarían de ingresarse 1.100 millones al añoEl PNV se cierra a negociar el impuesto sobre los beneficios extraordinarios de las energéticasEl Congreso rechazará la pretensión de Junts de discutir una “moción de confianza encubierta”Javier Casqueiro|MadridLa mayoría de la Mesa de la Cámara formada por PSOE y Sumar no la admitirá, con informes de los letrados, y el PP también la cuestionaEl comité de garantías de Más Madrid anula la destitución de Arenillas como miembro de la Mesa Regional del partidoJuan José Mateo / Eva Baroja|MadridEl órgano avala parcialmente a la exjefa de gabinete de Errejón, aunque la dirección de la formación asegura que nunca la cesó de ese puestoLuigi Mangione llega este martes al tribunal.REUTERSLuigi Mangione, un informático brillante y de una próspera familia: así es el sospechoso de matar al ejecutivo de UnitedHealthcareMaría Antonia Sánchez-Vallejo|Nueva YorkEl detenido dejó de comunicarse con allegados hace seis meses tras sufrir dolores en la espaldaLas palabras espóiler, dana, sérum, teletrabajar y tabulé entran en el ‘Diccionario de la lengua española’Manuel Morales|MadridLa RAE presenta las novedades de la actualización 23.8, entre las que están las expresiones unidad móvil, zona de confort y voto de castigoEl ‘padre’ del término dana: “Pensé que no iba a tener fortuna”Atalanta, 2; Real Madrid, 3El Madrid despierta sobre el filoDavid ÁlvarezMuy abajo en la tabla de la Champions, el equipo de Ancelotti derrota a los italianos, uno de los equipos más en forma de Europa, con goles de Mbappé, que se fue lesionado, Vinicius y Bellingham, de nuevo brillante y expansivoLa breve función de Kylian Mbappé: gol número 50 en Champions y otra lesiónBellingham celebra su gol, el tercero del Madrid al Atalanta.GETTYActualidadNEWSLETTER DIARIALa delegación del Partido Socialista, justo antes de la reunión.EFEMacron rompe la unidad en la izquierda y avanza hacia un acuerdo sin Mélenchon ni Le PenDaniel Verdú|ParísLos partidos políticos, a excepción de La Francia Insumisa y el Reagrupamiento Nacional, se reúnen con el jefe del Estado, que se compromete a nombrar un primer ministro en 48 horasEl coronel que condecoró a Aldama asegura que el empresario ayudó a la hija enferma de un agenteÓscar López-Fonseca|MadridEl alto mando reafirma que el directivo y Koldo García eran “colaboradores” de la Guardia CivilDavid Sánchez alega que su plaza se convocó cuando su hermano “había tocado fondo” en el PSOEÓscar López-Fonseca|MadridEl familiar del presidente del Gobierno se adhiere al escrito con el que la Fiscalía ha recurrido su imputación porque la jueza no concreta ni indicios ni delitos contra él y los otros acusadosEl pulso contra el drástico recorte de pesca en el Mediterráneo alarga las negociaciones en BruselasSilvia Ayuso|BruselasEspaña sigue negociando para intentar revertir el “radical” recorte propuesto por la Comisión, que estipula solo 27 días de pesca de arrastre al añoLa regulación del alquiler de temporada en Barcelona contempla limitarlo o incluso prohibirloClara Blanchar|BarcelonaEl Ayuntamiento aprueba el primer trámite de la normativa, cuyo texto alerta de la pérdida de vivienda, con los votos del PSC, comunes y ERCLos Reyes y el ministro Albares, el martes en Roma.EFEZarzuela y Exteriores rebajan a “malentendido” el malestar por la ausencia de los Reyes en Notre DameMaría Martín / Íñigo Domínguez|Madrid / RomaEl jefe de la Casa Real y Albares hablan en el avión que lleva a Felipe VI a Italia después de que el Gobierno se quejara de no haber sido informadoDetenido un hombre en Palma por asesinar a una mujer delante de su hija en un vehículoLucía Bohórquez|PalmaEl presunto asesino tenía una orden de alejamiento sobre su pareja por un episodio de malos tratosRohan Dennis llega al tribunal de Adelaide, en Australia, en marzo.EPEl ciclista Rohan Dennis se declara culpable de la muerte de su esposa, a quien atropelló hace un añoEl deportista australiano, que fue campeón mundial, permanecía en libertad bajo fianza acusado de homicidio por conducción temerariaStellantis y la china CATL invertirán 4.100 millones en la mayor planta de baterías de EspañaManu Granda|MadridEstá previsto que la gigafactoría comience su producción en 2026El Gobierno incrementa a 124,5 millones de euros las ayudas para la digitalización de los mediosQuino Petit|MadridLa mayor dotación consiste en 65 millones “para la transformación digital de los medios impresos”Más noticiasLa huelga del servicio de movimiento de aviones en Madrid-Barajas queda sin efectoLos nueve rectores andaluces usarán “todas las vías legales” para reclamar a la Junta casi 50 millonesLa jueza llama a declarar como imputado a Nacho Cano en el ‘caso Malinche’Absueltos 15 acusados de urdir una trama para amañar contratos en ayuntamientos de MadridEspacio Eco, un proyecto de Ecoembes¿Sabes por qué los yogures y los botes de salsa tienen los bordes redondeados?J. R._¿Sirve la IA para identificar a las personas por sus andares? Un experimento revive la controversiaManuel G. PascualEl viaje más largo de una ballena jorobada: un macho recorrió 13.000 kilómetros para aparearseMiguel Ángel CriadoPaul McCartney en Madrid: el lunes más hermoso de nuestras vidasCarlos Marcos|MadridEstas son las señales de peligro que los pacientes deben vigilar al tomar NolotilOriol Güell|BarcelonaEn plan pyme, un proyecto de BeeDigitalQué necesita una pequeña empresa para triunfar: estos son los servicios que conducen al éxitoOpiniónEDITORIALOtro órdago de PuigdemontLa proposición de Junts para que el presidente del Gobierno se someta a una cuestión de confianza necesitará el apoyo de PP y VoxLa quinta ola yihadista, un nuevo capítuloJavier MartínLos rebeldes que han derrocado a El Asad parecen alinearse con los intereses geopolíticos de Israel y Arabia Saudí en la guerra contra su enemigo común: IránMi mapa de miedos políticos: ‘Pedro y el lobo’Bernat Castany Prado‘TintaLibre’ reproduce las reflexiones de Bernat Castany sobre el miedo, sus distintas variables y cómo afecta a la sociedadRed de RedesComo Hello Kitty en la oficina con una motosierraNoelia RamírezLos memes más compartidos este año en mis grupos son los que se ríen de la decadencia de la cultura del trabajoGolpe a golpeDavid TruebaUn puño poderoso y autoritario golpea las puertas de la democracia sin que la ciudadanía lo reconozca como enemigoVIÑETAPeridisDestacamos Francisco Pedraña, en la peluquería que regenta en Paiporta.J. H.Volver a empezar: los negocios de la zona cero de la dana reabren con préstamos o donaciones familiaresLuis Enrique Velasco|PaiportaUn informe de la Cámara de Comercio de Valencia estima que dos terceras partes de los 8.106 locales afectados por la dana han sufrido daños directosEl funeral por las víctimas acaba con reproches e insultos de algunos familiares a MazónUna banqueta del canal de riego del Jarama.CARLOS ROSILLOEspaña elaborará el primer inventario de suelos radiactivos tras años de dilacionesManuel Planelles|MadridPese a haber al menos seis zonas afectadas por accidentes nucleares o actividades industriales, no existe un catálogo con planes de limpiezaLas advertencias sobre el uso de las armas nucleares marcan la entrega de los premios Nobel de 2024“Abrígate, que te vas a resfriar”: la ciencia da algo de razón al mito del frío y el catarroJavier YanesEspaña acorta distancias con los países desarrollados en las habilidades educativasIgnacio Zafra|ValenciaEl informe PISA de adultos sitúa a los españoles de 16 a 65 años en una posición similar a la que logran los alumnos de 15 al competir con otros paísesFortes denuncia coacciones del novio de Ayuso por llamarle “defraudador confeso”_EL PAÍS ExprésRenfe¿Tienes cinco minutos? Los seis temas que debes saber hoy para estar informado El conflicto en Siria, el funeral por las víctimas de la dana y las causas de los resfriados, entre las propuestas¿Qué es EL PAÍS Exprés?BBVASeis maneras de hablarse a uno mismoSeis maneras de hablarse a uno mismo\"No se puede guardar el arte en un cajón\"\"Para ser feliz necesitas un propósito\"CataluñaAdrià Targa: “La gent potser ha oblidat que la rima enganxa”Eduard OlestiDeu mesos escampant confeti per CatalunyaJordi PuntiBarcelona contará con una de las siete fábricas de inteligencia artificial de EuropaSergi Llanas|BarcelonaEspecial publicitatReceptes metropolitanes per garantir habitatge de qualitat a un preu assequibleM. E. En el mundoLula, operado de emergencia de una hemorragia cerebral tras una caída en octubre en su residenciaNaiara Galarraga Gortázar|São PauloEl presidente de Brasil, de 79 años, está despierto y estable, monitorizado en la UVI de un hospital de São PauloLa industria del automóvil europea teme 15.000 millones en multas por la venta de coches contaminantesManuel V. Gómez|BruselasEl presidente de la patronal de fabricantes asume que la UE ha perdido terreno frente a ChinaMilei, un año de guerra contra el Estado argentinoFederico Rivas Molina|Buenos AiresEl ultraderechista completa 12 de meses de mandato con la inflación bajo control, mientras impulsa una agenda que corroe la convivencia democráticaDos escándalos de corrupción ponen en cuestión el discurso anticasta de MileiBatalla por la herencia de Rupert MurdochMiguel Jiménez|WashingtonUn incendio forestal en Malibú se sale de control y provoca la evacuación de miles de personasLuis Pablo Beauregard|Los ÁngelesCinco DíasVER LA NEWSLETTERSuscriptores premiumLas rentabilidades de las letras caen a mínimos de dos años en la última subasta de 2024Gema EscribanoEl Tesoro coloca 2.582,4 millones a tres y nueve meses y los particulares aceleran la compra de deuda para asegurarse los mejores rendimientosSuscriptores premiumCarlos San Basilio, discreción gallega para impulsar la Bolsa españolaNuria Salobral|MadridNestea encuentra fabricante en España: la cervecera Damm comenzará a venderlo el 1 de eneroJ. G. R.|MadridEl grupo ya fabrica la bebida de té en su fábrica de Salem, en Valencia. Las primeras unidades llegarán al mercado el 1 de eneroESPECIAL PUBLICIDADEl banco que cuida el planeta y que recompensa a quien cuida su salud V. M. Cultura y artesCarta enviada por la hermana del soldado alemán Franz Koster.PATRIMONIO NACIONALPor qué miles de europeos escribieron a Alfonso XIII para encontrar soldados desaparecidos en la I Guerra MundialManuel Morales|MadridEl Palacio Real alberga 182.000 expedientes de familias desesperadas que recurrieron al rey español para localizar a seres queridos en el conflicto europeo. Patrimonio Nacional ultima un portal que permitirá el acceso El Museo del Prado acoge el prodigio de la escultura policromadaÁngeles García|MadridGinés García Millán, actor: “Siempre hay alguien que me baja los pies al suelo”Jesús Ruiz Mantilla|MadridEl archivo que concentra miles de archivos de literatura de todo el mundoMiguel Ángel García VegaESPECIAL PUBLICIDADUn exclusivo club del vino entre los mejores de Europaj. l. g.DeportesSalah, del Liverpool, anota el penalti ante el Girona.REUTERSGirona, 0; Liverpool, 1El Liverpool descabalga al GironaJordi Quixano|GironaEl equipo catalán, tan brioso en el césped como nulo en el remate, pierde por un penalti y se evapora en EuropaEl PSG sale del pozo y el Bayer rompe la imbatibilidad del InterDiego TorresEl Nàstic se querella contra un árbitro al que acusa de favorecer el ascenso del MálagaIrene Guevara / Jesús García Bueno|BarcelonaCarlos Sainz pone en marcha su nueva vida en WilliamsOriol PuigdemontSalvador Gomar, candidato a la presidencia de la RFEF: “Con una condena por prevaricar no me presentaría”Ladislao J. Moñino|Madrid_EL PAÍS GastroRecetasEl ComidistaRestaurantesBeberGuía Gastro 2025Costillar de carne de cordero.GETTY El cordero es como el cerdo: estos son los cortes para aprovechar todas las piezas de carnePaz ÁlvarezLa paletilla, la pierna y el costillar son las partes preferidas en el consumo doméstico, pero hay otras, más desconocidas, como el cuello o el jarrete ¿Cuál es la mejor marca de salmón ahumado?Mikel López IturriagaEl Invernadero de Madrid es el mejor restaurante de vegetales del mundo, según Green GuideMar Rocabert Maltas|ValenciaBegoña Rodrigo, del restaurante La Salita, se convierte en la mejor cocinera de verduras en una gala celebrada en ValenciaMenús cerrados y no devolver el dinero de las reservas: así se aprovechan algunos restaurantes de las cenas de NavidadMiguel Ángel MedinaESPECIAL PUBLICIDAD12 motivos para regalar(te) y brindar con un whisky premium estas fiestas_Pasatiempos en EL PAÍSCrucigrama para expertosCrucigrama MambrinoSudoku para expertosPalabra secretaOcio y estilo de vidaUn alto de la ruta El Bastón en la Caldera de Taburiente, en la isla de La Palma (Canarias).Ida PlazaA pie por La Palma, una de las maneras más originales de visitar la islaPaco NadalEn la isla de La Palma, dos senderos de Gran Recorrido permiten descubrir paisajes volcánicos, territorios montañosos y rincones naturales ‘Entrepreneurs’, la serie que une a los mejores personajes de Pantomima Full en un disparatado ‘coworking’ Héctor Llanos Martínez|MadridEl extraño ingreso de la Iglesia en el negocio multinacional del lujoRaquel PeláezEl director de cine italiano Federico Fellini imaginó un ‘fashion show’ surrealista en Roma, su película autobiográfica. Tres décadas después, la realidad supera a la ficción¿Es necesario contarle todo a la pareja? Cuando la calidad importa más que la cantidadCarolina Pinedo|MadridMantener un espacio personal en una relación sentimental es sano y evita malentendidos o conflictosESCAPARATE30 regalos originales para el amigo invisible por menos de 20 eurosDaniel MuelaLo mejor de la semanaSUSCRÍBETELos 10 pensadores más influyentes del mundoAna Mena: “Yo no tenía un plan B. Yo quería ir a por el plan A”Ana Fernández AbadLa narcoguerra que desangra a SinaloaPablo Ferri|CuliacánLa Complutense, una universidad en los huesosElisa Silió|MadridEn vídeoMás historias en PRISA VídeoMIRA EL CANAL EL PAÍSRSC‘Healthy Cities 2024’: millones de pasos en favor del medio ambienteCarmen GarijoHacia un abordaje de los trastornos mentales graves que garantice una recuperación plenaD. D.Bonos verdes para estimular una transición sostenibleM. E.__InternacionalTerror, masacre y vudú en el último episodio del cerco de las pandillas en HaitíSandrine ExilTaiwán acusa a China de ensayar un hipotético control naval del estrecho de FormosaNetanyahu declara ante un tribunal de Tel Aviv acusado de soborno, fraude y abuso de confianzaEspañaEl Congreso reconoce a las Constituyentes sin dejar a un lado la pelea partidistaPaula ChouzaUn fiscal ratifica ante el juez que vio a García Ortiz y su número dos hablando a solas durante el registro en la FiscalíaEncontronazo de PP y Vox por la comparecencia de Pedro Sánchez en la comisión de Begoña Gómez en la AsambleaEconomíaÓscar López garantiza que habrá una nueva licitación de Muface “antes de que acabe el año”EPEl PSOE y Sumar pactan que las empresas que deslocalicen tengan que devolver las ayudas públicasLa UE se inclina por mantener la exención fiscal al combustible para el transporte aéreo y marítimoSociedadAlarma en el primer hospital donde está confirmado el brote de ‘Klebsiella oxytoca’: “Los bebés están aislados”Beatriz GuillénLa propuesta sobre vivienda más apoyada por los jóvenes es eliminar el IVA de la compra de la primera vivienda planteada por VoxNo hay formación (oficial) para manejar las máquinas de protonterapia contra el cáncer donadas por Amancio OrtegaEducaciónAyuso recula y firmará el convenio para contratar a 1.091 profesores universitarios con las condiciones del ministerioElisa SilióPeligra la enseñanza de francés en los colegios madrileños que impartirán 1º y 2º de la ESO ante la poca demanda de estudiantesProfesores, alumnos y políticos se movilizan contra la asfixia de Ayuso a las universidades: “La uni no se vende, la uni se defiende”Clima y Medio AmbientePrimer ‘ranking’ de trenes de Europa: Renfe es el tercer operador más puntual pero debería bajar sus tarifas Miguel Ángel MedinaLlega el ‘carsharing’ para alquilar coches entre particulares: “En vez de tenerlo aparcado, está haciendo dinero”El Defensor del Pueblo ve “injustificados” los retrasos en las zonas de bajas emisiones y pide instalarlas yaCiencia y SaludJared Isaacman, un hombre de Elon Musk al frente de la NASA: ¿llega la revolución marciana?Rafael Clemente‘Los nuevos asesores científicos ministeriales: un puente firme entre la ciencia y las políticas públicas’, por Perla Wahnón, Eva Alcón y otros¿Cuándo debe acudir tu hija al ginecólogo por primera vez?TecnologíaLos 25 mejores calendarios de Adviento gratuitos y digitales de 2024Isabel RubioAlertas de lluvia, Errejón, Topuria y los pitos a Cucurella, de lo más buscado de Google en 2024Google presenta Willow, un chip cuántico que resuelve en 5 minutos una tarea que un superordenador tardaría cuatrillones de añosDeportesTadej Pogacar mantiene el suspense sobre la Vuelta a España de 2025Carlos ArribasEl Valencia - Real Madrid se disputará el 3 de eneroMundial de ajedrez | Ding crea una obra maestra, gana la 12ª partida e iguala el marcador a falta de solo dos asaltosCultura‘Madama Butterfly’ regresa al Liceu con un gran reparto y una sorpresa en el fosoPablo L. RodríguezGlobos de Oro 2025: ‘El brutalista’ y ‘Emilia Pérez’ dominan las nominaciones ‘Recuerdos secundarios’, por Enrique Vila-MatasTelevisión‘Ya es navidad en Netflix’, por Paloma RandoPaloma Rando‘Outlander’ vuelve a Escocia antes de su despedida: “Va a ser duro decir adiós”‘Itziar, Lalachus, y los señores’, por Jimina SabadúGenteBarry Keoghan denuncia el acoso tras su ruptura con Sabrina Carpenter: “He recibido mensajes que ninguna persona debería leer jamás”El País / Andrea Insa MarcoJamie Foxx revela dos años después el motivo por el que estuvo a punto de morirKerry Taylor, la experta en subastas de moda que se negó a vender la ropa interior de la reina Isabel IIPlaneta FuturoAliou Sané, activista: “El reto ahora es que la esperanza de los jóvenes senegaleses no se transforme en decepción”Beatriz LecumberriEl arte de los jóvenes africanos busca su lugar en las colecciones europeasEl País SemanalSamantha Hudson: “Puedes estar triste en Navidad y no sufrir: sentir la nostalgia no es padecerla”Tom C. AvendañoCuando los árboles tienen geometrías bellas, inquietantes o mostruosasS Moda46 regalos que son pura moda: esta es la ‘wishlist’ para acertar estas navidadesVictoria ZárateMagali Croset-Calisto, sexóloga: “Muchas mujeres ya no consideran que la falta de deseo sexual sea un problema”ICONEl espacio CUPRA City Garage ilumina la Navidad más original de MadridICON“Funcionó hasta que nos dimos cuenta de que nos odiábamos”: Frankie Goes To Hollywood, el grupo que rompió las reglas durante cinco minutosEl ViajeroCómo descubrir Flandes en biciCristina CandelLas maravillas de La Rioja argentinaIdeasQue no cunda el pesimismo. Diez ideas para afrontar el futuro IdeasJudith Butler, filósofa: “Si sacrificas a una minoría como las personas trans, operas dentro de una lógica fascista”NegociosValencia, Lorca, La Palma y Costa da Morte: cómo se reconstruye la economía de una zona asolada por una catástrofeEl País“Recoja sus cosas, está despedido”: la frase que un empresario tiene que pensarse ahora dos veces si no quiere meterse en un líoBabeliaConfucio (II): Entender China, una tarea urgenteJuan ArnauVideojuegos, códigos de venta y tiendas ‘online’El MotorLa estafa del billete: el nuevo timo para robar coches con el que puedes ganar 50 eurosANDREA GILCoches de segunda mano: ¿a partir de cuántos kilómetros son casi un timo?AjedrezVídeos de ajedrez | El sublime Spielmann, siempre al ataque directoLeontxo GarcíaLa siempreviva del peruano Esteban CanalEl ComidistaDoce libros de cocina y gastronomía para regalar en NavidadMònica EscuderoMenú semanal de El Comidista (9 a 15 de diciembre)TendenciasDentro de Heura, la empresa de carne vegetal líder en España: “Nacimos del activismo”Daniel Alonso ViñaDoris Sung, arquitecta: “Las fachadas de los edificios deben utilizarse para el bien común”Escaparate Boletín de recomendacionesLos periodistas de Escaparate seleccionan los mejores productos que puedes adquirir en internetLos mejores piensos para perros y gatos mayoresDaniel Muela¿Qué regalar a niños de 8 a 10 años? Ideas para acertar esta NavidadBeatriz Gámez Jareño20 regalos para embarazadas: opciones para todos los bolsillosLuis Campo YanguasAdiós al frío con estos leggings térmicos con forro polarBeatriz Gámez JareñoEl reto que mantendrá a toda la familia enganchadaDavid Rodríguez MaderaEl problema de Mbappé puede venir de más atrás: “Me parece bastante preocupante”Una americana flipa con lo que los españoles hacemos en el Mercadona: otros extranjeros lo confirmanMundial a España por aclamaciónLa gran sustitución: la IA y su oferta que el cine no podrá rechazarJohn Goodman y su impactante cambio físico tras perder 90 kilos para afrontar su nueva etapa como actorCinco curiosidades del concierto de Paul McCartney en MadridRecomendaciones EL PAÍSDescuentosEscaparateCursosCursos onlineIdiomas onlineEL PAÍS VinosDescuentosdescuentosSeleccionamos para ti las ofertas especiales de AliExpress en tecnología, moda, hogar y mucho másdescuentosTus vacaciones más baratas gracias al código de descuento válido para Barceló HotelesdescuentosUtiliza nuestro cupón de descuento válido en Amazon para tu próximo pedidodescuentosAprovecha los códigos descuento verificados de SamsungEscaparateescaparateLO MÁS VENDIDO EN ESCAPARATE: Almohada para rodillas que mejora el sueño. Tiene un 19% de descuento: SOLO 8,89€escaparateLámpara de lectura recargable 360º. Tiene un 42% de descuento: SOLO 10,17€escaparateCargador de coche de carga rápida con más de 20.000 valoraciones. Tiene un 33% de descuento: SOLO 9,99€escaparateLos auriculares inalámbricos bluetooth más vendidos con más de 13.000 valoraciones. SOLO 29,99€Cursoscursos¿Todavía buscas plaza para cursar un ciclo de FP? Te mostramos los mejores centros para que encuentres el que se adapte a ticursos¡Impulsa tu empresa con los mejores cursos de transformación digital y adáptate a las nuevas tendencias tecnológicas!cursos¡Conviértete en un experto en nutrición! Aprende a diseñar planes alimentarios saludables y equilibradoscursosFórmate en Sistemas Informáticos en Red y adquiere habilidades clave para una carrera en el sector tecnológicoCursos onlinecursosonlineDescubre el mejor curso en Recursos Humanos y desarrolla las habilidades clave para gestionar el talento en las organizacionescursosonlineEspecialízate en Logística con la formación que te preparará para enfrentar los desafíos del sectorcursosonline¡Explora los cursos de Técnico Superior en Imagen para el Diagnóstico y prepárate para destacar en el sector de la salud!cursosonlineAprende a transformar datos en decisiones estratégicas para tu empresa formándote en Business IntelligenceIdiomas onlinecursosinglesAprende idiomas con EL PAÍS con 15 minutos al díacursosinglesMejora tu inglés con 21 días gratis sin compromisocursosinglesPrueba a aprender italiano con lecciones personalizadascursosinglesAprende francés y obtén tu certificadoEL PAÍS VinoscoleccionesComo cada año EL PAÍS y Bodegas Riojanas preparan la mejor selección de vino de esta Navidadcolecciones Una oferta exclusiva para los lectores de EL PAÍS compuesta por 12 botellascoleccionesA un precio inigualablecoleccionesNo te quedes sin tu lote de vinos, ¡cómpralo ya!Lo más vistoNorman Foster: “España podría darle un par de lecciones al mundo sobre transporte público de calidad”Alemania, Francia, el Reino Unido y otros países europeos suspenden las solicitudes de asilo de los sirios tras la caída de El AsadEl hombre detrás del éxito televisivo de Silvia Pinal: “Se convirtió en la segunda Virgen de Guadalupe”Conflicto en Siria, en directo | La Unión Europea teme un “vacío de gobernanza” que derive en el “resurgimiento del extremismo” en SiriaFernando Alberca, pedagogo: “Hemos alimentado a los hijos con la idea de que si la vida es cómoda es feliz. Y esto es mentira”Más de 75 premios Nobel piden al Senado de Estados Unidos que no confirme a Robert Kennedy como secretario de SaludEncontronazo de PP y Vox por la comparecencia de Pedro Sánchez en la comisión de Begoña Gómez en la AsambleaGoogle presenta Willow, un chip cuántico que resuelve en 5 minutos una tarea que un superordenador tardaría cuatrillones de añosTrump rebaja su mensaje sobre deportaciones y venganza política en su primera entrevista tras las eleccionesTanques abandonados en Siria y centros comerciales saqueados: los rebeldes tratan de poner orden tras la caída del régimen___HOLAsuscríbete por 1€Mi actividadMi suscripciónMis datosMis newslettersDerechos y bajaExperiencias para mídesconectaralto contraste:BuscarSeleccione:- - -EspañaAméricaMéxicoColombiaChileArgentinaUS EspañolUS EnglishSi quieres seguir toda la actualidad sin límites, únete a EL PAÍS por 1€ el primer mesSUSCRÍBETE AHORAInternacionalOpiniónEditorialesTribunasViñetasCartas a la DirectoraDefensora del lectorEspañaAndalucíaCataluñaComunidad ValencianaGaliciaMadridPaís VascoEconomíaMercadosViviendaMis derechosFormaciónSociedadEducaciónClima y Medio AmbienteCienciaSaludTecnologíaCulturaDeportesFútbolBaloncestoTenisCiclismoFórmula 1MotociclismoGolfAtletismoAjedrezTelevisiónGente y Estilo de vidaEl País ExprésFotografíaVídeosCanal EL PAÍSPodcastsel país semanalideasNegociosBabeliaQuadernel viajeroplaneta futuros modaiconGastroEl ComidistaCinco DíasMotorMamas & PapasAmérica FuturaEscaparateExtrasCrucigramas y JuegosEL PAÍS +NewsletterÚltimas noticiasHemerotecaEspecialesServiciosDescuentosColeccionesEntradasSíguenos en: '"
            ],
            "application/vnd.google.colaboratory.intrinsic+json": {
              "type": "string"
            }
          },
          "metadata": {},
          "execution_count": 31
        }
      ]
    },
    {
      "cell_type": "markdown",
      "source": [
        "libDe"
      ],
      "metadata": {
        "id": "rtPa9nQcd6pN"
      }
    }
  ]
}